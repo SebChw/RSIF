{
 "cells": [
  {
   "cell_type": "code",
   "execution_count": 1,
   "metadata": {},
   "outputs": [],
   "source": [
    "import numpy as np\n",
    "import pandas as pd\n",
    "from scipy.stats import skew, kurtosis\n",
    "import datetime\n",
    "import pickle\n",
    "import pyarrow as pa\n",
    "import pyarrow.compute as pc\n",
    "from csutils import *"
   ]
  },
  {
   "cell_type": "code",
   "execution_count": 2,
   "metadata": {},
   "outputs": [],
   "source": [
    "# Timestamp conversion copied from buses-data-demo.ipynb\n",
    "VACT_EPOCH = datetime.datetime(year=2011,month=6,day=16,hour=5,minute=23,second=0)\n",
    "VACT_TIMESTAMP = 1308194580\n",
    "assert datetime.datetime.fromtimestamp(VACT_TIMESTAMP) == VACT_EPOCH\n",
    "MILISECOND = 1\n",
    "SECOND = 1000 * MILISECOND\n",
    "HOUR = 3600*SECOND\n",
    "DAY = 24*HOUR\n",
    "def getVactDate(value):\n",
    "    return VACT_EPOCH + datetime.timedelta(milliseconds=int(value))"
   ]
  },
  {
   "cell_type": "code",
   "execution_count": 3,
   "metadata": {},
   "outputs": [],
   "source": [
    "def df_processing(df):\n",
    "    df.insert(0, 'tstamp', df.Timestamp.apply(getVactDate))\n",
    "    df.set_index('tstamp',inplace=True)\n",
    "    df.sort_index(inplace = True)\n",
    "    df.drop(columns=['Timestamp'], inplace = True)"
   ]
  },
  {
   "cell_type": "code",
   "execution_count": 4,
   "metadata": {},
   "outputs": [],
   "source": [
    "# Representations calculations\n",
    "def calculate_all_reps(DATA):\n",
    "    new_columns = []\n",
    "    for name in DATA.columns:\n",
    "        new_columns.append(f'Numeric_{name}')\n",
    "        new_columns.append(f'HistBins_{name}')\n",
    "        new_columns.append(f'HistVals_{name}')\n",
    "        new_columns.append(f'HistDens_{name}')\n",
    "        new_columns.append(f'TimeSeries_{name}')\n",
    "    \n",
    "    RESULTS = pd.DataFrame(columns=new_columns, dtype=object)\n",
    "    RESULTS.convert_dtypes(dtype_backend='pyarrow')\n",
    "    START = DATA.index.min()\n",
    "    END = DATA.index.max()\n",
    "    \n",
    "    FREQ = pd.Timedelta('4T')\n",
    "    WINDOW_SIZE = pd.Timedelta('4T')\n",
    "    \n",
    "    def bin10(column): return 10\n",
    "    AVG_SIZE = '1S'\n",
    "    \n",
    "    for t,win in extract_time_windows(DATA, WINDOW_SIZE, start=START, end=END, freq=FREQ, timestamp = True):\n",
    "        n = win.shape[0]\n",
    "        if n < 20:\n",
    "            continue\n",
    "        numeric = get_numeric_from_window(win)\n",
    "        histogram = get_histograms_from_window(win,density=True,way_of_binarization=bin10)\n",
    "        tseries = get_time_series_from_window(win,t,WINDOW_SIZE,AVG_SIZE=AVG_SIZE)\n",
    "        for i, name in enumerate(DATA.columns):\n",
    "            RESULTS.loc[t,f'Numeric_{name}'] = numeric[i]\n",
    "            RESULTS.loc[t,f'HistBins_{name}'] = histogram[0][i]\n",
    "            RESULTS.loc[t,f'HistVals_{name}'] = histogram[1][i]\n",
    "            RESULTS.loc[t,f'HistDens_{name}'] = histogram[2][i]\n",
    "            RESULTS.loc[t,f'TimeSeries_{name}'] = tseries[i]\n",
    "    \n",
    "    return RESULTS"
   ]
  },
  {
   "cell_type": "code",
   "execution_count": 5,
   "metadata": {},
   "outputs": [
    {
     "name": "stderr",
     "output_type": "stream",
     "text": [
      "/home/tesla/Projects/RISL/Isolation-Similarity-Forest/notebooks/csutils.py:27: RuntimeWarning: Precision loss occurred in moment calculation due to catastrophic cancellation. This occurs when the data are nearly identical. Results may be unreliable.\n",
      "  skewness = skew(window[sensor])\n",
      "/home/tesla/Projects/RISL/Isolation-Similarity-Forest/notebooks/csutils.py:28: RuntimeWarning: Precision loss occurred in moment calculation due to catastrophic cancellation. This occurs when the data are nearly identical. Results may be unreliable.\n",
      "  kurt = kurtosis(window[sensor])\n"
     ]
    }
   ],
   "source": [
    "DATA_369 = pickle.load(open(\"../data/bus/data-369.pickle\",\"rb\"))\n",
    "table = pa.Table.from_pandas(DATA_369)\n",
    "DATA_369 = table.to_pandas()\n",
    "df_processing(DATA_369)\n",
    "RDF_369 = calculate_all_reps(DATA_369)\n",
    "RDF_369.to_parquet('REP_369.parquet')\n",
    "del DATA_369\n",
    "del RDF_369"
   ]
  },
  {
   "cell_type": "code",
   "execution_count": 6,
   "metadata": {},
   "outputs": [
    {
     "name": "stderr",
     "output_type": "stream",
     "text": [
      "/home/tesla/Projects/RISL/Isolation-Similarity-Forest/notebooks/csutils.py:27: RuntimeWarning: Precision loss occurred in moment calculation due to catastrophic cancellation. This occurs when the data are nearly identical. Results may be unreliable.\n",
      "  skewness = skew(window[sensor])\n",
      "/home/tesla/Projects/RISL/Isolation-Similarity-Forest/notebooks/csutils.py:28: RuntimeWarning: Precision loss occurred in moment calculation due to catastrophic cancellation. This occurs when the data are nearly identical. Results may be unreliable.\n",
      "  kurt = kurtosis(window[sensor])\n"
     ]
    }
   ],
   "source": [
    "DATA_370 = pickle.load(open(\"../data/bus/data-370.pickle\",\"rb\"))\n",
    "table = pa.Table.from_pandas(DATA_370)\n",
    "DATA_370 = table.to_pandas()\n",
    "df_processing(DATA_370)\n",
    "RDF_370 = calculate_all_reps(DATA_370)\n",
    "RDF_370.to_parquet('REP_370.parquet')\n",
    "del DATA_370\n",
    "del RDF_370"
   ]
  },
  {
   "cell_type": "code",
   "execution_count": 7,
   "metadata": {},
   "outputs": [
    {
     "name": "stderr",
     "output_type": "stream",
     "text": [
      "/home/tesla/Projects/RISL/Isolation-Similarity-Forest/notebooks/csutils.py:27: RuntimeWarning: Precision loss occurred in moment calculation due to catastrophic cancellation. This occurs when the data are nearly identical. Results may be unreliable.\n",
      "  skewness = skew(window[sensor])\n",
      "/home/tesla/Projects/RISL/Isolation-Similarity-Forest/notebooks/csutils.py:28: RuntimeWarning: Precision loss occurred in moment calculation due to catastrophic cancellation. This occurs when the data are nearly identical. Results may be unreliable.\n",
      "  kurt = kurtosis(window[sensor])\n"
     ]
    }
   ],
   "source": [
    "DATA_371 = pickle.load(open(\"../data/bus/data-371.pickle\",\"rb\"))\n",
    "table = pa.Table.from_pandas(DATA_371)\n",
    "DATA_371 = table.to_pandas()\n",
    "df_processing(DATA_371)\n",
    "RDF_371 = calculate_all_reps(DATA_371)\n",
    "RDF_371.to_parquet('REP_371.parquet')\n",
    "del DATA_371\n",
    "del RDF_371"
   ]
  },
  {
   "cell_type": "code",
   "execution_count": 8,
   "metadata": {},
   "outputs": [
    {
     "name": "stderr",
     "output_type": "stream",
     "text": [
      "/home/tesla/Projects/RISL/Isolation-Similarity-Forest/notebooks/csutils.py:27: RuntimeWarning: Precision loss occurred in moment calculation due to catastrophic cancellation. This occurs when the data are nearly identical. Results may be unreliable.\n",
      "  skewness = skew(window[sensor])\n",
      "/home/tesla/Projects/RISL/Isolation-Similarity-Forest/notebooks/csutils.py:28: RuntimeWarning: Precision loss occurred in moment calculation due to catastrophic cancellation. This occurs when the data are nearly identical. Results may be unreliable.\n",
      "  kurt = kurtosis(window[sensor])\n"
     ]
    }
   ],
   "source": [
    "DATA_372 = pickle.load(open(\"../data/bus/data-372.pickle\",\"rb\"))\n",
    "table = pa.Table.from_pandas(DATA_372)\n",
    "DATA_372 = table.to_pandas()\n",
    "df_processing(DATA_372)\n",
    "RDF_372 = calculate_all_reps(DATA_372)\n",
    "RDF_372.to_parquet('REP_372.parquet')\n",
    "del DATA_372\n",
    "del RDF_372"
   ]
  },
  {
   "cell_type": "code",
   "execution_count": 9,
   "metadata": {},
   "outputs": [
    {
     "name": "stderr",
     "output_type": "stream",
     "text": [
      "/home/tesla/Projects/RISL/Isolation-Similarity-Forest/notebooks/csutils.py:27: RuntimeWarning: Precision loss occurred in moment calculation due to catastrophic cancellation. This occurs when the data are nearly identical. Results may be unreliable.\n",
      "  skewness = skew(window[sensor])\n",
      "/home/tesla/Projects/RISL/Isolation-Similarity-Forest/notebooks/csutils.py:28: RuntimeWarning: Precision loss occurred in moment calculation due to catastrophic cancellation. This occurs when the data are nearly identical. Results may be unreliable.\n",
      "  kurt = kurtosis(window[sensor])\n"
     ]
    }
   ],
   "source": [
    "DATA_375 = pickle.load(open(\"../data/bus/data-375.pickle\",\"rb\"))\n",
    "table = pa.Table.from_pandas(DATA_375)\n",
    "DATA_375 = table.to_pandas()\n",
    "df_processing(DATA_375)\n",
    "RDF_375 = calculate_all_reps(DATA_375)\n",
    "RDF_375.to_parquet('REP_375.parquet')\n",
    "del DATA_375\n",
    "del RDF_375"
   ]
  },
  {
   "cell_type": "code",
   "execution_count": 10,
   "metadata": {},
   "outputs": [],
   "source": [
    "df = pd.read_parquet('REP_369.parquet')"
   ]
  },
  {
   "cell_type": "code",
   "execution_count": 14,
   "metadata": {},
   "outputs": [
    {
     "data": {
      "text/plain": [
       "array([array([0.40119677, 0.05731382, 0.21015069, 0.18149378, 0.24835991,\n",
       "              0.21015069, 0.26746451, 0.30567373, 0.20059838, 0.21970299]),\n",
       "       array([4.2749  , 4.709285, 5.14367 , 5.578055, 6.01244 , 6.446825,\n",
       "              6.88121 , 7.315595, 7.74998 , 8.184365, 8.61875 ])         ],\n",
       "      dtype=object)"
      ]
     },
     "execution_count": 14,
     "metadata": {},
     "output_type": "execute_result"
    }
   ],
   "source": [
    "df['HistDens_WetTankAirPressure'].iloc[0]"
   ]
  }
 ],
 "metadata": {
  "kernelspec": {
   "display_name": "RISF",
   "language": "python",
   "name": "python3"
  },
  "language_info": {
   "codemirror_mode": {
    "name": "ipython",
    "version": 3
   },
   "file_extension": ".py",
   "mimetype": "text/x-python",
   "name": "python",
   "nbconvert_exporter": "python",
   "pygments_lexer": "ipython3",
   "version": "3.10.11"
  },
  "orig_nbformat": 4
 },
 "nbformat": 4,
 "nbformat_minor": 2
}
