{
 "cells": [
  {
   "cell_type": "code",
   "execution_count": 2,
   "metadata": {},
   "outputs": [],
   "source": [
    "import sys\n",
    "sys.path.insert(0, '..')\n",
    "from risf.risf_data import RisfData\n",
    "from risf.distance_functions import *\n",
    "from data.data_getter import *\n",
    "import networkx as nx\n",
    "import numpy as np\n",
    "from tqdm import tqdm\n",
    "import netrd\n",
    "\n",
    "from risf.forest import RandomIsolationSimilarityForest"
   ]
  },
  {
   "cell_type": "code",
   "execution_count": 3,
   "metadata": {},
   "outputs": [
    {
     "name": "stderr",
     "output_type": "stream",
     "text": [
      "Datasets (outer loop): 0it [00:00, ?it/s]"
     ]
    }
   ],
   "source": [
    "graph_loop = tqdm(get_graphs(), desc=\"Datasets (outer loop)\", position=0)\n",
    "num_loop = tqdm(get_numerical_datasets(), desc=\"Datasets (outer loop)\", position=0)\n",
    "hist_loop = tqdm(get_histograms(), desc=\"Datasets (outer loop)\", position=0)\n",
    "ts_loop = tqdm(get_time_series(), desc=\"Datasets (outer loop)\", position=0)"
   ]
  },
  {
   "cell_type": "markdown",
   "metadata": {},
   "source": [
    "Numerical data - euclidean distance"
   ]
  },
  {
   "cell_type": "code",
   "execution_count": 11,
   "metadata": {},
   "outputs": [
    {
     "name": "stderr",
     "output_type": "stream",
     "text": [
      "Datasets (outer loop): 1it [00:00,  1.46it/s]"
     ]
    },
    {
     "name": "stdout",
     "output_type": "stream",
     "text": [
      "[[     0.  65036. 259087. ...  64535. 130054. 195084.]\n",
      " [ 65036.      0. 258575. ...  65029. 260100. 194566.]\n",
      " [259087. 258575.      0. ...  65044.  65033. 130057.]\n",
      " ...\n",
      " [ 64535.  65029.  65044. ...      0. 259085. 193551.]\n",
      " [130054. 260100.  65033. ... 259085.      0. 130052.]\n",
      " [195084. 194566. 130057. ... 193551. 130052.      0.]]\n"
     ]
    },
    {
     "name": "stderr",
     "output_type": "stream",
     "text": [
      "\n"
     ]
    }
   ],
   "source": [
    "try:\n",
    "    num_loop = tqdm(get_numerical_datasets(), desc=\"Datasets (outer loop)\", position=0)\n",
    "\n",
    "    for dataset in num_loop:\n",
    "        data = RisfData()\n",
    "        \n",
    "        data.add_data(dataset[\"X_train\"], dist = NumEuclidean(), data_transform = lambda x: x)\n",
    "        \n",
    "        data.precompute_distances()\n",
    "        print(data.distances[0].distance_matrix)\n",
    "        \n",
    "        # TODO: run RISF\n",
    "        \n",
    "        break        \n",
    "except KeyboardInterrupt: pass "
   ]
  },
  {
   "cell_type": "markdown",
   "metadata": {},
   "source": [
    "Graph data - Jaccard distance, NetSmile distance, Degree divergence distance"
   ]
  },
  {
   "cell_type": "code",
   "execution_count": 28,
   "metadata": {},
   "outputs": [],
   "source": [
    "try: \n",
    "    graph_loop = tqdm(get_graphs(), desc=\"Datasets (outer loop)\", position=0)\n",
    "\n",
    "    for dataset in graph_loop:\n",
    "        data = RisfData()\n",
    "        \n",
    "        data.add_data(dataset[\"X_train\"], dist = JaccardDist(), data_transform = lambda x: x)\n",
    "        \n",
    "        data.precompute_distances()\n",
    "        print(data.distances[0].distance_matrix)\n",
    "        \n",
    "        # TODO: run RISF\n",
    "        \n",
    "        break        \n",
    "except KeyboardInterrupt: pass"
   ]
  },
  {
   "cell_type": "code",
   "execution_count": 29,
   "metadata": {},
   "outputs": [
    {
     "name": "stdout",
     "output_type": "stream",
     "text": [
      "[[0.         0.82352941 0.82352941 ... 0.92857143 0.7        0.8125    ]\n",
      " [0.82352941 0.         0.8        ... 0.8125     0.9375     0.9047619 ]\n",
      " [0.82352941 0.8        0.         ... 0.8125     0.9375     0.72222222]\n",
      " ...\n",
      " [0.92857143 0.8125     0.8125     ... 0.         0.         0.        ]\n",
      " [0.7        0.9375     0.9375     ... 0.         0.         0.        ]\n",
      " [0.8125     0.9047619  0.72222222 ... 0.         0.         0.        ]]\n"
     ]
    }
   ],
   "source": [
    "print(data.distances[0].distance_matrix)"
   ]
  },
  {
   "cell_type": "markdown",
   "metadata": {},
   "source": [
    "Graph data - Euclidean distance using some of graph centrality measures"
   ]
  },
  {
   "cell_type": "code",
   "execution_count": 7,
   "metadata": {},
   "outputs": [],
   "source": [
    "def graphCentralityMeasures(graph):\n",
    "    centralityMeasures = []\n",
    "    centralityMeasures.append(np.average(list(nx.degree_centrality(graph).values())))\n",
    "    centralityMeasures.append(np.average(list(nx.katz_centrality(graph).values())))\n",
    "    centralityMeasures.append(np.average(list(nx.closeness_centrality(graph).values())))\n",
    "    centralityMeasures.append(np.average(list(nx.harmonic_centrality(graph).values())))\n",
    "    \n",
    "    return np.array(centralityMeasures)"
   ]
  },
  {
   "cell_type": "code",
   "execution_count": 8,
   "metadata": {},
   "outputs": [
    {
     "name": "stderr",
     "output_type": "stream",
     "text": [
      "Datasets (outer loop): 0it [00:00, ?it/s]c:\\Data\\studia\\sem5\\PC\\Isolation-Similarity-Forest\\notebooks\\..\\data\\data_getter.py:59: VisibleDeprecationWarning: Creating an ndarray from ragged nested sequences (which is a list-or-tuple of lists-or-tuples-or ndarrays with different lengths or shapes) is deprecated. If you meant to do this, you must specify 'dtype=object' when creating the ndarray.\n",
      "  X = np.array(X)\n",
      "Datasets (outer loop): 0it [00:08, ?it/s]"
     ]
    },
    {
     "name": "stdout",
     "output_type": "stream",
     "text": [
      "[[0.00000000e+00 8.44153572e-01 8.44153572e-01 ... 3.86317393e-01\n",
      "  2.85186846e+00 6.85943694e-01]\n",
      " [8.44153572e-01 0.00000000e+00 6.16297582e-33 ... 2.36464767e+00\n",
      "  6.78484002e+00 8.60072130e-03]\n",
      " [8.44153572e-01 6.16297582e-33 0.00000000e+00 ... 2.36464767e+00\n",
      "  6.78484002e+00 8.60072130e-03]\n",
      " ...\n",
      " [3.86317393e-01 2.36464767e+00 2.36464767e+00 ... 0.00000000e+00\n",
      "  1.14525075e+00 2.09524956e+00]\n",
      " [2.85186846e+00 6.78484002e+00 6.78484002e+00 ... 1.14525075e+00\n",
      "  0.00000000e+00 6.31911980e+00]\n",
      " [6.85943694e-01 8.60072130e-03 8.60072130e-03 ... 2.09524956e+00\n",
      "  6.31911980e+00 0.00000000e+00]]\n"
     ]
    },
    {
     "name": "stderr",
     "output_type": "stream",
     "text": [
      "\n"
     ]
    }
   ],
   "source": [
    "try:\n",
    "    graph_loop = tqdm(get_graphs(), desc=\"Datasets (outer loop)\", position=0)\n",
    "\n",
    "    for dataset in graph_loop:\n",
    "        data = RisfData()\n",
    "        \n",
    "        graphsAsCentralityMeasures = []\n",
    "        for graph in dataset[\"X_train\"]:\n",
    "            graphsAsCentralityMeasures.append(graphCentralityMeasures(graph))\n",
    "        \n",
    "        data.add_data(graphsAsCentralityMeasures, dist = NumEuclidean(), data_transform = lambda x: x)\n",
    "        \n",
    "        data.precompute_distances()\n",
    "        print(data.distances[0].distance_matrix)\n",
    "        \n",
    "        # TODO: run RISF\n",
    "        \n",
    "        break        \n",
    "except KeyboardInterrupt: pass "
   ]
  },
  {
   "cell_type": "markdown",
   "metadata": {},
   "source": [
    "Histogram data - Wasserstein distance, Euclidean distance"
   ]
  },
  {
   "cell_type": "code",
   "execution_count": 4,
   "metadata": {},
   "outputs": [],
   "source": [
    "def toRawHistograms(dataset, key):\n",
    "    raw_histograms = []\n",
    "    for hist in dataset:\n",
    "        raw_histograms.append(hist[key])\n",
    "    \n",
    "    return raw_histograms"
   ]
  },
  {
   "cell_type": "code",
   "execution_count": 29,
   "metadata": {},
   "outputs": [
    {
     "name": "stderr",
     "output_type": "stream",
     "text": [
      "Datasets (outer loop): 0it [01:49, ?it/s]"
     ]
    },
    {
     "name": "stdout",
     "output_type": "stream",
     "text": [
      "[[0.         1.33333333 2.86666667 ... 4.         2.66666667 1.66666667]\n",
      " [1.33333333 0.         1.53333333 ... 3.33333333 2.53333333 2.13333333]\n",
      " [2.86666667 1.53333333 0.         ... 2.86666667 2.2        2.6       ]\n",
      " ...\n",
      " [4.         3.33333333 2.86666667 ... 0.         4.66666667 5.46666667]\n",
      " [2.66666667 2.53333333 2.2        ... 4.66666667 0.         1.4       ]\n",
      " [1.66666667 2.13333333 2.6        ... 5.46666667 1.4        0.        ]]\n"
     ]
    },
    {
     "name": "stderr",
     "output_type": "stream",
     "text": [
      "\n"
     ]
    }
   ],
   "source": [
    "try:\n",
    "    hist_loop = tqdm(get_histograms(), desc=\"Datasets (outer loop)\", position=0)\n",
    "\n",
    "    for dataset in hist_loop:\n",
    "        data = RisfData()\n",
    "        \n",
    "        data.add_data(toRawHistograms(dataset[\"X_train\"], \"n_degrees\"), dist = WassersteinDist(), data_transform = lambda x: x)\n",
    "        \n",
    "        data.precompute_distances()\n",
    "        print(data.distances[0].distance_matrix)\n",
    "        \n",
    "        # TODO: run RISF\n",
    "        \n",
    "        break        \n",
    "except KeyboardInterrupt: pass"
   ]
  },
  {
   "cell_type": "code",
   "execution_count": 30,
   "metadata": {},
   "outputs": [],
   "source": [
    "# print(data.distances[0].distance_matrix)"
   ]
  },
  {
   "cell_type": "code",
   "execution_count": 5,
   "metadata": {},
   "outputs": [
    {
     "name": "stderr",
     "output_type": "stream",
     "text": [
      "Datasets (outer loop): 0it [00:08, ?it/s]\n",
      "Datasets (outer loop): 0it [00:29, ?it/s]"
     ]
    },
    {
     "name": "stdout",
     "output_type": "stream",
     "text": [
      "[[ 0.  5. 44. ... 42. 54.  4.]\n",
      " [ 5.  0. 47. ... 35. 81. 11.]\n",
      " [44. 47.  0. ... 10. 38. 56.]\n",
      " ...\n",
      " [42. 35. 10. ...  0. 60. 62.]\n",
      " [54. 81. 38. ... 60.  0. 66.]\n",
      " [ 4. 11. 56. ... 62. 66.  0.]]\n"
     ]
    },
    {
     "name": "stderr",
     "output_type": "stream",
     "text": [
      "\n"
     ]
    }
   ],
   "source": [
    "try:\n",
    "    hist_loop = tqdm(get_histograms(), desc=\"Datasets (outer loop)\", position=0)\n",
    "\n",
    "    for dataset in hist_loop:\n",
    "        data = RisfData()\n",
    "        \n",
    "        data.add_data(toRawHistograms(dataset[\"X_train\"], \"n_degrees\"), dist = HistEuclidean(), data_transform = lambda x: x)\n",
    "        \n",
    "        data.precompute_distances()\n",
    "        print(data.distances[0].distance_matrix)\n",
    "        \n",
    "        # TODO: run RISF\n",
    "        \n",
    "        break        \n",
    "except KeyboardInterrupt: pass"
   ]
  },
  {
   "cell_type": "markdown",
   "metadata": {},
   "source": [
    "Time Series data - Cross Correlation distance, Jensen-Shannon Divergence distance, Euclidean distance"
   ]
  },
  {
   "cell_type": "code",
   "execution_count": 4,
   "metadata": {},
   "outputs": [
    {
     "name": "stderr",
     "output_type": "stream",
     "text": [
      "Datasets (outer loop): 0it [00:18, ?it/s]\n",
      "C:\\Users\\oszud\\AppData\\Local\\Temp\\ipykernel_17872\\3058048818.py:6: VisibleDeprecationWarning: Creating an ndarray from ragged nested sequences (which is a list-or-tuple of lists-or-tuples-or ndarrays with different lengths or shapes) is deprecated. If you meant to do this, you must specify 'dtype=object' when creating the ndarray.\n",
      "  concatenated = np.array([dataset[\"X_train\"], dataset[\"X_test\"]])\n",
      "c:\\Data\\studia\\sem5\\PC\\Isolation-Similarity-Forest\\notebooks\\..\\risf\\risf_data.py:21: VisibleDeprecationWarning: Creating an ndarray from ragged nested sequences (which is a list-or-tuple of lists-or-tuples-or ndarrays with different lengths or shapes) is deprecated. If you meant to do this, you must specify 'dtype=object' when creating the ndarray.\n",
      "  super().append(np.array(transformed))\n",
      "Datasets (outer loop): 0it [00:00, ?it/s]\n"
     ]
    }
   ],
   "source": [
    "ts_loop = tqdm(get_time_series(), desc=\"Datasets (outer loop)\", position=0)\n",
    "\n",
    "for dataset in ts_loop:\n",
    "    data = RisfData()\n",
    "    \n",
    "    concatenated = np.array([dataset[\"X_train\"], dataset[\"X_test\"]])\n",
    "    data.add_data(concatenated, dist = CrossCorrelationDist(), data_transform = lambda x: x)\n",
    "\n",
    "    data.precompute_distances()\n",
    "    \n",
    "    # TODO: run RISF\n",
    "    \n",
    "    break"
   ]
  },
  {
   "cell_type": "code",
   "execution_count": 44,
   "metadata": {},
   "outputs": [
    {
     "name": "stdout",
     "output_type": "stream",
     "text": [
      "[[0.00000000e+00 2.12959089e+08]\n",
      " [2.12959089e+08 0.00000000e+00]]\n"
     ]
    }
   ],
   "source": [
    "print(data.distances[0].distance_matrix)"
   ]
  },
  {
   "cell_type": "code",
   "execution_count": 5,
   "metadata": {},
   "outputs": [
    {
     "name": "stderr",
     "output_type": "stream",
     "text": [
      "Datasets (outer loop): 0it [00:00, ?it/s]C:\\Users\\oszud\\AppData\\Local\\Temp\\ipykernel_4996\\344467695.py:6: VisibleDeprecationWarning: Creating an ndarray from ragged nested sequences (which is a list-or-tuple of lists-or-tuples-or ndarrays with different lengths or shapes) is deprecated. If you meant to do this, you must specify 'dtype=object' when creating the ndarray.\n",
      "  concatenated = np.array([dataset[\"X_train\"], dataset[\"X_test\"]])\n",
      "Datasets (outer loop): 0it [00:00, ?it/s]"
     ]
    },
    {
     "name": "stdout",
     "output_type": "stream",
     "text": [
      "[[ 0. inf]\n",
      " [inf  0.]]\n"
     ]
    },
    {
     "name": "stderr",
     "output_type": "stream",
     "text": [
      "\n"
     ]
    }
   ],
   "source": [
    "ts_loop = tqdm(get_time_series(), desc=\"Datasets (outer loop)\", position=0)\n",
    "\n",
    "for dataset in ts_loop:\n",
    "    data = RisfData()\n",
    "    \n",
    "    concatenated = np.array([dataset[\"X_train\"], dataset[\"X_test\"]])\n",
    "    data.add_data(concatenated, dist = JensenShannonDivDist(), data_transform = lambda x: x)\n",
    "\n",
    "    data.precompute_distances()\n",
    "    \n",
    "    print(data.distances[0].distance_matrix)\n",
    "    \n",
    "    # TODO: run RISF\n",
    "    \n",
    "    break"
   ]
  },
  {
   "cell_type": "code",
   "execution_count": 4,
   "metadata": {},
   "outputs": [
    {
     "name": "stderr",
     "output_type": "stream",
     "text": [
      "Datasets (outer loop): 0it [00:04, ?it/s]\n",
      "C:\\Users\\oszud\\AppData\\Local\\Temp\\ipykernel_12256\\2701485596.py:6: VisibleDeprecationWarning: Creating an ndarray from ragged nested sequences (which is a list-or-tuple of lists-or-tuples-or ndarrays with different lengths or shapes) is deprecated. If you meant to do this, you must specify 'dtype=object' when creating the ndarray.\n",
      "  concatenated = np.array([dataset[\"X_train\"], dataset[\"X_test\"]])\n",
      "c:\\Data\\studia\\sem5\\PC\\Isolation-Similarity-Forest\\notebooks\\..\\risf\\risf_data.py:21: VisibleDeprecationWarning: Creating an ndarray from ragged nested sequences (which is a list-or-tuple of lists-or-tuples-or ndarrays with different lengths or shapes) is deprecated. If you meant to do this, you must specify 'dtype=object' when creating the ndarray.\n",
      "  super().append(np.array(transformed))\n",
      "Datasets (outer loop): 0it [00:00, ?it/s]\n"
     ]
    }
   ],
   "source": [
    "ts_loop = tqdm(get_time_series(), desc=\"Datasets (outer loop)\", position=0)\n",
    "\n",
    "for dataset in ts_loop:\n",
    "    data = RisfData()\n",
    "    \n",
    "    concatenated = np.array([dataset[\"X_train\"], dataset[\"X_test\"]])\n",
    "    data.add_data(concatenated, dist = TSEuclidean(), data_transform = lambda x: x)\n",
    "\n",
    "    data.precompute_distances()\n",
    "    \n",
    "    # TODO: run RISF\n",
    "    \n",
    "    break"
   ]
  },
  {
   "cell_type": "code",
   "execution_count": 5,
   "metadata": {},
   "outputs": [
    {
     "name": "stdout",
     "output_type": "stream",
     "text": [
      "[[0.00000000e+00 2.27480438e+09]\n",
      " [2.27480438e+09 0.00000000e+00]]\n"
     ]
    }
   ],
   "source": [
    "print(data.distances[0].distance_matrix)"
   ]
  },
  {
   "cell_type": "code",
   "execution_count": 3,
   "metadata": {},
   "outputs": [
    {
     "data": {
      "text/plain": [
       "(326,)"
      ]
     },
     "execution_count": 3,
     "metadata": {},
     "output_type": "execute_result"
    }
   ],
   "source": [
    "data[0].shape"
   ]
  },
  {
   "cell_type": "code",
   "execution_count": 4,
   "metadata": {},
   "outputs": [
    {
     "ename": "IndexError",
     "evalue": "list index out of range",
     "output_type": "error",
     "traceback": [
      "\u001b[1;31m---------------------------------------------------------------------------\u001b[0m",
      "\u001b[1;31mIndexError\u001b[0m                                Traceback (most recent call last)",
      "Cell \u001b[1;32mIn [4], line 1\u001b[0m\n\u001b[1;32m----> 1\u001b[0m \u001b[43mdata\u001b[49m\u001b[38;5;241;43m.\u001b[39;49m\u001b[43mdistances\u001b[49m\u001b[43m[\u001b[49m\u001b[38;5;241;43m0\u001b[39;49m\u001b[43m]\u001b[49m\u001b[38;5;241m.\u001b[39mdistance_matrix \u001b[38;5;66;03m# Distances between all graphs\u001b[39;00m\n",
      "\u001b[1;31mIndexError\u001b[0m: list index out of range"
     ]
    }
   ],
   "source": [
    "data.distances[0].distance_matrix # Distances between all graphs"
   ]
  },
  {
   "cell_type": "code",
   "execution_count": 7,
   "metadata": {},
   "outputs": [
    {
     "data": {
      "text/plain": [
       "array([[0.42363088, 0.20807228, 0.0120376 , 0.84458506, 0.16594805],\n",
       "       [0.84540164, 0.36490684, 0.5781003 , 0.14901948, 0.91097809],\n",
       "       [0.24263709, 0.10878532, 0.33579733, 0.48678123, 0.55444676],\n",
       "       [0.5903954 , 0.51851788, 0.82696006, 0.53977599, 0.10410998],\n",
       "       [0.77999506, 0.12829252, 0.11351366, 0.07558671, 0.2988314 ],\n",
       "       [0.04076404, 0.59255095, 0.7420449 , 0.98995102, 0.41004673],\n",
       "       [0.66847445, 0.07501076, 0.33693187, 0.06449645, 0.93980331],\n",
       "       [0.85941928, 0.7492603 , 0.9560178 , 0.39077434, 0.75227362],\n",
       "       [0.12756264, 0.22042372, 0.86382024, 0.15234442, 0.36836284],\n",
       "       [0.17365713, 0.41027356, 0.57997276, 0.59299755, 0.9401371 ],\n",
       "       [0.37685277, 0.33705456, 0.69685201, 0.0013039 , 0.59854813],\n",
       "       [0.40105161, 0.78630147, 0.13004601, 0.20077383, 0.05919401]])"
      ]
     },
     "execution_count": 7,
     "metadata": {},
     "output_type": "execute_result"
    }
   ],
   "source": [
    "edge_list = [\n",
    "    [(1, 2), (1, 3), (2, 3), (3, 4)], #representation of 1 graph. e.g edge list, adj matrix, path to file, \n",
    "    [(1, 2), (1, 3), (2, 3)], # this can also be list of object on which you can use your distance function\n",
    "    [(1, 2), (1, 3), (2, 3), (4, 5)],\n",
    "    [(2, 1), (3, 1), (3, 2), (5, 4)],\n",
    "    [(1, 2), (1, 3), (2, 3), (3, 4)],\n",
    "    [(1, 2), (1, 3), (2, 3)],\n",
    "    [(1, 2), (1, 3), (2, 3), (4, 5)],\n",
    "    [(2, 1), (3, 1), (3, 2), (5, 4)],\n",
    "    [(1, 2), (1, 3), (2, 3), (3, 4)],\n",
    "    [(1, 2), (1, 3), (2, 3)],\n",
    "    [(1, 2), (1, 3), (2, 3), (4, 5)],\n",
    "    [(2, 1), (3, 1), (3, 2), (5, 4)]\n",
    "]\n",
    "\n",
    "test_edge_list = [\n",
    "     [(1, 2), (1, 3), (2, 3), (3, 4)],\n",
    "     [(25,30)]\n",
    "]\n",
    "\n",
    "def edge_list_to_networkx(edge_list):\n",
    "    g = nx.Graph() # on this object I can calulate distance\n",
    "    g.add_edges_from(edge_list)\n",
    "    return g\n",
    "\n",
    "vectors = np.random.rand(12,5) # 12 rows 5 columns\n",
    "\n",
    "test_vectors = np.array([\n",
    "    vectors[0],\n",
    "    np.array([1000,1000,1000,1000,1000])\n",
    "])"
   ]
  },
  {
   "cell_type": "code",
   "execution_count": 7,
   "metadata": {},
   "outputs": [
    {
     "data": {
      "text/plain": [
       "array([0, 0])"
      ]
     },
     "execution_count": 7,
     "metadata": {},
     "output_type": "execute_result"
    }
   ],
   "source": [
    "data = RisfData()\n",
    "#we need to add every column separately\n",
    "data.add_data(edge_list , dist = netrd.distance.JaccardDistance(), data_transform = edge_list_to_networkx)\n",
    "data.add_data(vectors, dist = lambda x,y: x@y)\n",
    "\n",
    "data.precompute_distances() #precompute all distances\n",
    "\n",
    "clf = RandomIsolationSimilarityForest(random_state=0, distance=data.distances).fit(data)\n",
    "\n",
    "test_data = data.create_test_data([test_edge_list, test_vectors]) # we must create test data based on what classifier was trained on\n",
    "\n",
    "clf.predict(test_data)"
   ]
  },
  {
   "cell_type": "code",
   "execution_count": 8,
   "metadata": {},
   "outputs": [
    {
     "data": {
      "text/plain": [
       "array([[0.        , 0.25      , 0.4       , 0.66666667, 0.        ,\n",
       "        0.25      , 0.4       , 0.66666667, 0.        , 0.25      ,\n",
       "        0.4       , 0.66666667],\n",
       "       [0.25      , 0.        , 0.25      , 0.6       , 0.25      ,\n",
       "        0.        , 0.25      , 0.6       , 0.25      , 0.        ,\n",
       "        0.25      , 0.6       ],\n",
       "       [0.4       , 0.25      , 0.        , 0.66666667, 0.4       ,\n",
       "        0.25      , 0.        , 0.66666667, 0.4       , 0.25      ,\n",
       "        0.        , 0.66666667],\n",
       "       [0.66666667, 0.6       , 0.66666667, 0.        , 0.66666667,\n",
       "        0.6       , 0.66666667, 0.        , 0.66666667, 0.6       ,\n",
       "        0.66666667, 0.        ],\n",
       "       [0.        , 0.25      , 0.4       , 0.66666667, 0.        ,\n",
       "        0.25      , 0.4       , 0.66666667, 0.        , 0.25      ,\n",
       "        0.4       , 0.66666667],\n",
       "       [0.25      , 0.        , 0.25      , 0.6       , 0.25      ,\n",
       "        0.        , 0.25      , 0.6       , 0.25      , 0.        ,\n",
       "        0.25      , 0.6       ],\n",
       "       [0.4       , 0.25      , 0.        , 0.66666667, 0.4       ,\n",
       "        0.25      , 0.        , 0.66666667, 0.4       , 0.25      ,\n",
       "        0.        , 0.66666667],\n",
       "       [0.66666667, 0.6       , 0.66666667, 0.        , 0.66666667,\n",
       "        0.6       , 0.66666667, 0.        , 0.66666667, 0.6       ,\n",
       "        0.66666667, 0.        ],\n",
       "       [0.        , 0.25      , 0.4       , 0.66666667, 0.        ,\n",
       "        0.25      , 0.4       , 0.66666667, 0.        , 0.25      ,\n",
       "        0.4       , 0.66666667],\n",
       "       [0.25      , 0.        , 0.25      , 0.6       , 0.25      ,\n",
       "        0.        , 0.25      , 0.6       , 0.25      , 0.        ,\n",
       "        0.25      , 0.6       ],\n",
       "       [0.4       , 0.25      , 0.        , 0.66666667, 0.4       ,\n",
       "        0.25      , 0.        , 0.66666667, 0.4       , 0.25      ,\n",
       "        0.        , 0.66666667],\n",
       "       [0.66666667, 0.6       , 0.66666667, 0.        , 0.66666667,\n",
       "        0.6       , 0.66666667, 0.        , 0.66666667, 0.6       ,\n",
       "        0.66666667, 0.        ]])"
      ]
     },
     "execution_count": 8,
     "metadata": {},
     "output_type": "execute_result"
    }
   ],
   "source": [
    "data.distances[0].distance_matrix # Distances between all graphs"
   ]
  },
  {
   "cell_type": "code",
   "execution_count": 9,
   "metadata": {},
   "outputs": [
    {
     "data": {
      "text/plain": [
       "array([<networkx.classes.graph.Graph object at 0x00000191C3BF79A0>,\n",
       "       <networkx.classes.graph.Graph object at 0x00000191C3BF69B0>,\n",
       "       <networkx.classes.graph.Graph object at 0x00000191C3BF6A10>,\n",
       "       <networkx.classes.graph.Graph object at 0x00000191C3BF6A70>,\n",
       "       <networkx.classes.graph.Graph object at 0x00000191C3BF6B30>,\n",
       "       <networkx.classes.graph.Graph object at 0x00000191C3BF6E60>],\n",
       "      dtype=object)"
      ]
     },
     "execution_count": 9,
     "metadata": {},
     "output_type": "execute_result"
    }
   ],
   "source": [
    "data[0][5:11] # You can access elemets similarly as in numpy array"
   ]
  },
  {
   "cell_type": "code",
   "execution_count": 10,
   "metadata": {},
   "outputs": [
    {
     "data": {
      "text/plain": [
       "array([<networkx.classes.graph.Graph object at 0x00000191C3BF79A0>,\n",
       "       <networkx.classes.graph.Graph object at 0x00000191C3BF69B0>,\n",
       "       <networkx.classes.graph.Graph object at 0x00000191C3BF6A10>,\n",
       "       <networkx.classes.graph.Graph object at 0x00000191C3BF6A70>,\n",
       "       <networkx.classes.graph.Graph object at 0x00000191C3BF6B30>],\n",
       "      dtype=object)"
      ]
     },
     "execution_count": 10,
     "metadata": {},
     "output_type": "execute_result"
    }
   ],
   "source": [
    "np.array(list(data[0][5:10]), dtype=object) # You can give this into the RisfData straightaway"
   ]
  }
 ],
 "metadata": {
  "kernelspec": {
   "display_name": "random-isolation-similarity-forest-bqxKmFq8-py3.10",
   "language": "python",
   "name": "python3"
  },
  "language_info": {
   "codemirror_mode": {
    "name": "ipython",
    "version": 3
   },
   "file_extension": ".py",
   "mimetype": "text/x-python",
   "name": "python",
   "nbconvert_exporter": "python",
   "pygments_lexer": "ipython3",
   "version": "3.10.8"
  },
  "orig_nbformat": 4,
  "vscode": {
   "interpreter": {
    "hash": "29f7b7ca90d798da7bf96c77ea2c87b4434b551565442bd66a7a6a48a4a9608d"
   }
  }
 },
 "nbformat": 4,
 "nbformat_minor": 2
}
