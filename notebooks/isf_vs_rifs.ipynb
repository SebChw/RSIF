{
 "cells": [
  {
   "cell_type": "code",
   "execution_count": 1,
   "metadata": {},
   "outputs": [],
   "source": [
    "from sklearn.ensemble import IsolationForest\n",
    "from risf.forest import RandomIsolationSimilarityForest\n",
    "import numpy as np\n",
    "import pandas as pd\n",
    "import sys\n",
    "sys.path.insert(0, '..')\n",
    "from data.data_getter import get_numerical_datasets\n",
    "\n",
    "%load_ext autoreload\n",
    "%autoreload 2"
   ]
  },
  {
   "cell_type": "code",
   "execution_count": 2,
   "metadata": {},
   "outputs": [],
   "source": [
    "data = get_numerical_datasets()"
   ]
  },
  {
   "cell_type": "code",
   "execution_count": 4,
   "metadata": {},
   "outputs": [],
   "source": [
    "X = data['05_campaign.npz'][\"X_train\"]\n",
    "y = data['05_campaign.npz'][\"y_train\"]"
   ]
  },
  {
   "cell_type": "code",
   "execution_count": 5,
   "metadata": {},
   "outputs": [
    {
     "data": {
      "text/plain": [
       "(28831, 62)"
      ]
     },
     "execution_count": 5,
     "metadata": {},
     "output_type": "execute_result"
    }
   ],
   "source": [
    "X.shape"
   ]
  },
  {
   "cell_type": "code",
   "execution_count": 6,
   "metadata": {},
   "outputs": [],
   "source": [
    "isf = IsolationForest(random_state = 0).fit(X)"
   ]
  },
  {
   "cell_type": "code",
   "execution_count": 7,
   "metadata": {},
   "outputs": [],
   "source": [
    "risf = RandomIsolationSimilarityForest(random_state=0).fit(X)"
   ]
  },
  {
   "cell_type": "code",
   "execution_count": 8,
   "metadata": {},
   "outputs": [],
   "source": [
    "isf_pred = isf.predict(X)"
   ]
  },
  {
   "cell_type": "code",
   "execution_count": 9,
   "metadata": {},
   "outputs": [
    {
     "name": "stdout",
     "output_type": "stream",
     "text": [
      "-0.5\n",
      "-0.5\n"
     ]
    }
   ],
   "source": [
    "print(risf.offset_)\n",
    "risf.offset_ = -0.5\n",
    "print(risf.offset_)"
   ]
  },
  {
   "cell_type": "code",
   "execution_count": 10,
   "metadata": {},
   "outputs": [],
   "source": [
    "risf_pred = risf.predict(X)"
   ]
  },
  {
   "cell_type": "code",
   "execution_count": null,
   "metadata": {},
   "outputs": [],
   "source": []
  },
  {
   "cell_type": "code",
   "execution_count": 11,
   "metadata": {},
   "outputs": [],
   "source": [
    "isf_pred_shifted = isf_pred.copy()"
   ]
  },
  {
   "cell_type": "code",
   "execution_count": 12,
   "metadata": {},
   "outputs": [],
   "source": [
    "isf_pred_shifted[isf_pred_shifted == 1] = 0\n",
    "isf_pred_shifted[isf_pred_shifted == -1] = 1"
   ]
  },
  {
   "cell_type": "code",
   "execution_count": 13,
   "metadata": {},
   "outputs": [
    {
     "data": {
      "text/plain": [
       "0.7026117720509174"
      ]
     },
     "execution_count": 13,
     "metadata": {},
     "output_type": "execute_result"
    }
   ],
   "source": [
    "((risf_pred == isf_pred_shifted).sum()) / isf_pred.shape[0]"
   ]
  },
  {
   "cell_type": "code",
   "execution_count": 14,
   "metadata": {},
   "outputs": [],
   "source": [
    "from sklearn.metrics import precision_score, recall_score, accuracy_score"
   ]
  },
  {
   "cell_type": "code",
   "execution_count": 221,
   "metadata": {},
   "outputs": [
    {
     "data": {
      "text/plain": [
       "9806"
      ]
     },
     "execution_count": 221,
     "metadata": {},
     "output_type": "execute_result"
    }
   ],
   "source": [
    "risf_pred.sum()"
   ]
  },
  {
   "cell_type": "code",
   "execution_count": 222,
   "metadata": {},
   "outputs": [
    {
     "data": {
      "text/plain": [
       "(0.3983050847457627, 0.19182133387721803)"
      ]
     },
     "execution_count": 222,
     "metadata": {},
     "output_type": "execute_result"
    }
   ],
   "source": [
    "precision_score(y, isf_pred_shifted), precision_score(y, risf_pred)"
   ]
  },
  {
   "cell_type": "code",
   "execution_count": 184,
   "metadata": {},
   "outputs": [
    {
     "data": {
      "text/plain": [
       "(0.8715271756095869, 0.6777080226145469)"
      ]
     },
     "execution_count": 184,
     "metadata": {},
     "output_type": "execute_result"
    }
   ],
   "source": [
    "accuracy_score(y, isf_pred_shifted), accuracy_score(y, risf_pred)"
   ]
  },
  {
   "cell_type": "code",
   "execution_count": 185,
   "metadata": {},
   "outputs": [
    {
     "data": {
      "text/plain": [
       "(0.2749384236453202, 0.5791256157635468)"
      ]
     },
     "execution_count": 185,
     "metadata": {},
     "output_type": "execute_result"
    }
   ],
   "source": [
    "recall_score(y, isf_pred_shifted), recall_score(y, risf_pred)"
   ]
  },
  {
   "cell_type": "code",
   "execution_count": 125,
   "metadata": {},
   "outputs": [
    {
     "data": {
      "text/plain": [
       "(array([   15,    22,   132, ..., 34402, 34523, 34653], dtype=int64),)"
      ]
     },
     "execution_count": 125,
     "metadata": {},
     "output_type": "execute_result"
    }
   ],
   "source": [
    "np.nonzero(y)"
   ]
  },
  {
   "cell_type": "code",
   "execution_count": 126,
   "metadata": {},
   "outputs": [
    {
     "data": {
      "text/plain": [
       "(array([   52,   176,   182,   234,   307,   351,   381,   446,   484,\n",
       "          490,   499,   689,   706,   707,   806,   820,   876,  1231,\n",
       "         1290,  1313,  1412,  1468,  1692,  1703,  1777,  1816,  1834,\n",
       "         1927,  2002,  2046,  2112,  2184,  2272,  2399,  2453,  2582,\n",
       "         2637,  2705,  2784,  2815,  2842,  2889,  3005,  3057,  3154,\n",
       "         3164,  3390,  3396,  3463,  3526,  3536,  3582,  3587,  3625,\n",
       "         3694,  3699,  3749,  3754,  3771,  3775,  3851,  3882,  3936,\n",
       "         4027,  4070,  4406,  4411,  4581,  4659,  4684,  4790,  4845,\n",
       "         4952,  5099,  5290,  5381,  5479,  5556,  5585,  5616,  5692,\n",
       "         5782,  5939,  6046,  6073,  6190,  6209,  6282,  6352,  6381,\n",
       "         6511,  6609,  6641,  6644,  6825,  6966,  7112,  7148,  7166,\n",
       "         7231,  7251,  7267,  7307,  7405,  7408,  7470,  7515,  7557,\n",
       "         7622,  7696,  7772,  7775,  8099,  8256,  8260,  8266,  8275,\n",
       "         8296,  8404,  8507,  8510,  8531,  8535,  8544,  8550,  8609,\n",
       "         8646,  8760,  8793,  8868,  8969,  8983,  9023,  9114,  9121,\n",
       "         9172,  9226,  9241,  9367,  9397,  9425,  9455,  9624,  9640,\n",
       "         9669,  9697,  9700,  9713,  9731,  9840,  9917, 10002, 10059,\n",
       "        10259, 10307, 10409, 10437, 10461, 10517, 10571, 10573, 10652,\n",
       "        10819, 11033, 11072, 11118, 11135, 11165, 11212, 11312, 11346,\n",
       "        11387, 11499, 11500, 11543, 11573, 11579, 11597, 11991, 12034,\n",
       "        12041, 12299, 12464, 12542, 12557, 12704, 12899, 12982, 13087,\n",
       "        13322, 13616, 13732, 13764, 13779, 13785, 13831, 13847, 13951,\n",
       "        14041, 14171, 14225, 14313, 14329, 14432, 14468, 14473, 14537,\n",
       "        14548, 14644, 14647, 14680, 14807, 14816, 14850, 14863, 14892,\n",
       "        14899, 14941, 14984, 15301, 15514, 15588, 15796, 16122, 16151,\n",
       "        16181, 16206, 16217, 16241, 16289, 16380, 16528, 16570, 16580,\n",
       "        16775, 16932, 17037, 17070, 17116, 17169, 17188, 17277, 17330,\n",
       "        17348, 17366, 17375, 17492, 17527, 17529, 17710, 17793, 17962,\n",
       "        18095, 18124, 18223, 18252, 18280, 18285, 18332, 18349, 18406,\n",
       "        18538, 18556, 18618, 18718, 18737, 18760, 18840, 18844, 18869,\n",
       "        19054, 19194, 19331, 19419, 19610, 19808, 19871, 20034, 20042,\n",
       "        20122, 20199, 20228, 20229, 20242, 20258, 20271, 20298, 20444,\n",
       "        20604, 20730, 20837, 20859, 20889, 20912, 20983, 20987, 20995,\n",
       "        21063, 21322, 21323, 21337, 21343, 21443, 21538, 21742, 21835,\n",
       "        21902, 22015, 22071, 22166, 22200, 22205, 22220, 22432, 22641,\n",
       "        22642, 22860, 22956, 23109, 23228, 23352, 23388, 23512, 23681,\n",
       "        23737, 23808, 23828, 23944, 24075, 24139, 24269, 24296, 24347,\n",
       "        24468, 24542, 24563, 24590, 24732, 24769, 24937, 25016, 25105,\n",
       "        25142, 25394, 25436, 25582, 25648, 25930, 26002, 26052, 26152,\n",
       "        26156, 26269, 26318, 26387, 26415, 26434, 26461, 26502, 26516,\n",
       "        26628, 26708, 26893, 26938, 27089, 27148, 27154, 27216, 27281,\n",
       "        27291, 27323, 27343, 27357, 27368, 27525, 27596, 27748, 27761,\n",
       "        28170, 28215, 28384, 28456, 28473, 28478, 28509, 28553, 28597,\n",
       "        28604, 28625, 28801, 28812, 28868, 28895, 29037, 29051, 29060,\n",
       "        29107, 29168, 29199, 29245, 29262, 29286, 29306, 29344, 29397,\n",
       "        29513, 29528, 29537, 29600, 29603, 29722, 29783, 29866, 29908,\n",
       "        29988, 30073, 30079, 30149, 30179, 30204, 30211, 30263, 30287,\n",
       "        30346, 30428, 30569, 30614, 30640, 30650, 30679, 30785, 30878,\n",
       "        30980, 30989, 31067, 31125, 31154, 31191, 31234, 31379, 31394,\n",
       "        31397, 31565, 31836, 31861, 32094, 32151, 32379, 32414, 32426,\n",
       "        32592, 32593, 32608, 32795, 32827, 32890, 33138, 33166, 33247,\n",
       "        33272, 33343, 33444, 33480, 33481, 33538, 33582, 33605, 33632,\n",
       "        33679, 33996, 34118, 34123, 34133, 34171, 34396, 34401, 34416,\n",
       "        34601], dtype=int64),)"
      ]
     },
     "execution_count": 126,
     "metadata": {},
     "output_type": "execute_result"
    }
   ],
   "source": [
    "np.nonzero(risf_pred)"
   ]
  },
  {
   "cell_type": "code",
   "execution_count": null,
   "metadata": {},
   "outputs": [],
   "source": []
  }
 ],
 "metadata": {
  "kernelspec": {
   "display_name": "Python 3.10.8 ('random-isolation-similarity-forest-4dQFRj3Q-py3.10')",
   "language": "python",
   "name": "python3"
  },
  "language_info": {
   "codemirror_mode": {
    "name": "ipython",
    "version": 3
   },
   "file_extension": ".py",
   "mimetype": "text/x-python",
   "name": "python",
   "nbconvert_exporter": "python",
   "pygments_lexer": "ipython3",
   "version": "3.10.8"
  },
  "orig_nbformat": 4,
  "vscode": {
   "interpreter": {
    "hash": "4ebb0d59de1658277dbb4b778b72691e4bc363e710fa16716dd81f1471601594"
   }
  }
 },
 "nbformat": 4,
 "nbformat_minor": 2
}
