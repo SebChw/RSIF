{
    "cells": [
        {
            "cell_type": "code",
            "execution_count": 81,
            "metadata": {},
            "outputs": [
                {
                    "name": "stdout",
                    "output_type": "stream",
                    "text": [
                        "The autoreload extension is already loaded. To reload it, use:\n",
                        "  %reload_ext autoreload\n"
                    ]
                },
                {
                    "name": "stderr",
                    "output_type": "stream",
                    "text": [
                        "[autoreload of data.data_getter failed: Traceback (most recent call last):\n",
                        "  File \"c:\\poetry\\virtualenvs\\random-isolation-similarity-forest-4dQFRj3Q-py3.10\\lib\\site-packages\\IPython\\extensions\\autoreload.py\", line 261, in check\n",
                        "    superreload(m, reload, self.old_objects)\n",
                        "  File \"c:\\poetry\\virtualenvs\\random-isolation-similarity-forest-4dQFRj3Q-py3.10\\lib\\site-packages\\IPython\\extensions\\autoreload.py\", line 459, in superreload\n",
                        "    module = reload(module)\n",
                        "  File \"C:\\Program Files\\WindowsApps\\PythonSoftwareFoundation.Python.3.10_3.10.2288.0_x64__qbz5n2kfra8p0\\lib\\importlib\\__init__.py\", line 169, in reload\n",
                        "    _bootstrap._exec(spec, module)\n",
                        "  File \"<frozen importlib._bootstrap>\", line 619, in _exec\n",
                        "  File \"<frozen importlib._bootstrap_external>\", line 883, in exec_module\n",
                        "  File \"<frozen importlib._bootstrap>\", line 241, in _call_with_frames_removed\n",
                        "  File \"c:\\University\\ProblemClasses\\Isolation-Similarity-Forest\\notebooks\\..\\data\\data_getter.py\", line 4, in <module>\n",
                        "    from pygod.utils import load_data\n",
                        "ModuleNotFoundError: No module named 'pygod'\n",
                        "]\n"
                    ]
                }
            ],
            "source": [
                "from sklearn.ensemble import IsolationForest\n",
                "from risf.forest import RandomIsolationSimilarityForest\n",
                "import numpy as np\n",
                "import pandas as pd\n",
                "import sys\n",
                "sys.path.insert(0, '..')\n",
                "from data.data_getter import get_numerical_datasets\n",
                "\n",
                "%load_ext autoreload\n",
                "%autoreload 2"
            ]
        },
        {
            "cell_type": "code",
            "execution_count": 82,
            "metadata": {},
            "outputs": [],
            "source": [
                "data = get_numerical_datasets()"
            ]
        },
        {
            "cell_type": "code",
            "execution_count": 83,
            "metadata": {},
            "outputs": [],
            "source": [
                "X = data['04_breastw.npz'][\"X_train\"]\n",
                "y = data['04_breastw.npz'][\"y_train\"]"
            ]
        },
        {
            "cell_type": "code",
            "execution_count": 84,
            "metadata": {},
            "outputs": [
                {
                    "data": {
                        "text/plain": [
                            "(478, 9)"
                        ]
                    },
                    "execution_count": 84,
                    "metadata": {},
                    "output_type": "execute_result"
                }
            ],
            "source": [
                "X.shape"
            ]
        },
        {
            "cell_type": "code",
            "execution_count": 85,
            "metadata": {},
            "outputs": [],
            "source": [
                "isf = IsolationForest(random_state = 0).fit(X)"
            ]
        },
        {
            "cell_type": "code",
            "execution_count": 86,
            "metadata": {},
            "outputs": [],
            "source": [
                "risf = RandomIsolationSimilarityForest(random_state=0).fit(X)"
            ]
        },
        {
            "cell_type": "code",
            "execution_count": 87,
            "metadata": {},
            "outputs": [],
            "source": [
                "isf_pred = isf.predict(X)"
            ]
        },
        {
            "cell_type": "code",
            "execution_count": 89,
            "metadata": {},
            "outputs": [],
            "source": [
                "risf_pred = risf.predict(X)"
            ]
        },
        {
            "cell_type": "code",
            "execution_count": 90,
            "metadata": {},
            "outputs": [],
            "source": [
                "isf_pred_shifted = isf_pred.copy()"
            ]
        },
        {
            "cell_type": "code",
            "execution_count": 91,
            "metadata": {},
            "outputs": [],
            "source": [
                "isf_pred_shifted[isf_pred_shifted == 1] = 0\n",
                "isf_pred_shifted[isf_pred_shifted == -1] = 1"
            ]
        },
        {
            "cell_type": "code",
            "execution_count": 93,
            "metadata": {},
            "outputs": [],
            "source": [
                "from sklearn.metrics import precision_score, recall_score, accuracy_score"
            ]
        },
        {
            "cell_type": "code",
            "execution_count": 95,
            "metadata": {},
            "outputs": [
                {
                    "data": {
                        "text/plain": [
                            "0.9372384937238494"
                        ]
                    },
                    "execution_count": 95,
                    "metadata": {},
                    "output_type": "execute_result"
                }
            ],
            "source": [
                "((risf_pred == isf_pred_shifted).sum()) / isf_pred.shape[0]"
            ]
        },
        {
            "cell_type": "code",
            "execution_count": 96,
            "metadata": {},
            "outputs": [
                {
                    "data": {
                        "text/plain": [
                            "(0.907608695652174, 0.961038961038961)"
                        ]
                    },
                    "execution_count": 96,
                    "metadata": {},
                    "output_type": "execute_result"
                }
            ],
            "source": [
                "precision_score(y, isf_pred_shifted), precision_score(y, risf_pred)"
            ]
        },
        {
            "cell_type": "code",
            "execution_count": 97,
            "metadata": {},
            "outputs": [
                {
                    "data": {
                        "text/plain": [
                            "(0.9644351464435147, 0.9476987447698745)"
                        ]
                    },
                    "execution_count": 97,
                    "metadata": {},
                    "output_type": "execute_result"
                }
            ],
            "source": [
                "accuracy_score(y, isf_pred_shifted), accuracy_score(y, risf_pred)"
            ]
        },
        {
            "cell_type": "code",
            "execution_count": 98,
            "metadata": {},
            "outputs": [
                {
                    "data": {
                        "text/plain": [
                            "(1.0, 0.8862275449101796)"
                        ]
                    },
                    "execution_count": 98,
                    "metadata": {},
                    "output_type": "execute_result"
                }
            ],
            "source": [
                "recall_score(y, isf_pred_shifted), recall_score(y, risf_pred)"
            ]
        },
        {
            "cell_type": "code",
            "execution_count": null,
            "metadata": {},
            "outputs": [],
            "source": []
        }
    ],
    "metadata": {
        "kernelspec": {
            "display_name": "Python 3.10.8 ('random-isolation-similarity-forest-4dQFRj3Q-py3.10')",
            "language": "python",
            "name": "python3"
        },
        "language_info": {
            "codemirror_mode": {
                "name": "ipython",
                "version": 3
            },
            "file_extension": ".py",
            "mimetype": "text/x-python",
            "name": "python",
            "nbconvert_exporter": "python",
            "pygments_lexer": "ipython3",
            "version": "3.10.8"
        },
        "orig_nbformat": 4,
        "vscode": {
            "interpreter": {
                "hash": "4ebb0d59de1658277dbb4b778b72691e4bc363e710fa16716dd81f1471601594"
            }
        }
    },
    "nbformat": 4,
    "nbformat_minor": 2
}
