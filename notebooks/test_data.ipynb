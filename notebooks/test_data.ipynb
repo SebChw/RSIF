{
 "cells": [
  {
   "cell_type": "code",
   "execution_count": 1,
   "metadata": {},
   "outputs": [],
   "source": [
    "from risf.risf_data import RisfData\n",
    "import networkx as nx\n",
    "import numpy as np\n",
    "import netrd\n",
    "\n",
    "from risf.forest import RandomIsolationSimilarityForest"
   ]
  },
  {
   "cell_type": "code",
   "execution_count": 2,
   "metadata": {},
   "outputs": [],
   "source": [
    "edge_list = [\n",
    "    [(1, 2), (1, 3), (2, 3), (3, 4)], #representation of 1 graph. e.g edge list, adj matrix, path to file, \n",
    "    [(1, 2), (1, 3), (2, 3)], # this can also be list of object on which you can use your distance function\n",
    "    [(1, 2), (1, 3), (2, 3), (4, 5)],\n",
    "    [(2, 1), (3, 1), (3, 2), (5, 4)],\n",
    "    [(1, 2), (1, 3), (2, 3), (3, 4)],\n",
    "    [(1, 2), (1, 3), (2, 3)],\n",
    "    [(1, 2), (1, 3), (2, 3), (4, 5)],\n",
    "    [(2, 1), (3, 1), (3, 2), (5, 4)],\n",
    "    [(1, 2), (1, 3), (2, 3), (3, 4)],\n",
    "    [(1, 2), (1, 3), (2, 3)],\n",
    "    [(1, 2), (1, 3), (2, 3), (4, 5)],\n",
    "    [(2, 1), (3, 1), (3, 2), (5, 4)]\n",
    "]\n",
    "\n",
    "test_edge_list = [\n",
    "     [(1, 2), (1, 3), (2, 3), (3, 4)],\n",
    "     [(25,30)]\n",
    "]\n",
    "\n",
    "def edge_list_to_networkx(edge_list):\n",
    "    g = nx.Graph() # on this object I can calulate distance\n",
    "    g.add_edges_from(edge_list)\n",
    "    return g\n",
    "\n",
    "vectors = np.random.rand(12,5) # 12 rows 5 columns\n",
    "\n",
    "test_vectors = np.array([\n",
    "    vectors[0],\n",
    "    np.array([1000,1000,1000,1000,1000])\n",
    "])"
   ]
  },
  {
   "cell_type": "code",
   "execution_count": 8,
   "metadata": {},
   "outputs": [
    {
     "data": {
      "text/plain": [
       "array([0, 0])"
      ]
     },
     "execution_count": 8,
     "metadata": {},
     "output_type": "execute_result"
    }
   ],
   "source": [
    "data = RisfData()\n",
    "#we need to add every column separately\n",
    "data.add_data(edge_list , dist = netrd.distance.JaccardDistance(), data_transform = edge_list_to_networkx)\n",
    "data.add_data(vectors, dist = lambda x,y: x@y)\n",
    "\n",
    "data.precompute_distances() #precompute all distances\n",
    "\n",
    "clf = RandomIsolationSimilarityForest(random_state=0, distance=data.distances).fit(data)\n",
    "\n",
    "test_data = data.create_test_data([test_edge_list, test_vectors]) # we must create test data based on what classifier was trained on\n",
    "\n",
    "clf.predict(test_data)"
   ]
  },
  {
   "cell_type": "code",
   "execution_count": 4,
   "metadata": {},
   "outputs": [
    {
     "data": {
      "text/plain": [
       "array([[0.        , 0.25      , 0.4       , 0.66666667, 0.        ,\n",
       "        0.25      , 0.4       , 0.66666667, 0.        , 0.25      ,\n",
       "        0.4       , 0.66666667],\n",
       "       [0.25      , 0.        , 0.25      , 0.6       , 0.25      ,\n",
       "        0.        , 0.25      , 0.6       , 0.25      , 0.        ,\n",
       "        0.25      , 0.6       ],\n",
       "       [0.4       , 0.25      , 0.        , 0.66666667, 0.4       ,\n",
       "        0.25      , 0.        , 0.66666667, 0.4       , 0.25      ,\n",
       "        0.        , 0.66666667],\n",
       "       [0.66666667, 0.6       , 0.66666667, 0.        , 0.66666667,\n",
       "        0.6       , 0.66666667, 0.        , 0.66666667, 0.6       ,\n",
       "        0.66666667, 0.        ],\n",
       "       [0.        , 0.25      , 0.4       , 0.66666667, 0.        ,\n",
       "        0.25      , 0.4       , 0.66666667, 0.        , 0.25      ,\n",
       "        0.4       , 0.66666667],\n",
       "       [0.25      , 0.        , 0.25      , 0.6       , 0.25      ,\n",
       "        0.        , 0.25      , 0.6       , 0.25      , 0.        ,\n",
       "        0.25      , 0.6       ],\n",
       "       [0.4       , 0.25      , 0.        , 0.66666667, 0.4       ,\n",
       "        0.25      , 0.        , 0.66666667, 0.4       , 0.25      ,\n",
       "        0.        , 0.66666667],\n",
       "       [0.66666667, 0.6       , 0.66666667, 0.        , 0.66666667,\n",
       "        0.6       , 0.66666667, 0.        , 0.66666667, 0.6       ,\n",
       "        0.66666667, 0.        ],\n",
       "       [0.        , 0.25      , 0.4       , 0.66666667, 0.        ,\n",
       "        0.25      , 0.4       , 0.66666667, 0.        , 0.25      ,\n",
       "        0.4       , 0.66666667],\n",
       "       [0.25      , 0.        , 0.25      , 0.6       , 0.25      ,\n",
       "        0.        , 0.25      , 0.6       , 0.25      , 0.        ,\n",
       "        0.25      , 0.6       ],\n",
       "       [0.4       , 0.25      , 0.        , 0.66666667, 0.4       ,\n",
       "        0.25      , 0.        , 0.66666667, 0.4       , 0.25      ,\n",
       "        0.        , 0.66666667],\n",
       "       [0.66666667, 0.6       , 0.66666667, 0.        , 0.66666667,\n",
       "        0.6       , 0.66666667, 0.        , 0.66666667, 0.6       ,\n",
       "        0.66666667, 0.        ]])"
      ]
     },
     "execution_count": 4,
     "metadata": {},
     "output_type": "execute_result"
    }
   ],
   "source": [
    "data.distances[0].distance_matrix # Distances between all graphs"
   ]
  },
  {
   "cell_type": "code",
   "execution_count": 5,
   "metadata": {},
   "outputs": [
    {
     "data": {
      "text/plain": [
       "array([<networkx.classes.graph.Graph object at 0x000001BDC98B6B60>,\n",
       "       <networkx.classes.graph.Graph object at 0x000001BDC98B7820>,\n",
       "       <networkx.classes.graph.Graph object at 0x000001BDC98B5C00>,\n",
       "       <networkx.classes.graph.Graph object at 0x000001BDC98B5C30>,\n",
       "       <networkx.classes.graph.Graph object at 0x000001BDC98B5C60>,\n",
       "       <networkx.classes.graph.Graph object at 0x000001BDC98B6E90>],\n",
       "      dtype=object)"
      ]
     },
     "execution_count": 5,
     "metadata": {},
     "output_type": "execute_result"
    }
   ],
   "source": [
    "data[0][5:11] # You can access elemets similarly as in numpy array"
   ]
  },
  {
   "cell_type": "code",
   "execution_count": 6,
   "metadata": {},
   "outputs": [
    {
     "data": {
      "text/plain": [
       "array([<networkx.classes.graph.Graph object at 0x000001BDC98B6B60>,\n",
       "       <networkx.classes.graph.Graph object at 0x000001BDC98B7820>,\n",
       "       <networkx.classes.graph.Graph object at 0x000001BDC98B5C00>,\n",
       "       <networkx.classes.graph.Graph object at 0x000001BDC98B5C30>,\n",
       "       <networkx.classes.graph.Graph object at 0x000001BDC98B5C60>],\n",
       "      dtype=object)"
      ]
     },
     "execution_count": 6,
     "metadata": {},
     "output_type": "execute_result"
    }
   ],
   "source": [
    "np.array(list(data[0][5:10]), dtype=object) # You can give this into the RisfData straightaway"
   ]
  }
 ],
 "metadata": {
  "kernelspec": {
   "display_name": "random-isolation-similarity-forest-bqxKmFq8-py3.10",
   "language": "python",
   "name": "python3"
  },
  "language_info": {
   "codemirror_mode": {
    "name": "ipython",
    "version": 3
   },
   "file_extension": ".py",
   "mimetype": "text/x-python",
   "name": "python",
   "nbconvert_exporter": "python",
   "pygments_lexer": "ipython3",
   "version": "3.10.6"
  },
  "orig_nbformat": 4,
  "vscode": {
   "interpreter": {
    "hash": "29f7b7ca90d798da7bf96c77ea2c87b4434b551565442bd66a7a6a48a4a9608d"
   }
  }
 },
 "nbformat": 4,
 "nbformat_minor": 2
}
