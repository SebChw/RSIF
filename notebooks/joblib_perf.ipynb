{
 "cells": [
  {
   "attachments": {},
   "cell_type": "markdown",
   "metadata": {},
   "source": [
    "Small experiment testing joblib performance with different setups"
   ]
  },
  {
   "cell_type": "code",
   "execution_count": 42,
   "metadata": {},
   "outputs": [],
   "source": [
    "import numpy as np\n",
    "import time\n",
    "\n",
    "from joblib import Parallel, delayed\n",
    "\n",
    "from joblib.externals.loky import set_loky_pickler\n",
    "from joblib import wrap_non_picklable_objects\n",
    "\n",
    "#! But after tests it seems not to make that big difference\n",
    "set_loky_pickler('pickle') #allegedly, cloudpickle is extremaly slow for big lists\n",
    "\n",
    "def timer(prefix):\n",
    "    def middle(func):\n",
    "        def wrapper_timer(*args, **kwargs):\n",
    "            tic = time.perf_counter()\n",
    "            value = func(*args, **kwargs)\n",
    "            toc = time.perf_counter()\n",
    "            elapsed_time = toc - tic\n",
    "            print(f\"{prefix} Elapsed time: {elapsed_time:0.4f} seconds\")\n",
    "            return value\n",
    "        return wrapper_timer\n",
    "    return middle"
   ]
  },
  {
   "cell_type": "code",
   "execution_count": 43,
   "metadata": {},
   "outputs": [],
   "source": [
    "@wrap_non_picklable_objects\n",
    "def dot(x,y):\n",
    "    dot= 0\n",
    "    for x_i, y_i in zip(x,y):\n",
    "        dot += x_i * y_i\n",
    "\n",
    "    return dot"
   ]
  },
  {
   "attachments": {},
   "cell_type": "markdown",
   "metadata": {},
   "source": [
    "1 process, just a loop"
   ]
  },
  {
   "cell_type": "code",
   "execution_count": 44,
   "metadata": {},
   "outputs": [],
   "source": [
    "@timer(prefix=\"Simple python Loop\")\n",
    "def just_looping(X, function: callable):\n",
    "    n = X.shape[0]\n",
    "    distance = np.zeros((n,n))\n",
    "    for i in range(n):\n",
    "        for j in range(i, n):\n",
    "            distance[i][j] = function(X[i], X[j])\n",
    "\n",
    "    return distance"
   ]
  },
  {
   "attachments": {},
   "cell_type": "markdown",
   "metadata": {},
   "source": [
    "approach1"
   ]
  },
  {
   "cell_type": "code",
   "execution_count": 45,
   "metadata": {},
   "outputs": [],
   "source": [
    "@wrap_non_picklable_objects\n",
    "def parallel1(i, j, X, function: callable):\n",
    "    return function(X[i], X[j])\n",
    "\n",
    "@timer(\"Passing entire array\")\n",
    "def test1(X, function, n_jobs=4):\n",
    "    n = X.shape[0]\n",
    "    distance = np.zeros((n,n))\n",
    "    indices = np.argwhere(np.tri(n, M=n, k=-1) == 0)\n",
    "\n",
    "    distances = np.array(Parallel(n_jobs=n_jobs)(delayed(parallel1)(i,j,X, function) for i,j in indices))\n",
    "    distance[indices[:,0], indices[:,1]] = distances\n",
    "\n",
    "    return distance"
   ]
  },
  {
   "attachments": {},
   "cell_type": "markdown",
   "metadata": {},
   "source": [
    "approach2"
   ]
  },
  {
   "cell_type": "code",
   "execution_count": 46,
   "metadata": {},
   "outputs": [],
   "source": [
    "@wrap_non_picklable_objects\n",
    "def parallel2(vec1, vec2, function:callable):\n",
    "    return function(vec1, vec2)\n",
    "\n",
    "@timer(\"Passing individual objects\")\n",
    "def test2(X, function:callable, n_jobs=4):\n",
    "    n = X.shape[0]\n",
    "    distance = np.zeros((n,n))\n",
    "    indices = np.argwhere(np.tri(n, M=n, k=-1) == 0)\n",
    "\n",
    "    distances = np.array(Parallel(n_jobs=n_jobs)(delayed(parallel2)(X[i], X[j], function) for i,j in indices))\n",
    "    distance[indices[:,0], indices[:,1]] = distances\n",
    "\n",
    "    return distance"
   ]
  },
  {
   "attachments": {},
   "cell_type": "markdown",
   "metadata": {},
   "source": [
    "approach3"
   ]
  },
  {
   "cell_type": "code",
   "execution_count": 47,
   "metadata": {},
   "outputs": [],
   "source": [
    "from math import ceil\n",
    "\n",
    "@wrap_non_picklable_objects\n",
    "def parallel3(indices, X, function):\n",
    "    return [function(X[i], X[j]) for i,j in indices]\n",
    "\n",
    "@timer(\"Splitting equally between n_jobs\")\n",
    "def test3(X, function:callable, n_jobs=4, prefer=None):\n",
    "    n = X.shape[0]\n",
    "    distance = np.zeros((n,n))\n",
    "    indices = np.argwhere(np.tri(n, M=n, k=-1) == 0)\n",
    "    \n",
    "    split_size = ceil(len(indices) / n_jobs)\n",
    "    distances = Parallel(n_jobs=n_jobs, prefer=prefer)(delayed(parallel3)(indices[i*split_size:(i+1)*split_size], X, function) for i in range(n_jobs))\n",
    "\n",
    "    distance[indices[:,0], indices[:,1]] = np.concatenate(distances)\n",
    "\n",
    "    return distance\n"
   ]
  },
  {
   "cell_type": "code",
   "execution_count": 50,
   "metadata": {},
   "outputs": [],
   "source": [
    "def measure_differences(X, function: callable):\n",
    "    distances1 = just_looping(X, function)\n",
    "    distances2 = test1(X, function)\n",
    "    distances3 = test2(X, function)\n",
    "    distances4 = test3(X, function)\n",
    "    print(\"Are all equal?\")\n",
    "    print(np.array_equal(distances1, distances2), np.array_equal(distances1, distances3), np.array_equal(distances1, distances4))"
   ]
  },
  {
   "cell_type": "code",
   "execution_count": 49,
   "metadata": {},
   "outputs": [
    {
     "name": "stdout",
     "output_type": "stream",
     "text": [
      "Simple python Loop Elapsed time: 11.8424 seconds\n",
      "Passing entire array Elapsed time: 8.1494 seconds\n",
      "Passing individual objects Elapsed time: 26.4648 seconds\n",
      "Splitting equally between n_jobs Elapsed time: 12.7782 seconds\n",
      "Are all equal?\n",
      "True True True\n"
     ]
    }
   ],
   "source": [
    "X = np.random.randn(1000, 100)\n",
    "measure_differences(X, dot)"
   ]
  },
  {
   "cell_type": "code",
   "execution_count": 51,
   "metadata": {},
   "outputs": [
    {
     "name": "stdout",
     "output_type": "stream",
     "text": [
      "Simple python Loop Elapsed time: 0.8272 seconds\n",
      "Passing entire array Elapsed time: 6.5452 seconds\n",
      "Passing individual objects Elapsed time: 26.3115 seconds\n",
      "Splitting equally between n_jobs Elapsed time: 1.3416 seconds\n",
      "Are all equal?\n",
      "True True True\n"
     ]
    }
   ],
   "source": [
    "measure_differences(X, np.dot)"
   ]
  },
  {
   "cell_type": "code",
   "execution_count": 78,
   "metadata": {},
   "outputs": [],
   "source": [
    "import networkx as nx\n",
    "import netrd\n",
    "\n",
    "X = [nx.Graph(nx.random_regular_graph(10,n=30)) for _ in range(100)]\n",
    "data = np.empty(len(X), dtype=object)\n",
    "data[:] = X # Otherwise nx.Graph would be changed into np.array. \n",
    "dist = netrd.distance.JaccardDistance()"
   ]
  },
  {
   "cell_type": "code",
   "execution_count": 79,
   "metadata": {},
   "outputs": [
    {
     "name": "stdout",
     "output_type": "stream",
     "text": [
      "Simple python Loop Elapsed time: 44.0197 seconds\n",
      "Passing entire array Elapsed time: 11.9339 seconds\n",
      "Passing individual objects Elapsed time: 11.1455 seconds\n",
      "Splitting equally between n_jobs Elapsed time: 10.8027 seconds\n",
      "Are all equal?\n",
      "True True True\n"
     ]
    }
   ],
   "source": [
    "measure_differences(data, dist)"
   ]
  }
 ],
 "metadata": {
  "kernelspec": {
   "display_name": "random-isolation-similarity-forest-bqxKmFq8-py3.10",
   "language": "python",
   "name": "python3"
  },
  "language_info": {
   "codemirror_mode": {
    "name": "ipython",
    "version": 3
   },
   "file_extension": ".py",
   "mimetype": "text/x-python",
   "name": "python",
   "nbconvert_exporter": "python",
   "pygments_lexer": "ipython3",
   "version": "3.10.6"
  },
  "orig_nbformat": 4,
  "vscode": {
   "interpreter": {
    "hash": "29f7b7ca90d798da7bf96c77ea2c87b4434b551565442bd66a7a6a48a4a9608d"
   }
  }
 },
 "nbformat": 4,
 "nbformat_minor": 2
}
