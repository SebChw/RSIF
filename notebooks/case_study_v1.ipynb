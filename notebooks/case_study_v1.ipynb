{
 "cells": [
  {
   "attachments": {},
   "cell_type": "markdown",
   "metadata": {},
   "source": [
    "# Case study\n",
    "#### Using RISF on real life data from bus sensors"
   ]
  },
  {
   "attachments": {},
   "cell_type": "markdown",
   "metadata": {},
   "source": [
    "## DATA MANIPULATION"
   ]
  },
  {
   "cell_type": "code",
   "execution_count": 67,
   "metadata": {},
   "outputs": [],
   "source": [
    "import numpy as np\n",
    "import pandas as pd\n",
    "from scipy.stats import skew, kurtosis\n",
    "import datetime\n",
    "import pickle\n",
    "# from risf import *\n",
    "\n",
    "from risf.risf_data import *\n",
    "from risf.distance_functions import *\n",
    "from risf.forest import RandomIsolationSimilarityForest\n",
    "\n",
    "# from risf.distance import *\n",
    "# from risf.forest import *\n",
    "# from risf.splitting import *\n",
    "# from risf.tree import *"
   ]
  },
  {
   "cell_type": "code",
   "execution_count": 3,
   "metadata": {},
   "outputs": [],
   "source": [
    "# Timestamp conversion copied from buses-data-demo.ipynb\n",
    "VACT_EPOCH = datetime.datetime(year=2011,month=6,day=16,hour=5,minute=23,second=0)\n",
    "VACT_TIMESTAMP = 1308194580\n",
    "assert datetime.datetime.fromtimestamp(VACT_TIMESTAMP) == VACT_EPOCH\n",
    "MILISECOND = 1\n",
    "SECOND = 1000 * MILISECOND\n",
    "HOUR = 3600*SECOND\n",
    "DAY = 24*HOUR\n",
    "def getVactDate(value):\n",
    "    return VACT_EPOCH + datetime.timedelta(milliseconds=int(value))"
   ]
  },
  {
   "cell_type": "code",
   "execution_count": 4,
   "metadata": {},
   "outputs": [],
   "source": [
    "# Loading pandas DataFrame with recorded values from sensors and\n",
    "# Adding column with transformed timestamp\n",
    "# Note that this data is ignored by git, so you have to make a copy on your own\n",
    "# Also the excel file seems to only contain data about the bus number 369\n",
    "# TODO Remove these links\n",
    "# Link to data:\n",
    "# https://halmstaduniversity.box.com/s/rtm3o8dzdt4o0hxr5sredhb1y06qsi8u\n",
    "\n",
    "DATA_369 = pickle.load(open(\"../data/bus/data-369.pickle\",\"rb\"))\n",
    "DATA_370 = pickle.load(open(\"../data/bus/data-370.pickle\",\"rb\"))\n",
    "DATA_371 = pickle.load(open(\"../data/bus/data-371.pickle\",\"rb\"))\n",
    "DATA_372 = pickle.load(open(\"../data/bus/data-372.pickle\",\"rb\"))\n",
    "DATA_375 = pickle.load(open(\"../data/bus/data-375.pickle\",\"rb\"))\n"
   ]
  },
  {
   "cell_type": "code",
   "execution_count": 5,
   "metadata": {},
   "outputs": [],
   "source": [
    "DATA_369.insert(0, 'tstamp', DATA_369.Timestamp.apply(getVactDate))\n",
    "DATA_370.insert(0, 'tstamp', DATA_370.Timestamp.apply(getVactDate))\n",
    "DATA_371.insert(0, 'tstamp', DATA_371.Timestamp.apply(getVactDate))\n",
    "DATA_372.insert(0, 'tstamp', DATA_372.Timestamp.apply(getVactDate))\n",
    "DATA_375.insert(0, 'tstamp', DATA_375.Timestamp.apply(getVactDate))"
   ]
  },
  {
   "cell_type": "code",
   "execution_count": 6,
   "metadata": {},
   "outputs": [],
   "source": [
    "DATA_369 = DATA_369.set_index('tstamp')\n",
    "DATA_369.sort_index(inplace = True)\n",
    "DATA_370 = DATA_370.set_index('tstamp')\n",
    "DATA_370.sort_index(inplace = True)\n",
    "DATA_371 = DATA_371.set_index('tstamp')\n",
    "DATA_371.sort_index(inplace = True)\n",
    "DATA_372 = DATA_372.set_index('tstamp')\n",
    "DATA_372.sort_index(inplace = True)\n",
    "DATA_375 = DATA_375.set_index('tstamp')\n",
    "DATA_375.sort_index(inplace = True)"
   ]
  },
  {
   "cell_type": "code",
   "execution_count": 7,
   "metadata": {},
   "outputs": [],
   "source": [
    "DATA_369.drop(columns=['Timestamp'], inplace = True)\n",
    "DATA_370.drop(columns=['Timestamp'], inplace = True)\n",
    "DATA_371.drop(columns=['Timestamp'], inplace = True)\n",
    "DATA_372.drop(columns=['Timestamp'], inplace = True)\n",
    "DATA_375.drop(columns=['Timestamp'], inplace = True)"
   ]
  },
  {
   "cell_type": "code",
   "execution_count": 8,
   "metadata": {},
   "outputs": [
    {
     "data": {
      "text/html": [
       "<div>\n",
       "<style scoped>\n",
       "    .dataframe tbody tr th:only-of-type {\n",
       "        vertical-align: middle;\n",
       "    }\n",
       "\n",
       "    .dataframe tbody tr th {\n",
       "        vertical-align: top;\n",
       "    }\n",
       "\n",
       "    .dataframe thead th {\n",
       "        text-align: right;\n",
       "    }\n",
       "</style>\n",
       "<table border=\"1\" class=\"dataframe\">\n",
       "  <thead>\n",
       "    <tr style=\"text-align: right;\">\n",
       "      <th></th>\n",
       "      <th>WetTankAirPressure</th>\n",
       "      <th>LongitudAcc</th>\n",
       "      <th>EngineSpeed</th>\n",
       "      <th>Fuel Rate</th>\n",
       "      <th>Engine Load</th>\n",
       "      <th>Boost Pressure</th>\n",
       "      <th>EngineAirInletPressure</th>\n",
       "      <th>AcceleratorPedalPos</th>\n",
       "      <th>VehicleSpeed</th>\n",
       "      <th>BrakePedalPos</th>\n",
       "    </tr>\n",
       "    <tr>\n",
       "      <th>tstamp</th>\n",
       "      <th></th>\n",
       "      <th></th>\n",
       "      <th></th>\n",
       "      <th></th>\n",
       "      <th></th>\n",
       "      <th></th>\n",
       "      <th></th>\n",
       "      <th></th>\n",
       "      <th></th>\n",
       "      <th></th>\n",
       "    </tr>\n",
       "  </thead>\n",
       "  <tbody>\n",
       "    <tr>\n",
       "      <th>2012-04-15 08:23:47.763</th>\n",
       "      <td>4.2749</td>\n",
       "      <td>0.0</td>\n",
       "      <td>0.0</td>\n",
       "      <td>0.0</td>\n",
       "      <td>0.0</td>\n",
       "      <td>0.0</td>\n",
       "      <td>100.0</td>\n",
       "      <td>0.0</td>\n",
       "      <td>0.0</td>\n",
       "      <td>0.0</td>\n",
       "    </tr>\n",
       "    <tr>\n",
       "      <th>2012-04-15 08:23:48.457</th>\n",
       "      <td>4.2749</td>\n",
       "      <td>0.0</td>\n",
       "      <td>0.0</td>\n",
       "      <td>0.0</td>\n",
       "      <td>0.0</td>\n",
       "      <td>0.0</td>\n",
       "      <td>100.0</td>\n",
       "      <td>0.0</td>\n",
       "      <td>0.0</td>\n",
       "      <td>0.0</td>\n",
       "    </tr>\n",
       "    <tr>\n",
       "      <th>2012-04-15 08:23:49.550</th>\n",
       "      <td>4.2749</td>\n",
       "      <td>0.0</td>\n",
       "      <td>0.0</td>\n",
       "      <td>0.0</td>\n",
       "      <td>0.0</td>\n",
       "      <td>0.0</td>\n",
       "      <td>100.0</td>\n",
       "      <td>0.0</td>\n",
       "      <td>0.0</td>\n",
       "      <td>0.0</td>\n",
       "    </tr>\n",
       "    <tr>\n",
       "      <th>2012-04-15 08:23:50.715</th>\n",
       "      <td>4.2749</td>\n",
       "      <td>0.0</td>\n",
       "      <td>0.0</td>\n",
       "      <td>0.0</td>\n",
       "      <td>0.0</td>\n",
       "      <td>0.0</td>\n",
       "      <td>100.0</td>\n",
       "      <td>0.0</td>\n",
       "      <td>0.0</td>\n",
       "      <td>0.0</td>\n",
       "    </tr>\n",
       "    <tr>\n",
       "      <th>2012-04-15 08:23:51.435</th>\n",
       "      <td>4.2749</td>\n",
       "      <td>0.0</td>\n",
       "      <td>0.0</td>\n",
       "      <td>0.0</td>\n",
       "      <td>0.0</td>\n",
       "      <td>0.0</td>\n",
       "      <td>100.0</td>\n",
       "      <td>0.0</td>\n",
       "      <td>0.0</td>\n",
       "      <td>0.0</td>\n",
       "    </tr>\n",
       "  </tbody>\n",
       "</table>\n",
       "</div>"
      ],
      "text/plain": [
       "                         WetTankAirPressure  LongitudAcc  EngineSpeed  \\\n",
       "tstamp                                                                  \n",
       "2012-04-15 08:23:47.763              4.2749          0.0          0.0   \n",
       "2012-04-15 08:23:48.457              4.2749          0.0          0.0   \n",
       "2012-04-15 08:23:49.550              4.2749          0.0          0.0   \n",
       "2012-04-15 08:23:50.715              4.2749          0.0          0.0   \n",
       "2012-04-15 08:23:51.435              4.2749          0.0          0.0   \n",
       "\n",
       "                         Fuel Rate  Engine Load  Boost Pressure  \\\n",
       "tstamp                                                            \n",
       "2012-04-15 08:23:47.763        0.0          0.0             0.0   \n",
       "2012-04-15 08:23:48.457        0.0          0.0             0.0   \n",
       "2012-04-15 08:23:49.550        0.0          0.0             0.0   \n",
       "2012-04-15 08:23:50.715        0.0          0.0             0.0   \n",
       "2012-04-15 08:23:51.435        0.0          0.0             0.0   \n",
       "\n",
       "                         EngineAirInletPressure  AcceleratorPedalPos  \\\n",
       "tstamp                                                                 \n",
       "2012-04-15 08:23:47.763                   100.0                  0.0   \n",
       "2012-04-15 08:23:48.457                   100.0                  0.0   \n",
       "2012-04-15 08:23:49.550                   100.0                  0.0   \n",
       "2012-04-15 08:23:50.715                   100.0                  0.0   \n",
       "2012-04-15 08:23:51.435                   100.0                  0.0   \n",
       "\n",
       "                         VehicleSpeed  BrakePedalPos  \n",
       "tstamp                                                \n",
       "2012-04-15 08:23:47.763           0.0            0.0  \n",
       "2012-04-15 08:23:48.457           0.0            0.0  \n",
       "2012-04-15 08:23:49.550           0.0            0.0  \n",
       "2012-04-15 08:23:50.715           0.0            0.0  \n",
       "2012-04-15 08:23:51.435           0.0            0.0  "
      ]
     },
     "execution_count": 8,
     "metadata": {},
     "output_type": "execute_result"
    }
   ],
   "source": [
    "# Example DataFrame\n",
    "DATA_369.head()"
   ]
  },
  {
   "cell_type": "code",
   "execution_count": 11,
   "metadata": {},
   "outputs": [],
   "source": [
    "def generate_window_iterator(start, end, freq):\n",
    "    current_timestamp = start\n",
    "    \n",
    "    while current_timestamp < end:\n",
    "        yield current_timestamp\n",
    "        current_timestamp += pd.Timedelta(freq)\n",
    "\n",
    "def extract_time_windows(dataframe, window_size, **kwargs):\n",
    "\n",
    "    window_iterator = generate_window_iterator(**kwargs)\n",
    "    \n",
    "    for start_timestamp in window_iterator:\n",
    "        end_timestamp = start_timestamp + pd.Timedelta(window_size)\n",
    "        yield dataframe.loc[start_timestamp:end_timestamp]"
   ]
  },
  {
   "attachments": {},
   "cell_type": "markdown",
   "metadata": {},
   "source": [
    "#### Sample window generating and cardinality calculation"
   ]
  },
  {
   "cell_type": "code",
   "execution_count": 38,
   "metadata": {},
   "outputs": [],
   "source": [
    "# Example usage of extract_time_windows\n",
    "# It creates windows of length\n",
    "START = pd.Timestamp('2012-04-15 08:23:47.763000') # Earlisest time stamp\n",
    "END = pd.Timestamp('2014-01-31 19:27:10.884000') # Latest time stamp\n",
    "FREQ = '3T'  # 3 minutes | must be argument for pd.Timedelta()\n",
    "WINDOW_SIZE = '4T'  # 4minutes | must be argument for pd.Timedelta()\n",
    "\n",
    "l = []\n",
    "s = {}\n",
    "for win in extract_time_windows(DATA_369, WINDOW_SIZE, start=START, end=END, freq=FREQ):\n",
    "    key = win.shape[0] \n",
    "    if key not in s:\n",
    "       s[key] = 1\n",
    "    else:\n",
    "       s[key] += 1  \n"
   ]
  },
  {
   "cell_type": "code",
   "execution_count": 39,
   "metadata": {},
   "outputs": [
    {
     "data": {
      "image/png": "[encoded data removed]",
      "text/plain": [
       "<Figure size 640x480 with 1 Axes>"
      ]
     },
     "metadata": {},
     "output_type": "display_data"
    }
   ],
   "source": [
    "import matplotlib.pyplot as plt\n",
    "\n",
    "# Sample dictionary\n",
    "\n",
    "# Extract keys and values from the dictionary\n",
    "categories = [x for x in sorted(s) if x ]\n",
    "cardinalities = [s[x] for x in sorted(s) if x ]\n",
    "\n",
    "# Plotting the histogram\n",
    "plt.bar(categories, cardinalities)\n",
    "\n",
    "# Adding labels and title\n",
    "plt.xlabel('Categories')\n",
    "plt.ylabel('Cardinality')\n",
    "plt.title('Histogram of Cardinalities')\n",
    "\n",
    "# Rotating the x-axis labels for better readability\n",
    "plt.xticks(rotation=45)\n",
    "\n",
    "# Display the plot\n",
    "plt.show()"
   ]
  },
  {
   "attachments": {},
   "cell_type": "markdown",
   "metadata": {},
   "source": [
    "## EXPERIMENTS"
   ]
  },
  {
   "cell_type": "code",
   "execution_count": 68,
   "metadata": {},
   "outputs": [],
   "source": [
    "# TODO Base numeric representation\n",
    "\n",
    "# Inspired by the LSTM paper\n",
    "\n",
    "# For every column in given window calculate:\n",
    "#\n",
    "#   mean\n",
    "#   std\n",
    "#   skewness\n",
    "#   kurtosis\n",
    "#   min\n",
    "#   quantiles (first, second and third)\n",
    "#   max\n",
    "#   deciles\n",
    "#\n",
    "# Returns: \n",
    "# Time stamp of the first record || IF TIMESTAMP flag is true\n",
    "# 1D np.array float64 with measurements"
   ]
  },
  {
   "cell_type": "code",
   "execution_count": 88,
   "metadata": {},
   "outputs": [],
   "source": [
    "def get_numeric_from_window(window, timestamp = False):\n",
    "    measurements = []\n",
    "    for sensor in window.columns:\n",
    "        mean = window[sensor].mean()\n",
    "        std = window[sensor].std()\n",
    "        skewness = skew(window[sensor])\n",
    "        kurt = kurtosis(window[sensor])\n",
    "        quantiles = np.percentile(window[sensor], [0, 25, 50, 75, 100])\n",
    "        deciles = np.percentile(window[sensor], range(10, 100, 10))\n",
    "        # END OF CALCULATIONS\n",
    "        sensor_measurements = np.concatenate(([mean, std, skewness, kurt], quantiles, deciles))\n",
    "        measurements.append(sensor_measurements)\n",
    "\n",
    "    if timestamp:\n",
    "        return window.iloc[0].name, np.concatenate(measurements)\n",
    "    return np.concatenate(measurements)\n"
   ]
  },
  {
   "cell_type": "code",
   "execution_count": 89,
   "metadata": {},
   "outputs": [
    {
     "name": "stderr",
     "output_type": "stream",
     "text": [
      "/tmp/ipykernel_18471/3532504324.py:6: RuntimeWarning: Precision loss occurred in moment calculation due to catastrophic cancellation. This occurs when the data are nearly identical. Results may be unreliable.\n",
      "  skewness = skew(window[sensor])\n",
      "/tmp/ipykernel_18471/3532504324.py:7: RuntimeWarning: Precision loss occurred in moment calculation due to catastrophic cancellation. This occurs when the data are nearly identical. Results may be unreliable.\n",
      "  kurt = kurtosis(window[sensor])\n"
     ]
    }
   ],
   "source": [
    "# Example usage of get_numeric_from_window\n",
    "# It creates windows of length\n",
    "START = pd.Timestamp('2012-04-15 08:23:47.763000') # Earlisest time stamp\n",
    "END = pd.Timestamp('2014-01-31 19:27:10.884000') # Latest time stamp\n",
    "FREQ = '3T'  # 3 minutes | must be argument for pd.Timedelta()\n",
    "WINDOW_SIZE = '4T'  # 4minutes | must be argument for pd.Timedelta()\n",
    "\n",
    "RESULTING_DATA = []\n",
    "\n",
    "for win in extract_time_windows(DATA_369, WINDOW_SIZE, start=START, end=END, freq=FREQ):\n",
    "    n = win.shape[0]\n",
    "    if n < 20:\n",
    "        continue\n",
    "    RESULTING_DATA.append(get_numeric_from_window(win))\n",
    "\n",
    "RESULTING_DATA = np.array(RESULTING_DATA)"
   ]
  },
  {
   "cell_type": "code",
   "execution_count": 91,
   "metadata": {},
   "outputs": [
    {
     "data": {
      "text/plain": [
       "(72078, 180)"
      ]
     },
     "execution_count": 91,
     "metadata": {},
     "output_type": "execute_result"
    }
   ],
   "source": [
    "RESULTING_DATA.shape"
   ]
  },
  {
   "cell_type": "code",
   "execution_count": null,
   "metadata": {},
   "outputs": [],
   "source": [
    "# TODO Histogram representation"
   ]
  },
  {
   "cell_type": "code",
   "execution_count": null,
   "metadata": {},
   "outputs": [],
   "source": []
  },
  {
   "cell_type": "code",
   "execution_count": null,
   "metadata": {},
   "outputs": [],
   "source": [
    "# from risf.risf_data import RisfData\n",
    "# from risf.distance import TrainDistanceMixin, SelectiveDistance # We will explain them later\n",
    "# data = RisfData()\n",
    "\n",
    "# categorical_feature = np.array([[0], [2], [1]])\n",
    "# distances_categorical = [SelectiveDistance(projection_func = jaccard_projection, min_n=1, max_n=1)]\n",
    "# data.add_data(categorical_feature, distances_categorical)\n",
    "\n",
    "# numerical_features = np.random.randn(3, 3) # vector in R^3\n",
    "# distances_numerical = [SelectiveDistance(projection_func = euclidean_projection, min_n=1, max_n=3),\n",
    "#                         SelectiveDistance(projection_func = cosine_projection, min_n=1, max_n=3)]\n",
    "# data.add_data(numerical_features, distances_numerical)\n",
    "\n",
    "# set_features = np.array([{10, 20, 30}, {20, 30}, {10, 20}])\n",
    "# distances_set = [TrainDistanceMixin(distance = jaccard_distance)]\n",
    "# data.add_data(set_features, distances_set)\n",
    "\n",
    "# graph_features = np.array([Graph(), Graph(), Graph()]) # Graph is just a dummy object\n",
    "# distances_graph = [TrainDistanceMixin(distance = ipsen_mikailov), TrainDistanceMixin(distance = portrait)]\n",
    "# data.add_data(graph_features, distances_graph)"
   ]
  },
  {
   "cell_type": "code",
   "execution_count": null,
   "metadata": {},
   "outputs": [],
   "source": [
    "# from risf.forest import RandomIsolationSimilarityForest\n",
    "\n",
    "# data = np.random.randn(100,10)\n",
    "# forest = RandomIsolationSimilarityForest().fit(data)"
   ]
  },
  {
   "cell_type": "code",
   "execution_count": null,
   "metadata": {},
   "outputs": [],
   "source": [
    "# forest = RandomIsolationSimilarityForest(distances = data.distances).fit(data)"
   ]
  },
  {
   "cell_type": "code",
   "execution_count": null,
   "metadata": {},
   "outputs": [],
   "source": [
    "# TODO Remember about changing seed and keeping the seeds consistant\n",
    "SEED = 23"
   ]
  },
  {
   "cell_type": "code",
   "execution_count": null,
   "metadata": {},
   "outputs": [],
   "source": [
    "X = DATA_369['WetTankAirPressure'].values[:1000]\n",
    "Y = DATA_369['WetTankAirPressure'].values[1000:2000]"
   ]
  },
  {
   "cell_type": "code",
   "execution_count": null,
   "metadata": {},
   "outputs": [],
   "source": [
    "from risf.forest import RandomIsolationSimilarityForest\n",
    "\n",
    "RISF = RandomIsolationSimilarityForest(random_state=SEED)\n",
    "\n",
    "RISF.fit(X)\n",
    "\n",
    "s = RISF.predict(Y, return_raw_scores=True)"
   ]
  },
  {
   "cell_type": "code",
   "execution_count": null,
   "metadata": {},
   "outputs": [],
   "source": [
    "b = RISF.predict(Y)"
   ]
  },
  {
   "cell_type": "code",
   "execution_count": null,
   "metadata": {},
   "outputs": [
    {
     "name": "stdout",
     "output_type": "stream",
     "text": [
      "-0.006147078878442458\n",
      "-0.01918464685061194\n",
      "-0.01918464685061194\n",
      "-0.006147078878442458\n",
      "-0.006147078878442458\n",
      "-0.006147078878442458\n",
      "-0.006147078878442458\n",
      "-0.01918464685061194\n",
      "-0.04773895460027355\n",
      "-0.01918464685061194\n",
      "-0.01918464685061194\n",
      "-0.01918464685061194\n",
      "-0.01918464685061194\n",
      "-0.006147078878442458\n",
      "-0.006147078878442458\n",
      "-0.006147078878442458\n",
      "-0.006147078878442458\n",
      "-0.006147078878442458\n",
      "-0.006147078878442458\n",
      "-0.01918464685061194\n",
      "-0.01918464685061194\n",
      "-0.04773895460027355\n",
      "-0.04773895460027355\n",
      "-0.04773895460027355\n",
      "-0.01918464685061194\n",
      "-0.01918464685061194\n",
      "-0.01918464685061194\n",
      "-0.01918464685061194\n",
      "-0.006147078878442458\n",
      "-0.006147078878442458\n",
      "-0.006147078878442458\n",
      "-0.006147078878442458\n",
      "-0.006147078878442458\n",
      "-0.006147078878442458\n",
      "-0.01918464685061194\n",
      "-0.04773895460027355\n",
      "-0.01918464685061194\n",
      "-0.01918464685061194\n",
      "-0.01918464685061194\n",
      "-0.01918464685061194\n",
      "-0.01918464685061194\n",
      "-0.01918464685061194\n",
      "-0.01918464685061194\n",
      "-0.01918464685061194\n",
      "-0.01918464685061194\n",
      "-0.01918464685061194\n",
      "-0.01918464685061194\n",
      "-0.006147078878442458\n",
      "-0.006147078878442458\n",
      "-0.006147078878442458\n",
      "-0.006147078878442458\n",
      "-0.006147078878442458\n",
      "-0.006147078878442458\n",
      "-0.006147078878442458\n",
      "-0.006147078878442458\n",
      "-0.01918464685061194\n",
      "-0.04773895460027355\n",
      "-0.01918464685061194\n",
      "-0.01918464685061194\n",
      "-0.01918464685061194\n",
      "-0.01918464685061194\n",
      "-0.01918464685061194\n",
      "-0.01918464685061194\n",
      "-0.01918464685061194\n",
      "-0.01918464685061194\n",
      "-0.01918464685061194\n",
      "-0.006147078878442458\n",
      "-0.006147078878442458\n",
      "-0.006147078878442458\n",
      "-0.006147078878442458\n",
      "-0.006147078878442458\n",
      "-0.006147078878442458\n",
      "-0.006147078878442458\n",
      "-0.006147078878442458\n",
      "-0.006147078878442458\n",
      "-0.006147078878442458\n",
      "-0.01918464685061194\n",
      "-0.04773895460027355\n",
      "-0.04773895460027355\n",
      "-0.01918464685061194\n",
      "-0.01918464685061194\n",
      "-0.01918464685061194\n",
      "-0.01918464685061194\n",
      "-0.01918464685061194\n",
      "-0.01918464685061194\n",
      "-0.01918464685061194\n",
      "-0.01918464685061194\n",
      "-0.01918464685061194\n",
      "-0.006147078878442458\n",
      "-0.006147078878442458\n",
      "-0.006147078878442458\n",
      "-0.006147078878442458\n",
      "-0.006147078878442458\n",
      "-0.006147078878442458\n",
      "-0.006147078878442458\n",
      "-0.006147078878442458\n",
      "-0.006147078878442458\n",
      "-0.006147078878442458\n",
      "-0.006147078878442458\n",
      "-0.006147078878442458\n"
     ]
    }
   ],
   "source": [
    "for i in range(0,len(b)):\n",
    "    if b[i] == 1:\n",
    "        print(s[i])"
   ]
  }
 ],
 "metadata": {
  "kernelspec": {
   "display_name": "random-isolation-similarity-forest-cNwLr4nm-py3.10",
   "language": "python",
   "name": "python3"
  },
  "language_info": {
   "codemirror_mode": {
    "name": "ipython",
    "version": 3
   },
   "file_extension": ".py",
   "mimetype": "text/x-python",
   "name": "python",
   "nbconvert_exporter": "python",
   "pygments_lexer": "ipython3",
   "version": "3.10.11"
  },
  "orig_nbformat": 4
 },
 "nbformat": 4,
 "nbformat_minor": 2
}
