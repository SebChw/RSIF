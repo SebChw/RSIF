{
 "cells": [
  {
   "cell_type": "markdown",
   "metadata": {},
   "source": [
    "# Visualizations"
   ]
  },
  {
   "cell_type": "code",
   "execution_count": 6,
   "metadata": {},
   "outputs": [],
   "source": [
    "import numpy as np\n",
    "import pandas as pd\n",
    "import dataframe_image as dfi"
   ]
  },
  {
   "cell_type": "code",
   "execution_count": 7,
   "metadata": {},
   "outputs": [
    {
     "data": {
      "text/html": [
       "<div>\n",
       "<style scoped>\n",
       "    .dataframe tbody tr th:only-of-type {\n",
       "        vertical-align: middle;\n",
       "    }\n",
       "\n",
       "    .dataframe tbody tr th {\n",
       "        vertical-align: top;\n",
       "    }\n",
       "\n",
       "    .dataframe thead th {\n",
       "        text-align: right;\n",
       "    }\n",
       "</style>\n",
       "<table border=\"1\" class=\"dataframe\">\n",
       "  <thead>\n",
       "    <tr style=\"text-align: right;\">\n",
       "      <th></th>\n",
       "      <th>ECOD</th>\n",
       "      <th>LOF</th>\n",
       "      <th>IForest</th>\n",
       "      <th>HBOS</th>\n",
       "      <th>RISF</th>\n",
       "    </tr>\n",
       "  </thead>\n",
       "  <tbody>\n",
       "    <tr>\n",
       "      <th>01_ALOI.npz</th>\n",
       "      <td>(0.4992, 0.03, 0.0985, 0.5021, 0.03, 0.0985, 0...</td>\n",
       "      <td>(0.6169, 0.0995, 0.3267, 0.6005, 0.0995, 0.326...</td>\n",
       "      <td>(0.5119, 0.0375, 0.1231, 0.5092, 0.0375, 0.123...</td>\n",
       "      <td>(0.5119, 0.0375, 0.1231, 0.5153, 0.0375, 0.123...</td>\n",
       "      <td>(0.502, 0.0411, 0.0152, 0.5014, 0.0411, 0.0152...</td>\n",
       "    </tr>\n",
       "    <tr>\n",
       "      <th>02_annthyroid.npz</th>\n",
       "      <td>(0.6467, 0.2758, 0.3717, 0.6106, 0.2758, 0.371...</td>\n",
       "      <td>(0.6279, 0.25, 0.3369, 0.6441, 0.25, 0.3369, 0...</td>\n",
       "      <td>(0.6482, 0.2778, 0.3743, 0.6131, 0.2778, 0.374...</td>\n",
       "      <td>(0.6323, 0.256, 0.3449, 0.5929, 0.256, 0.3449,...</td>\n",
       "      <td>(0.6424, 0.3232, 0.3422, 0.6002, 0.3232, 0.342...</td>\n",
       "    </tr>\n",
       "    <tr>\n",
       "      <th>03_backdoor.npz</th>\n",
       "      <td>(0.5, 0.0, 0.0, 0.5, 0.0, 0.0, 2.453, 2.453)</td>\n",
       "      <td>(0.6915, 0.1157, 0.4736, 0.6812, 0.1157, 0.473...</td>\n",
       "      <td>(0.5638, 0.0548, 0.2245, 0.5627, 0.0548, 0.224...</td>\n",
       "      <td>(0.5824, 0.0637, 0.2607, 0.5759, 0.0637, 0.260...</td>\n",
       "      <td>(0.4933, 0.0187, 0.0423, 0.4945, 0.0187, 0.042...</td>\n",
       "    </tr>\n",
       "    <tr>\n",
       "      <th>04_breastw.npz</th>\n",
       "      <td>(0.6407, 1.0, 0.2814, 0.6458, 1.0, 0.2814, 0.0...</td>\n",
       "      <td>(0.4504, 0.125, 0.0359, 0.4616, 0.125, 0.0359,...</td>\n",
       "      <td>(0.6391, 0.9792, 0.2814, 0.6111, 0.9792, 0.281...</td>\n",
       "      <td>(0.6299, 0.9375, 0.2695, 0.6944, 0.9375, 0.269...</td>\n",
       "      <td>(0.9554, 0.9349, 0.9461, 0.9112, 0.9349, 0.946...</td>\n",
       "    </tr>\n",
       "    <tr>\n",
       "      <th>05_campaign.npz</th>\n",
       "      <td>(0.6529, 0.4183, 0.3713, 0.6506, 0.4183, 0.371...</td>\n",
       "      <td>(0.4849, 0.0826, 0.0733, 0.4767, 0.0826, 0.073...</td>\n",
       "      <td>(0.6107, 0.334, 0.2965, 0.604, 0.334, 0.2965, ...</td>\n",
       "      <td>(0.6577, 0.428, 0.3799, 0.6451, 0.428, 0.3799,...</td>\n",
       "      <td>(0.6879, 0.2151, 0.7004, 0.6867, 0.2151, 0.700...</td>\n",
       "    </tr>\n",
       "  </tbody>\n",
       "</table>\n",
       "</div>"
      ],
      "text/plain": [
       "                                                                ECOD  \\\n",
       "01_ALOI.npz        (0.4992, 0.03, 0.0985, 0.5021, 0.03, 0.0985, 0...   \n",
       "02_annthyroid.npz  (0.6467, 0.2758, 0.3717, 0.6106, 0.2758, 0.371...   \n",
       "03_backdoor.npz         (0.5, 0.0, 0.0, 0.5, 0.0, 0.0, 2.453, 2.453)   \n",
       "04_breastw.npz     (0.6407, 1.0, 0.2814, 0.6458, 1.0, 0.2814, 0.0...   \n",
       "05_campaign.npz    (0.6529, 0.4183, 0.3713, 0.6506, 0.4183, 0.371...   \n",
       "\n",
       "                                                                 LOF  \\\n",
       "01_ALOI.npz        (0.6169, 0.0995, 0.3267, 0.6005, 0.0995, 0.326...   \n",
       "02_annthyroid.npz  (0.6279, 0.25, 0.3369, 0.6441, 0.25, 0.3369, 0...   \n",
       "03_backdoor.npz    (0.6915, 0.1157, 0.4736, 0.6812, 0.1157, 0.473...   \n",
       "04_breastw.npz     (0.4504, 0.125, 0.0359, 0.4616, 0.125, 0.0359,...   \n",
       "05_campaign.npz    (0.4849, 0.0826, 0.0733, 0.4767, 0.0826, 0.073...   \n",
       "\n",
       "                                                             IForest  \\\n",
       "01_ALOI.npz        (0.5119, 0.0375, 0.1231, 0.5092, 0.0375, 0.123...   \n",
       "02_annthyroid.npz  (0.6482, 0.2778, 0.3743, 0.6131, 0.2778, 0.374...   \n",
       "03_backdoor.npz    (0.5638, 0.0548, 0.2245, 0.5627, 0.0548, 0.224...   \n",
       "04_breastw.npz     (0.6391, 0.9792, 0.2814, 0.6111, 0.9792, 0.281...   \n",
       "05_campaign.npz    (0.6107, 0.334, 0.2965, 0.604, 0.334, 0.2965, ...   \n",
       "\n",
       "                                                                HBOS  \\\n",
       "01_ALOI.npz        (0.5119, 0.0375, 0.1231, 0.5153, 0.0375, 0.123...   \n",
       "02_annthyroid.npz  (0.6323, 0.256, 0.3449, 0.5929, 0.256, 0.3449,...   \n",
       "03_backdoor.npz    (0.5824, 0.0637, 0.2607, 0.5759, 0.0637, 0.260...   \n",
       "04_breastw.npz     (0.6299, 0.9375, 0.2695, 0.6944, 0.9375, 0.269...   \n",
       "05_campaign.npz    (0.6577, 0.428, 0.3799, 0.6451, 0.428, 0.3799,...   \n",
       "\n",
       "                                                                RISF  \n",
       "01_ALOI.npz        (0.502, 0.0411, 0.0152, 0.5014, 0.0411, 0.0152...  \n",
       "02_annthyroid.npz  (0.6424, 0.3232, 0.3422, 0.6002, 0.3232, 0.342...  \n",
       "03_backdoor.npz    (0.4933, 0.0187, 0.0423, 0.4945, 0.0187, 0.042...  \n",
       "04_breastw.npz     (0.9554, 0.9349, 0.9461, 0.9112, 0.9349, 0.946...  \n",
       "05_campaign.npz    (0.6879, 0.2151, 0.7004, 0.6867, 0.2151, 0.700...  "
      ]
     },
     "execution_count": 7,
     "metadata": {},
     "output_type": "execute_result"
    }
   ],
   "source": [
    "df = pd.read_pickle('../results/numerical_final.pkl')\n",
    "df.head()"
   ]
  },
  {
   "cell_type": "code",
   "execution_count": 8,
   "metadata": {},
   "outputs": [],
   "source": [
    "clfs_names = ['ECOD', 'LOF', 'IForest', 'HBOS', 'RISF']"
   ]
  },
  {
   "cell_type": "code",
   "execution_count": 16,
   "metadata": {},
   "outputs": [],
   "source": [
    "multiTable = df.copy()\n",
    "\n",
    "for name in clfs_names:\n",
    "    multiTable[[(name, 'TrainROC'), \n",
    "        (name, 'TrainPrecision'),\n",
    "        (name, 'TrainRecall'), \n",
    "        (name, 'TestROC'), \n",
    "        (name, 'TestPrecision'),\n",
    "        (name, 'TestRecall'), \n",
    "        (name, 'TrainTime [s]'),\n",
    "        (name, 'PredictTime [s]')]\n",
    "        ] = pd.DataFrame(multiTable[name].to_list(), index=multiTable.index)\n",
    "\n",
    "multiTable= multiTable.drop(clfs_names, axis=1)\n",
    "multiTable.columns = pd.MultiIndex.from_tuples(multiTable.columns)\n",
    "multiTable = multiTable.style.set_caption('All performed experiments').set_table_styles([{\n",
    "    'selector': 'caption',\n",
    "    'props': [\n",
    "        ('font-size', '16px'),\n",
    "        ('font-weight', 'bold')\n",
    "    ]\n",
    "}])\n"
   ]
  },
  {
   "cell_type": "code",
   "execution_count": 20,
   "metadata": {},
   "outputs": [],
   "source": [
    "labels = [\n",
    "    \"train_roc\",\n",
    "    \"train_precision\",\n",
    "    \"train_recall\",\n",
    "    \"test_roc\",\n",
    "    \"test_precision\",\n",
    "    \"test_recall\",\n",
    "    \"train_times\",\n",
    "    \"test_times\",\n",
    "]\n",
    "partial_results = {}"
   ]
  },
  {
   "cell_type": "code",
   "execution_count": 21,
   "metadata": {},
   "outputs": [],
   "source": [
    "for i, label in enumerate(labels):\n",
    "    tmp = df.apply(lambda x: x.str[i])\n",
    "    tmp = tmp.style.highlight_max(color = 'green', axis = 1).set_caption('AUC/ROC training set').set_table_styles([{\n",
    "        'selector': 'caption',\n",
    "        'props': [\n",
    "            ('font-size', '16px'),\n",
    "            ('font-weight', 'bold')\n",
    "        ]\n",
    "    }])\n",
    "    partial_results[label] = tmp"
   ]
  },
  {
   "cell_type": "code",
   "execution_count": 22,
   "metadata": {},
   "outputs": [],
   "source": [
    "for label, data in partial_results.items():\n",
    "    dfi.export(data, f'../results/figures/{label}.png')"
   ]
  }
 ],
 "metadata": {
  "kernelspec": {
   "display_name": "Python 3.9.0 ('.venv': poetry)",
   "language": "python",
   "name": "python3"
  },
  "language_info": {
   "codemirror_mode": {
    "name": "ipython",
    "version": 3
   },
   "file_extension": ".py",
   "mimetype": "text/x-python",
   "name": "python",
   "nbconvert_exporter": "python",
   "pygments_lexer": "ipython3",
   "version": "3.9.0"
  },
  "orig_nbformat": 4,
  "vscode": {
   "interpreter": {
    "hash": "2b56e3c97de72a7673ee0fcfb94642a98e5ba521673e7fa53275c57ef5fa8664"
   }
  }
 },
 "nbformat": 4,
 "nbformat_minor": 2
}
