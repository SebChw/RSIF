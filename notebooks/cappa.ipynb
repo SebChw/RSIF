{
 "cells": [
  {
   "cell_type": "code",
   "execution_count": 6,
   "metadata": {
    "ExecuteTime": {
     "end_time": "2024-02-01T20:29:58.996942Z",
     "start_time": "2024-02-01T20:29:58.988643Z"
    }
   },
   "outputs": [],
   "source": [
    "from sklearn.metrics import cohen_kappa_score\n",
    "from pathlib import Path\n",
    "import pandas as pd\n",
    "from collections import defaultdict"
   ]
  },
  {
   "cell_type": "code",
   "execution_count": 7,
   "metadata": {
    "ExecuteTime": {
     "end_time": "2024-02-01T20:29:59.749176Z",
     "start_time": "2024-02-01T20:29:59.736470Z"
    }
   },
   "outputs": [],
   "source": [
    "scores_dir = Path(\"../scores\")\n",
    "\n",
    "#RSIF, ISF -  the bigger the score the bigger the anomaly. This is because score is multiplied by -1 before given to the AUC. \n",
    "\n",
    "# For the rest is the same as all are from the pyod library quote, The anomaly score of an input sample is computed based on the fitted detector. For consistency, outliers are assigned with higher anomaly scores.\n",
    "\n",
    "#This is opposite to the common sklearn convention where the outlier/anomaly score lower than threshold is considered as abnormal."
   ]
  },
  {
   "cell_type": "code",
   "execution_count": 9,
   "metadata": {
    "ExecuteTime": {
     "end_time": "2024-02-01T20:31:20.641764Z",
     "start_time": "2024-02-01T20:31:11.080170Z"
    }
   },
   "outputs": [],
   "source": [
    "def my_kappa(a1, a2):\n",
    "    denominator = a1.shape[0]\n",
    "    aggrements = (a1 == a2).sum()\n",
    "    p_0 = aggrements / denominator\n",
    "\n",
    "    p_e = 0\n",
    "    for c in a1.unique():\n",
    "        p_e += (a1 == c).sum() * (a2 == c).sum()\n",
    "    p_e /= (denominator**2)\n",
    "\n",
    "    return (p_0 - p_e) / (1 - p_e)\n",
    "\n",
    "    \n",
    "\n",
    "kappas = defaultdict(list)\n",
    "my_kappas = defaultdict(list)\n",
    "for score_path in scores_dir.iterdir():\n",
    "    dataset = score_path.stem[:-2]\n",
    "    scores = pd.read_csv(score_path)\n",
    "\n",
    "    n_outliers = max(10, int(scores.shape[0] * 0.2))\n",
    "    assignment = scores.rank(axis=0, ascending=False) <= n_outliers\n",
    "    for i, a1 in enumerate(scores.columns):\n",
    "        for a2 in scores.columns[i+1:]:\n",
    "            my_kappas[(a1,a2)].append(my_kappa(assignment[a1], assignment[a2]))\n",
    "            "
   ]
  },
  {
   "cell_type": "code",
   "execution_count": 90,
   "metadata": {},
   "outputs": [],
   "source": [
    "# def get_norm_scores(raw_scores):\n",
    "#     raw_min = raw_scores.min()\n",
    "#     raw_max = raw_scores.max()\n",
    "#     return (raw_scores - raw_min) / (raw_max - raw_min)\n",
    "\n",
    "# icss = defaultdict(list)\n",
    "# for score_path in scores_dir.iterdir():\n",
    "#     dataset = score_path.stem\n",
    "#     scores = pd.read_csv(score_path)\n",
    "#     samples_id = np.char.add(scores.index.to_numpy().astype('U10'), f\"_{dataset}\").tolist()\n",
    "#     for i, a1 in enumerate(scores.columns):\n",
    "#         for a2 in scores.columns[i+1:]:\n",
    "#             df = {\n",
    "#                 \"sample\": [],\n",
    "#                 \"algorithm\": [],\n",
    "#                 \"score\": [],\n",
    "#             }\n",
    "#             df[\"sample\"].extend(samples_id * 2)\n",
    "#             df[\"algorithm\"].extend([a1] * len(samples_id) + [a2] * len(samples_id))\n",
    "#             df[\"score\"].extend(get_norm_scores(scores[a1]).to_numpy().tolist())\n",
    "#             df[\"score\"].extend(get_norm_scores(scores[a2]).to_numpy().tolist())\n",
    "#             df = pd.DataFrame(df)\n",
    "#             icss[(a1,a2)].append(pg.intraclass_corr(data=df, targets='sample', raters='algorithm', ratings='score').iloc[2].ICC)"
   ]
  },
  {
   "cell_type": "code",
   "execution_count": 3,
   "metadata": {
    "ExecuteTime": {
     "end_time": "2024-02-01T20:29:27.900303Z",
     "start_time": "2024-02-01T20:29:27.881280Z"
    }
   },
   "outputs": [],
   "source": [
    "import pickle\n",
    "with open(\"icss.pkl\", \"rb\") as f:\n",
    "    icss = pickle.load(f)"
   ]
  },
  {
   "cell_type": "code",
   "execution_count": 10,
   "metadata": {
    "ExecuteTime": {
     "end_time": "2024-02-01T20:31:26.911268Z",
     "start_time": "2024-02-01T20:31:26.904904Z"
    }
   },
   "outputs": [],
   "source": [
    "import numpy as np\n",
    "df = {\"alga\": [], \"algb\": [], \"iccs\": []}\n",
    "for k, v in my_kappas.items():\n",
    "    #print(k, f\" mean: {np.mean(v)}, std: {np.std(v)}\")\n",
    "    m = np.mean(v)\n",
    "    df[\"alga\"].append(k[0])\n",
    "    df[\"algb\"].append(k[1])\n",
    "    df[\"alga\"].append(k[1])\n",
    "    df[\"algb\"].append(k[0])\n",
    "    df[\"iccs\"].append(m)\n",
    "    df[\"iccs\"].append(m)\n"
   ]
  },
  {
   "cell_type": "code",
   "execution_count": 34,
   "metadata": {
    "ExecuteTime": {
     "end_time": "2024-02-01T20:40:38.093747Z",
     "start_time": "2024-02-01T20:40:38.080885Z"
    }
   },
   "outputs": [
    {
     "data": {
      "text/html": [
       "<div>\n",
       "<style scoped>\n",
       "    .dataframe tbody tr th:only-of-type {\n",
       "        vertical-align: middle;\n",
       "    }\n",
       "\n",
       "    .dataframe tbody tr th {\n",
       "        vertical-align: top;\n",
       "    }\n",
       "\n",
       "    .dataframe thead th {\n",
       "        text-align: right;\n",
       "    }\n",
       "</style>\n",
       "<table border=\"1\" class=\"dataframe\">\n",
       "  <thead>\n",
       "    <tr style=\"text-align: right;\">\n",
       "      <th>algb</th>\n",
       "      <th>ECOD</th>\n",
       "      <th>HBOS</th>\n",
       "      <th>IForest</th>\n",
       "      <th>ISF</th>\n",
       "      <th>LOF</th>\n",
       "      <th>RSIF</th>\n",
       "    </tr>\n",
       "    <tr>\n",
       "      <th>alga</th>\n",
       "      <th></th>\n",
       "      <th></th>\n",
       "      <th></th>\n",
       "      <th></th>\n",
       "      <th></th>\n",
       "      <th></th>\n",
       "    </tr>\n",
       "  </thead>\n",
       "  <tbody>\n",
       "    <tr>\n",
       "      <th>ECOD</th>\n",
       "      <td>1.000000</td>\n",
       "      <td>0.744758</td>\n",
       "      <td>0.715985</td>\n",
       "      <td>0.459104</td>\n",
       "      <td>0.352882</td>\n",
       "      <td>0.567206</td>\n",
       "    </tr>\n",
       "    <tr>\n",
       "      <th>HBOS</th>\n",
       "      <td>0.744758</td>\n",
       "      <td>1.000000</td>\n",
       "      <td>0.679528</td>\n",
       "      <td>0.417764</td>\n",
       "      <td>0.339504</td>\n",
       "      <td>0.527199</td>\n",
       "    </tr>\n",
       "    <tr>\n",
       "      <th>IForest</th>\n",
       "      <td>0.715985</td>\n",
       "      <td>0.679528</td>\n",
       "      <td>1.000000</td>\n",
       "      <td>0.445831</td>\n",
       "      <td>0.378654</td>\n",
       "      <td>0.569092</td>\n",
       "    </tr>\n",
       "    <tr>\n",
       "      <th>ISF</th>\n",
       "      <td>0.459104</td>\n",
       "      <td>0.417764</td>\n",
       "      <td>0.445831</td>\n",
       "      <td>1.000000</td>\n",
       "      <td>0.247029</td>\n",
       "      <td>0.526602</td>\n",
       "    </tr>\n",
       "    <tr>\n",
       "      <th>LOF</th>\n",
       "      <td>0.352882</td>\n",
       "      <td>0.339504</td>\n",
       "      <td>0.378654</td>\n",
       "      <td>0.247029</td>\n",
       "      <td>1.000000</td>\n",
       "      <td>0.314341</td>\n",
       "    </tr>\n",
       "    <tr>\n",
       "      <th>RSIF</th>\n",
       "      <td>0.567206</td>\n",
       "      <td>0.527199</td>\n",
       "      <td>0.569092</td>\n",
       "      <td>0.526602</td>\n",
       "      <td>0.314341</td>\n",
       "      <td>1.000000</td>\n",
       "    </tr>\n",
       "  </tbody>\n",
       "</table>\n",
       "</div>"
      ],
      "text/plain": [
       "algb         ECOD      HBOS   IForest       ISF       LOF      RSIF\n",
       "alga                                                               \n",
       "ECOD     1.000000  0.744758  0.715985  0.459104  0.352882  0.567206\n",
       "HBOS     0.744758  1.000000  0.679528  0.417764  0.339504  0.527199\n",
       "IForest  0.715985  0.679528  1.000000  0.445831  0.378654  0.569092\n",
       "ISF      0.459104  0.417764  0.445831  1.000000  0.247029  0.526602\n",
       "LOF      0.352882  0.339504  0.378654  0.247029  1.000000  0.314341\n",
       "RSIF     0.567206  0.527199  0.569092  0.526602  0.314341  1.000000"
      ]
     },
     "execution_count": 34,
     "metadata": {},
     "output_type": "execute_result"
    }
   ],
   "source": [
    "df"
   ]
  },
  {
   "cell_type": "code",
   "execution_count": 11,
   "metadata": {
    "ExecuteTime": {
     "end_time": "2024-02-01T20:31:30.686392Z",
     "start_time": "2024-02-01T20:31:30.664093Z"
    }
   },
   "outputs": [],
   "source": [
    "df = pd.DataFrame(df)\n",
    "df = df.pivot_table(index=\"alga\", columns=\"algb\", values=\"iccs\")\n",
    "df[df.isna()] = 1"
   ]
  },
  {
   "cell_type": "code",
   "execution_count": 52,
   "metadata": {
    "ExecuteTime": {
     "end_time": "2024-02-01T20:48:24.047807Z",
     "start_time": "2024-02-01T20:48:23.694750Z"
    }
   },
   "outputs": [
    {
     "data": {
      "image/png": "[encoded data removed]",
      "text/plain": [
       "<Figure size 864x576 with 2 Axes>"
      ]
     },
     "metadata": {},
     "output_type": "display_data"
    }
   ],
   "source": [
    "import seaborn as sns\n",
    "import matplotlib.pyplot as plt\n",
    "\n",
    "# Create a mask\n",
    "mask = np.triu(np.ones_like(df, dtype=bool))\n",
    "\n",
    "# Create a custom divergin palette\n",
    "cmap = sns.color_palette(\"YlOrRd\", as_cmap=True)\n",
    "\n",
    "plt.figure(figsize=(12, 8))\n",
    "sns.set(font_scale=2)\n",
    "ax = sns.heatmap(df, mask=mask, annot=True, fmt='.2f', square=True,cmap=cmap, vmin=0, vmax=1)\n",
    "\n",
    "# plt.title(\"Cohen’s Kappa for the different algorithms\", fontsize=16)\n",
    "\n",
    "plt.xlabel(\"\")\n",
    "plt.ylabel(\"\")\n",
    "plt.savefig(\"icc.svg\")\n",
    "plt.show()"
   ]
  },
  {
   "cell_type": "code",
   "execution_count": null,
   "metadata": {},
   "outputs": [],
   "source": []
  }
 ],
 "metadata": {
  "hide_input": false,
  "kernelspec": {
   "display_name": "Python 3",
   "language": "python",
   "name": "python3"
  },
  "language_info": {
   "codemirror_mode": {
    "name": "ipython",
    "version": 3
   },
   "file_extension": ".py",
   "mimetype": "text/x-python",
   "name": "python",
   "nbconvert_exporter": "python",
   "pygments_lexer": "ipython3",
   "version": "3.7.3"
  },
  "toc": {
   "base_numbering": 1,
   "nav_menu": {},
   "number_sections": true,
   "sideBar": true,
   "skip_h1_title": false,
   "title_cell": "Table of Contents",
   "title_sidebar": "Contents",
   "toc_cell": false,
   "toc_position": {},
   "toc_section_display": true,
   "toc_window_display": true
  },
  "varInspector": {
   "cols": {
    "lenName": 16,
    "lenType": 16,
    "lenVar": 40
   },
   "kernels_config": {
    "python": {
     "delete_cmd_postfix": "",
     "delete_cmd_prefix": "del ",
     "library": "var_list.py",
     "varRefreshCmd": "print(var_dic_list())"
    },
    "r": {
     "delete_cmd_postfix": ") ",
     "delete_cmd_prefix": "rm(",
     "library": "var_list.r",
     "varRefreshCmd": "cat(var_dic_list()) "
    }
   },
   "types_to_exclude": [
    "module",
    "function",
    "builtin_function_or_method",
    "instance",
    "_Feature"
   ],
   "window_display": false
  }
 },
 "nbformat": 4,
 "nbformat_minor": 2
}
