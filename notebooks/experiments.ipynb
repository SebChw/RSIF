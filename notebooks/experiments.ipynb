{
   "cells": [
      {
         "cell_type": "code",
         "execution_count": 5,
         "metadata": {},
         "outputs": [
            {
               "name": "stdout",
               "output_type": "stream",
               "text": [
                  "The autoreload extension is already loaded. To reload it, use:\n",
                  "  %reload_ext autoreload\n"
               ]
            }
         ],
         "source": [
            "import sys\n",
            "sys.path.insert(0, '..')\n",
            "sys.path.insert(0, '../data')\n",
            "\n",
            "\n",
            "from utils import (init_results, \n",
            "                            get_dataset,\n",
            "                            perform_experiment_simple,\n",
            "                            SEED,\n",
            "                            PRECOMPUTED_DISTANCES_PATH,\n",
            "                            experiment_risf_complex,\n",
            "                            experiment_risf_mixed)\n",
            "\n",
            "import numpy as np\n",
            "from netrd.distance import PortraitDivergence, DegreeDivergence, NetLSD\n",
            "from risf.distance_functions import (GraphDist, manhattan_projection, cosine_projection,\n",
            "                                    euclidean_projection, DTWDist, EuclideanDist, WassersteinDist, CosineDist, Goodall3Dist, OFDist, BagOfWord_projection, BagOfWordDist, NumericalReprDist, NumericalReprDist,\n",
            "                                    EditDistanceSequencesOfSets, ManhattanDist, ChebyshevDist, dummy_projection, LinDist, chebyshev_projection)\n",
            "from risf.distance import SelectiveDistance\n",
            "from pathlib import Path\n",
            "import pandas as pd\n",
            "\n",
            "%load_ext autoreload\n",
            "%autoreload 2\n",
            "\n",
            "np.random.seed(SEED)"
         ]
      },
      {
         "cell_type": "code",
         "execution_count": 6,
         "metadata": {},
         "outputs": [],
         "source": [
            "PRECOMPUTED_DISTANCES_PATH.mkdir(exist_ok=True)\n",
            "\n",
            "DATASETS = {\n",
            "    \"graph\":  [\"NCI1\", \"AIDS\", \"ENZYMES\", \"PROTEINS_full\", \"DD\"],\n",
            "    \"numerical\": [ \"14_glass\", \"20_letter\", \"25_musk\", \"2_annthyroid\", \"31_satimage-2\", \"38_thyroid\", \"40_vowels\", \"41_Waveform\",\n",
            "    \"42_WBC\" ,\"43_WDBC\", \"44_Wilt\",],\n",
            "    \"binary\":  [\"AID362red_train_allpossiblenominal\", \"apascal_entire_trainvsall\", \"Reuters-corn-100\"],\n",
            "    \"nominal\" : [\"cmc-nominal\", \"solar-flare_FvsAll-cleaned\"],\n",
            "    \"timeseries\": [\"Earthquakes\", \"ECGFiveDays\", \"MiddlePhalanxOutlineCorrect\", \"SonyAIBORobotSurface1\",],\n",
            "    \"nlp\" : [\"amazon\", \"imdb\", \"yelp\"],\n",
            "    \"cv\": [\"CIFAR10_0\", \"FashionMNIST_0\", \"SVHN_0\"],\n",
            "    \"multiomics\": [\"breast\", \"ovarian\", \"rosmap\"],\n",
            "    \"seq_of_sets\": [\"items\", \"length\", \"order\"]\n",
            "\n",
            "}\n",
            "\n",
            "DATA_DIRS = {\n",
            "    \"graph\": Path(\"../data/graph\"),\n",
            "    \"numerical\" : Path(\"../data/numerical\"),\n",
            "    \"binary\" : Path(\"../data/categorical\"),\n",
            "    \"nominal\" : Path(\"../data/categorical\"),\n",
            "    \"timeseries\": Path(\"../data/timeseries\"),\n",
            "    \"nlp\": Path(\"../data/adBench/NLP_by_RoBERTa/\"),\n",
            "    \"cv\": Path(\"../data/adBench/CV_by_ResNet18/\"),\n",
            "    \"multiomics\": Path(\"../data/mixed\"),\n",
            "    \"seq_of_sets\": Path(\"../data/mixed\"),\n",
            "\n",
            "}\n",
            "\n",
            "def get_distances_risf(X, data_type):\n",
            "    if data_type == \"graph\":\n",
            "        return np.array([GraphDist(PortraitDivergence), SelectiveDistance(BagOfWord_projection, 1, 1),\n",
            "                    GraphDist(DegreeDivergence), GraphDist(NetLSD), NumericalReprDist()], dtype=object)\n",
            "    elif data_type == \"numerical\":\n",
            "        return np.array([SelectiveDistance(manhattan_projection, 1, 3), \n",
            "                        SelectiveDistance(euclidean_projection, 1, 3), \n",
            "                        SelectiveDistance(cosine_projection, 2, 3),\n",
            "                        SelectiveDistance(chebyshev_projection, 2, 3)], dtype=object)\n",
            "    elif data_type == \"timeseries\":\n",
            "        return np.array([SelectiveDistance(dummy_projection, 1, 1), SelectiveDistance(chebyshev_projection, 2, 2),\n",
            "                SelectiveDistance(cosine_projection, 2, 2), DTWDist()], dtype=object)\n",
            "    elif data_type in [\"binary\", \"nominal\"]:\n",
            "        return np.array([SelectiveDistance(dummy_projection,1,1), LinDist(X), Goodall3Dist(X), OFDist(X)], dtype=object)\n",
            "    elif data_type in [\"nlp\", \"cv\"]:\n",
            "        return np.array([SelectiveDistance(manhattan_projection, 1, 3),SelectiveDistance(euclidean_projection, 1, 3), \n",
            "                SelectiveDistance(chebyshev_projection, 5, 5), SelectiveDistance(cosine_projection, 2, 2)], dtype=object)\n",
            "    elif data_type == \"histogram\":\n",
            "        return np.array([SelectiveDistance(dummy_projection,1,1), WassersteinDist()], dtype=object)\n",
            "    elif data_type == \"multiomics\":\n",
            "        return np.array([SelectiveDistance(dummy_projection,1,1), CosineDist(), EuclideanDist()], dtype=object)\n",
            "    elif data_type == \"seq_of_sets\":\n",
            "        return np.array([EditDistanceSequencesOfSets(), SelectiveDistance(dummy_projection, 1, 1), ManhattanDist()], dtype=object)\n",
            "    \n",
            "def get_distances_sf(X,data_type):\n",
            "    if data_type == \"graph\":\n",
            "        return np.array([GraphDist(PortraitDivergence), BagOfWordDist(),\n",
            "                    GraphDist(DegreeDivergence), GraphDist(NetLSD), NumericalReprDist()], dtype=object)\n",
            "    elif data_type == \"numerical\":\n",
            "        return np.array([ManhattanDist(), EuclideanDist(), ChebyshevDist(), CosineDist()], dtype=object)\n",
            "    elif data_type in [\"binary\", \"nominal\"]:\n",
            "        return np.array([LinDist(X), Goodall3Dist(X), OFDist(X)], dtype=object)\n",
            "    elif data_type in [\"nlp\", \"cv\"]:\n",
            "        return np.array([ManhattanDist(), EuclideanDist(), ChebyshevDist(), CosineDist()], dtype=object)\n",
            "    elif data_type == \"timeseries\":\n",
            "        return np.array([CosineDist(), ChebyshevDist(), ManhattanDist() , DTWDist(), EuclideanDist()], dtype=object)\n",
            "    elif data_type == \"histogram\":\n",
            "        return np.array([WassersteinDist()], dtype=object)\n",
            "    elif data_type == \"seq_of_sets\":\n",
            "        return np.array([ManhattanDist(), CosineDist(), EditDistanceSequencesOfSets()], dtype=object)\n",
            "    elif data_type == \"multiomics\":\n",
            "        return np.array([CosineDist(), EuclideanDist()], dtype=object)\n"
         ]
      },
      {
         "cell_type": "code",
         "execution_count": 7,
         "metadata": {},
         "outputs": [
            {
               "name": "stdout",
               "output_type": "stream",
               "text": [
                  "seq_of_sets\n",
                  "RISF\n"
               ]
            }
         ],
         "source": [
            "classifiers =  [\"RISF\", \"ISF\", \"LOF\", \"IForest\", \"ECOD\", \"HBOS\"]\n",
            "SELECTED_OBJ_RATIO = 0.5\n",
            "EXP_DIR = Path(\"../results/experiments/\")\n",
            "EXP_DIR.mkdir(parents=True, exist_ok=True)\n",
            "\n",
            "for data_type in DATASETS.keys():\n",
            "    print(data_type)\n",
            "    results_all = []\n",
            "    for clf in classifiers:\n",
            "        print(clf)\n",
            "        for dataset_name in DATASETS[data_type]:\n",
            "            clf_kwargs = {} if clf != \"RISF\" else {}\n",
            "\n",
            "            data = get_dataset(data_type, DATA_DIRS[data_type], dataset_name, clf)\n",
            "            data['type'] = data_type\n",
            "            if clf == \"RISF\":\n",
            "                if data_type in [\"numerical\", \"nlp\", \"cv\"]:\n",
            "                    distances = get_distances_risf(data[\"X\"], data_type)\n",
            "                    aucs = perform_experiment_simple(clf, data, clf_kwargs=clf_kwargs, distances = distances, optimize_distances=True)\n",
            "                elif data_type in [\"timeseries\", \"graph\", \"binary\", \"nominal\", \"seq_of_sets\"]:\n",
            "                    distances = get_distances_risf(data[\"X\"], data_type)\n",
            "                    aucs = experiment_risf_complex(clf, data, distances, selected_obj_ratio=SELECTED_OBJ_RATIO, clf_kwargs=clf_kwargs, optimize_distances=True)\n",
            "                else:\n",
            "                    feature_types = data[\"features_types\"]\n",
            "                    distances = []\n",
            "                    for i, feature_type in enumerate(feature_types):\n",
            "                        distances.append(get_distances_risf(data[\"X\"][i], feature_type))\n",
            "                        \n",
            "                    aucs = experiment_risf_mixed(data, distances, selected_obj_ratio=SELECTED_OBJ_RATIO, clf_kwargs=clf_kwargs, optimize_distances=True)\n",
            "                    \n",
            "            elif clf == \"ISF\":\n",
            "                distances = get_distances_sf(data[\"X\"], data_type)\n",
            "                aucs = experiment_risf_complex(clf, data, distances, selected_obj_ratio=1, clf_kwargs=clf_kwargs, optimize_distances=True)\n",
            "\n",
            "            else:\n",
            "                aucs = perform_experiment_simple(clf, data, clf_kwargs=clf_kwargs, optimize_distances=True)\n",
            "\n",
            "            results = init_results(clf, dataset_name, data_type, aucs, clf_kwargs)\n",
            "            results_all.extend(results)\n",
            "                    \n",
            "    pd.DataFrame(results_all).to_csv( EXP_DIR / f\"{data_type}.csv\", index=False)\n"
         ]
      },
      {
         "cell_type": "markdown",
         "metadata": {},
         "source": []
      }
   ],
   "metadata": {
      "hide_input": false,
      "kernelspec": {
         "display_name": "Python 3 (ipykernel)",
         "language": "python",
         "name": "python3"
      },
      "language_info": {
         "codemirror_mode": {
            "name": "ipython",
            "version": 3
         },
         "file_extension": ".py",
         "mimetype": "text/x-python",
         "name": "python",
         "nbconvert_exporter": "python",
         "pygments_lexer": "ipython3",
         "version": "3.9.16"
      },
      "toc": {
         "base_numbering": 1,
         "nav_menu": {},
         "number_sections": true,
         "sideBar": true,
         "skip_h1_title": false,
         "title_cell": "Table of Contents",
         "title_sidebar": "Contents",
         "toc_cell": false,
         "toc_position": {},
         "toc_section_display": true,
         "toc_window_display": true
      },
      "varInspector": {
         "cols": {
            "lenName": 16,
            "lenType": 16,
            "lenVar": 40
         },
         "kernels_config": {
            "python": {
               "delete_cmd_postfix": "",
               "delete_cmd_prefix": "del ",
               "library": "var_list.py",
               "varRefreshCmd": "print(var_dic_list())"
            },
            "r": {
               "delete_cmd_postfix": ") ",
               "delete_cmd_prefix": "rm(",
               "library": "var_list.r",
               "varRefreshCmd": "cat(var_dic_list()) "
            }
         },
         "types_to_exclude": [
            "module",
            "function",
            "builtin_function_or_method",
            "instance",
            "_Feature"
         ],
         "window_display": false
      }
   },
   "nbformat": 4,
   "nbformat_minor": 2
}
