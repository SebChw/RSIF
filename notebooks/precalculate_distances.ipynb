{
 "cells": [
  {
   "cell_type": "code",
   "execution_count": 5,
   "metadata": {},
   "outputs": [
    {
     "name": "stdout",
     "output_type": "stream",
     "text": [
      "The autoreload extension is already loaded. To reload it, use:\n",
      "  %reload_ext autoreload\n"
     ]
    }
   ],
   "source": [
    "import sys\n",
    "sys.path.insert(0, '../data')\n",
    "\n",
    "from risf.distance_functions import DegreeDivergenceDist, JaccardDist\n",
    "from risf.distance import TestDistanceMixin, TrainDistanceMixin\n",
    "from data_getter import get_glocalkd_dataset\n",
    "import numpy as np\n",
    "from pathlib import Path\n",
    "import pickle\n",
    "%load_ext autoreload\n",
    "\n",
    "%autoreload 2"
   ]
  },
  {
   "cell_type": "code",
   "execution_count": 6,
   "metadata": {},
   "outputs": [],
   "source": [
    "DATA_DIR = \"../data/graph\"\n",
    "PRECOMPUTED_DISTANCES_PATH = Path(\"../precomputed_distances\")\n",
    "PRECOMPUTED_DISTANCES_PATH.mkdir(exist_ok=True)\n",
    "\n",
    "dataset_names_SC = [ \"NCI1\", \"PPAR-gamma\"]\n",
    "dataset_names_DB = [\"DD\", \"p53\"]\n",
    "dataset_names_KC = [\"IMDB-BINARY\", \"MMP\",]\n",
    "dataset_names_OS = [\"REDDIT-BINARY\", \"HSE\"]\n",
    "\n",
    "distances = [JaccardDist(), DegreeDivergenceDist()] "
   ]
  },
  {
   "cell_type": "code",
   "execution_count": 26,
   "metadata": {},
   "outputs": [],
   "source": [
    "def precompute_graph_datasets(distances, dataset_name):\n",
    "    for dataset_name in dataset_names_SC:\n",
    "        data = get_glocalkd_dataset(DATA_DIR, dataset_name)\n",
    "        for distance in distances:\n",
    "            X_train = data[\"X_train\"]\n",
    "            train_distance = TrainDistanceMixin(distance)\n",
    "            train_distance.precompute_distances(X_train, n_jobs=-4)\n",
    "            pickle.dump(train_distance, open(PRECOMPUTED_DISTANCES_PATH / f\"{dataset_name}_{distance.__class__.__name__}_train.pickle\", 'wb'))\n",
    "\n",
    "            X_test = data[\"X_test\"]\n",
    "            test_distance = TestDistanceMixin(distance, selected_objects = np.arange(X_train.shape[0]))\n",
    "            test_distance.precompute_distances(X_train, X_test= X_test, n_jobs=-4)\n",
    "            pickle.dump(test_distance, open(PRECOMPUTED_DISTANCES_PATH / f\"{dataset_name}_{distance.__class__.__name__}_test.pickle\", 'wb'))\n",
    "        "
   ]
  },
  {
   "cell_type": "code",
   "execution_count": 7,
   "metadata": {},
   "outputs": [],
   "source": [
    "precompute_graph_datasets(distances, dataset_names_SC)"
   ]
  },
  {
   "cell_type": "code",
   "execution_count": null,
   "metadata": {},
   "outputs": [],
   "source": [
    "precompute_graph_datasets(distances, dataset_names_DB)"
   ]
  },
  {
   "cell_type": "code",
   "execution_count": null,
   "metadata": {},
   "outputs": [],
   "source": [
    "precompute_graph_datasets(distances, dataset_names_KC)"
   ]
  },
  {
   "cell_type": "code",
   "execution_count": null,
   "metadata": {},
   "outputs": [],
   "source": [
    "precompute_graph_datasets(distances, dataset_names_OS)"
   ]
  }
 ],
 "metadata": {
  "kernelspec": {
   "display_name": "random-isolation-similarity-forest-bqxKmFq8-py3.10",
   "language": "python",
   "name": "python3"
  },
  "language_info": {
   "codemirror_mode": {
    "name": "ipython",
    "version": 3
   },
   "file_extension": ".py",
   "mimetype": "text/x-python",
   "name": "python",
   "nbconvert_exporter": "python",
   "pygments_lexer": "ipython3",
   "version": "3.10.6"
  },
  "orig_nbformat": 4
 },
 "nbformat": 4,
 "nbformat_minor": 2
}
