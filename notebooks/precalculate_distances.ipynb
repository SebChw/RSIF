{
 "cells": [
  {
   "cell_type": "code",
   "execution_count": 1,
   "metadata": {
    "ExecuteTime": {
     "end_time": "2023-04-11T16:40:38.438183Z",
     "start_time": "2023-04-11T16:40:36.528395Z"
    }
   },
   "outputs": [],
   "source": [
    "import sys\n",
    "sys.path.insert(0, '../data')\n",
    "\n",
    "from risf.distance_functions import DegreeDivergenceDist, JaccardDist\n",
    "from risf.distance import TestDistanceMixin, TrainDistanceMixin\n",
    "from data_getter import get_glocalkd_dataset\n",
    "import numpy as np\n",
    "from pathlib import Path\n",
    "import pickle\n",
    "%load_ext autoreload\n",
    "\n",
    "%autoreload 2"
   ]
  },
  {
   "cell_type": "code",
   "execution_count": 2,
   "metadata": {
    "ExecuteTime": {
     "end_time": "2023-04-11T16:40:39.169670Z",
     "start_time": "2023-04-11T16:40:39.046406Z"
    }
   },
   "outputs": [],
   "source": [
    "DATA_DIR = \"../data/graph\"\n",
    "PRECOMPUTED_DISTANCES_PATH = Path(\"../precomputed_distances\")\n",
    "PRECOMPUTED_DISTANCES_PATH.mkdir(exist_ok=True)\n",
    "\n",
    "dataset_names_SC = [\"NCI1\", \"PPAR-gamma\"]\n",
    "dataset_names_DB = [\"DD\", \"p53\"]\n",
    "dataset_names_KC = [\"IMDB-BINARY\", \"MMP\",]\n",
    "dataset_names_OS = [\"REDDIT-BINARY\", \"HSE\"]\n",
    "\n",
    "distances = [JaccardDist(), DegreeDivergenceDist()] "
   ]
  },
  {
   "cell_type": "code",
   "execution_count": 6,
   "metadata": {
    "ExecuteTime": {
     "end_time": "2023-04-12T06:34:42.156916Z",
     "start_time": "2023-04-12T06:34:42.028359Z"
    }
   },
   "outputs": [],
   "source": [
    "def precompute_graph_datasets(distances, dataset_list):\n",
    "    for dataset_name in dataset_list:\n",
    "        print(dataset_name)\n",
    "        data = get_glocalkd_dataset(DATA_DIR, dataset_name)\n",
    "        for distance in distances:\n",
    "            X_train = data[\"X_train\"]\n",
    "            train_distance = TrainDistanceMixin(distance)\n",
    "            train_distance.precompute_distances(X_train, n_jobs=-1)\n",
    "            pickle.dump(train_distance, open(PRECOMPUTED_DISTANCES_PATH / f\"{dataset_name}_{distance.__class__.__name__}_train.pickle\", 'wb'))\n",
    "\n",
    "            X_test = data[\"X_test\"]\n",
    "            test_distance = TestDistanceMixin(distance, selected_objects = np.arange(X_train.shape[0]))\n",
    "            test_distance.precompute_distances(X_train, X_test= X_test, n_jobs=-1)\n",
    "            pickle.dump(test_distance, open(PRECOMPUTED_DISTANCES_PATH / f\"{dataset_name}_{distance.__class__.__name__}_test.pickle\", 'wb'))\n",
    "        "
   ]
  },
  {
   "cell_type": "code",
   "execution_count": 7,
   "metadata": {},
   "outputs": [],
   "source": [
    "precompute_graph_datasets(distances, dataset_names_SC)"
   ]
  },
  {
   "cell_type": "code",
   "execution_count": null,
   "metadata": {
    "ExecuteTime": {
     "start_time": "2023-04-12T06:34:45.961Z"
    }
   },
   "outputs": [],
   "source": [
    "precompute_graph_datasets(distances, dataset_names_DB)"
   ]
  },
  {
   "cell_type": "code",
   "execution_count": null,
   "metadata": {},
   "outputs": [],
   "source": [
    "precompute_graph_datasets(distances, dataset_names_KC)"
   ]
  },
  {
   "cell_type": "code",
   "execution_count": null,
   "metadata": {},
   "outputs": [],
   "source": [
    "precompute_graph_datasets(distances, dataset_names_OS)"
   ]
  }
 ],
 "metadata": {
  "hide_input": false,
  "kernelspec": {
   "display_name": "Python 3 (ipykernel)",
   "language": "python",
   "name": "python3"
  },
  "language_info": {
   "codemirror_mode": {
    "name": "ipython",
    "version": 3
   },
   "file_extension": ".py",
   "mimetype": "text/x-python",
   "name": "python",
   "nbconvert_exporter": "python",
   "pygments_lexer": "ipython3",
   "version": "3.10.6"
  },
  "toc": {
   "base_numbering": 1,
   "nav_menu": {},
   "number_sections": true,
   "sideBar": true,
   "skip_h1_title": false,
   "title_cell": "Table of Contents",
   "title_sidebar": "Contents",
   "toc_cell": false,
   "toc_position": {},
   "toc_section_display": true,
   "toc_window_display": true
  },
  "varInspector": {
   "cols": {
    "lenName": 16,
    "lenType": 16,
    "lenVar": 40
   },
   "kernels_config": {
    "python": {
     "delete_cmd_postfix": "",
     "delete_cmd_prefix": "del ",
     "library": "var_list.py",
     "varRefreshCmd": "print(var_dic_list())"
    },
    "r": {
     "delete_cmd_postfix": ") ",
     "delete_cmd_prefix": "rm(",
     "library": "var_list.r",
     "varRefreshCmd": "cat(var_dic_list()) "
    }
   },
   "types_to_exclude": [
    "module",
    "function",
    "builtin_function_or_method",
    "instance",
    "_Feature"
   ],
   "window_display": false
  }
 },
 "nbformat": 4,
 "nbformat_minor": 2
}
