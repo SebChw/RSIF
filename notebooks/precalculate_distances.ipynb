{
   "cells": [
      {
         "cell_type": "code",
         "execution_count": 1,
         "metadata": {
            "ExecuteTime": {
               "end_time": "2023-04-11T16:40:38.438183Z",
               "start_time": "2023-04-11T16:40:36.528395Z"
            }
         },
         "outputs": [],
         "source": [
            "import sys\n",
            "sys.path.insert(0, '../data')\n",
            "\n",
            "from rsif.distance_functions import GraphDist, EuclideanDist, ManhattanDist, BagOfWordDist, NumericalReprDist\n",
            "from rsif.distance import TestDistanceMixin, TrainDistanceMixin\n",
            "from data_getter import get_glocalkd_dataset\n",
            "import numpy as np\n",
            "from pathlib import Path\n",
            "import pickle\n",
            "from netrd.distance import NetSimile, PortraitDivergence, DegreeDivergence, IpsenMikhailov,  JaccardDistance, NetLSD\n",
            "%load_ext autoreload\n",
            "\n",
            "%autoreload 2"
         ]
      },
      {
         "cell_type": "code",
         "execution_count": 2,
         "metadata": {
            "ExecuteTime": {
               "end_time": "2023-04-11T16:40:39.169670Z",
               "start_time": "2023-04-11T16:40:39.046406Z"
            }
         },
         "outputs": [],
         "source": [
            "DATA_DIR = \"../data/graph\"\n",
            "PRECOMPUTED_DISTANCES_PATH = Path(\"../precomputed_distances\")\n",
            "PRECOMPUTED_DISTANCES_PATH.mkdir(exist_ok=True)"
         ]
      },
      {
         "cell_type": "code",
         "execution_count": 3,
         "metadata": {
            "ExecuteTime": {
               "end_time": "2023-04-12T06:34:42.156916Z",
               "start_time": "2023-04-12T06:34:42.028359Z"
            }
         },
         "outputs": [],
         "source": [
            "def precompute_graph_datasets(distances, dataset_list):\n",
            "    for dataset_name in dataset_list:\n",
            "        print(dataset_name)\n",
            "        data = get_glocalkd_dataset(DATA_DIR, dataset_name)\n",
            "        for distance in distances:\n",
            "            print(distance.__name__)\n",
            "            graph_distance = GraphDist(distance)\n",
            "            X = data[\"X_graph\"]\n",
            "            entire_distance = TrainDistanceMixin(graph_distance)\n",
            "            entire_distance.precompute_distances(X, n_jobs=-3)\n",
            "            pickle.dump(entire_distance, open(PRECOMPUTED_DISTANCES_PATH / f\"{dataset_name}_{distance.__name__}_0.pickle\", 'wb'))\n",
            "\n",
            "\n",
            "        (PRECOMPUTED_DISTANCES_PATH / f\"{dataset_name}_{EuclideanDist.__name__}_0.pickle\").unlink()\n",
            "        (PRECOMPUTED_DISTANCES_PATH / f\"{dataset_name}_{ManhattanDist.__name__}_0.pickle\").unlink()\n",
            "\n",
            "        entire_distance = TrainDistanceMixin(NumericalReprDist())\n",
            "        entire_distance.precompute_distances(data[\"X_num\"], n_jobs=-3)\n",
            "        pickle.dump(entire_distance, open(PRECOMPUTED_DISTANCES_PATH / f\"{dataset_name}_{NumericalReprDist.__name__}_0.pickle\", 'wb'))\n",
            "\n",
            "        entire_distance = TrainDistanceMixin(BagOfWordDist())\n",
            "        entire_distance.precompute_distances(data[\"X\"], n_jobs=-3)\n",
            "        pickle.dump(entire_distance, open(PRECOMPUTED_DISTANCES_PATH / f\"{dataset_name}_{BagOfWordDist.__name__}_0.pickle\", 'wb'))\n",
            "        "
         ]
      },
      {
         "cell_type": "code",
         "execution_count": null,
         "metadata": {},
         "outputs": [],
         "source": [
            "#! This cell make take particularly long time but it's just for sensitivity analysis\n",
            "precompute_graph_datasets([\"COX2\", \"BZR\", \"DHFR\"], [NetSimile, PortraitDivergence, DegreeDivergence, IpsenMikhailov,  JaccardDistance, NetLSD])"
         ]
      },
      {
         "cell_type": "code",
         "execution_count": 9,
         "metadata": {},
         "outputs": [
            {
               "name": "stdout",
               "output_type": "stream",
               "text": [
                  "BZR\n",
                  "DD\n",
                  "COX2\n",
                  "DHFR\n",
                  "ENZYMES\n",
                  "NCI1\n",
                  "PROTEINS_full\n"
               ]
            }
         ],
         "source": [
            "#For experiments\n",
            "precompute_graph_datasets([\"NCI1\", \"AIDS\", \"ENZYMES\", \"PROTEINS_full\", \"DD\"], [PortraitDivergence, DegreeDivergence, NetLSD]) "
         ]
      },
      {
         "cell_type": "markdown",
         "metadata": {},
         "source": [
            "Categorical data"
         ]
      },
      {
         "cell_type": "code",
         "execution_count": 4,
         "metadata": {},
         "outputs": [],
         "source": [
            "from data_getter import get_categorical_dataset\n",
            "from pathlib import Path\n",
            "import Categorical_similarity_measures as csm\n",
            "from rsif.distance_functions import LinDist, Goodall3Dist, OFDist "
         ]
      },
      {
         "cell_type": "code",
         "execution_count": 5,
         "metadata": {},
         "outputs": [],
         "source": [
            "def precalculate_for_categorical(datasets_name, distances):\n",
            "    for dataset in datasets_name:\n",
            "        print(dataset)\n",
            "        data = get_categorical_dataset(Path(f\"../data/categorical/{dataset}.csv\"), clf=\"RSIF\")[\"X_cat\"]\n",
            "        for dist_class in distances:\n",
            "            print(dist_class.__name__)\n",
            "            dist = dist_class(data)\n",
            "        \n",
            "            entire_distance = TrainDistanceMixin(dist)\n",
            "            entire_distance.precompute_distances(data, n_jobs=-3)\n",
            "            pickle.dump(entire_distance, open(PRECOMPUTED_DISTANCES_PATH / f\"{dataset}_{dist_class.__name__}_0.pickle\", 'wb'))"
         ]
      },
      {
         "cell_type": "code",
         "execution_count": 5,
         "metadata": {},
         "outputs": [
            {
               "name": "stdout",
               "output_type": "stream",
               "text": [
                  "AID362red_train_allpossiblenominal\n",
                  "OFDist\n",
                  "apascal_entire_trainvsall\n",
                  "OFDist\n",
                  "cmc-nominal\n",
                  "OFDist\n",
                  "Reuters-corn-100\n",
                  "OFDist\n",
                  "solar-flare_FvsAll-cleaned\n",
                  "OFDist\n"
               ]
            }
         ],
         "source": [
            "precalculate_for_categorical([\"ad_nominal\", \"AID362red_train_allpossiblenominal\", \"apascal_entire_trainvsall\", \"cmc-nominal\", \"Reuters-corn-100\", \"solar-flare_FvsAll-cleaned\"], [LinDist, Goodall3Dist, OFDist])"
         ]
      },
      {
         "cell_type": "code",
         "execution_count": 18,
         "metadata": {},
         "outputs": [
            {
               "name": "stdout",
               "output_type": "stream",
               "text": [
                  "items\n",
                  "length\n",
                  "order\n"
               ]
            }
         ],
         "source": [
            "from data_getter import get_sets_data\n",
            "def precalculate_for_sets(datasets_name):\n",
            "    for dataset in datasets_name:\n",
            "        print(dataset)\n",
            "        data = get_sets_data(Path(f\"../data/mixed\"), dataset, for_rsif = True)\n",
            "        entire_distance = TrainDistanceMixin(ManhattanDist())\n",
            "        entire_distance.precompute_distances(data[\"X\"][2], n_jobs=-3) #2nd element of tuple is a array of sets lengths\n",
            "        print(entire_distance.distance_matrix)\n",
            "precalculate_for_sets([\"items\", \"length\", \"order\"])"
         ]
      }
   ],
   "metadata": {
      "hide_input": false,
      "kernelspec": {
         "display_name": "Python 3 (ipykernel)",
         "language": "python",
         "name": "python3"
      },
      "language_info": {
         "codemirror_mode": {
            "name": "ipython",
            "version": 3
         },
         "file_extension": ".py",
         "mimetype": "text/x-python",
         "name": "python",
         "nbconvert_exporter": "python",
         "pygments_lexer": "ipython3",
         "version": "3.9.16"
      },
      "toc": {
         "base_numbering": 1,
         "nav_menu": {},
         "number_sections": true,
         "sideBar": true,
         "skip_h1_title": false,
         "title_cell": "Table of Contents",
         "title_sidebar": "Contents",
         "toc_cell": false,
         "toc_position": {},
         "toc_section_display": true,
         "toc_window_display": true
      },
      "varInspector": {
         "cols": {
            "lenName": 16,
            "lenType": 16,
            "lenVar": 40
         },
         "kernels_config": {
            "python": {
               "delete_cmd_postfix": "",
               "delete_cmd_prefix": "del ",
               "library": "var_list.py",
               "varRefreshCmd": "print(var_dic_list())"
            },
            "r": {
               "delete_cmd_postfix": ") ",
               "delete_cmd_prefix": "rm(",
               "library": "var_list.r",
               "varRefreshCmd": "cat(var_dic_list()) "
            }
         },
         "types_to_exclude": [
            "module",
            "function",
            "builtin_function_or_method",
            "instance",
            "_Feature"
         ],
         "window_display": false
      }
   },
   "nbformat": 4,
   "nbformat_minor": 2
}
