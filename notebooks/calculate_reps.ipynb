{
 "cells": [
  {
   "cell_type": "code",
   "execution_count": 1,
   "metadata": {},
   "outputs": [],
   "source": [
    "import numpy as np\n",
    "import pandas as pd\n",
    "from scipy.stats import skew, kurtosis\n",
    "import datetime\n",
    "import pickle\n",
    "import pyarrow as pa\n",
    "import pyarrow.compute as pc\n",
    "from csutils import *"
   ]
  },
  {
   "cell_type": "code",
   "execution_count": 2,
   "metadata": {},
   "outputs": [],
   "source": [
    "# Timestamp conversion copied from buses-data-demo.ipynb\n",
    "VACT_EPOCH = datetime.datetime(year=2011,month=6,day=16,hour=5,minute=23,second=0)\n",
    "VACT_TIMESTAMP = 1308194580\n",
    "assert datetime.datetime.fromtimestamp(VACT_TIMESTAMP) == VACT_EPOCH\n",
    "MILISECOND = 1\n",
    "SECOND = 1000 * MILISECOND\n",
    "HOUR = 3600*SECOND\n",
    "DAY = 24*HOUR\n",
    "def getVactDate(value):\n",
    "    return VACT_EPOCH + datetime.timedelta(milliseconds=int(value))"
   ]
  },
  {
   "cell_type": "code",
   "execution_count": 3,
   "metadata": {},
   "outputs": [],
   "source": [
    "DATA_369 = pickle.load(open(\"../data/bus/data-369.pickle\",\"rb\"))\n",
    "table = pa.Table.from_pandas(DATA_369)\n",
    "DATA_369 = table.to_pandas()\n",
    "\n",
    "DATA_370 = pickle.load(open(\"../data/bus/data-369.pickle\",\"rb\"))\n",
    "table = pa.Table.from_pandas(DATA_370)\n",
    "DATA_370 = table.to_pandas()\n",
    "\n",
    "DATA_371 = pickle.load(open(\"../data/bus/data-369.pickle\",\"rb\"))\n",
    "table = pa.Table.from_pandas(DATA_371)\n",
    "DATA_371 = table.to_pandas()\n",
    "\n",
    "DATA_372 = pickle.load(open(\"../data/bus/data-369.pickle\",\"rb\"))\n",
    "table = pa.Table.from_pandas(DATA_372)\n",
    "DATA_372 = table.to_pandas()\n",
    "\n",
    "DATA_375 = pickle.load(open(\"../data/bus/data-369.pickle\",\"rb\"))\n",
    "table = pa.Table.from_pandas(DATA_375)\n",
    "DATA_375 = table.to_pandas()"
   ]
  },
  {
   "cell_type": "code",
   "execution_count": 4,
   "metadata": {},
   "outputs": [],
   "source": [
    "def df_processing(df):\n",
    "    df.insert(0, 'tstamp', df.Timestamp.apply(getVactDate))\n",
    "    df.set_index('tstamp',inplace=True)\n",
    "    df.sort_index(inplace = True)\n",
    "    df.drop(columns=['Timestamp'], inplace = True)"
   ]
  },
  {
   "cell_type": "code",
   "execution_count": 5,
   "metadata": {},
   "outputs": [],
   "source": [
    "for df in [DATA_369,DATA_370,DATA_371,DATA_372,DATA_375]:\n",
    "    df_processing(df)"
   ]
  },
  {
   "cell_type": "code",
   "execution_count": 6,
   "metadata": {},
   "outputs": [],
   "source": [
    "# Representations calculations\n",
    "def calculate_all_reps(DATA):\n",
    "    new_columns = []\n",
    "    for name in DATA.columns:\n",
    "        new_columns.append(f'Numeric_{name}')\n",
    "        new_columns.append(f'HistBins_{name}')\n",
    "        new_columns.append(f'HistVals_{name}')\n",
    "        new_columns.append(f'HistDens_{name}')\n",
    "        new_columns.append(f'TimeSeries_{name}')\n",
    "    \n",
    "    RESULTS = pd.DataFrame(columns=new_columns, dtype=object)\n",
    "    RESULTS.convert_dtypes(dtype_backend='pyarrow')\n",
    "    START = DATA.index.min()\n",
    "    END = DATA.index.max()\n",
    "    \n",
    "    FREQ = pd.Timedelta('4T')\n",
    "    WINDOW_SIZE = pd.Timedelta('4T')\n",
    "    \n",
    "    def bin10(column): return 10\n",
    "    AVG_SIZE = '1S'\n",
    "    \n",
    "    for t,win in extract_time_windows(DATA, WINDOW_SIZE, start=START, end=END, freq=FREQ, timestamp = True):\n",
    "        n = win.shape[0]\n",
    "        if n < 20:\n",
    "            continue\n",
    "        numeric = get_numeric_from_window(win)\n",
    "        histogram = get_histograms_from_window(win,density=True,way_of_binarization=bin10)\n",
    "        tseries = get_time_series_from_window(win,t,WINDOW_SIZE,AVG_SIZE=AVG_SIZE)\n",
    "        for i, name in enumerate(DATA.columns):\n",
    "            RESULTS.loc[t,f'Numeric_{name}'] = numeric[i]\n",
    "            RESULTS.loc[t,f'HistBins_{name}'] = histogram[0][i]\n",
    "            RESULTS.loc[t,f'HistVals_{name}'] = histogram[1][i]\n",
    "            RESULTS.loc[t,f'HistDens_{name}'] = histogram[2][i]\n",
    "            RESULTS.loc[t,f'TimeSeries_{name}'] = tseries[i]\n",
    "    \n",
    "    return RESULTS"
   ]
  },
  {
   "cell_type": "code",
   "execution_count": 7,
   "metadata": {},
   "outputs": [
    {
     "name": "stderr",
     "output_type": "stream",
     "text": [
      "/home/tesla/Projects/RISL/Isolation-Similarity-Forest/notebooks/csutils.py:27: RuntimeWarning: Precision loss occurred in moment calculation due to catastrophic cancellation. This occurs when the data are nearly identical. Results may be unreliable.\n",
      "  skewness = skew(window[sensor])\n",
      "/home/tesla/Projects/RISL/Isolation-Similarity-Forest/notebooks/csutils.py:28: RuntimeWarning: Precision loss occurred in moment calculation due to catastrophic cancellation. This occurs when the data are nearly identical. Results may be unreliable.\n",
      "  kurt = kurtosis(window[sensor])\n"
     ]
    },
    {
     "ename": "KeyboardInterrupt",
     "evalue": "",
     "output_type": "error",
     "traceback": [
      "\u001b[0;31m---------------------------------------------------------------------------\u001b[0m",
      "\u001b[0;31mKeyboardInterrupt\u001b[0m                         Traceback (most recent call last)",
      "Cell \u001b[0;32mIn[7], line 1\u001b[0m\n\u001b[0;32m----> 1\u001b[0m RDF_369 \u001b[39m=\u001b[39m calculate_all_reps(DATA_369)\n",
      "Cell \u001b[0;32mIn[6], line 30\u001b[0m, in \u001b[0;36mcalculate_all_reps\u001b[0;34m(DATA)\u001b[0m\n\u001b[1;32m     28\u001b[0m tseries \u001b[39m=\u001b[39m get_time_series_from_window(win,t,WINDOW_SIZE,AVG_SIZE\u001b[39m=\u001b[39mAVG_SIZE)\n\u001b[1;32m     29\u001b[0m \u001b[39mfor\u001b[39;00m i, name \u001b[39min\u001b[39;00m \u001b[39menumerate\u001b[39m(DATA\u001b[39m.\u001b[39mcolumns):\n\u001b[0;32m---> 30\u001b[0m     RESULTS\u001b[39m.\u001b[39;49mloc[t,\u001b[39mf\u001b[39;49m\u001b[39m'\u001b[39;49m\u001b[39mNumeric_\u001b[39;49m\u001b[39m{\u001b[39;49;00mname\u001b[39m}\u001b[39;49;00m\u001b[39m'\u001b[39;49m] \u001b[39m=\u001b[39m numeric[i]\n\u001b[1;32m     31\u001b[0m     RESULTS\u001b[39m.\u001b[39mloc[t,\u001b[39mf\u001b[39m\u001b[39m'\u001b[39m\u001b[39mHistBins_\u001b[39m\u001b[39m{\u001b[39;00mname\u001b[39m}\u001b[39;00m\u001b[39m'\u001b[39m] \u001b[39m=\u001b[39m histogram[\u001b[39m0\u001b[39m][i]\n\u001b[1;32m     32\u001b[0m     RESULTS\u001b[39m.\u001b[39mloc[t,\u001b[39mf\u001b[39m\u001b[39m'\u001b[39m\u001b[39mHistVals_\u001b[39m\u001b[39m{\u001b[39;00mname\u001b[39m}\u001b[39;00m\u001b[39m'\u001b[39m] \u001b[39m=\u001b[39m histogram[\u001b[39m1\u001b[39m][i]\n",
      "File \u001b[0;32m~/anaconda3/envs/RISF/lib/python3.10/site-packages/pandas/core/indexing.py:849\u001b[0m, in \u001b[0;36m_LocationIndexer.__setitem__\u001b[0;34m(self, key, value)\u001b[0m\n\u001b[1;32m    846\u001b[0m \u001b[39mself\u001b[39m\u001b[39m.\u001b[39m_has_valid_setitem_indexer(key)\n\u001b[1;32m    848\u001b[0m iloc \u001b[39m=\u001b[39m \u001b[39mself\u001b[39m \u001b[39mif\u001b[39;00m \u001b[39mself\u001b[39m\u001b[39m.\u001b[39mname \u001b[39m==\u001b[39m \u001b[39m\"\u001b[39m\u001b[39miloc\u001b[39m\u001b[39m\"\u001b[39m \u001b[39melse\u001b[39;00m \u001b[39mself\u001b[39m\u001b[39m.\u001b[39mobj\u001b[39m.\u001b[39miloc\n\u001b[0;32m--> 849\u001b[0m iloc\u001b[39m.\u001b[39;49m_setitem_with_indexer(indexer, value, \u001b[39mself\u001b[39;49m\u001b[39m.\u001b[39;49mname)\n",
      "\u001b[0;31mKeyboardInterrupt\u001b[0m: "
     ]
    }
   ],
   "source": [
    "RDF_369 = calculate_all_reps(DATA_369)"
   ]
  },
  {
   "cell_type": "code",
   "execution_count": null,
   "metadata": {},
   "outputs": [],
   "source": [
    "RDF_369.dtypes"
   ]
  },
  {
   "cell_type": "code",
   "execution_count": null,
   "metadata": {},
   "outputs": [],
   "source": [
    "RDF_369.to_parquet('REP_369.parquet')"
   ]
  },
  {
   "cell_type": "code",
   "execution_count": null,
   "metadata": {},
   "outputs": [],
   "source": []
  }
 ],
 "metadata": {
  "kernelspec": {
   "display_name": "RISF",
   "language": "python",
   "name": "python3"
  },
  "language_info": {
   "codemirror_mode": {
    "name": "ipython",
    "version": 3
   },
   "file_extension": ".py",
   "mimetype": "text/x-python",
   "name": "python",
   "nbconvert_exporter": "python",
   "pygments_lexer": "ipython3",
   "version": "3.10.11"
  },
  "orig_nbformat": 4
 },
 "nbformat": 4,
 "nbformat_minor": 2
}
