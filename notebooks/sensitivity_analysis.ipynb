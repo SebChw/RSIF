{
 "cells": [
  {
   "attachments": {},
   "cell_type": "markdown",
   "metadata": {},
   "source": [
    "#### Experiment with:\n",
    "* Max_depth\n",
    "* n_estimators\n",
    "* selected_objects for distance calculation.\n",
    "\n",
    "# Sensitivity Analysis"
   ]
  },
  {
   "cell_type": "code",
   "execution_count": 1,
   "metadata": {},
   "outputs": [],
   "source": [
    "import sys\n",
    "sys.path.insert(0, '../data')\n",
    "\n",
    "from notebooks.utils import init_results, ObjectsSelector, get_dataset, perform_experiment, SEED, PRECOMPUTED_DISTANCES_PATH, get_binary_distances_choice\n",
    "\n",
    "import numpy as np\n",
    "# ! If you use from risf.distance_functions import *. Then Parallel somehow doesn't work\n",
    "# ! Now I see that this could be due to debugging mode xD\n",
    "#from risf.distance_functions import (EuclideanDist, PortraitDivergenceDist, JaccardDist, ManhattanDist,CosineDist, IpsenMikailovDist, JaccardGraphDist\n",
    "from risf.distance_functions import *\n",
    "from pathlib import Path\n",
    "from tqdm.auto import tqdm, trange\n",
    "import pandas as pd\n",
    "import seaborn as sns\n",
    "\n",
    "import matplotlib.pyplot as plt\n",
    "\n",
    "OKABE_ITO_SCALE = [\"#E69F00\", \"#56B4E9\", \"#009E73\", \"#F0E442\", \"#0072B2\", \"#D55E00\", \"#CC79A7\"]\n",
    "%load_ext autoreload\n",
    "%autoreload 2\n",
    "\n",
    "np.random.seed(SEED)"
   ]
  },
  {
   "cell_type": "code",
   "execution_count": 2,
   "metadata": {},
   "outputs": [],
   "source": [
    "CLF = \"RISF\"\n",
    "\n",
    "PRECOMPUTED_DISTANCES_PATH.mkdir(exist_ok=True)\n",
    "\n",
    "DATASETS = {\n",
    "    \"graph\":  [\"p53\"],\n",
    "    \"numerical\": [\"21_Lymphography\", \"36_speech\", \"6_cardio\", \"26_optdigits\"],\n",
    "    \"categorical\":  [\"ad_nominal\"],# \"solar-flare_FvsAll-cleaned\"],\n",
    "    \"timeseries\": [\"TwoLeadECG\"]\n",
    "}\n",
    "\n",
    "DATA_DIRS = {\n",
    "    \"graph\": Path(\"../data/graph\"),\n",
    "    \"numerical\" : Path(\"../data/numerical\"),\n",
    "    \"categorical\" : Path(\"../data/categorical\"),\n",
    "    \"timeseries\": Path(\"../data/timeseries\")\n",
    "}"
   ]
  },
  {
   "attachments": {},
   "cell_type": "markdown",
   "metadata": {},
   "source": [
    "Influence of number of selected_objects"
   ]
  },
  {
   "cell_type": "code",
   "execution_count": 3,
   "metadata": {},
   "outputs": [],
   "source": [
    "DISTANCES = {\n",
    "    \"graph\": [IpsenMikailovDist()],\n",
    "    \"numerical\" : [EuclideanDist(), ManhattanDist(), CosineDist()],\n",
    "    \"categorical\":[JaccardDist()],\n",
    "    \"timeseries\": [EuclideanDist(), CosineDist()],\n",
    "}\n",
    "\n",
    "SELECTED_OBJ_RATIO = [0.01, 0.05, 0.10, 0.25, 0.5, 0.75, 1.0]\n",
    "N_REPETITIONS = 1 # ! I wonder if this is really necessary"
   ]
  },
  {
   "cell_type": "code",
   "execution_count": 13,
   "metadata": {},
   "outputs": [
    {
     "data": {
      "application/vnd.jupyter.widget-view+json": {
       "model_id": "78db675d4ede4da79800017e7d4bf53f",
       "version_major": 2,
       "version_minor": 0
      },
      "text/plain": [
       "  0%|          | 0/4 [00:00<?, ?it/s]"
      ]
     },
     "metadata": {},
     "output_type": "display_data"
    },
    {
     "data": {
      "application/vnd.jupyter.widget-view+json": {
       "model_id": "5daebfceb6384c9f8cbf2f118666c69e",
       "version_major": 2,
       "version_minor": 0
      },
      "text/plain": [
       "  0%|          | 0/1 [00:00<?, ?it/s]"
      ]
     },
     "metadata": {},
     "output_type": "display_data"
    },
    {
     "data": {
      "application/vnd.jupyter.widget-view+json": {
       "model_id": "8d185d83982c43f8a85ffab651a2c5a1",
       "version_major": 2,
       "version_minor": 0
      },
      "text/plain": [
       "obj_ratio:   0%|          | 0/7 [00:00<?, ?it/s]"
      ]
     },
     "metadata": {},
     "output_type": "display_data"
    },
    {
     "data": {
      "application/vnd.jupyter.widget-view+json": {
       "model_id": "85c30bac438445fe87ccf9cac6080507",
       "version_major": 2,
       "version_minor": 0
      },
      "text/plain": [
       "repeated holdout:   0%|          | 0/3 [00:00<?, ?it/s]"
      ]
     },
     "metadata": {},
     "output_type": "display_data"
    },
    {
     "data": {
      "application/vnd.jupyter.widget-view+json": {
       "model_id": "709848ced1d04e18b9d1b36aa15c4150",
       "version_major": 2,
       "version_minor": 0
      },
      "text/plain": [
       "repeated holdout:   0%|          | 0/3 [00:00<?, ?it/s]"
      ]
     },
     "metadata": {},
     "output_type": "display_data"
    },
    {
     "data": {
      "application/vnd.jupyter.widget-view+json": {
       "model_id": "12d12a1d42bf4480b36c7d344c83b0b6",
       "version_major": 2,
       "version_minor": 0
      },
      "text/plain": [
       "repeated holdout:   0%|          | 0/3 [00:00<?, ?it/s]"
      ]
     },
     "metadata": {},
     "output_type": "display_data"
    },
    {
     "data": {
      "application/vnd.jupyter.widget-view+json": {
       "model_id": "8a4f661b7abb41878e5b319a7e729730",
       "version_major": 2,
       "version_minor": 0
      },
      "text/plain": [
       "repeated holdout:   0%|          | 0/3 [00:00<?, ?it/s]"
      ]
     },
     "metadata": {},
     "output_type": "display_data"
    },
    {
     "data": {
      "application/vnd.jupyter.widget-view+json": {
       "model_id": "b78bc16b909d4aa2a3e8998e25b042e3",
       "version_major": 2,
       "version_minor": 0
      },
      "text/plain": [
       "repeated holdout:   0%|          | 0/3 [00:00<?, ?it/s]"
      ]
     },
     "metadata": {},
     "output_type": "display_data"
    },
    {
     "data": {
      "application/vnd.jupyter.widget-view+json": {
       "model_id": "958dfb2ee1b7485abfb4c3462f7872bb",
       "version_major": 2,
       "version_minor": 0
      },
      "text/plain": [
       "repeated holdout:   0%|          | 0/3 [00:00<?, ?it/s]"
      ]
     },
     "metadata": {},
     "output_type": "display_data"
    },
    {
     "data": {
      "application/vnd.jupyter.widget-view+json": {
       "model_id": "0942a9047a57459ea02aabd023ce8af9",
       "version_major": 2,
       "version_minor": 0
      },
      "text/plain": [
       "repeated holdout:   0%|          | 0/3 [00:00<?, ?it/s]"
      ]
     },
     "metadata": {},
     "output_type": "display_data"
    },
    {
     "data": {
      "application/vnd.jupyter.widget-view+json": {
       "model_id": "f17d9df887f540baa1c22c03ac912e88",
       "version_major": 2,
       "version_minor": 0
      },
      "text/plain": [
       "  0%|          | 0/4 [00:00<?, ?it/s]"
      ]
     },
     "metadata": {},
     "output_type": "display_data"
    },
    {
     "data": {
      "application/vnd.jupyter.widget-view+json": {
       "model_id": "33821a08403b44e4808e0a6acfa8af8a",
       "version_major": 2,
       "version_minor": 0
      },
      "text/plain": [
       "obj_ratio:   0%|          | 0/7 [00:00<?, ?it/s]"
      ]
     },
     "metadata": {},
     "output_type": "display_data"
    },
    {
     "data": {
      "application/vnd.jupyter.widget-view+json": {
       "model_id": "2deb1a483af7421a968cc6af07d4e360",
       "version_major": 2,
       "version_minor": 0
      },
      "text/plain": [
       "repeated holdout:   0%|          | 0/3 [00:00<?, ?it/s]"
      ]
     },
     "metadata": {},
     "output_type": "display_data"
    },
    {
     "data": {
      "application/vnd.jupyter.widget-view+json": {
       "model_id": "c21f90ee174c451cbfe592e0349e817e",
       "version_major": 2,
       "version_minor": 0
      },
      "text/plain": [
       "repeated holdout:   0%|          | 0/3 [00:00<?, ?it/s]"
      ]
     },
     "metadata": {},
     "output_type": "display_data"
    },
    {
     "data": {
      "application/vnd.jupyter.widget-view+json": {
       "model_id": "52b0ea9f49f94f9b89635f66467c2e7f",
       "version_major": 2,
       "version_minor": 0
      },
      "text/plain": [
       "repeated holdout:   0%|          | 0/3 [00:00<?, ?it/s]"
      ]
     },
     "metadata": {},
     "output_type": "display_data"
    },
    {
     "data": {
      "application/vnd.jupyter.widget-view+json": {
       "model_id": "804cd42653d742a7aecd3b67f104279b",
       "version_major": 2,
       "version_minor": 0
      },
      "text/plain": [
       "repeated holdout:   0%|          | 0/3 [00:00<?, ?it/s]"
      ]
     },
     "metadata": {},
     "output_type": "display_data"
    },
    {
     "data": {
      "application/vnd.jupyter.widget-view+json": {
       "model_id": "bbb77366e57b4cbeaec7b2c4b6359fa2",
       "version_major": 2,
       "version_minor": 0
      },
      "text/plain": [
       "repeated holdout:   0%|          | 0/3 [00:00<?, ?it/s]"
      ]
     },
     "metadata": {},
     "output_type": "display_data"
    },
    {
     "data": {
      "application/vnd.jupyter.widget-view+json": {
       "model_id": "278e5d30a02f443f9c8fb0e964a282eb",
       "version_major": 2,
       "version_minor": 0
      },
      "text/plain": [
       "repeated holdout:   0%|          | 0/3 [00:00<?, ?it/s]"
      ]
     },
     "metadata": {},
     "output_type": "display_data"
    },
    {
     "data": {
      "application/vnd.jupyter.widget-view+json": {
       "model_id": "d31b64f8da384c4e964a094c1d19ea03",
       "version_major": 2,
       "version_minor": 0
      },
      "text/plain": [
       "repeated holdout:   0%|          | 0/3 [00:00<?, ?it/s]"
      ]
     },
     "metadata": {},
     "output_type": "display_data"
    },
    {
     "data": {
      "application/vnd.jupyter.widget-view+json": {
       "model_id": "e367fdb461714a56804b4524469f7080",
       "version_major": 2,
       "version_minor": 0
      },
      "text/plain": [
       "obj_ratio:   0%|          | 0/7 [00:00<?, ?it/s]"
      ]
     },
     "metadata": {},
     "output_type": "display_data"
    },
    {
     "data": {
      "application/vnd.jupyter.widget-view+json": {
       "model_id": "8ff087ef77074d909c878e9028a16623",
       "version_major": 2,
       "version_minor": 0
      },
      "text/plain": [
       "repeated holdout:   0%|          | 0/3 [00:00<?, ?it/s]"
      ]
     },
     "metadata": {},
     "output_type": "display_data"
    },
    {
     "ename": "OSError",
     "evalue": "[WinError 1450] Insufficient system resources exist to complete the requested service",
     "output_type": "error",
     "traceback": [
      "\u001b[1;31m---------------------------------------------------------------------------\u001b[0m",
      "\u001b[1;31m_RemoteTraceback\u001b[0m                          Traceback (most recent call last)",
      "\u001b[1;31m_RemoteTraceback\u001b[0m: \n\"\"\"\nTraceback (most recent call last):\n  File \"c:\\Users\\sebas\\AppData\\pypoetry\\virtualenvs\\random-isolation-similarity-forest-bqxKmFq8-py3.10\\lib\\site-packages\\joblib\\externals\\loky\\process_executor.py\", line 343, in _sendback_result\n    result_queue.put(_ResultItem(work_id, result=result,\n  File \"c:\\Users\\sebas\\AppData\\pypoetry\\virtualenvs\\random-isolation-similarity-forest-bqxKmFq8-py3.10\\lib\\site-packages\\joblib\\externals\\loky\\backend\\queues.py\", line 189, in put\n    self._writer.send_bytes(obj)\n  File \"C:\\Users\\sebas\\mambaforge\\lib\\multiprocessing\\connection.py\", line 200, in send_bytes\n    self._send_bytes(m[offset:offset + size])\n  File \"C:\\Users\\sebas\\mambaforge\\lib\\multiprocessing\\connection.py\", line 280, in _send_bytes\n    ov, err = _winapi.WriteFile(self._handle, buf, overlapped=True)\nOSError: [WinError 1450] Insufficient system resources exist to complete the requested service\n\"\"\"",
      "\nThe above exception was the direct cause of the following exception:\n",
      "\u001b[1;31mOSError\u001b[0m                                   Traceback (most recent call last)",
      "Cell \u001b[1;32mIn[13], line 12\u001b[0m\n\u001b[0;32m      9\u001b[0m \u001b[39mfor\u001b[39;00m obj_ratio \u001b[39min\u001b[39;00m tqdm(SELECTED_OBJ_RATIO, desc\u001b[39m=\u001b[39m\u001b[39m\"\u001b[39m\u001b[39mobj_ratio\u001b[39m\u001b[39m\"\u001b[39m):               \n\u001b[0;32m     10\u001b[0m     data \u001b[39m=\u001b[39m get_dataset(data_type, DATA_DIRS[data_type], dataset_name)\n\u001b[1;32m---> 12\u001b[0m     aucs \u001b[39m=\u001b[39m perform_experiment(data, DISTANCES[data_type], obj_ratio, {}, objects_selector)\n\u001b[0;32m     13\u001b[0m     \u001b[39mfor\u001b[39;00m auc \u001b[39min\u001b[39;00m aucs:\n\u001b[0;32m     14\u001b[0m         results \u001b[39m=\u001b[39m init_results(CLF, dataset_name, data_type, {\u001b[39m\"\u001b[39m\u001b[39mobj_ratio\u001b[39m\u001b[39m\"\u001b[39m: obj_ratio})\n",
      "File \u001b[1;32mD:\\AI_y3_s1\\ProblemClasses\\Isolation-Similarity-Forest\\notebooks\\utils.py:207\u001b[0m, in \u001b[0;36mperform_experiment\u001b[1;34m(data, distances, selected_obj_ratio, risf_kwargs, selection_func)\u001b[0m\n\u001b[0;32m    201\u001b[0m \u001b[39m# with parallel_backend(\"loky\", n_jobs=-4):\u001b[39;00m\n\u001b[0;32m    202\u001b[0m \u001b[39m#! With numerical datasets no errors are shown but with other I get unserializable error\u001b[39;00m\n\u001b[0;32m    203\u001b[0m n_jobs \u001b[39m=\u001b[39m \u001b[39m1\u001b[39m \u001b[39mif\u001b[39;00m data[\u001b[39m\"\u001b[39m\u001b[39mname\u001b[39m\u001b[39m\"\u001b[39m] \u001b[39min\u001b[39;00m [\u001b[39m\"\u001b[39m\u001b[39mp53\u001b[39m\u001b[39m\"\u001b[39m, \u001b[39m\"\u001b[39m\u001b[39mad_nominal\u001b[39m\u001b[39m\"\u001b[39m, \u001b[39m\"\u001b[39m\u001b[39mTwoLeadECG\u001b[39m\u001b[39m\"\u001b[39m] \u001b[39melse\u001b[39;00m \u001b[39m-\u001b[39m\u001b[39m3\u001b[39m\n\u001b[0;32m    205\u001b[0m clf \u001b[39m=\u001b[39m RandomIsolationSimilarityForest(\n\u001b[0;32m    206\u001b[0m     random_state\u001b[39m=\u001b[39mSEED, distance\u001b[39m=\u001b[39mX_risf\u001b[39m.\u001b[39mdistances, n_jobs\u001b[39m=\u001b[39mn_jobs, \u001b[39m*\u001b[39m\u001b[39m*\u001b[39mclf_Kwargs\n\u001b[1;32m--> 207\u001b[0m )\u001b[39m.\u001b[39mfit(X_risf)\n\u001b[0;32m    209\u001b[0m X_test_risf \u001b[39m=\u001b[39m clf\u001b[39m.\u001b[39mtransform(\n\u001b[0;32m    210\u001b[0m     [X_test],\n\u001b[0;32m    211\u001b[0m     n_jobs\u001b[39m=\u001b[39m\u001b[39m-\u001b[39m\u001b[39m2\u001b[39m,\n\u001b[0;32m    212\u001b[0m     precomputed_distances\u001b[39m=\u001b[39mtest_distances,\n\u001b[0;32m    213\u001b[0m )\n\u001b[0;32m    215\u001b[0m y_test_pred \u001b[39m=\u001b[39m (\u001b[39m-\u001b[39m\u001b[39m1\u001b[39m) \u001b[39m*\u001b[39m clf\u001b[39m.\u001b[39mpredict(X_test_risf, return_raw_scores\u001b[39m=\u001b[39m\u001b[39mTrue\u001b[39;00m)\n",
      "File \u001b[1;32mD:\\AI_y3_s1\\ProblemClasses\\Isolation-Similarity-Forest\\risf\\forest.py:92\u001b[0m, in \u001b[0;36mRandomIsolationSimilarityForest.fit\u001b[1;34m(self, X, y)\u001b[0m\n\u001b[0;32m     88\u001b[0m \u001b[39mself\u001b[39m\u001b[39m.\u001b[39mtrees_ \u001b[39m=\u001b[39m \u001b[39mself\u001b[39m\u001b[39m.\u001b[39mcreate_trees()\n\u001b[0;32m     90\u001b[0m \u001b[39m# TODO: How to test this?\u001b[39;00m\n\u001b[0;32m     91\u001b[0m \u001b[39m# !TEST running on num jobs 1 and num iobs m4 and have the same results\u001b[39;00m\n\u001b[1;32m---> 92\u001b[0m \u001b[39mself\u001b[39m\u001b[39m.\u001b[39mtrees_ \u001b[39m=\u001b[39m Parallel(n_jobs\u001b[39m=\u001b[39;49m\u001b[39mself\u001b[39;49m\u001b[39m.\u001b[39;49mn_jobs)(\n\u001b[0;32m     93\u001b[0m     delayed(_build_tree)(\n\u001b[0;32m     94\u001b[0m         tree, \u001b[39mself\u001b[39;49m\u001b[39m.\u001b[39;49mX, i, \u001b[39mself\u001b[39;49m\u001b[39m.\u001b[39;49mn_estimators, \u001b[39mself\u001b[39;49m\u001b[39m.\u001b[39;49msubsample_size, verbose\u001b[39m=\u001b[39;49m\u001b[39mself\u001b[39;49m\u001b[39m.\u001b[39;49mverbose\n\u001b[0;32m     95\u001b[0m     )\n\u001b[0;32m     96\u001b[0m     \u001b[39mfor\u001b[39;49;00m i, tree \u001b[39min\u001b[39;49;00m \u001b[39menumerate\u001b[39;49m(\u001b[39mself\u001b[39;49m\u001b[39m.\u001b[39;49mtrees_)\n\u001b[0;32m     97\u001b[0m )\n\u001b[0;32m     99\u001b[0m \u001b[39mself\u001b[39m\u001b[39m.\u001b[39mset_offset(y)\n\u001b[0;32m    101\u001b[0m \u001b[39mreturn\u001b[39;00m \u001b[39mself\u001b[39m\n",
      "File \u001b[1;32mc:\\Users\\sebas\\AppData\\pypoetry\\virtualenvs\\random-isolation-similarity-forest-bqxKmFq8-py3.10\\lib\\site-packages\\joblib\\parallel.py:1098\u001b[0m, in \u001b[0;36mParallel.__call__\u001b[1;34m(self, iterable)\u001b[0m\n\u001b[0;32m   1095\u001b[0m     \u001b[39mself\u001b[39m\u001b[39m.\u001b[39m_iterating \u001b[39m=\u001b[39m \u001b[39mFalse\u001b[39;00m\n\u001b[0;32m   1097\u001b[0m \u001b[39mwith\u001b[39;00m \u001b[39mself\u001b[39m\u001b[39m.\u001b[39m_backend\u001b[39m.\u001b[39mretrieval_context():\n\u001b[1;32m-> 1098\u001b[0m     \u001b[39mself\u001b[39;49m\u001b[39m.\u001b[39;49mretrieve()\n\u001b[0;32m   1099\u001b[0m \u001b[39m# Make sure that we get a last message telling us we are done\u001b[39;00m\n\u001b[0;32m   1100\u001b[0m elapsed_time \u001b[39m=\u001b[39m time\u001b[39m.\u001b[39mtime() \u001b[39m-\u001b[39m \u001b[39mself\u001b[39m\u001b[39m.\u001b[39m_start_time\n",
      "File \u001b[1;32mc:\\Users\\sebas\\AppData\\pypoetry\\virtualenvs\\random-isolation-similarity-forest-bqxKmFq8-py3.10\\lib\\site-packages\\joblib\\parallel.py:975\u001b[0m, in \u001b[0;36mParallel.retrieve\u001b[1;34m(self)\u001b[0m\n\u001b[0;32m    973\u001b[0m \u001b[39mtry\u001b[39;00m:\n\u001b[0;32m    974\u001b[0m     \u001b[39mif\u001b[39;00m \u001b[39mgetattr\u001b[39m(\u001b[39mself\u001b[39m\u001b[39m.\u001b[39m_backend, \u001b[39m'\u001b[39m\u001b[39msupports_timeout\u001b[39m\u001b[39m'\u001b[39m, \u001b[39mFalse\u001b[39;00m):\n\u001b[1;32m--> 975\u001b[0m         \u001b[39mself\u001b[39m\u001b[39m.\u001b[39m_output\u001b[39m.\u001b[39mextend(job\u001b[39m.\u001b[39;49mget(timeout\u001b[39m=\u001b[39;49m\u001b[39mself\u001b[39;49m\u001b[39m.\u001b[39;49mtimeout))\n\u001b[0;32m    976\u001b[0m     \u001b[39melse\u001b[39;00m:\n\u001b[0;32m    977\u001b[0m         \u001b[39mself\u001b[39m\u001b[39m.\u001b[39m_output\u001b[39m.\u001b[39mextend(job\u001b[39m.\u001b[39mget())\n",
      "File \u001b[1;32mc:\\Users\\sebas\\AppData\\pypoetry\\virtualenvs\\random-isolation-similarity-forest-bqxKmFq8-py3.10\\lib\\site-packages\\joblib\\_parallel_backends.py:567\u001b[0m, in \u001b[0;36mLokyBackend.wrap_future_result\u001b[1;34m(future, timeout)\u001b[0m\n\u001b[0;32m    564\u001b[0m \u001b[39m\"\"\"Wrapper for Future.result to implement the same behaviour as\u001b[39;00m\n\u001b[0;32m    565\u001b[0m \u001b[39mAsyncResults.get from multiprocessing.\"\"\"\u001b[39;00m\n\u001b[0;32m    566\u001b[0m \u001b[39mtry\u001b[39;00m:\n\u001b[1;32m--> 567\u001b[0m     \u001b[39mreturn\u001b[39;00m future\u001b[39m.\u001b[39;49mresult(timeout\u001b[39m=\u001b[39;49mtimeout)\n\u001b[0;32m    568\u001b[0m \u001b[39mexcept\u001b[39;00m CfTimeoutError \u001b[39mas\u001b[39;00m e:\n\u001b[0;32m    569\u001b[0m     \u001b[39mraise\u001b[39;00m \u001b[39mTimeoutError\u001b[39;00m \u001b[39mfrom\u001b[39;00m \u001b[39me\u001b[39;00m\n",
      "File \u001b[1;32m~\\mambaforge\\lib\\concurrent\\futures\\_base.py:458\u001b[0m, in \u001b[0;36mFuture.result\u001b[1;34m(self, timeout)\u001b[0m\n\u001b[0;32m    456\u001b[0m     \u001b[39mraise\u001b[39;00m CancelledError()\n\u001b[0;32m    457\u001b[0m \u001b[39melif\u001b[39;00m \u001b[39mself\u001b[39m\u001b[39m.\u001b[39m_state \u001b[39m==\u001b[39m FINISHED:\n\u001b[1;32m--> 458\u001b[0m     \u001b[39mreturn\u001b[39;00m \u001b[39mself\u001b[39;49m\u001b[39m.\u001b[39;49m__get_result()\n\u001b[0;32m    459\u001b[0m \u001b[39melse\u001b[39;00m:\n\u001b[0;32m    460\u001b[0m     \u001b[39mraise\u001b[39;00m \u001b[39mTimeoutError\u001b[39;00m()\n",
      "File \u001b[1;32m~\\mambaforge\\lib\\concurrent\\futures\\_base.py:403\u001b[0m, in \u001b[0;36mFuture.__get_result\u001b[1;34m(self)\u001b[0m\n\u001b[0;32m    401\u001b[0m \u001b[39mif\u001b[39;00m \u001b[39mself\u001b[39m\u001b[39m.\u001b[39m_exception:\n\u001b[0;32m    402\u001b[0m     \u001b[39mtry\u001b[39;00m:\n\u001b[1;32m--> 403\u001b[0m         \u001b[39mraise\u001b[39;00m \u001b[39mself\u001b[39m\u001b[39m.\u001b[39m_exception\n\u001b[0;32m    404\u001b[0m     \u001b[39mfinally\u001b[39;00m:\n\u001b[0;32m    405\u001b[0m         \u001b[39m# Break a reference cycle with the exception in self._exception\u001b[39;00m\n\u001b[0;32m    406\u001b[0m         \u001b[39mself\u001b[39m \u001b[39m=\u001b[39m \u001b[39mNone\u001b[39;00m\n",
      "\u001b[1;31mOSError\u001b[0m: [WinError 1450] Insufficient system resources exist to complete the requested service"
     ]
    }
   ],
   "source": [
    "results_selected_obj = []\n",
    "\n",
    "for data_type in (data_types := tqdm(DATASETS.keys())):\n",
    "    data_types.set_description(data_type)\n",
    "    for dataset_name in (dataset_names := tqdm(DATASETS[data_type])):\n",
    "        dataset_names.set_description(dataset_name)\n",
    "        for n_rep in range(N_REPETITIONS):\n",
    "            objects_selector = ObjectsSelector()\n",
    "            for obj_ratio in tqdm(SELECTED_OBJ_RATIO, desc=\"obj_ratio\"):               \n",
    "                data = get_dataset(data_type, DATA_DIRS[data_type], dataset_name)\n",
    "                \n",
    "                aucs = perform_experiment(data, DISTANCES[data_type], obj_ratio, {}, objects_selector)\n",
    "                results = init_results(CLF, dataset_name, data_type, aucs, {\"obj_ratio\": obj_ratio})\n",
    "                results_selected_obj.append(results)"
   ]
  },
  {
   "cell_type": "code",
   "execution_count": 14,
   "metadata": {},
   "outputs": [],
   "source": [
    "results_df = pd.DataFrame(results_selected_obj)"
   ]
  },
  {
   "cell_type": "code",
   "execution_count": 15,
   "metadata": {},
   "outputs": [
    {
     "data": {
      "image/png": "[encoded data removed]",
      "text/plain": [
       "<Figure size 2080.38x500 with 2 Axes>"
      ]
     },
     "metadata": {},
     "output_type": "display_data"
    }
   ],
   "source": [
    "sns.set_palette(sns.color_palette(OKABE_ITO_SCALE))\n",
    "g = sns.relplot(data=results_df, x=\"obj_ratio\", y=\"auc\", hue=\"clf\", marker=\"o\", col=\"dataset_name\", col_wrap=4, \n",
    "            facet_kws={'sharey': False, 'sharex': False}, kind=\"line\")\n",
    "\n",
    "g.fig.suptitle('INFLUENCE OF NUMBER OF OBJECTS')\n",
    "sns.despine()"
   ]
  },
  {
   "cell_type": "code",
   "execution_count": 5,
   "metadata": {},
   "outputs": [],
   "source": [
    "OBJ_RATIO = 0.1 # Based on previous experiment\n",
    "\n",
    "DISTANCES = {\n",
    "    \"graph\": np.array([IpsenMikailovDist(),  PortraitDivergenceDist()], dtype=object),\n",
    "    # DegreeDivergenceDist(), NetSmileDist() For now withouth these 2 guys, JaccardGraphDist(),\n",
    "    \"numerical\" : np.array([EuclideanDist(), ManhattanDist(), CosineDist()], dtype=object),\n",
    "    \"categorical\": np.array([JaccardDist(), DiceDist()], dtype=object),\n",
    "    \"timeseries\": np.array([EuclideanDist(), CosineDist()], dtype=object) # For now withouthDTWDist()\n",
    "}"
   ]
  },
  {
   "cell_type": "code",
   "execution_count": 13,
   "metadata": {},
   "outputs": [
    {
     "data": {
      "application/vnd.jupyter.widget-view+json": {
       "model_id": "9671f1a001f2403795786fb259a55761",
       "version_major": 2,
       "version_minor": 0
      },
      "text/plain": [
       "  0%|          | 0/1 [00:00<?, ?it/s]"
      ]
     },
     "metadata": {},
     "output_type": "display_data"
    },
    {
     "data": {
      "application/vnd.jupyter.widget-view+json": {
       "model_id": "925b0d6d1981487e8d2f05854378b2fb",
       "version_major": 2,
       "version_minor": 0
      },
      "text/plain": [
       "  0%|          | 0/4 [00:00<?, ?it/s]"
      ]
     },
     "metadata": {},
     "output_type": "display_data"
    },
    {
     "data": {
      "application/vnd.jupyter.widget-view+json": {
       "model_id": "d353282f73464a289f765db287bb7e0b",
       "version_major": 2,
       "version_minor": 0
      },
      "text/plain": [
       "distances_used:   0%|          | 0/7 [00:00<?, ?it/s]"
      ]
     },
     "metadata": {},
     "output_type": "display_data"
    },
    {
     "data": {
      "application/vnd.jupyter.widget-view+json": {
       "model_id": "6d6a93dd99994c6093ba64ef9cb5a042",
       "version_major": 2,
       "version_minor": 0
      },
      "text/plain": [
       "repeated holdout:   0%|          | 0/3 [00:00<?, ?it/s]"
      ]
     },
     "metadata": {},
     "output_type": "display_data"
    },
    {
     "data": {
      "application/vnd.jupyter.widget-view+json": {
       "model_id": "be5deee4a94c47029a01e4d2ccd0da65",
       "version_major": 2,
       "version_minor": 0
      },
      "text/plain": [
       "repeated holdout:   0%|          | 0/3 [00:00<?, ?it/s]"
      ]
     },
     "metadata": {},
     "output_type": "display_data"
    },
    {
     "data": {
      "application/vnd.jupyter.widget-view+json": {
       "model_id": "a6772c53924a4c3685feea65ba8edb28",
       "version_major": 2,
       "version_minor": 0
      },
      "text/plain": [
       "repeated holdout:   0%|          | 0/3 [00:00<?, ?it/s]"
      ]
     },
     "metadata": {},
     "output_type": "display_data"
    },
    {
     "data": {
      "application/vnd.jupyter.widget-view+json": {
       "model_id": "126e9f1a708c4ce0b16aafd280c81946",
       "version_major": 2,
       "version_minor": 0
      },
      "text/plain": [
       "repeated holdout:   0%|          | 0/3 [00:00<?, ?it/s]"
      ]
     },
     "metadata": {},
     "output_type": "display_data"
    },
    {
     "data": {
      "application/vnd.jupyter.widget-view+json": {
       "model_id": "c5ca029d57074a1eb42dc3f22e14a9b7",
       "version_major": 2,
       "version_minor": 0
      },
      "text/plain": [
       "repeated holdout:   0%|          | 0/3 [00:00<?, ?it/s]"
      ]
     },
     "metadata": {},
     "output_type": "display_data"
    },
    {
     "data": {
      "application/vnd.jupyter.widget-view+json": {
       "model_id": "3518c7980fd946f58eb02f40977f64ce",
       "version_major": 2,
       "version_minor": 0
      },
      "text/plain": [
       "repeated holdout:   0%|          | 0/3 [00:00<?, ?it/s]"
      ]
     },
     "metadata": {},
     "output_type": "display_data"
    },
    {
     "data": {
      "application/vnd.jupyter.widget-view+json": {
       "model_id": "830da906686f4eb69d6add9c87d011c6",
       "version_major": 2,
       "version_minor": 0
      },
      "text/plain": [
       "repeated holdout:   0%|          | 0/3 [00:00<?, ?it/s]"
      ]
     },
     "metadata": {},
     "output_type": "display_data"
    },
    {
     "data": {
      "application/vnd.jupyter.widget-view+json": {
       "model_id": "292f785abb2347c297827bb52882001b",
       "version_major": 2,
       "version_minor": 0
      },
      "text/plain": [
       "distances_used:   0%|          | 0/7 [00:00<?, ?it/s]"
      ]
     },
     "metadata": {},
     "output_type": "display_data"
    },
    {
     "data": {
      "application/vnd.jupyter.widget-view+json": {
       "model_id": "da6be3ecbf1540f3a07ee1ee1ccfd0eb",
       "version_major": 2,
       "version_minor": 0
      },
      "text/plain": [
       "repeated holdout:   0%|          | 0/3 [00:00<?, ?it/s]"
      ]
     },
     "metadata": {},
     "output_type": "display_data"
    },
    {
     "data": {
      "application/vnd.jupyter.widget-view+json": {
       "model_id": "f14776f2f3044dfbbe945286cc1ae8cc",
       "version_major": 2,
       "version_minor": 0
      },
      "text/plain": [
       "repeated holdout:   0%|          | 0/3 [00:00<?, ?it/s]"
      ]
     },
     "metadata": {},
     "output_type": "display_data"
    },
    {
     "data": {
      "application/vnd.jupyter.widget-view+json": {
       "model_id": "6f9e87c42f0d400ea6107045bb1004d4",
       "version_major": 2,
       "version_minor": 0
      },
      "text/plain": [
       "repeated holdout:   0%|          | 0/3 [00:00<?, ?it/s]"
      ]
     },
     "metadata": {},
     "output_type": "display_data"
    },
    {
     "data": {
      "application/vnd.jupyter.widget-view+json": {
       "model_id": "b211d1d30234444bad0e1f866f2854c1",
       "version_major": 2,
       "version_minor": 0
      },
      "text/plain": [
       "repeated holdout:   0%|          | 0/3 [00:00<?, ?it/s]"
      ]
     },
     "metadata": {},
     "output_type": "display_data"
    },
    {
     "data": {
      "application/vnd.jupyter.widget-view+json": {
       "model_id": "d7b18785d2f34b1dbd6b86b1c669c7ea",
       "version_major": 2,
       "version_minor": 0
      },
      "text/plain": [
       "repeated holdout:   0%|          | 0/3 [00:00<?, ?it/s]"
      ]
     },
     "metadata": {},
     "output_type": "display_data"
    },
    {
     "data": {
      "application/vnd.jupyter.widget-view+json": {
       "model_id": "3d9749a8b0574c3e84e90a14a3a349cf",
       "version_major": 2,
       "version_minor": 0
      },
      "text/plain": [
       "repeated holdout:   0%|          | 0/3 [00:00<?, ?it/s]"
      ]
     },
     "metadata": {},
     "output_type": "display_data"
    },
    {
     "data": {
      "application/vnd.jupyter.widget-view+json": {
       "model_id": "1e6fcd60c43a467382deceb43847d94d",
       "version_major": 2,
       "version_minor": 0
      },
      "text/plain": [
       "repeated holdout:   0%|          | 0/3 [00:00<?, ?it/s]"
      ]
     },
     "metadata": {},
     "output_type": "display_data"
    },
    {
     "data": {
      "application/vnd.jupyter.widget-view+json": {
       "model_id": "807b44efee1e4f2f8d19bf5f41d9b97b",
       "version_major": 2,
       "version_minor": 0
      },
      "text/plain": [
       "distances_used:   0%|          | 0/7 [00:00<?, ?it/s]"
      ]
     },
     "metadata": {},
     "output_type": "display_data"
    },
    {
     "data": {
      "application/vnd.jupyter.widget-view+json": {
       "model_id": "d433ae7667624ce0aba9b2af74dcd867",
       "version_major": 2,
       "version_minor": 0
      },
      "text/plain": [
       "repeated holdout:   0%|          | 0/3 [00:00<?, ?it/s]"
      ]
     },
     "metadata": {},
     "output_type": "display_data"
    },
    {
     "ename": "KeyboardInterrupt",
     "evalue": "",
     "output_type": "error",
     "traceback": [
      "\u001b[1;31m---------------------------------------------------------------------------\u001b[0m",
      "\u001b[1;31mKeyboardInterrupt\u001b[0m                         Traceback (most recent call last)",
      "Cell \u001b[1;32mIn[13], line 12\u001b[0m\n\u001b[0;32m      9\u001b[0m dist \u001b[39m=\u001b[39m DISTANCES[data_type][dist_to_use]\n\u001b[0;32m     11\u001b[0m data \u001b[39m=\u001b[39m get_dataset(data_type, DATA_DIRS[data_type], dataset_name)\n\u001b[1;32m---> 12\u001b[0m aucs \u001b[39m=\u001b[39m perform_experiment(CLF, data, dist, OBJ_RATIO, {})\n\u001b[0;32m     14\u001b[0m dist_short \u001b[39m=\u001b[39m \u001b[39m'\u001b[39m\u001b[39m_\u001b[39m\u001b[39m'\u001b[39m\u001b[39m.\u001b[39mjoin([x\u001b[39m.\u001b[39m\u001b[39m__class__\u001b[39m\u001b[39m.\u001b[39m\u001b[39m__name__\u001b[39m[:\u001b[39m3\u001b[39m] \u001b[39mfor\u001b[39;00m x \u001b[39min\u001b[39;00m dist])\n\u001b[0;32m     16\u001b[0m results \u001b[39m=\u001b[39m init_results(CLF, dataset_name, data_type, aucs, {\u001b[39m\"\u001b[39m\u001b[39mdistances\u001b[39m\u001b[39m\"\u001b[39m: dist_short})\n",
      "File \u001b[1;32mD:\\AI_y3_s1\\ProblemClasses\\Isolation-Similarity-Forest\\notebooks\\utils.py:229\u001b[0m, in \u001b[0;36mperform_experiment\u001b[1;34m(clf_name, data, distances, selected_obj_ratio, clf_kwargs, selection_func)\u001b[0m\n\u001b[0;32m    216\u001b[0m     clf \u001b[39m=\u001b[39m RandomIsolationSimilarityForest(\n\u001b[0;32m    217\u001b[0m         random_state\u001b[39m=\u001b[39mSEED,\n\u001b[0;32m    218\u001b[0m         distance\u001b[39m=\u001b[39mX_risf\u001b[39m.\u001b[39mdistances,\n\u001b[0;32m    219\u001b[0m         n_jobs\u001b[39m=\u001b[39mn_jobs,\n\u001b[0;32m    220\u001b[0m         \u001b[39m*\u001b[39m\u001b[39m*\u001b[39mclf_kwargs,\n\u001b[0;32m    221\u001b[0m     )\u001b[39m.\u001b[39mfit(X_risf)\n\u001b[0;32m    223\u001b[0m     X_test_risf \u001b[39m=\u001b[39m clf\u001b[39m.\u001b[39mtransform(\n\u001b[0;32m    224\u001b[0m         [X_test],\n\u001b[0;32m    225\u001b[0m         n_jobs\u001b[39m=\u001b[39m\u001b[39m-\u001b[39m\u001b[39m2\u001b[39m,\n\u001b[0;32m    226\u001b[0m         precomputed_distances\u001b[39m=\u001b[39mtest_distances,\n\u001b[0;32m    227\u001b[0m     )\n\u001b[1;32m--> 229\u001b[0m     y_test_pred \u001b[39m=\u001b[39m (\u001b[39m-\u001b[39m\u001b[39m1\u001b[39m) \u001b[39m*\u001b[39m clf\u001b[39m.\u001b[39;49mpredict(X_test_risf, return_raw_scores\u001b[39m=\u001b[39;49m\u001b[39mTrue\u001b[39;49;00m)\n\u001b[0;32m    231\u001b[0m \u001b[39melse\u001b[39;00m:\n\u001b[0;32m    232\u001b[0m     clf \u001b[39m=\u001b[39m new_clf(clf_name, SEED)\n",
      "File \u001b[1;32mD:\\AI_y3_s1\\ProblemClasses\\Isolation-Similarity-Forest\\risf\\forest.py:250\u001b[0m, in \u001b[0;36mRandomIsolationSimilarityForest.predict\u001b[1;34m(self, X, return_raw_scores)\u001b[0m\n\u001b[0;32m    247\u001b[0m         tree\u001b[39m.\u001b[39mset_test_distances(X\u001b[39m.\u001b[39mdistances)\n\u001b[0;32m    249\u001b[0m X \u001b[39m=\u001b[39m prepare_X(X)\n\u001b[1;32m--> 250\u001b[0m decision_function \u001b[39m=\u001b[39m \u001b[39mself\u001b[39;49m\u001b[39m.\u001b[39;49mdecision_function(X)\n\u001b[0;32m    252\u001b[0m \u001b[39mif\u001b[39;00m return_raw_scores:\n\u001b[0;32m    253\u001b[0m     \u001b[39mreturn\u001b[39;00m decision_function\n",
      "File \u001b[1;32mD:\\AI_y3_s1\\ProblemClasses\\Isolation-Similarity-Forest\\risf\\forest.py:205\u001b[0m, in \u001b[0;36mRandomIsolationSimilarityForest.decision_function\u001b[1;34m(self, X)\u001b[0m\n\u001b[0;32m    202\u001b[0m X \u001b[39m=\u001b[39m sklearn_validation\u001b[39m.\u001b[39mcheck_array(X)\n\u001b[0;32m    203\u001b[0m X \u001b[39m=\u001b[39m \u001b[39mself\u001b[39m\u001b[39m.\u001b[39m_validate_X_predict(X)\n\u001b[1;32m--> 205\u001b[0m scores \u001b[39m=\u001b[39m \u001b[39mself\u001b[39;49m\u001b[39m.\u001b[39;49mscore_samples(X)\n\u001b[0;32m    207\u001b[0m \u001b[39mreturn\u001b[39;00m scores \u001b[39m-\u001b[39m \u001b[39mself\u001b[39m\u001b[39m.\u001b[39mdecision_threshold_\n",
      "File \u001b[1;32mD:\\AI_y3_s1\\ProblemClasses\\Isolation-Similarity-Forest\\risf\\forest.py:171\u001b[0m, in \u001b[0;36mRandomIsolationSimilarityForest.score_samples\u001b[1;34m(self, X)\u001b[0m\n\u001b[0;32m    151\u001b[0m \u001b[39m\"\"\"\u001b[39;00m\n\u001b[0;32m    152\u001b[0m \u001b[39mOpposite of the anomaly score defined in the original paper.\u001b[39;00m\n\u001b[0;32m    153\u001b[0m \u001b[39mThe anomaly score of an input sample is computed as\u001b[39;00m\n\u001b[1;32m   (...)\u001b[0m\n\u001b[0;32m    168\u001b[0m \u001b[39m        The lower, the more abnormal.\u001b[39;00m\n\u001b[0;32m    169\u001b[0m \u001b[39m\"\"\"\u001b[39;00m\n\u001b[0;32m    170\u001b[0m \u001b[39m# Average depth at which a sample lies over all trees\u001b[39;00m\n\u001b[1;32m--> 171\u001b[0m mean_path_lengths \u001b[39m=\u001b[39m \u001b[39mself\u001b[39;49m\u001b[39m.\u001b[39;49mcalculate_mean_path_lengths(X)\n\u001b[0;32m    173\u001b[0m \u001b[39m# Depths are normalized in the same fashion as in Isolation Forest\u001b[39;00m\n\u001b[0;32m    174\u001b[0m c \u001b[39m=\u001b[39m measures\u001b[39m.\u001b[39m_average_path_length(\u001b[39mself\u001b[39m\u001b[39m.\u001b[39msubsample_size)\n",
      "File \u001b[1;32mD:\\AI_y3_s1\\ProblemClasses\\Isolation-Similarity-Forest\\risf\\forest.py:147\u001b[0m, in \u001b[0;36mRandomIsolationSimilarityForest.calculate_mean_path_lengths\u001b[1;34m(self, X)\u001b[0m\n\u001b[0;32m    139\u001b[0m \u001b[39mdef\u001b[39;00m \u001b[39mcalculate_mean_path_lengths\u001b[39m(\u001b[39mself\u001b[39m, X: np\u001b[39m.\u001b[39marray):\n\u001b[0;32m    140\u001b[0m     \u001b[39m\"\"\"\u001b[39;00m\n\u001b[0;32m    141\u001b[0m \u001b[39m    Calculates mean path_length of every sample in X matrix\u001b[39;00m\n\u001b[0;32m    142\u001b[0m \u001b[39m    Parameters\u001b[39;00m\n\u001b[1;32m   (...)\u001b[0m\n\u001b[0;32m    145\u001b[0m \u001b[39m            The input samples.\u001b[39;00m\n\u001b[0;32m    146\u001b[0m \u001b[39m    \"\"\"\u001b[39;00m\n\u001b[1;32m--> 147\u001b[0m     all_path_lengths \u001b[39m=\u001b[39m [t\u001b[39m.\u001b[39mpath_lengths_(X) \u001b[39mfor\u001b[39;00m t \u001b[39min\u001b[39;00m \u001b[39mself\u001b[39m\u001b[39m.\u001b[39mtrees_]\n\u001b[0;32m    148\u001b[0m     \u001b[39mreturn\u001b[39;00m np\u001b[39m.\u001b[39mmean(all_path_lengths, axis\u001b[39m=\u001b[39m\u001b[39m0\u001b[39m)\n",
      "File \u001b[1;32mD:\\AI_y3_s1\\ProblemClasses\\Isolation-Similarity-Forest\\risf\\forest.py:147\u001b[0m, in \u001b[0;36m<listcomp>\u001b[1;34m(.0)\u001b[0m\n\u001b[0;32m    139\u001b[0m \u001b[39mdef\u001b[39;00m \u001b[39mcalculate_mean_path_lengths\u001b[39m(\u001b[39mself\u001b[39m, X: np\u001b[39m.\u001b[39marray):\n\u001b[0;32m    140\u001b[0m     \u001b[39m\"\"\"\u001b[39;00m\n\u001b[0;32m    141\u001b[0m \u001b[39m    Calculates mean path_length of every sample in X matrix\u001b[39;00m\n\u001b[0;32m    142\u001b[0m \u001b[39m    Parameters\u001b[39;00m\n\u001b[1;32m   (...)\u001b[0m\n\u001b[0;32m    145\u001b[0m \u001b[39m            The input samples.\u001b[39;00m\n\u001b[0;32m    146\u001b[0m \u001b[39m    \"\"\"\u001b[39;00m\n\u001b[1;32m--> 147\u001b[0m     all_path_lengths \u001b[39m=\u001b[39m [t\u001b[39m.\u001b[39;49mpath_lengths_(X) \u001b[39mfor\u001b[39;00m t \u001b[39min\u001b[39;00m \u001b[39mself\u001b[39m\u001b[39m.\u001b[39mtrees_]\n\u001b[0;32m    148\u001b[0m     \u001b[39mreturn\u001b[39;00m np\u001b[39m.\u001b[39mmean(all_path_lengths, axis\u001b[39m=\u001b[39m\u001b[39m0\u001b[39m)\n",
      "File \u001b[1;32mD:\\AI_y3_s1\\ProblemClasses\\Isolation-Similarity-Forest\\risf\\tree.py:181\u001b[0m, in \u001b[0;36mRandomIsolationSimilarityTree.path_lengths_\u001b[1;34m(self, X)\u001b[0m\n\u001b[0;32m    178\u001b[0m \u001b[39mdef\u001b[39;00m \u001b[39mpath_lengths_\u001b[39m(\u001b[39mself\u001b[39m, X):\n\u001b[0;32m    179\u001b[0m     \u001b[39m\"\"\"Estimates depth at which ach data point would be located in this\u001b[39;00m\n\u001b[0;32m    180\u001b[0m \u001b[39m    tree\"\"\"\u001b[39;00m\n\u001b[1;32m--> 181\u001b[0m     path_lengths \u001b[39m=\u001b[39m np\u001b[39m.\u001b[39marray([\u001b[39mself\u001b[39m\u001b[39m.\u001b[39mget_leaf_x(x\u001b[39m.\u001b[39mreshape(\u001b[39m1\u001b[39m, \u001b[39m-\u001b[39m\u001b[39m1\u001b[39m))\u001b[39m.\u001b[39mdepth_estimate()\n\u001b[0;32m    182\u001b[0m                              \u001b[39mfor\u001b[39;00m x \u001b[39min\u001b[39;00m X])\n\u001b[0;32m    183\u001b[0m     \u001b[39mreturn\u001b[39;00m path_lengths\n",
      "File \u001b[1;32mD:\\AI_y3_s1\\ProblemClasses\\Isolation-Similarity-Forest\\risf\\tree.py:181\u001b[0m, in \u001b[0;36m<listcomp>\u001b[1;34m(.0)\u001b[0m\n\u001b[0;32m    178\u001b[0m \u001b[39mdef\u001b[39;00m \u001b[39mpath_lengths_\u001b[39m(\u001b[39mself\u001b[39m, X):\n\u001b[0;32m    179\u001b[0m     \u001b[39m\"\"\"Estimates depth at which ach data point would be located in this\u001b[39;00m\n\u001b[0;32m    180\u001b[0m \u001b[39m    tree\"\"\"\u001b[39;00m\n\u001b[1;32m--> 181\u001b[0m     path_lengths \u001b[39m=\u001b[39m np\u001b[39m.\u001b[39marray([\u001b[39mself\u001b[39;49m\u001b[39m.\u001b[39;49mget_leaf_x(x\u001b[39m.\u001b[39;49mreshape(\u001b[39m1\u001b[39;49m, \u001b[39m-\u001b[39;49m\u001b[39m1\u001b[39;49m))\u001b[39m.\u001b[39mdepth_estimate()\n\u001b[0;32m    182\u001b[0m                              \u001b[39mfor\u001b[39;00m x \u001b[39min\u001b[39;00m X])\n\u001b[0;32m    183\u001b[0m     \u001b[39mreturn\u001b[39;00m path_lengths\n",
      "File \u001b[1;32mD:\\AI_y3_s1\\ProblemClasses\\Isolation-Similarity-Forest\\risf\\tree.py:239\u001b[0m, in \u001b[0;36mRandomIsolationSimilarityTree.get_leaf_x\u001b[1;34m(self, x)\u001b[0m\n\u001b[0;32m    225\u001b[0m \u001b[39massert\u001b[39;00m \u001b[39mself\u001b[39m\u001b[39m.\u001b[39mOj \u001b[39mis\u001b[39;00m \u001b[39mnot\u001b[39;00m \u001b[39mNone\u001b[39;00m\n\u001b[0;32m    227\u001b[0m t \u001b[39m=\u001b[39m (\n\u001b[0;32m    228\u001b[0m     \u001b[39mself\u001b[39m\u001b[39m.\u001b[39mleft_node\n\u001b[0;32m    229\u001b[0m     \u001b[39mif\u001b[39;00m splitting\u001b[39m.\u001b[39mproject(\n\u001b[1;32m   (...)\u001b[0m\n\u001b[0;32m    236\u001b[0m     \u001b[39melse\u001b[39;00m \u001b[39mself\u001b[39m\u001b[39m.\u001b[39mright_node\n\u001b[0;32m    237\u001b[0m )\n\u001b[1;32m--> 239\u001b[0m \u001b[39mreturn\u001b[39;00m t\u001b[39m.\u001b[39;49mget_leaf_x(x)\n",
      "File \u001b[1;32mD:\\AI_y3_s1\\ProblemClasses\\Isolation-Similarity-Forest\\risf\\tree.py:239\u001b[0m, in \u001b[0;36mRandomIsolationSimilarityTree.get_leaf_x\u001b[1;34m(self, x)\u001b[0m\n\u001b[0;32m    225\u001b[0m \u001b[39massert\u001b[39;00m \u001b[39mself\u001b[39m\u001b[39m.\u001b[39mOj \u001b[39mis\u001b[39;00m \u001b[39mnot\u001b[39;00m \u001b[39mNone\u001b[39;00m\n\u001b[0;32m    227\u001b[0m t \u001b[39m=\u001b[39m (\n\u001b[0;32m    228\u001b[0m     \u001b[39mself\u001b[39m\u001b[39m.\u001b[39mleft_node\n\u001b[0;32m    229\u001b[0m     \u001b[39mif\u001b[39;00m splitting\u001b[39m.\u001b[39mproject(\n\u001b[1;32m   (...)\u001b[0m\n\u001b[0;32m    236\u001b[0m     \u001b[39melse\u001b[39;00m \u001b[39mself\u001b[39m\u001b[39m.\u001b[39mright_node\n\u001b[0;32m    237\u001b[0m )\n\u001b[1;32m--> 239\u001b[0m \u001b[39mreturn\u001b[39;00m t\u001b[39m.\u001b[39;49mget_leaf_x(x)\n",
      "    \u001b[1;31m[... skipping similar frames: RandomIsolationSimilarityTree.get_leaf_x at line 239 (4 times)]\u001b[0m\n",
      "File \u001b[1;32mD:\\AI_y3_s1\\ProblemClasses\\Isolation-Similarity-Forest\\risf\\tree.py:239\u001b[0m, in \u001b[0;36mRandomIsolationSimilarityTree.get_leaf_x\u001b[1;34m(self, x)\u001b[0m\n\u001b[0;32m    225\u001b[0m \u001b[39massert\u001b[39;00m \u001b[39mself\u001b[39m\u001b[39m.\u001b[39mOj \u001b[39mis\u001b[39;00m \u001b[39mnot\u001b[39;00m \u001b[39mNone\u001b[39;00m\n\u001b[0;32m    227\u001b[0m t \u001b[39m=\u001b[39m (\n\u001b[0;32m    228\u001b[0m     \u001b[39mself\u001b[39m\u001b[39m.\u001b[39mleft_node\n\u001b[0;32m    229\u001b[0m     \u001b[39mif\u001b[39;00m splitting\u001b[39m.\u001b[39mproject(\n\u001b[1;32m   (...)\u001b[0m\n\u001b[0;32m    236\u001b[0m     \u001b[39melse\u001b[39;00m \u001b[39mself\u001b[39m\u001b[39m.\u001b[39mright_node\n\u001b[0;32m    237\u001b[0m )\n\u001b[1;32m--> 239\u001b[0m \u001b[39mreturn\u001b[39;00m t\u001b[39m.\u001b[39;49mget_leaf_x(x)\n",
      "File \u001b[1;32mD:\\AI_y3_s1\\ProblemClasses\\Isolation-Similarity-Forest\\risf\\tree.py:229\u001b[0m, in \u001b[0;36mRandomIsolationSimilarityTree.get_leaf_x\u001b[1;34m(self, x)\u001b[0m\n\u001b[0;32m    224\u001b[0m \u001b[39massert\u001b[39;00m \u001b[39mself\u001b[39m\u001b[39m.\u001b[39mOi \u001b[39mis\u001b[39;00m \u001b[39mnot\u001b[39;00m \u001b[39mNone\u001b[39;00m\n\u001b[0;32m    225\u001b[0m \u001b[39massert\u001b[39;00m \u001b[39mself\u001b[39m\u001b[39m.\u001b[39mOj \u001b[39mis\u001b[39;00m \u001b[39mnot\u001b[39;00m \u001b[39mNone\u001b[39;00m\n\u001b[0;32m    227\u001b[0m t \u001b[39m=\u001b[39m (\n\u001b[0;32m    228\u001b[0m     \u001b[39mself\u001b[39m\u001b[39m.\u001b[39mleft_node\n\u001b[1;32m--> 229\u001b[0m     \u001b[39mif\u001b[39;00m splitting\u001b[39m.\u001b[39;49mproject(\n\u001b[0;32m    230\u001b[0m         x[:, \u001b[39mself\u001b[39;49m\u001b[39m.\u001b[39;49mfeature_index],\n\u001b[0;32m    231\u001b[0m         \u001b[39mself\u001b[39;49m\u001b[39m.\u001b[39;49mOi,\n\u001b[0;32m    232\u001b[0m         \u001b[39mself\u001b[39;49m\u001b[39m.\u001b[39;49mOj,\n\u001b[0;32m    233\u001b[0m         \u001b[39mself\u001b[39;49m\u001b[39m.\u001b[39;49mtest_distances_[\u001b[39mself\u001b[39;49m\u001b[39m.\u001b[39;49mfeature_index][\u001b[39mself\u001b[39;49m\u001b[39m.\u001b[39;49mdistance_index],\n\u001b[0;32m    234\u001b[0m     )\u001b[39m.\u001b[39mitem()\n\u001b[0;32m    235\u001b[0m     \u001b[39m<\u001b[39m\u001b[39m=\u001b[39m \u001b[39mself\u001b[39m\u001b[39m.\u001b[39msplit_point\n\u001b[0;32m    236\u001b[0m     \u001b[39melse\u001b[39;00m \u001b[39mself\u001b[39m\u001b[39m.\u001b[39mright_node\n\u001b[0;32m    237\u001b[0m )\n\u001b[0;32m    239\u001b[0m \u001b[39mreturn\u001b[39;00m t\u001b[39m.\u001b[39mget_leaf_x(x)\n",
      "File \u001b[1;32mD:\\AI_y3_s1\\ProblemClasses\\Isolation-Similarity-Forest\\risf\\splitting.py:27\u001b[0m, in \u001b[0;36mproject\u001b[1;34m(X, Oi, Oj, dist)\u001b[0m\n\u001b[0;32m     20\u001b[0m     projection_ \u001b[39m=\u001b[39m projection\u001b[39m.\u001b[39mmake_projection(\n\u001b[0;32m     21\u001b[0m         X\u001b[39m.\u001b[39mastype(np\u001b[39m.\u001b[39mfloat32)\u001b[39m.\u001b[39mreshape(\u001b[39m-\u001b[39m\u001b[39m1\u001b[39m, \u001b[39m1\u001b[39m),\n\u001b[0;32m     22\u001b[0m         np\u001b[39m.\u001b[39marray([Oi], dtype\u001b[39m=\u001b[39mnp\u001b[39m.\u001b[39mfloat32),\n\u001b[0;32m     23\u001b[0m         np\u001b[39m.\u001b[39marray([Oj], dtype\u001b[39m=\u001b[39mnp\u001b[39m.\u001b[39mfloat32),\n\u001b[0;32m     24\u001b[0m         dist,\n\u001b[0;32m     25\u001b[0m     )\n\u001b[0;32m     26\u001b[0m \u001b[39melif\u001b[39;00m \u001b[39misinstance\u001b[39m(dist, DistanceMixin):\n\u001b[1;32m---> 27\u001b[0m     projection_ \u001b[39m=\u001b[39m dist\u001b[39m.\u001b[39;49mproject(X, Oi, Oj)\n\u001b[0;32m     29\u001b[0m \u001b[39melse\u001b[39;00m:\n\u001b[0;32m     30\u001b[0m     \u001b[39mraise\u001b[39;00m \u001b[39mTypeError\u001b[39;00m(\u001b[39m\"\u001b[39m\u001b[39mUnsupported projection type\u001b[39m\u001b[39m\"\u001b[39m)\n",
      "\u001b[1;31mKeyboardInterrupt\u001b[0m: "
     ]
    }
   ],
   "source": [
    "results_distance_comb = []\n",
    "\n",
    "for data_type in (data_types := tqdm([\"numerical\"])):#DATASETS.keys())):\n",
    "    data_types.set_description(data_type)\n",
    "    distances_to_use = get_binary_distances_choice(DISTANCES[data_type])\n",
    "    for dataset_name in (dataset_names := tqdm(DATASETS[data_type])):\n",
    "        dataset_names.set_description(dataset_name)\n",
    "        for dist_to_use in tqdm(distances_to_use, desc=\"distances_used\"):\n",
    "            dist = DISTANCES[data_type][dist_to_use]\n",
    "            \n",
    "            data = get_dataset(data_type, DATA_DIRS[data_type], dataset_name)\n",
    "            aucs = perform_experiment(CLF, data, dist, OBJ_RATIO, {})\n",
    "\n",
    "            dist_short = '_'.join([x.__class__.__name__[:3] for x in dist])\n",
    "            \n",
    "            results = init_results(CLF, dataset_name, data_type, aucs, {\"distances\": dist_short})\n",
    "            \n",
    "            results_distance_comb.extend(results)"
   ]
  },
  {
   "cell_type": "code",
   "execution_count": 15,
   "metadata": {},
   "outputs": [],
   "source": [
    "results_distance_comb_df = pd.DataFrame(results_distance_comb)"
   ]
  },
  {
   "cell_type": "code",
   "execution_count": 21,
   "metadata": {},
   "outputs": [
    {
     "name": "stderr",
     "output_type": "stream",
     "text": [
      "c:\\Users\\sebas\\AppData\\pypoetry\\virtualenvs\\random-isolation-similarity-forest-bqxKmFq8-py3.10\\lib\\site-packages\\seaborn\\axisgrid.py:712: UserWarning: Using the barplot function without specifying `order` is likely to produce an incorrect plot.\n",
      "  warnings.warn(warning)\n"
     ]
    },
    {
     "data": {
      "image/png": "[encoded data removed]",
      "text/plain": [
       "<Figure size 1500x800 with 2 Axes>"
      ]
     },
     "metadata": {},
     "output_type": "display_data"
    }
   ],
   "source": [
    "g = sns.FacetGrid(results_distance_comb_df, col=\"dataset_name\")\n",
    "g.map(sns.barplot,'distances', 'auc')\n",
    "plt.gcf().set_size_inches(15, 8)"
   ]
  },
  {
   "cell_type": "code",
   "execution_count": 4,
   "metadata": {},
   "outputs": [],
   "source": [
    "def test_one_parameter(param_name, options, distances):\n",
    "    results_all = []\n",
    "    for clf in [\"IForest\", \"RISF\"]:\n",
    "        for data_type in (data_types := tqdm(DATASETS.keys())):\n",
    "            if data_type == \"graph\":\n",
    "                continue # Just for now as this adds another level of complexity\n",
    "            data_types.set_description(data_type)\n",
    "            for dataset_name in (dataset_names := tqdm(DATASETS[data_type])):\n",
    "                dataset_names.set_description(dataset_name)\n",
    "                for option in tqdm(options, desc=param_name):\n",
    "                    clf_kwargs = {param_name: option}\n",
    "                    \n",
    "                    data = get_dataset(data_type, DATA_DIRS[data_type], dataset_name)\n",
    "                    aucs = perform_experiment(clf, data, distances[data_type], OBJ_RATIO, clf_kwargs)\n",
    "\n",
    "                    results = init_results(clf, dataset_name, data_type, aucs, clf_kwargs)\n",
    "                    results_all.extend(results)\n",
    "\n",
    "    pd.DataFrame(results_all).to_csv(f\"results_{param_name}.csv\", index=False)\n"
   ]
  },
  {
   "cell_type": "code",
   "execution_count": 5,
   "metadata": {},
   "outputs": [],
   "source": [
    "OBJ_RATIO = 0.5 #! I wonder if this has led to such deterioration of results\n",
    "\n",
    "DISTANCES = {\n",
    "    \"graph\": [IpsenMikailovDist()],\n",
    "    \"numerical\" : [EuclideanDist(), ManhattanDist(), CosineDist()],\n",
    "    \"categorical\":[JaccardDist()],\n",
    "    \"timeseries\": [EuclideanDist(), CosineDist()],\n",
    "}"
   ]
  },
  {
   "attachments": {},
   "cell_type": "markdown",
   "metadata": {},
   "source": [
    "Let's see how number of trees changes the results."
   ]
  },
  {
   "cell_type": "code",
   "execution_count": 6,
   "metadata": {},
   "outputs": [
    {
     "data": {
      "application/vnd.jupyter.widget-view+json": {
       "model_id": "9b965abf33854627b2b31d692c34062e",
       "version_major": 2,
       "version_minor": 0
      },
      "text/plain": [
       "  0%|          | 0/4 [00:00<?, ?it/s]"
      ]
     },
     "metadata": {},
     "output_type": "display_data"
    },
    {
     "data": {
      "application/vnd.jupyter.widget-view+json": {
       "model_id": "475183bcebc94ab3a7cec128ae61adb1",
       "version_major": 2,
       "version_minor": 0
      },
      "text/plain": [
       "  0%|          | 0/4 [00:00<?, ?it/s]"
      ]
     },
     "metadata": {},
     "output_type": "display_data"
    },
    {
     "data": {
      "application/vnd.jupyter.widget-view+json": {
       "model_id": "944afcdde4c742f3b84e80a1d4f9f6c4",
       "version_major": 2,
       "version_minor": 0
      },
      "text/plain": [
       "n_estimators:   0%|          | 0/8 [00:00<?, ?it/s]"
      ]
     },
     "metadata": {},
     "output_type": "display_data"
    },
    {
     "data": {
      "application/vnd.jupyter.widget-view+json": {
       "model_id": "e176da68572744ee88703ee5843e94f4",
       "version_major": 2,
       "version_minor": 0
      },
      "text/plain": [
       "repeated holdout:   0%|          | 0/3 [00:00<?, ?it/s]"
      ]
     },
     "metadata": {},
     "output_type": "display_data"
    },
    {
     "data": {
      "application/vnd.jupyter.widget-view+json": {
       "model_id": "e9e03a1c7369455582a8117fbb5e4c12",
       "version_major": 2,
       "version_minor": 0
      },
      "text/plain": [
       "repeated holdout:   0%|          | 0/3 [00:00<?, ?it/s]"
      ]
     },
     "metadata": {},
     "output_type": "display_data"
    },
    {
     "data": {
      "application/vnd.jupyter.widget-view+json": {
       "model_id": "e0bb846eba99456093b3dd1f599227e2",
       "version_major": 2,
       "version_minor": 0
      },
      "text/plain": [
       "repeated holdout:   0%|          | 0/3 [00:00<?, ?it/s]"
      ]
     },
     "metadata": {},
     "output_type": "display_data"
    },
    {
     "data": {
      "application/vnd.jupyter.widget-view+json": {
       "model_id": "1013e8da950d4663a718beba28ab2506",
       "version_major": 2,
       "version_minor": 0
      },
      "text/plain": [
       "repeated holdout:   0%|          | 0/3 [00:00<?, ?it/s]"
      ]
     },
     "metadata": {},
     "output_type": "display_data"
    },
    {
     "data": {
      "application/vnd.jupyter.widget-view+json": {
       "model_id": "7403531f9a734faca9c44cb525355aa3",
       "version_major": 2,
       "version_minor": 0
      },
      "text/plain": [
       "repeated holdout:   0%|          | 0/3 [00:00<?, ?it/s]"
      ]
     },
     "metadata": {},
     "output_type": "display_data"
    },
    {
     "data": {
      "application/vnd.jupyter.widget-view+json": {
       "model_id": "948d704e69134392906cbf9f21935cef",
       "version_major": 2,
       "version_minor": 0
      },
      "text/plain": [
       "repeated holdout:   0%|          | 0/3 [00:00<?, ?it/s]"
      ]
     },
     "metadata": {},
     "output_type": "display_data"
    },
    {
     "data": {
      "application/vnd.jupyter.widget-view+json": {
       "model_id": "b6c7e6add4cb41ef84727171fefd6245",
       "version_major": 2,
       "version_minor": 0
      },
      "text/plain": [
       "repeated holdout:   0%|          | 0/3 [00:00<?, ?it/s]"
      ]
     },
     "metadata": {},
     "output_type": "display_data"
    },
    {
     "data": {
      "application/vnd.jupyter.widget-view+json": {
       "model_id": "5c1c488694814f889ec530d476187d33",
       "version_major": 2,
       "version_minor": 0
      },
      "text/plain": [
       "repeated holdout:   0%|          | 0/3 [00:00<?, ?it/s]"
      ]
     },
     "metadata": {},
     "output_type": "display_data"
    },
    {
     "data": {
      "application/vnd.jupyter.widget-view+json": {
       "model_id": "e6b49ecf93b34dd88438b5f8b4b7c512",
       "version_major": 2,
       "version_minor": 0
      },
      "text/plain": [
       "n_estimators:   0%|          | 0/8 [00:00<?, ?it/s]"
      ]
     },
     "metadata": {},
     "output_type": "display_data"
    },
    {
     "data": {
      "application/vnd.jupyter.widget-view+json": {
       "model_id": "7833269fca3c4710930555f1ba079954",
       "version_major": 2,
       "version_minor": 0
      },
      "text/plain": [
       "repeated holdout:   0%|          | 0/3 [00:00<?, ?it/s]"
      ]
     },
     "metadata": {},
     "output_type": "display_data"
    },
    {
     "data": {
      "application/vnd.jupyter.widget-view+json": {
       "model_id": "549e911a269946ab86cd4035cdc25e2d",
       "version_major": 2,
       "version_minor": 0
      },
      "text/plain": [
       "repeated holdout:   0%|          | 0/3 [00:00<?, ?it/s]"
      ]
     },
     "metadata": {},
     "output_type": "display_data"
    },
    {
     "data": {
      "application/vnd.jupyter.widget-view+json": {
       "model_id": "7913e55a17c04cc6852e88d0b7cf5662",
       "version_major": 2,
       "version_minor": 0
      },
      "text/plain": [
       "repeated holdout:   0%|          | 0/3 [00:00<?, ?it/s]"
      ]
     },
     "metadata": {},
     "output_type": "display_data"
    },
    {
     "data": {
      "application/vnd.jupyter.widget-view+json": {
       "model_id": "749df1d8dbfe4c5eb37fe5e333ca5a0d",
       "version_major": 2,
       "version_minor": 0
      },
      "text/plain": [
       "repeated holdout:   0%|          | 0/3 [00:00<?, ?it/s]"
      ]
     },
     "metadata": {},
     "output_type": "display_data"
    },
    {
     "data": {
      "application/vnd.jupyter.widget-view+json": {
       "model_id": "6a9b047742274a2285a5d4966720fac4",
       "version_major": 2,
       "version_minor": 0
      },
      "text/plain": [
       "repeated holdout:   0%|          | 0/3 [00:00<?, ?it/s]"
      ]
     },
     "metadata": {},
     "output_type": "display_data"
    },
    {
     "data": {
      "application/vnd.jupyter.widget-view+json": {
       "model_id": "982afde313dc49e7b2d991e41b5c7a1c",
       "version_major": 2,
       "version_minor": 0
      },
      "text/plain": [
       "repeated holdout:   0%|          | 0/3 [00:00<?, ?it/s]"
      ]
     },
     "metadata": {},
     "output_type": "display_data"
    },
    {
     "data": {
      "application/vnd.jupyter.widget-view+json": {
       "model_id": "de1928563c5548aab0e5496e91657c64",
       "version_major": 2,
       "version_minor": 0
      },
      "text/plain": [
       "repeated holdout:   0%|          | 0/3 [00:00<?, ?it/s]"
      ]
     },
     "metadata": {},
     "output_type": "display_data"
    },
    {
     "data": {
      "application/vnd.jupyter.widget-view+json": {
       "model_id": "674d8d3dad9747a5aa567d871b2c6eaf",
       "version_major": 2,
       "version_minor": 0
      },
      "text/plain": [
       "repeated holdout:   0%|          | 0/3 [00:00<?, ?it/s]"
      ]
     },
     "metadata": {},
     "output_type": "display_data"
    },
    {
     "data": {
      "application/vnd.jupyter.widget-view+json": {
       "model_id": "879ce41b77594a83af2ef159346f545b",
       "version_major": 2,
       "version_minor": 0
      },
      "text/plain": [
       "n_estimators:   0%|          | 0/8 [00:00<?, ?it/s]"
      ]
     },
     "metadata": {},
     "output_type": "display_data"
    },
    {
     "data": {
      "application/vnd.jupyter.widget-view+json": {
       "model_id": "66beb30aa71e4eb9a4f34438ae8b3b03",
       "version_major": 2,
       "version_minor": 0
      },
      "text/plain": [
       "repeated holdout:   0%|          | 0/3 [00:00<?, ?it/s]"
      ]
     },
     "metadata": {},
     "output_type": "display_data"
    },
    {
     "data": {
      "application/vnd.jupyter.widget-view+json": {
       "model_id": "7a38a4b5c79041429468a189520fcabf",
       "version_major": 2,
       "version_minor": 0
      },
      "text/plain": [
       "repeated holdout:   0%|          | 0/3 [00:00<?, ?it/s]"
      ]
     },
     "metadata": {},
     "output_type": "display_data"
    },
    {
     "data": {
      "application/vnd.jupyter.widget-view+json": {
       "model_id": "5ae8a9418b9c417dad2d6d63a20fb757",
       "version_major": 2,
       "version_minor": 0
      },
      "text/plain": [
       "repeated holdout:   0%|          | 0/3 [00:00<?, ?it/s]"
      ]
     },
     "metadata": {},
     "output_type": "display_data"
    },
    {
     "data": {
      "application/vnd.jupyter.widget-view+json": {
       "model_id": "3b88289c5c8943249b4cc72788c3b541",
       "version_major": 2,
       "version_minor": 0
      },
      "text/plain": [
       "repeated holdout:   0%|          | 0/3 [00:00<?, ?it/s]"
      ]
     },
     "metadata": {},
     "output_type": "display_data"
    },
    {
     "data": {
      "application/vnd.jupyter.widget-view+json": {
       "model_id": "69797f7eddda42e68b4797892da8b7fd",
       "version_major": 2,
       "version_minor": 0
      },
      "text/plain": [
       "repeated holdout:   0%|          | 0/3 [00:00<?, ?it/s]"
      ]
     },
     "metadata": {},
     "output_type": "display_data"
    },
    {
     "data": {
      "application/vnd.jupyter.widget-view+json": {
       "model_id": "32ddb94009994e2889f5839773782e98",
       "version_major": 2,
       "version_minor": 0
      },
      "text/plain": [
       "repeated holdout:   0%|          | 0/3 [00:00<?, ?it/s]"
      ]
     },
     "metadata": {},
     "output_type": "display_data"
    },
    {
     "data": {
      "application/vnd.jupyter.widget-view+json": {
       "model_id": "1a165899f32243139a2efd2b14c712a1",
       "version_major": 2,
       "version_minor": 0
      },
      "text/plain": [
       "repeated holdout:   0%|          | 0/3 [00:00<?, ?it/s]"
      ]
     },
     "metadata": {},
     "output_type": "display_data"
    },
    {
     "data": {
      "application/vnd.jupyter.widget-view+json": {
       "model_id": "7574116f9a664dcca389a63bade46692",
       "version_major": 2,
       "version_minor": 0
      },
      "text/plain": [
       "repeated holdout:   0%|          | 0/3 [00:00<?, ?it/s]"
      ]
     },
     "metadata": {},
     "output_type": "display_data"
    },
    {
     "data": {
      "application/vnd.jupyter.widget-view+json": {
       "model_id": "f9cfd07dc03c4514b12bec72ff98b858",
       "version_major": 2,
       "version_minor": 0
      },
      "text/plain": [
       "n_estimators:   0%|          | 0/8 [00:00<?, ?it/s]"
      ]
     },
     "metadata": {},
     "output_type": "display_data"
    },
    {
     "data": {
      "application/vnd.jupyter.widget-view+json": {
       "model_id": "99d8de8665b44d29be9bd2e5020ec2f4",
       "version_major": 2,
       "version_minor": 0
      },
      "text/plain": [
       "repeated holdout:   0%|          | 0/3 [00:00<?, ?it/s]"
      ]
     },
     "metadata": {},
     "output_type": "display_data"
    },
    {
     "data": {
      "application/vnd.jupyter.widget-view+json": {
       "model_id": "9708e1fa2a854a45b1a19dbaa87801f2",
       "version_major": 2,
       "version_minor": 0
      },
      "text/plain": [
       "repeated holdout:   0%|          | 0/3 [00:00<?, ?it/s]"
      ]
     },
     "metadata": {},
     "output_type": "display_data"
    },
    {
     "data": {
      "application/vnd.jupyter.widget-view+json": {
       "model_id": "85994da76c6e423b883bdcb49e31a959",
       "version_major": 2,
       "version_minor": 0
      },
      "text/plain": [
       "repeated holdout:   0%|          | 0/3 [00:00<?, ?it/s]"
      ]
     },
     "metadata": {},
     "output_type": "display_data"
    },
    {
     "data": {
      "application/vnd.jupyter.widget-view+json": {
       "model_id": "83ca178651c84ae28fa07eaf8e2512cd",
       "version_major": 2,
       "version_minor": 0
      },
      "text/plain": [
       "repeated holdout:   0%|          | 0/3 [00:00<?, ?it/s]"
      ]
     },
     "metadata": {},
     "output_type": "display_data"
    },
    {
     "data": {
      "application/vnd.jupyter.widget-view+json": {
       "model_id": "f91c32705a8e49248e3f108ae6d3a167",
       "version_major": 2,
       "version_minor": 0
      },
      "text/plain": [
       "repeated holdout:   0%|          | 0/3 [00:00<?, ?it/s]"
      ]
     },
     "metadata": {},
     "output_type": "display_data"
    },
    {
     "data": {
      "application/vnd.jupyter.widget-view+json": {
       "model_id": "b9a8847cc0fc468a8f6b1c07f73dddec",
       "version_major": 2,
       "version_minor": 0
      },
      "text/plain": [
       "repeated holdout:   0%|          | 0/3 [00:00<?, ?it/s]"
      ]
     },
     "metadata": {},
     "output_type": "display_data"
    },
    {
     "data": {
      "application/vnd.jupyter.widget-view+json": {
       "model_id": "27cb85ad265749328d3c9dd183882154",
       "version_major": 2,
       "version_minor": 0
      },
      "text/plain": [
       "repeated holdout:   0%|          | 0/3 [00:00<?, ?it/s]"
      ]
     },
     "metadata": {},
     "output_type": "display_data"
    },
    {
     "data": {
      "application/vnd.jupyter.widget-view+json": {
       "model_id": "0d66269292d64ffaad74efaed5c46301",
       "version_major": 2,
       "version_minor": 0
      },
      "text/plain": [
       "repeated holdout:   0%|          | 0/3 [00:00<?, ?it/s]"
      ]
     },
     "metadata": {},
     "output_type": "display_data"
    },
    {
     "data": {
      "application/vnd.jupyter.widget-view+json": {
       "model_id": "6d14d2afb7044181ae96e038ae70ce71",
       "version_major": 2,
       "version_minor": 0
      },
      "text/plain": [
       "  0%|          | 0/1 [00:00<?, ?it/s]"
      ]
     },
     "metadata": {},
     "output_type": "display_data"
    },
    {
     "data": {
      "application/vnd.jupyter.widget-view+json": {
       "model_id": "299dc26f26cc40f4a8c98f5a2f9ee884",
       "version_major": 2,
       "version_minor": 0
      },
      "text/plain": [
       "n_estimators:   0%|          | 0/8 [00:00<?, ?it/s]"
      ]
     },
     "metadata": {},
     "output_type": "display_data"
    },
    {
     "data": {
      "application/vnd.jupyter.widget-view+json": {
       "model_id": "49a730c9f48b488aaa16505d07b3aa6a",
       "version_major": 2,
       "version_minor": 0
      },
      "text/plain": [
       "repeated holdout:   0%|          | 0/3 [00:00<?, ?it/s]"
      ]
     },
     "metadata": {},
     "output_type": "display_data"
    },
    {
     "data": {
      "application/vnd.jupyter.widget-view+json": {
       "model_id": "077abbd506d348d98d17e81c252433bf",
       "version_major": 2,
       "version_minor": 0
      },
      "text/plain": [
       "repeated holdout:   0%|          | 0/3 [00:00<?, ?it/s]"
      ]
     },
     "metadata": {},
     "output_type": "display_data"
    },
    {
     "data": {
      "application/vnd.jupyter.widget-view+json": {
       "model_id": "627875a40f2d42f6979f195ae5135f57",
       "version_major": 2,
       "version_minor": 0
      },
      "text/plain": [
       "repeated holdout:   0%|          | 0/3 [00:00<?, ?it/s]"
      ]
     },
     "metadata": {},
     "output_type": "display_data"
    },
    {
     "data": {
      "application/vnd.jupyter.widget-view+json": {
       "model_id": "5e251371c86b4ec1a124ee305c8aa593",
       "version_major": 2,
       "version_minor": 0
      },
      "text/plain": [
       "repeated holdout:   0%|          | 0/3 [00:00<?, ?it/s]"
      ]
     },
     "metadata": {},
     "output_type": "display_data"
    },
    {
     "data": {
      "application/vnd.jupyter.widget-view+json": {
       "model_id": "a38d3d6a90324c22abf9a492b5a5f910",
       "version_major": 2,
       "version_minor": 0
      },
      "text/plain": [
       "repeated holdout:   0%|          | 0/3 [00:00<?, ?it/s]"
      ]
     },
     "metadata": {},
     "output_type": "display_data"
    },
    {
     "data": {
      "application/vnd.jupyter.widget-view+json": {
       "model_id": "9dabcbfebbc24f2b865f52cf4aadebad",
       "version_major": 2,
       "version_minor": 0
      },
      "text/plain": [
       "repeated holdout:   0%|          | 0/3 [00:00<?, ?it/s]"
      ]
     },
     "metadata": {},
     "output_type": "display_data"
    },
    {
     "data": {
      "application/vnd.jupyter.widget-view+json": {
       "model_id": "dbcc8e8a157340db89c4c7b23c2ca760",
       "version_major": 2,
       "version_minor": 0
      },
      "text/plain": [
       "repeated holdout:   0%|          | 0/3 [00:00<?, ?it/s]"
      ]
     },
     "metadata": {},
     "output_type": "display_data"
    },
    {
     "data": {
      "application/vnd.jupyter.widget-view+json": {
       "model_id": "34ac9a8226b14755805b1ba81ed14dd2",
       "version_major": 2,
       "version_minor": 0
      },
      "text/plain": [
       "repeated holdout:   0%|          | 0/3 [00:00<?, ?it/s]"
      ]
     },
     "metadata": {},
     "output_type": "display_data"
    },
    {
     "data": {
      "application/vnd.jupyter.widget-view+json": {
       "model_id": "4647f05c6e1f4aaeb677abec94e5c4e6",
       "version_major": 2,
       "version_minor": 0
      },
      "text/plain": [
       "  0%|          | 0/1 [00:00<?, ?it/s]"
      ]
     },
     "metadata": {},
     "output_type": "display_data"
    },
    {
     "data": {
      "application/vnd.jupyter.widget-view+json": {
       "model_id": "2ec08f077e664f43a4e774b060689e60",
       "version_major": 2,
       "version_minor": 0
      },
      "text/plain": [
       "n_estimators:   0%|          | 0/8 [00:00<?, ?it/s]"
      ]
     },
     "metadata": {},
     "output_type": "display_data"
    },
    {
     "data": {
      "application/vnd.jupyter.widget-view+json": {
       "model_id": "b63a900c184f4d968c36b7bf694eaafd",
       "version_major": 2,
       "version_minor": 0
      },
      "text/plain": [
       "repeated holdout:   0%|          | 0/3 [00:00<?, ?it/s]"
      ]
     },
     "metadata": {},
     "output_type": "display_data"
    },
    {
     "data": {
      "application/vnd.jupyter.widget-view+json": {
       "model_id": "9240191aa14442a5ad52db7004e655ee",
       "version_major": 2,
       "version_minor": 0
      },
      "text/plain": [
       "repeated holdout:   0%|          | 0/3 [00:00<?, ?it/s]"
      ]
     },
     "metadata": {},
     "output_type": "display_data"
    },
    {
     "data": {
      "application/vnd.jupyter.widget-view+json": {
       "model_id": "aede0f81960b4de4a96be8e1d4fe1784",
       "version_major": 2,
       "version_minor": 0
      },
      "text/plain": [
       "repeated holdout:   0%|          | 0/3 [00:00<?, ?it/s]"
      ]
     },
     "metadata": {},
     "output_type": "display_data"
    },
    {
     "data": {
      "application/vnd.jupyter.widget-view+json": {
       "model_id": "21b07d73e839498aa2b88dd2406f6248",
       "version_major": 2,
       "version_minor": 0
      },
      "text/plain": [
       "repeated holdout:   0%|          | 0/3 [00:00<?, ?it/s]"
      ]
     },
     "metadata": {},
     "output_type": "display_data"
    },
    {
     "data": {
      "application/vnd.jupyter.widget-view+json": {
       "model_id": "2128abaff0994311b7d31beeadf4c4c9",
       "version_major": 2,
       "version_minor": 0
      },
      "text/plain": [
       "repeated holdout:   0%|          | 0/3 [00:00<?, ?it/s]"
      ]
     },
     "metadata": {},
     "output_type": "display_data"
    },
    {
     "data": {
      "application/vnd.jupyter.widget-view+json": {
       "model_id": "39fff035c4d2469c9b6c4158d989422e",
       "version_major": 2,
       "version_minor": 0
      },
      "text/plain": [
       "repeated holdout:   0%|          | 0/3 [00:00<?, ?it/s]"
      ]
     },
     "metadata": {},
     "output_type": "display_data"
    },
    {
     "data": {
      "application/vnd.jupyter.widget-view+json": {
       "model_id": "d56b5546d3f940e1aaed55a5726c4d84",
       "version_major": 2,
       "version_minor": 0
      },
      "text/plain": [
       "repeated holdout:   0%|          | 0/3 [00:00<?, ?it/s]"
      ]
     },
     "metadata": {},
     "output_type": "display_data"
    },
    {
     "data": {
      "application/vnd.jupyter.widget-view+json": {
       "model_id": "07f0cbc663504adca136137410314a7a",
       "version_major": 2,
       "version_minor": 0
      },
      "text/plain": [
       "repeated holdout:   0%|          | 0/3 [00:00<?, ?it/s]"
      ]
     },
     "metadata": {},
     "output_type": "display_data"
    },
    {
     "data": {
      "application/vnd.jupyter.widget-view+json": {
       "model_id": "8ce01f1f75134e2facdfadb100b64837",
       "version_major": 2,
       "version_minor": 0
      },
      "text/plain": [
       "  0%|          | 0/4 [00:00<?, ?it/s]"
      ]
     },
     "metadata": {},
     "output_type": "display_data"
    },
    {
     "data": {
      "application/vnd.jupyter.widget-view+json": {
       "model_id": "ae62e9de773d4f6f82b978ab997d1376",
       "version_major": 2,
       "version_minor": 0
      },
      "text/plain": [
       "  0%|          | 0/4 [00:00<?, ?it/s]"
      ]
     },
     "metadata": {},
     "output_type": "display_data"
    },
    {
     "data": {
      "application/vnd.jupyter.widget-view+json": {
       "model_id": "e824a53c9cdb448a906818e695b0647f",
       "version_major": 2,
       "version_minor": 0
      },
      "text/plain": [
       "n_estimators:   0%|          | 0/8 [00:00<?, ?it/s]"
      ]
     },
     "metadata": {},
     "output_type": "display_data"
    },
    {
     "data": {
      "application/vnd.jupyter.widget-view+json": {
       "model_id": "f3ace67f93be4525abe254f37a22468d",
       "version_major": 2,
       "version_minor": 0
      },
      "text/plain": [
       "repeated holdout:   0%|          | 0/3 [00:00<?, ?it/s]"
      ]
     },
     "metadata": {},
     "output_type": "display_data"
    },
    {
     "data": {
      "application/vnd.jupyter.widget-view+json": {
       "model_id": "8c5e88928c2c4ac2891bab323b3d75ea",
       "version_major": 2,
       "version_minor": 0
      },
      "text/plain": [
       "repeated holdout:   0%|          | 0/3 [00:00<?, ?it/s]"
      ]
     },
     "metadata": {},
     "output_type": "display_data"
    },
    {
     "data": {
      "application/vnd.jupyter.widget-view+json": {
       "model_id": "0cff6e75cb8f427c99231149a570839f",
       "version_major": 2,
       "version_minor": 0
      },
      "text/plain": [
       "repeated holdout:   0%|          | 0/3 [00:00<?, ?it/s]"
      ]
     },
     "metadata": {},
     "output_type": "display_data"
    },
    {
     "data": {
      "application/vnd.jupyter.widget-view+json": {
       "model_id": "409e20b7a6df41f9ab6e7322be0b4757",
       "version_major": 2,
       "version_minor": 0
      },
      "text/plain": [
       "repeated holdout:   0%|          | 0/3 [00:00<?, ?it/s]"
      ]
     },
     "metadata": {},
     "output_type": "display_data"
    },
    {
     "data": {
      "application/vnd.jupyter.widget-view+json": {
       "model_id": "5098c342d4a14c359779e8d9527f3760",
       "version_major": 2,
       "version_minor": 0
      },
      "text/plain": [
       "repeated holdout:   0%|          | 0/3 [00:00<?, ?it/s]"
      ]
     },
     "metadata": {},
     "output_type": "display_data"
    },
    {
     "data": {
      "application/vnd.jupyter.widget-view+json": {
       "model_id": "4575b381d7f44449a9f7041148b4e3c3",
       "version_major": 2,
       "version_minor": 0
      },
      "text/plain": [
       "repeated holdout:   0%|          | 0/3 [00:00<?, ?it/s]"
      ]
     },
     "metadata": {},
     "output_type": "display_data"
    },
    {
     "data": {
      "application/vnd.jupyter.widget-view+json": {
       "model_id": "0ef1344afd244ae6a20fc3a9c4684c59",
       "version_major": 2,
       "version_minor": 0
      },
      "text/plain": [
       "repeated holdout:   0%|          | 0/3 [00:00<?, ?it/s]"
      ]
     },
     "metadata": {},
     "output_type": "display_data"
    },
    {
     "data": {
      "application/vnd.jupyter.widget-view+json": {
       "model_id": "4bbebcd5c883461c8ed47f3d2c7f2bf0",
       "version_major": 2,
       "version_minor": 0
      },
      "text/plain": [
       "repeated holdout:   0%|          | 0/3 [00:00<?, ?it/s]"
      ]
     },
     "metadata": {},
     "output_type": "display_data"
    },
    {
     "data": {
      "application/vnd.jupyter.widget-view+json": {
       "model_id": "e6e0c946f4f34311a6709f1d7ba3472f",
       "version_major": 2,
       "version_minor": 0
      },
      "text/plain": [
       "n_estimators:   0%|          | 0/8 [00:00<?, ?it/s]"
      ]
     },
     "metadata": {},
     "output_type": "display_data"
    },
    {
     "data": {
      "application/vnd.jupyter.widget-view+json": {
       "model_id": "511424dbefb846e4abae658f1e50f921",
       "version_major": 2,
       "version_minor": 0
      },
      "text/plain": [
       "repeated holdout:   0%|          | 0/3 [00:00<?, ?it/s]"
      ]
     },
     "metadata": {},
     "output_type": "display_data"
    },
    {
     "data": {
      "application/vnd.jupyter.widget-view+json": {
       "model_id": "f18a5206719945a5923d4bebe977c6c1",
       "version_major": 2,
       "version_minor": 0
      },
      "text/plain": [
       "repeated holdout:   0%|          | 0/3 [00:00<?, ?it/s]"
      ]
     },
     "metadata": {},
     "output_type": "display_data"
    },
    {
     "data": {
      "application/vnd.jupyter.widget-view+json": {
       "model_id": "76a8b0a0987b4d23a40508f40dfb7501",
       "version_major": 2,
       "version_minor": 0
      },
      "text/plain": [
       "repeated holdout:   0%|          | 0/3 [00:00<?, ?it/s]"
      ]
     },
     "metadata": {},
     "output_type": "display_data"
    },
    {
     "data": {
      "application/vnd.jupyter.widget-view+json": {
       "model_id": "3150ff3c68784333b990984e6d12b6c6",
       "version_major": 2,
       "version_minor": 0
      },
      "text/plain": [
       "repeated holdout:   0%|          | 0/3 [00:00<?, ?it/s]"
      ]
     },
     "metadata": {},
     "output_type": "display_data"
    },
    {
     "data": {
      "application/vnd.jupyter.widget-view+json": {
       "model_id": "314e3d48b1a244b1987502f788724d5b",
       "version_major": 2,
       "version_minor": 0
      },
      "text/plain": [
       "repeated holdout:   0%|          | 0/3 [00:00<?, ?it/s]"
      ]
     },
     "metadata": {},
     "output_type": "display_data"
    },
    {
     "data": {
      "application/vnd.jupyter.widget-view+json": {
       "model_id": "9c17081e8ecf4259b7d3dad709c89371",
       "version_major": 2,
       "version_minor": 0
      },
      "text/plain": [
       "repeated holdout:   0%|          | 0/3 [00:00<?, ?it/s]"
      ]
     },
     "metadata": {},
     "output_type": "display_data"
    },
    {
     "data": {
      "application/vnd.jupyter.widget-view+json": {
       "model_id": "b0c6d5302c0b4208a7599025745d06cc",
       "version_major": 2,
       "version_minor": 0
      },
      "text/plain": [
       "repeated holdout:   0%|          | 0/3 [00:00<?, ?it/s]"
      ]
     },
     "metadata": {},
     "output_type": "display_data"
    },
    {
     "data": {
      "application/vnd.jupyter.widget-view+json": {
       "model_id": "ad04898d27d84255b2097ac80f968cf1",
       "version_major": 2,
       "version_minor": 0
      },
      "text/plain": [
       "repeated holdout:   0%|          | 0/3 [00:00<?, ?it/s]"
      ]
     },
     "metadata": {},
     "output_type": "display_data"
    },
    {
     "data": {
      "application/vnd.jupyter.widget-view+json": {
       "model_id": "9520f594de984c5ab1727aba2e00bf56",
       "version_major": 2,
       "version_minor": 0
      },
      "text/plain": [
       "n_estimators:   0%|          | 0/8 [00:00<?, ?it/s]"
      ]
     },
     "metadata": {},
     "output_type": "display_data"
    },
    {
     "data": {
      "application/vnd.jupyter.widget-view+json": {
       "model_id": "4cbf6506b1214f1994ee710e3d8124a4",
       "version_major": 2,
       "version_minor": 0
      },
      "text/plain": [
       "repeated holdout:   0%|          | 0/3 [00:00<?, ?it/s]"
      ]
     },
     "metadata": {},
     "output_type": "display_data"
    },
    {
     "data": {
      "application/vnd.jupyter.widget-view+json": {
       "model_id": "bb79d999bdfd41bea9605a9a1681bfec",
       "version_major": 2,
       "version_minor": 0
      },
      "text/plain": [
       "repeated holdout:   0%|          | 0/3 [00:00<?, ?it/s]"
      ]
     },
     "metadata": {},
     "output_type": "display_data"
    },
    {
     "data": {
      "application/vnd.jupyter.widget-view+json": {
       "model_id": "e643bdb5e0b14589b77db86e3faab678",
       "version_major": 2,
       "version_minor": 0
      },
      "text/plain": [
       "repeated holdout:   0%|          | 0/3 [00:00<?, ?it/s]"
      ]
     },
     "metadata": {},
     "output_type": "display_data"
    },
    {
     "data": {
      "application/vnd.jupyter.widget-view+json": {
       "model_id": "cb4a2e9dd90940f7940f09f9f0ad11e8",
       "version_major": 2,
       "version_minor": 0
      },
      "text/plain": [
       "repeated holdout:   0%|          | 0/3 [00:00<?, ?it/s]"
      ]
     },
     "metadata": {},
     "output_type": "display_data"
    },
    {
     "data": {
      "application/vnd.jupyter.widget-view+json": {
       "model_id": "7eac518e4cde4c678ffd90563d8f9405",
       "version_major": 2,
       "version_minor": 0
      },
      "text/plain": [
       "repeated holdout:   0%|          | 0/3 [00:00<?, ?it/s]"
      ]
     },
     "metadata": {},
     "output_type": "display_data"
    },
    {
     "data": {
      "application/vnd.jupyter.widget-view+json": {
       "model_id": "322e7563c8584b528f503cb1131e63ba",
       "version_major": 2,
       "version_minor": 0
      },
      "text/plain": [
       "repeated holdout:   0%|          | 0/3 [00:00<?, ?it/s]"
      ]
     },
     "metadata": {},
     "output_type": "display_data"
    },
    {
     "data": {
      "application/vnd.jupyter.widget-view+json": {
       "model_id": "d9f7044a24e44302a9c2a5a5825e860a",
       "version_major": 2,
       "version_minor": 0
      },
      "text/plain": [
       "repeated holdout:   0%|          | 0/3 [00:00<?, ?it/s]"
      ]
     },
     "metadata": {},
     "output_type": "display_data"
    },
    {
     "data": {
      "application/vnd.jupyter.widget-view+json": {
       "model_id": "72f3caaaa9934cf1ab4d67a3730843a2",
       "version_major": 2,
       "version_minor": 0
      },
      "text/plain": [
       "repeated holdout:   0%|          | 0/3 [00:00<?, ?it/s]"
      ]
     },
     "metadata": {},
     "output_type": "display_data"
    },
    {
     "data": {
      "application/vnd.jupyter.widget-view+json": {
       "model_id": "588c76f3ce1840e7aaa424f3479f1469",
       "version_major": 2,
       "version_minor": 0
      },
      "text/plain": [
       "n_estimators:   0%|          | 0/8 [00:00<?, ?it/s]"
      ]
     },
     "metadata": {},
     "output_type": "display_data"
    },
    {
     "data": {
      "application/vnd.jupyter.widget-view+json": {
       "model_id": "a472e3b450ca441687c49ad37e473c06",
       "version_major": 2,
       "version_minor": 0
      },
      "text/plain": [
       "repeated holdout:   0%|          | 0/3 [00:00<?, ?it/s]"
      ]
     },
     "metadata": {},
     "output_type": "display_data"
    },
    {
     "data": {
      "application/vnd.jupyter.widget-view+json": {
       "model_id": "3793409edefa44859aee9a5483dec09c",
       "version_major": 2,
       "version_minor": 0
      },
      "text/plain": [
       "repeated holdout:   0%|          | 0/3 [00:00<?, ?it/s]"
      ]
     },
     "metadata": {},
     "output_type": "display_data"
    },
    {
     "data": {
      "application/vnd.jupyter.widget-view+json": {
       "model_id": "dd380340e379487a8e9d3cde34418053",
       "version_major": 2,
       "version_minor": 0
      },
      "text/plain": [
       "repeated holdout:   0%|          | 0/3 [00:00<?, ?it/s]"
      ]
     },
     "metadata": {},
     "output_type": "display_data"
    },
    {
     "data": {
      "application/vnd.jupyter.widget-view+json": {
       "model_id": "6f341fa198ad4aad935bab28bbffce4e",
       "version_major": 2,
       "version_minor": 0
      },
      "text/plain": [
       "repeated holdout:   0%|          | 0/3 [00:00<?, ?it/s]"
      ]
     },
     "metadata": {},
     "output_type": "display_data"
    },
    {
     "data": {
      "application/vnd.jupyter.widget-view+json": {
       "model_id": "2d302adbf51648f2a55ff2e177770a2a",
       "version_major": 2,
       "version_minor": 0
      },
      "text/plain": [
       "repeated holdout:   0%|          | 0/3 [00:00<?, ?it/s]"
      ]
     },
     "metadata": {},
     "output_type": "display_data"
    },
    {
     "data": {
      "application/vnd.jupyter.widget-view+json": {
       "model_id": "098b60f36639489eaff7aa21e5954644",
       "version_major": 2,
       "version_minor": 0
      },
      "text/plain": [
       "repeated holdout:   0%|          | 0/3 [00:00<?, ?it/s]"
      ]
     },
     "metadata": {},
     "output_type": "display_data"
    },
    {
     "data": {
      "application/vnd.jupyter.widget-view+json": {
       "model_id": "b990d21600a340e7a2a0fdbe916e0a28",
       "version_major": 2,
       "version_minor": 0
      },
      "text/plain": [
       "repeated holdout:   0%|          | 0/3 [00:00<?, ?it/s]"
      ]
     },
     "metadata": {},
     "output_type": "display_data"
    },
    {
     "data": {
      "application/vnd.jupyter.widget-view+json": {
       "model_id": "8dc50fb2dec740369ecae63364c7c683",
       "version_major": 2,
       "version_minor": 0
      },
      "text/plain": [
       "repeated holdout:   0%|          | 0/3 [00:00<?, ?it/s]"
      ]
     },
     "metadata": {},
     "output_type": "display_data"
    },
    {
     "data": {
      "application/vnd.jupyter.widget-view+json": {
       "model_id": "0deb2277411a4799bc3df1cac037b865",
       "version_major": 2,
       "version_minor": 0
      },
      "text/plain": [
       "  0%|          | 0/1 [00:00<?, ?it/s]"
      ]
     },
     "metadata": {},
     "output_type": "display_data"
    },
    {
     "data": {
      "application/vnd.jupyter.widget-view+json": {
       "model_id": "669897515c8c4776a959b4ce06c0f5b9",
       "version_major": 2,
       "version_minor": 0
      },
      "text/plain": [
       "n_estimators:   0%|          | 0/8 [00:00<?, ?it/s]"
      ]
     },
     "metadata": {},
     "output_type": "display_data"
    },
    {
     "data": {
      "application/vnd.jupyter.widget-view+json": {
       "model_id": "37e881af3c3e4b06ab54fbab8492e69d",
       "version_major": 2,
       "version_minor": 0
      },
      "text/plain": [
       "repeated holdout:   0%|          | 0/3 [00:00<?, ?it/s]"
      ]
     },
     "metadata": {},
     "output_type": "display_data"
    },
    {
     "data": {
      "application/vnd.jupyter.widget-view+json": {
       "model_id": "d8e9904c1fbd4c15a92ef940c0f13e5f",
       "version_major": 2,
       "version_minor": 0
      },
      "text/plain": [
       "repeated holdout:   0%|          | 0/3 [00:00<?, ?it/s]"
      ]
     },
     "metadata": {},
     "output_type": "display_data"
    },
    {
     "data": {
      "application/vnd.jupyter.widget-view+json": {
       "model_id": "399f5cffd98244f6b5157f57d577c81d",
       "version_major": 2,
       "version_minor": 0
      },
      "text/plain": [
       "repeated holdout:   0%|          | 0/3 [00:00<?, ?it/s]"
      ]
     },
     "metadata": {},
     "output_type": "display_data"
    },
    {
     "data": {
      "application/vnd.jupyter.widget-view+json": {
       "model_id": "3412d27d6b794f61a7c129602c31e00d",
       "version_major": 2,
       "version_minor": 0
      },
      "text/plain": [
       "repeated holdout:   0%|          | 0/3 [00:00<?, ?it/s]"
      ]
     },
     "metadata": {},
     "output_type": "display_data"
    },
    {
     "data": {
      "application/vnd.jupyter.widget-view+json": {
       "model_id": "fee311c7386f4ee882f3c6d44aff7997",
       "version_major": 2,
       "version_minor": 0
      },
      "text/plain": [
       "repeated holdout:   0%|          | 0/3 [00:00<?, ?it/s]"
      ]
     },
     "metadata": {},
     "output_type": "display_data"
    },
    {
     "data": {
      "application/vnd.jupyter.widget-view+json": {
       "model_id": "3d91cadf08f240a38f34695f72b80088",
       "version_major": 2,
       "version_minor": 0
      },
      "text/plain": [
       "repeated holdout:   0%|          | 0/3 [00:00<?, ?it/s]"
      ]
     },
     "metadata": {},
     "output_type": "display_data"
    },
    {
     "data": {
      "application/vnd.jupyter.widget-view+json": {
       "model_id": "b206aa9804d546619d091c9e4e6db966",
       "version_major": 2,
       "version_minor": 0
      },
      "text/plain": [
       "repeated holdout:   0%|          | 0/3 [00:00<?, ?it/s]"
      ]
     },
     "metadata": {},
     "output_type": "display_data"
    },
    {
     "data": {
      "application/vnd.jupyter.widget-view+json": {
       "model_id": "e3e875c5d19f41b194d7a3d962c5cc03",
       "version_major": 2,
       "version_minor": 0
      },
      "text/plain": [
       "repeated holdout:   0%|          | 0/3 [00:00<?, ?it/s]"
      ]
     },
     "metadata": {},
     "output_type": "display_data"
    },
    {
     "data": {
      "application/vnd.jupyter.widget-view+json": {
       "model_id": "e7f379b5207045faa257f90a2c2b5e7b",
       "version_major": 2,
       "version_minor": 0
      },
      "text/plain": [
       "  0%|          | 0/1 [00:00<?, ?it/s]"
      ]
     },
     "metadata": {},
     "output_type": "display_data"
    },
    {
     "data": {
      "application/vnd.jupyter.widget-view+json": {
       "model_id": "91bd103e961c4f2997adcd4f30425e86",
       "version_major": 2,
       "version_minor": 0
      },
      "text/plain": [
       "n_estimators:   0%|          | 0/8 [00:00<?, ?it/s]"
      ]
     },
     "metadata": {},
     "output_type": "display_data"
    },
    {
     "data": {
      "application/vnd.jupyter.widget-view+json": {
       "model_id": "207f9b71988b4e4882c628614de07204",
       "version_major": 2,
       "version_minor": 0
      },
      "text/plain": [
       "repeated holdout:   0%|          | 0/3 [00:00<?, ?it/s]"
      ]
     },
     "metadata": {},
     "output_type": "display_data"
    },
    {
     "data": {
      "application/vnd.jupyter.widget-view+json": {
       "model_id": "62539e6d727c44379ed94e9edd12e7eb",
       "version_major": 2,
       "version_minor": 0
      },
      "text/plain": [
       "repeated holdout:   0%|          | 0/3 [00:00<?, ?it/s]"
      ]
     },
     "metadata": {},
     "output_type": "display_data"
    },
    {
     "data": {
      "application/vnd.jupyter.widget-view+json": {
       "model_id": "012d9672734a45cca8c55dbd9692613f",
       "version_major": 2,
       "version_minor": 0
      },
      "text/plain": [
       "repeated holdout:   0%|          | 0/3 [00:00<?, ?it/s]"
      ]
     },
     "metadata": {},
     "output_type": "display_data"
    },
    {
     "data": {
      "application/vnd.jupyter.widget-view+json": {
       "model_id": "d608f28d08e2497c90aec2b1c7d32592",
       "version_major": 2,
       "version_minor": 0
      },
      "text/plain": [
       "repeated holdout:   0%|          | 0/3 [00:00<?, ?it/s]"
      ]
     },
     "metadata": {},
     "output_type": "display_data"
    },
    {
     "data": {
      "application/vnd.jupyter.widget-view+json": {
       "model_id": "f68c31bab2d14bfca1c93162cfb2a31b",
       "version_major": 2,
       "version_minor": 0
      },
      "text/plain": [
       "repeated holdout:   0%|          | 0/3 [00:00<?, ?it/s]"
      ]
     },
     "metadata": {},
     "output_type": "display_data"
    },
    {
     "data": {
      "application/vnd.jupyter.widget-view+json": {
       "model_id": "15e4333ebe3f47079685d1256df1392e",
       "version_major": 2,
       "version_minor": 0
      },
      "text/plain": [
       "repeated holdout:   0%|          | 0/3 [00:00<?, ?it/s]"
      ]
     },
     "metadata": {},
     "output_type": "display_data"
    },
    {
     "data": {
      "application/vnd.jupyter.widget-view+json": {
       "model_id": "b21ab24067a94a9687eb94403bad9a0d",
       "version_major": 2,
       "version_minor": 0
      },
      "text/plain": [
       "repeated holdout:   0%|          | 0/3 [00:00<?, ?it/s]"
      ]
     },
     "metadata": {},
     "output_type": "display_data"
    },
    {
     "data": {
      "application/vnd.jupyter.widget-view+json": {
       "model_id": "bff9ce237c2849108bffa5961c1ba584",
       "version_major": 2,
       "version_minor": 0
      },
      "text/plain": [
       "repeated holdout:   0%|          | 0/3 [00:00<?, ?it/s]"
      ]
     },
     "metadata": {},
     "output_type": "display_data"
    }
   ],
   "source": [
    "num_of_estimators = np.array([10, 25, 50, 100, 200, 500, 750, 1000])\n",
    "test_one_parameter(\"n_estimators\", num_of_estimators, DISTANCES)"
   ]
  },
  {
   "cell_type": "code",
   "execution_count": 4,
   "metadata": {},
   "outputs": [
    {
     "data": {
      "image/png": "[encoded data removed]",
      "text/plain": [
       "<Figure size 2000x1000 with 6 Axes>"
      ]
     },
     "metadata": {},
     "output_type": "display_data"
    }
   ],
   "source": [
    "results = pd.read_csv(\"results_n_estimators.csv\")\n",
    "\n",
    "sns.set_palette(sns.color_palette(OKABE_ITO_SCALE))\n",
    "g = sns.relplot(data=results, x=\"n_estimators\", y=\"auc\", hue=\"clf\", marker=\"o\", col=\"dataset_name\", col_wrap=4, \n",
    "            facet_kws={'sharey': False, 'sharex': False}, kind=\"line\")\n",
    "\n",
    "g.fig.suptitle('INFLUENCE OF N_ESTIMATORS')\n",
    "plt.gcf().set_size_inches(20, 10)"
   ]
  },
  {
   "attachments": {},
   "cell_type": "markdown",
   "metadata": {},
   "source": [
    "Let's see max_depth"
   ]
  },
  {
   "cell_type": "code",
   "execution_count": 6,
   "metadata": {},
   "outputs": [
    {
     "data": {
      "application/vnd.jupyter.widget-view+json": {
       "model_id": "a20546a331914303b7dddb03b2160d8a",
       "version_major": 2,
       "version_minor": 0
      },
      "text/plain": [
       "  0%|          | 0/4 [00:00<?, ?it/s]"
      ]
     },
     "metadata": {},
     "output_type": "display_data"
    },
    {
     "data": {
      "application/vnd.jupyter.widget-view+json": {
       "model_id": "5f1135626d2444ba912b769b21d007a1",
       "version_major": 2,
       "version_minor": 0
      },
      "text/plain": [
       "  0%|          | 0/4 [00:00<?, ?it/s]"
      ]
     },
     "metadata": {},
     "output_type": "display_data"
    },
    {
     "data": {
      "application/vnd.jupyter.widget-view+json": {
       "model_id": "20dcfb68122d47adac949b2a492e7509",
       "version_major": 2,
       "version_minor": 0
      },
      "text/plain": [
       "max_depth:   0%|          | 0/5 [00:00<?, ?it/s]"
      ]
     },
     "metadata": {},
     "output_type": "display_data"
    },
    {
     "data": {
      "application/vnd.jupyter.widget-view+json": {
       "model_id": "b40821af3b574ea7bc9e502509b0886b",
       "version_major": 2,
       "version_minor": 0
      },
      "text/plain": [
       "repeated holdout:   0%|          | 0/3 [00:00<?, ?it/s]"
      ]
     },
     "metadata": {},
     "output_type": "display_data"
    },
    {
     "data": {
      "application/vnd.jupyter.widget-view+json": {
       "model_id": "2618aa786a5a48cdbdcc7adae2e256c7",
       "version_major": 2,
       "version_minor": 0
      },
      "text/plain": [
       "repeated holdout:   0%|          | 0/3 [00:00<?, ?it/s]"
      ]
     },
     "metadata": {},
     "output_type": "display_data"
    },
    {
     "data": {
      "application/vnd.jupyter.widget-view+json": {
       "model_id": "4cdcbbe515df455a8b42748467c30c59",
       "version_major": 2,
       "version_minor": 0
      },
      "text/plain": [
       "repeated holdout:   0%|          | 0/3 [00:00<?, ?it/s]"
      ]
     },
     "metadata": {},
     "output_type": "display_data"
    },
    {
     "data": {
      "application/vnd.jupyter.widget-view+json": {
       "model_id": "ea572f540d5f451b824c29cdf79f5cfa",
       "version_major": 2,
       "version_minor": 0
      },
      "text/plain": [
       "repeated holdout:   0%|          | 0/3 [00:00<?, ?it/s]"
      ]
     },
     "metadata": {},
     "output_type": "display_data"
    },
    {
     "data": {
      "application/vnd.jupyter.widget-view+json": {
       "model_id": "9249fe3abf4242d4b3c3273025fa9643",
       "version_major": 2,
       "version_minor": 0
      },
      "text/plain": [
       "repeated holdout:   0%|          | 0/3 [00:00<?, ?it/s]"
      ]
     },
     "metadata": {},
     "output_type": "display_data"
    },
    {
     "data": {
      "application/vnd.jupyter.widget-view+json": {
       "model_id": "169e4ca55ddb492198e3cc7d8f9bcc37",
       "version_major": 2,
       "version_minor": 0
      },
      "text/plain": [
       "max_depth:   0%|          | 0/5 [00:00<?, ?it/s]"
      ]
     },
     "metadata": {},
     "output_type": "display_data"
    },
    {
     "data": {
      "application/vnd.jupyter.widget-view+json": {
       "model_id": "57b6f34faba4490c9241848f8df861cb",
       "version_major": 2,
       "version_minor": 0
      },
      "text/plain": [
       "repeated holdout:   0%|          | 0/3 [00:00<?, ?it/s]"
      ]
     },
     "metadata": {},
     "output_type": "display_data"
    },
    {
     "data": {
      "application/vnd.jupyter.widget-view+json": {
       "model_id": "798424798c474e879755a58129a37aeb",
       "version_major": 2,
       "version_minor": 0
      },
      "text/plain": [
       "repeated holdout:   0%|          | 0/3 [00:00<?, ?it/s]"
      ]
     },
     "metadata": {},
     "output_type": "display_data"
    },
    {
     "data": {
      "application/vnd.jupyter.widget-view+json": {
       "model_id": "53932eecc60048519b590b851f246f08",
       "version_major": 2,
       "version_minor": 0
      },
      "text/plain": [
       "repeated holdout:   0%|          | 0/3 [00:00<?, ?it/s]"
      ]
     },
     "metadata": {},
     "output_type": "display_data"
    },
    {
     "data": {
      "application/vnd.jupyter.widget-view+json": {
       "model_id": "655877ebb56b4d3286e9b46ca413ac47",
       "version_major": 2,
       "version_minor": 0
      },
      "text/plain": [
       "repeated holdout:   0%|          | 0/3 [00:00<?, ?it/s]"
      ]
     },
     "metadata": {},
     "output_type": "display_data"
    },
    {
     "data": {
      "application/vnd.jupyter.widget-view+json": {
       "model_id": "e72b826600bf4ead80503fcf39b23922",
       "version_major": 2,
       "version_minor": 0
      },
      "text/plain": [
       "repeated holdout:   0%|          | 0/3 [00:00<?, ?it/s]"
      ]
     },
     "metadata": {},
     "output_type": "display_data"
    },
    {
     "data": {
      "application/vnd.jupyter.widget-view+json": {
       "model_id": "c8e6380b48ad4638abdbbf83f4da9b33",
       "version_major": 2,
       "version_minor": 0
      },
      "text/plain": [
       "max_depth:   0%|          | 0/5 [00:00<?, ?it/s]"
      ]
     },
     "metadata": {},
     "output_type": "display_data"
    },
    {
     "data": {
      "application/vnd.jupyter.widget-view+json": {
       "model_id": "1287a48c9e024707812d6ecce469c9b8",
       "version_major": 2,
       "version_minor": 0
      },
      "text/plain": [
       "repeated holdout:   0%|          | 0/3 [00:00<?, ?it/s]"
      ]
     },
     "metadata": {},
     "output_type": "display_data"
    },
    {
     "data": {
      "application/vnd.jupyter.widget-view+json": {
       "model_id": "3c92b02bcf9d4d3bb20c2f695c406547",
       "version_major": 2,
       "version_minor": 0
      },
      "text/plain": [
       "repeated holdout:   0%|          | 0/3 [00:00<?, ?it/s]"
      ]
     },
     "metadata": {},
     "output_type": "display_data"
    },
    {
     "data": {
      "application/vnd.jupyter.widget-view+json": {
       "model_id": "f1554b42eead4420a45b74609b15718a",
       "version_major": 2,
       "version_minor": 0
      },
      "text/plain": [
       "repeated holdout:   0%|          | 0/3 [00:00<?, ?it/s]"
      ]
     },
     "metadata": {},
     "output_type": "display_data"
    },
    {
     "data": {
      "application/vnd.jupyter.widget-view+json": {
       "model_id": "79ed15ae122f48249ad58d9ab55a679e",
       "version_major": 2,
       "version_minor": 0
      },
      "text/plain": [
       "repeated holdout:   0%|          | 0/3 [00:00<?, ?it/s]"
      ]
     },
     "metadata": {},
     "output_type": "display_data"
    },
    {
     "data": {
      "application/vnd.jupyter.widget-view+json": {
       "model_id": "09666805c12d4ab5932bf5218b28c4de",
       "version_major": 2,
       "version_minor": 0
      },
      "text/plain": [
       "repeated holdout:   0%|          | 0/3 [00:00<?, ?it/s]"
      ]
     },
     "metadata": {},
     "output_type": "display_data"
    },
    {
     "data": {
      "application/vnd.jupyter.widget-view+json": {
       "model_id": "fe6d3ed16647453b8ec0e6a9a1d06963",
       "version_major": 2,
       "version_minor": 0
      },
      "text/plain": [
       "max_depth:   0%|          | 0/5 [00:00<?, ?it/s]"
      ]
     },
     "metadata": {},
     "output_type": "display_data"
    },
    {
     "data": {
      "application/vnd.jupyter.widget-view+json": {
       "model_id": "0044b7611f0c4010af8de54ea8eb40d1",
       "version_major": 2,
       "version_minor": 0
      },
      "text/plain": [
       "repeated holdout:   0%|          | 0/3 [00:00<?, ?it/s]"
      ]
     },
     "metadata": {},
     "output_type": "display_data"
    },
    {
     "data": {
      "application/vnd.jupyter.widget-view+json": {
       "model_id": "099f491285374895bbbc273b3b93f268",
       "version_major": 2,
       "version_minor": 0
      },
      "text/plain": [
       "repeated holdout:   0%|          | 0/3 [00:00<?, ?it/s]"
      ]
     },
     "metadata": {},
     "output_type": "display_data"
    },
    {
     "data": {
      "application/vnd.jupyter.widget-view+json": {
       "model_id": "41f51f4a20664950a7f67bdb4453e975",
       "version_major": 2,
       "version_minor": 0
      },
      "text/plain": [
       "repeated holdout:   0%|          | 0/3 [00:00<?, ?it/s]"
      ]
     },
     "metadata": {},
     "output_type": "display_data"
    },
    {
     "data": {
      "application/vnd.jupyter.widget-view+json": {
       "model_id": "b02291acc57446dca58f525ebea0ed58",
       "version_major": 2,
       "version_minor": 0
      },
      "text/plain": [
       "repeated holdout:   0%|          | 0/3 [00:00<?, ?it/s]"
      ]
     },
     "metadata": {},
     "output_type": "display_data"
    },
    {
     "data": {
      "application/vnd.jupyter.widget-view+json": {
       "model_id": "8f2caeb97939470fbdf132385e503fd9",
       "version_major": 2,
       "version_minor": 0
      },
      "text/plain": [
       "repeated holdout:   0%|          | 0/3 [00:00<?, ?it/s]"
      ]
     },
     "metadata": {},
     "output_type": "display_data"
    },
    {
     "data": {
      "application/vnd.jupyter.widget-view+json": {
       "model_id": "5b1632b885304c6fae34e94d81a53444",
       "version_major": 2,
       "version_minor": 0
      },
      "text/plain": [
       "  0%|          | 0/1 [00:00<?, ?it/s]"
      ]
     },
     "metadata": {},
     "output_type": "display_data"
    },
    {
     "data": {
      "application/vnd.jupyter.widget-view+json": {
       "model_id": "ff6b5388e7564dfab83ec9100eac443d",
       "version_major": 2,
       "version_minor": 0
      },
      "text/plain": [
       "max_depth:   0%|          | 0/5 [00:00<?, ?it/s]"
      ]
     },
     "metadata": {},
     "output_type": "display_data"
    },
    {
     "data": {
      "application/vnd.jupyter.widget-view+json": {
       "model_id": "d18be407351143a7b233e04732e1db06",
       "version_major": 2,
       "version_minor": 0
      },
      "text/plain": [
       "repeated holdout:   0%|          | 0/3 [00:00<?, ?it/s]"
      ]
     },
     "metadata": {},
     "output_type": "display_data"
    },
    {
     "data": {
      "application/vnd.jupyter.widget-view+json": {
       "model_id": "c44e7fdc2dd646b688066cefe08aed6c",
       "version_major": 2,
       "version_minor": 0
      },
      "text/plain": [
       "repeated holdout:   0%|          | 0/3 [00:00<?, ?it/s]"
      ]
     },
     "metadata": {},
     "output_type": "display_data"
    },
    {
     "data": {
      "application/vnd.jupyter.widget-view+json": {
       "model_id": "51022cb1c48949da90597f0c5c957be7",
       "version_major": 2,
       "version_minor": 0
      },
      "text/plain": [
       "repeated holdout:   0%|          | 0/3 [00:00<?, ?it/s]"
      ]
     },
     "metadata": {},
     "output_type": "display_data"
    },
    {
     "data": {
      "application/vnd.jupyter.widget-view+json": {
       "model_id": "5eafc2d5b2814841bf44c722393fe14c",
       "version_major": 2,
       "version_minor": 0
      },
      "text/plain": [
       "repeated holdout:   0%|          | 0/3 [00:00<?, ?it/s]"
      ]
     },
     "metadata": {},
     "output_type": "display_data"
    },
    {
     "data": {
      "application/vnd.jupyter.widget-view+json": {
       "model_id": "5eaa07197f5e4d18846614c1f8a461fb",
       "version_major": 2,
       "version_minor": 0
      },
      "text/plain": [
       "repeated holdout:   0%|          | 0/3 [00:00<?, ?it/s]"
      ]
     },
     "metadata": {},
     "output_type": "display_data"
    },
    {
     "data": {
      "application/vnd.jupyter.widget-view+json": {
       "model_id": "607dba152f5d451f92e9cfc033eb526f",
       "version_major": 2,
       "version_minor": 0
      },
      "text/plain": [
       "  0%|          | 0/1 [00:00<?, ?it/s]"
      ]
     },
     "metadata": {},
     "output_type": "display_data"
    },
    {
     "data": {
      "application/vnd.jupyter.widget-view+json": {
       "model_id": "09b66aba9c4c4a63978aa08c57b28961",
       "version_major": 2,
       "version_minor": 0
      },
      "text/plain": [
       "max_depth:   0%|          | 0/5 [00:00<?, ?it/s]"
      ]
     },
     "metadata": {},
     "output_type": "display_data"
    },
    {
     "data": {
      "application/vnd.jupyter.widget-view+json": {
       "model_id": "70bdf7b23266407c91eb3cfa440469fa",
       "version_major": 2,
       "version_minor": 0
      },
      "text/plain": [
       "repeated holdout:   0%|          | 0/3 [00:00<?, ?it/s]"
      ]
     },
     "metadata": {},
     "output_type": "display_data"
    },
    {
     "data": {
      "application/vnd.jupyter.widget-view+json": {
       "model_id": "09299f4d3a2e449ea09cb1d073c914ab",
       "version_major": 2,
       "version_minor": 0
      },
      "text/plain": [
       "repeated holdout:   0%|          | 0/3 [00:00<?, ?it/s]"
      ]
     },
     "metadata": {},
     "output_type": "display_data"
    },
    {
     "data": {
      "application/vnd.jupyter.widget-view+json": {
       "model_id": "55a8627ac8a5482d9ec0fde3784f0470",
       "version_major": 2,
       "version_minor": 0
      },
      "text/plain": [
       "repeated holdout:   0%|          | 0/3 [00:00<?, ?it/s]"
      ]
     },
     "metadata": {},
     "output_type": "display_data"
    },
    {
     "data": {
      "application/vnd.jupyter.widget-view+json": {
       "model_id": "2a537daf99bb4a7989034e50c66ab5f3",
       "version_major": 2,
       "version_minor": 0
      },
      "text/plain": [
       "repeated holdout:   0%|          | 0/3 [00:00<?, ?it/s]"
      ]
     },
     "metadata": {},
     "output_type": "display_data"
    },
    {
     "data": {
      "application/vnd.jupyter.widget-view+json": {
       "model_id": "b410581f10c34be7ba6b1735203ad14c",
       "version_major": 2,
       "version_minor": 0
      },
      "text/plain": [
       "repeated holdout:   0%|          | 0/3 [00:00<?, ?it/s]"
      ]
     },
     "metadata": {},
     "output_type": "display_data"
    },
    {
     "data": {
      "application/vnd.jupyter.widget-view+json": {
       "model_id": "52775fd8286944b482f289872a243915",
       "version_major": 2,
       "version_minor": 0
      },
      "text/plain": [
       "  0%|          | 0/4 [00:00<?, ?it/s]"
      ]
     },
     "metadata": {},
     "output_type": "display_data"
    },
    {
     "data": {
      "application/vnd.jupyter.widget-view+json": {
       "model_id": "57c621006c7144a8b19cc781d79c654e",
       "version_major": 2,
       "version_minor": 0
      },
      "text/plain": [
       "  0%|          | 0/4 [00:00<?, ?it/s]"
      ]
     },
     "metadata": {},
     "output_type": "display_data"
    },
    {
     "data": {
      "application/vnd.jupyter.widget-view+json": {
       "model_id": "9489836062dc4900b5cdea7451cf2a29",
       "version_major": 2,
       "version_minor": 0
      },
      "text/plain": [
       "max_depth:   0%|          | 0/5 [00:00<?, ?it/s]"
      ]
     },
     "metadata": {},
     "output_type": "display_data"
    },
    {
     "data": {
      "application/vnd.jupyter.widget-view+json": {
       "model_id": "a52c7c1a17f94cc28e311dbfc40ce84c",
       "version_major": 2,
       "version_minor": 0
      },
      "text/plain": [
       "repeated holdout:   0%|          | 0/3 [00:00<?, ?it/s]"
      ]
     },
     "metadata": {},
     "output_type": "display_data"
    },
    {
     "data": {
      "application/vnd.jupyter.widget-view+json": {
       "model_id": "7f4c05f0c6284754954b7eea33a4fad0",
       "version_major": 2,
       "version_minor": 0
      },
      "text/plain": [
       "repeated holdout:   0%|          | 0/3 [00:00<?, ?it/s]"
      ]
     },
     "metadata": {},
     "output_type": "display_data"
    },
    {
     "data": {
      "application/vnd.jupyter.widget-view+json": {
       "model_id": "b1fb1d32289244d69d59c44ca65e93bd",
       "version_major": 2,
       "version_minor": 0
      },
      "text/plain": [
       "repeated holdout:   0%|          | 0/3 [00:00<?, ?it/s]"
      ]
     },
     "metadata": {},
     "output_type": "display_data"
    },
    {
     "data": {
      "application/vnd.jupyter.widget-view+json": {
       "model_id": "4b60561216f74230b092593beed3d23d",
       "version_major": 2,
       "version_minor": 0
      },
      "text/plain": [
       "repeated holdout:   0%|          | 0/3 [00:00<?, ?it/s]"
      ]
     },
     "metadata": {},
     "output_type": "display_data"
    },
    {
     "data": {
      "application/vnd.jupyter.widget-view+json": {
       "model_id": "828bc332f6ee41c890a532c42bad97f9",
       "version_major": 2,
       "version_minor": 0
      },
      "text/plain": [
       "repeated holdout:   0%|          | 0/3 [00:00<?, ?it/s]"
      ]
     },
     "metadata": {},
     "output_type": "display_data"
    },
    {
     "data": {
      "application/vnd.jupyter.widget-view+json": {
       "model_id": "b0e87e00e4e4405f80e970dd155dfcd2",
       "version_major": 2,
       "version_minor": 0
      },
      "text/plain": [
       "max_depth:   0%|          | 0/5 [00:00<?, ?it/s]"
      ]
     },
     "metadata": {},
     "output_type": "display_data"
    },
    {
     "data": {
      "application/vnd.jupyter.widget-view+json": {
       "model_id": "10381334225e4182b30ca4fd6188971c",
       "version_major": 2,
       "version_minor": 0
      },
      "text/plain": [
       "repeated holdout:   0%|          | 0/3 [00:00<?, ?it/s]"
      ]
     },
     "metadata": {},
     "output_type": "display_data"
    },
    {
     "data": {
      "application/vnd.jupyter.widget-view+json": {
       "model_id": "d9432fe3aa3145c2bacaa7cf1d2ff392",
       "version_major": 2,
       "version_minor": 0
      },
      "text/plain": [
       "repeated holdout:   0%|          | 0/3 [00:00<?, ?it/s]"
      ]
     },
     "metadata": {},
     "output_type": "display_data"
    },
    {
     "data": {
      "application/vnd.jupyter.widget-view+json": {
       "model_id": "74b2e68a90f34d378729064780525dc0",
       "version_major": 2,
       "version_minor": 0
      },
      "text/plain": [
       "repeated holdout:   0%|          | 0/3 [00:00<?, ?it/s]"
      ]
     },
     "metadata": {},
     "output_type": "display_data"
    },
    {
     "data": {
      "application/vnd.jupyter.widget-view+json": {
       "model_id": "efe2a5d350914669b76a85ea29c5b523",
       "version_major": 2,
       "version_minor": 0
      },
      "text/plain": [
       "repeated holdout:   0%|          | 0/3 [00:00<?, ?it/s]"
      ]
     },
     "metadata": {},
     "output_type": "display_data"
    },
    {
     "data": {
      "application/vnd.jupyter.widget-view+json": {
       "model_id": "8647910e8e344f16975b0fc3d78c5011",
       "version_major": 2,
       "version_minor": 0
      },
      "text/plain": [
       "repeated holdout:   0%|          | 0/3 [00:00<?, ?it/s]"
      ]
     },
     "metadata": {},
     "output_type": "display_data"
    },
    {
     "data": {
      "application/vnd.jupyter.widget-view+json": {
       "model_id": "fc5d8bdd693345fb9eccd5c1bf5d40d2",
       "version_major": 2,
       "version_minor": 0
      },
      "text/plain": [
       "max_depth:   0%|          | 0/5 [00:00<?, ?it/s]"
      ]
     },
     "metadata": {},
     "output_type": "display_data"
    },
    {
     "data": {
      "application/vnd.jupyter.widget-view+json": {
       "model_id": "83455f8672b048f7a4e352602cbd59fe",
       "version_major": 2,
       "version_minor": 0
      },
      "text/plain": [
       "repeated holdout:   0%|          | 0/3 [00:00<?, ?it/s]"
      ]
     },
     "metadata": {},
     "output_type": "display_data"
    },
    {
     "data": {
      "application/vnd.jupyter.widget-view+json": {
       "model_id": "9e1254770c3749af817cd46522fabbfc",
       "version_major": 2,
       "version_minor": 0
      },
      "text/plain": [
       "repeated holdout:   0%|          | 0/3 [00:00<?, ?it/s]"
      ]
     },
     "metadata": {},
     "output_type": "display_data"
    },
    {
     "data": {
      "application/vnd.jupyter.widget-view+json": {
       "model_id": "fefd77b39e35474fa8457592b3306f11",
       "version_major": 2,
       "version_minor": 0
      },
      "text/plain": [
       "repeated holdout:   0%|          | 0/3 [00:00<?, ?it/s]"
      ]
     },
     "metadata": {},
     "output_type": "display_data"
    },
    {
     "data": {
      "application/vnd.jupyter.widget-view+json": {
       "model_id": "f93991c3c8d04f188ba4ee012ff8c406",
       "version_major": 2,
       "version_minor": 0
      },
      "text/plain": [
       "repeated holdout:   0%|          | 0/3 [00:00<?, ?it/s]"
      ]
     },
     "metadata": {},
     "output_type": "display_data"
    },
    {
     "data": {
      "application/vnd.jupyter.widget-view+json": {
       "model_id": "9312073bc7794a71a2f918e639c0658f",
       "version_major": 2,
       "version_minor": 0
      },
      "text/plain": [
       "repeated holdout:   0%|          | 0/3 [00:00<?, ?it/s]"
      ]
     },
     "metadata": {},
     "output_type": "display_data"
    },
    {
     "data": {
      "application/vnd.jupyter.widget-view+json": {
       "model_id": "30a6db9067d14ddfbf957512a6d4e002",
       "version_major": 2,
       "version_minor": 0
      },
      "text/plain": [
       "max_depth:   0%|          | 0/5 [00:00<?, ?it/s]"
      ]
     },
     "metadata": {},
     "output_type": "display_data"
    },
    {
     "data": {
      "application/vnd.jupyter.widget-view+json": {
       "model_id": "f83b85e0225f411b8d3e219be9a31670",
       "version_major": 2,
       "version_minor": 0
      },
      "text/plain": [
       "repeated holdout:   0%|          | 0/3 [00:00<?, ?it/s]"
      ]
     },
     "metadata": {},
     "output_type": "display_data"
    },
    {
     "data": {
      "application/vnd.jupyter.widget-view+json": {
       "model_id": "f5a97cb9144243fb955aee9c538a213e",
       "version_major": 2,
       "version_minor": 0
      },
      "text/plain": [
       "repeated holdout:   0%|          | 0/3 [00:00<?, ?it/s]"
      ]
     },
     "metadata": {},
     "output_type": "display_data"
    },
    {
     "data": {
      "application/vnd.jupyter.widget-view+json": {
       "model_id": "935b9e5115bb40c996d79d2e721629ca",
       "version_major": 2,
       "version_minor": 0
      },
      "text/plain": [
       "repeated holdout:   0%|          | 0/3 [00:00<?, ?it/s]"
      ]
     },
     "metadata": {},
     "output_type": "display_data"
    },
    {
     "data": {
      "application/vnd.jupyter.widget-view+json": {
       "model_id": "5fdd2cd30d2d4723ae545e7b8c39ed21",
       "version_major": 2,
       "version_minor": 0
      },
      "text/plain": [
       "repeated holdout:   0%|          | 0/3 [00:00<?, ?it/s]"
      ]
     },
     "metadata": {},
     "output_type": "display_data"
    },
    {
     "data": {
      "application/vnd.jupyter.widget-view+json": {
       "model_id": "801e91c274b549ebba135d9573471062",
       "version_major": 2,
       "version_minor": 0
      },
      "text/plain": [
       "repeated holdout:   0%|          | 0/3 [00:00<?, ?it/s]"
      ]
     },
     "metadata": {},
     "output_type": "display_data"
    },
    {
     "data": {
      "application/vnd.jupyter.widget-view+json": {
       "model_id": "8993c87bd6f84e21a55174b6ad4c6b9d",
       "version_major": 2,
       "version_minor": 0
      },
      "text/plain": [
       "  0%|          | 0/1 [00:00<?, ?it/s]"
      ]
     },
     "metadata": {},
     "output_type": "display_data"
    },
    {
     "data": {
      "application/vnd.jupyter.widget-view+json": {
       "model_id": "785a6ba4d7274a819a2426af632fa102",
       "version_major": 2,
       "version_minor": 0
      },
      "text/plain": [
       "max_depth:   0%|          | 0/5 [00:00<?, ?it/s]"
      ]
     },
     "metadata": {},
     "output_type": "display_data"
    },
    {
     "data": {
      "application/vnd.jupyter.widget-view+json": {
       "model_id": "075adecba0dd4f0a92e787a0352791dc",
       "version_major": 2,
       "version_minor": 0
      },
      "text/plain": [
       "repeated holdout:   0%|          | 0/3 [00:00<?, ?it/s]"
      ]
     },
     "metadata": {},
     "output_type": "display_data"
    },
    {
     "data": {
      "application/vnd.jupyter.widget-view+json": {
       "model_id": "0d24830428b5487d9ccf275981d60e5f",
       "version_major": 2,
       "version_minor": 0
      },
      "text/plain": [
       "repeated holdout:   0%|          | 0/3 [00:00<?, ?it/s]"
      ]
     },
     "metadata": {},
     "output_type": "display_data"
    },
    {
     "data": {
      "application/vnd.jupyter.widget-view+json": {
       "model_id": "86749f5c0adc4e28ab09f5779f3e98aa",
       "version_major": 2,
       "version_minor": 0
      },
      "text/plain": [
       "repeated holdout:   0%|          | 0/3 [00:00<?, ?it/s]"
      ]
     },
     "metadata": {},
     "output_type": "display_data"
    },
    {
     "data": {
      "application/vnd.jupyter.widget-view+json": {
       "model_id": "15e250b8f7694070bfefaca4acd1c775",
       "version_major": 2,
       "version_minor": 0
      },
      "text/plain": [
       "repeated holdout:   0%|          | 0/3 [00:00<?, ?it/s]"
      ]
     },
     "metadata": {},
     "output_type": "display_data"
    },
    {
     "data": {
      "application/vnd.jupyter.widget-view+json": {
       "model_id": "51f2eefde54f41af8fd924b9eb750ea6",
       "version_major": 2,
       "version_minor": 0
      },
      "text/plain": [
       "repeated holdout:   0%|          | 0/3 [00:00<?, ?it/s]"
      ]
     },
     "metadata": {},
     "output_type": "display_data"
    },
    {
     "data": {
      "application/vnd.jupyter.widget-view+json": {
       "model_id": "d1803803126d4081ba5504af10723f53",
       "version_major": 2,
       "version_minor": 0
      },
      "text/plain": [
       "  0%|          | 0/1 [00:00<?, ?it/s]"
      ]
     },
     "metadata": {},
     "output_type": "display_data"
    },
    {
     "data": {
      "application/vnd.jupyter.widget-view+json": {
       "model_id": "5b7be3f5cb3942e7b676d6e36309f3b7",
       "version_major": 2,
       "version_minor": 0
      },
      "text/plain": [
       "max_depth:   0%|          | 0/5 [00:00<?, ?it/s]"
      ]
     },
     "metadata": {},
     "output_type": "display_data"
    },
    {
     "data": {
      "application/vnd.jupyter.widget-view+json": {
       "model_id": "61ba0fc9064c4c4f957bfd1c9ce6ef93",
       "version_major": 2,
       "version_minor": 0
      },
      "text/plain": [
       "repeated holdout:   0%|          | 0/3 [00:00<?, ?it/s]"
      ]
     },
     "metadata": {},
     "output_type": "display_data"
    },
    {
     "data": {
      "application/vnd.jupyter.widget-view+json": {
       "model_id": "35d60867465845ca8dea3386ee426893",
       "version_major": 2,
       "version_minor": 0
      },
      "text/plain": [
       "repeated holdout:   0%|          | 0/3 [00:00<?, ?it/s]"
      ]
     },
     "metadata": {},
     "output_type": "display_data"
    },
    {
     "data": {
      "application/vnd.jupyter.widget-view+json": {
       "model_id": "4fe67b2e179942abb290339c7a033fbd",
       "version_major": 2,
       "version_minor": 0
      },
      "text/plain": [
       "repeated holdout:   0%|          | 0/3 [00:00<?, ?it/s]"
      ]
     },
     "metadata": {},
     "output_type": "display_data"
    },
    {
     "data": {
      "application/vnd.jupyter.widget-view+json": {
       "model_id": "60c8f22dcd91452e8cbdf943f93db31d",
       "version_major": 2,
       "version_minor": 0
      },
      "text/plain": [
       "repeated holdout:   0%|          | 0/3 [00:00<?, ?it/s]"
      ]
     },
     "metadata": {},
     "output_type": "display_data"
    },
    {
     "data": {
      "application/vnd.jupyter.widget-view+json": {
       "model_id": "8b6bed7740eb49bfb3b9da90910e0388",
       "version_major": 2,
       "version_minor": 0
      },
      "text/plain": [
       "repeated holdout:   0%|          | 0/3 [00:00<?, ?it/s]"
      ]
     },
     "metadata": {},
     "output_type": "display_data"
    }
   ],
   "source": [
    "max_depth = np.array([6,7,8,9,10])\n",
    "test_one_parameter(\"max_depth\", max_depth, DISTANCES)"
   ]
  },
  {
   "cell_type": "code",
   "execution_count": 2,
   "metadata": {},
   "outputs": [],
   "source": [
    "results = pd.read_csv(\"results_max_depth.csv\")"
   ]
  },
  {
   "cell_type": "code",
   "execution_count": 3,
   "metadata": {},
   "outputs": [
    {
     "data": {
      "image/png": "[encoded data removed]",
      "text/plain": [
       "<Figure size 2000x1000 with 6 Axes>"
      ]
     },
     "metadata": {},
     "output_type": "display_data"
    }
   ],
   "source": [
    "sns.set_palette(sns.color_palette(OKABE_ITO_SCALE))\n",
    "g = sns.relplot(data=results, x=\"max_depth\", y=\"auc\", hue=\"clf\", marker=\"o\", col=\"dataset_name\", col_wrap=4, \n",
    "            facet_kws={'sharey': False, 'sharex': False}, kind=\"line\")\n",
    "\n",
    "g.fig.suptitle('INFLUENCE OF MAX DEPTH')\n",
    "plt.gcf().set_size_inches(20, 10)"
   ]
  },
  {
   "cell_type": "code",
   "execution_count": null,
   "metadata": {},
   "outputs": [],
   "source": []
  }
 ],
 "metadata": {
  "kernelspec": {
   "display_name": "random-isolation-similarity-forest-bqxKmFq8-py3.10",
   "language": "python",
   "name": "python3"
  },
  "language_info": {
   "codemirror_mode": {
    "name": "ipython",
    "version": 3
   },
   "file_extension": ".py",
   "mimetype": "text/x-python",
   "name": "python",
   "nbconvert_exporter": "python",
   "pygments_lexer": "ipython3",
   "version": "3.10.10"
  },
  "orig_nbformat": 4
 },
 "nbformat": 4,
 "nbformat_minor": 2
}
