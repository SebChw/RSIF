{
 "cells": [
  {
   "attachments": {},
   "cell_type": "markdown",
   "metadata": {},
   "source": [
    "# Sensitivity Analysis"
   ]
  },
  {
   "cell_type": "code",
   "execution_count": 7,
   "metadata": {},
   "outputs": [
    {
     "name": "stdout",
     "output_type": "stream",
     "text": [
      "The autoreload extension is already loaded. To reload it, use:\n",
      "  %reload_ext autoreload\n"
     ]
    }
   ],
   "source": [
    "%load_ext autoreload\n",
    "%autoreload 2\n",
    "\n",
    "import sys\n",
    "sys.path.insert(0, '..')\n",
    "sys.path.insert(0, '../data')\n",
    "\n",
    "from utils import (init_results, \n",
    "                            ObjectsSelector,\n",
    "                            get_dataset,\n",
    "                            perform_experiment_simple,\n",
    "                            SEED,\n",
    "                            PRECOMPUTED_DISTANCES_PATH,\n",
    "                            get_binary_distances_choice,\n",
    "                            experiment_risf_complex)\n",
    "\n",
    "import numpy as np\n",
    "from netrd.distance import NetSimile, PortraitDivergence, DegreeDivergence, IpsenMikhailov, NetLSD\n",
    "from risf.distance_functions import *\n",
    "from risf.distance import SelectiveDistance\n",
    "from pathlib import Path\n",
    "import pandas as pd\n",
    "\n",
    "np.random.seed(SEED)\n",
    "\n",
    "CLF = \"RISF\"\n",
    "PRECOMPUTED_DISTANCES_PATH.mkdir(exist_ok=True)\n",
    "\n",
    "DATA_DIRS = {\n",
    "    \"graph\": Path(\"../data/graph\"),\n",
    "    \"numerical\" : Path(\"../data/numerical\"),\n",
    "    \"binary\" : Path(\"../data/categorical\"),\n",
    "    \"timeseries\": Path(\"../data/timeseries\"),\n",
    "    \"nlp\": Path(\"../data/adBench/NLP_by_RoBERTa/\")\n",
    "}"
   ]
  },
  {
   "cell_type": "code",
   "execution_count": 24,
   "metadata": {},
   "outputs": [],
   "source": [
    "def test_one_parameter(datasets, distances_func, param_name=None, options=None, classifiers = [\"RISF\", \"IForest\"]):\n",
    "    # To allow default parameters run\n",
    "    if param_name is None:\n",
    "        param_name=\"default\"\n",
    "    if options is None:\n",
    "        options = [1]\n",
    "\n",
    "    results_all = []\n",
    "    for clf in classifiers:\n",
    "        print(clf)\n",
    "        for data_type in datasets.keys():\n",
    "            print(data_type)\n",
    "            for dataset_name in datasets[data_type]:\n",
    "                for option in options:\n",
    "                    clf_kwargs = dict() if param_name == \"default\" else {param_name: option}\n",
    "                    \n",
    "                    data = get_dataset(data_type, DATA_DIRS[data_type], dataset_name, clf)\n",
    "                    if \"fixed\" in param_name:\n",
    "                        if isinstance(option, float):\n",
    "                            option = int(option * data[\"X\"].shape[1])\n",
    "                        \n",
    "                        min_n = 1\n",
    "                        if distances_func in [cosine_projection, chebyshev_projection]:\n",
    "                            min_n = 2\n",
    "                            if option == 1:\n",
    "                                continue\n",
    "                    \n",
    "                        clf_kwargs[\"max_n\"] = option\n",
    "                        if \"not_fixed\" in param_name:\n",
    "                            distances = [SelectiveDistance(distances_func, min_n, option)]\n",
    "                        else:\n",
    "                            distances = [SelectiveDistance(distances_func, option, option)]\n",
    "                    else:\n",
    "                        distances = distances_func(data[\"X\"], data_type)\n",
    "                    \n",
    "                    if clf != \"RISF\":\n",
    "                        aucs = perform_experiment_simple(clf, data, clf_kwargs=clf_kwargs)\n",
    "                    else:\n",
    "                        if data_type in [\"numerical\", \"nlp\", \"timeseries\"]:\n",
    "                            aucs = perform_experiment_simple(clf, data, clf_kwargs=clf_kwargs, distances = distances)\n",
    "                        else:     \n",
    "                            aucs = experiment_risf_complex(data, distances, selected_obj_ratio=0.5, clf_kwargs=clf_kwargs)\n",
    "                            \n",
    "                    results = init_results(clf, dataset_name, data_type, aucs, clf_kwargs)\n",
    "                    results_all.extend(results)\n",
    "\n",
    "    pd.DataFrame(results_all).to_csv(f\"../results/{param_name}.csv\", index=False)\n"
   ]
  },
  {
   "attachments": {},
   "cell_type": "markdown",
   "metadata": {},
   "source": [
    "#### At first lets verify what is the best vector size for numerical datasets"
   ]
  },
  {
   "cell_type": "code",
   "execution_count": 28,
   "metadata": {},
   "outputs": [
    {
     "name": "stdout",
     "output_type": "stream",
     "text": [
      "manhattan_projection-fixed-max_n\n",
      "manhattan_projection-not_fixed-max_n\n",
      "RISF\n",
      "numerical\n",
      "timeseries\n",
      "nlp\n",
      "cosine_projection-fixed-max_n\n",
      "RISF\n",
      "numerical\n",
      "timeseries\n",
      "nlp\n",
      "cosine_projection-not_fixed-max_n\n",
      "RISF\n",
      "numerical\n",
      "timeseries\n",
      "nlp\n",
      "chebyshev_projection-fixed-max_n\n",
      "RISF\n",
      "numerical\n",
      "timeseries\n",
      "nlp\n",
      "chebyshev_projection-not_fixed-max_n\n",
      "RISF\n",
      "numerical\n",
      "timeseries\n",
      "nlp\n"
     ]
    }
   ],
   "source": [
    "DATASETS = {\n",
    "    \"numerical\": [\"21_Lymphography\", \"36_speech\", \"6_cardio\", \"26_optdigits\"],\n",
    "    \"timeseries\": [\"TwoLeadECG\"],\n",
    "    \"nlp\" : [\"agnews_1\"]\n",
    "}\n",
    "distances = [manhattan_projection, cosine_projection, chebyshev_projection]\n",
    "fixed_size = [True, False]\n",
    "max_n = [1, 2, 3, 5, 0.25, 0.5, 0.75, 1.0]\n",
    "for distance in distances:\n",
    "    for fixed in fixed_size:\n",
    "        param_name = distance.__name__ + \"-\" + (\"fixed\" if fixed else \"not_fixed\") + \"-max_n\"\n",
    "        print(param_name)\n",
    "        if fixed and distance ==  manhattan_projection:\n",
    "            continue\n",
    "        test_one_parameter(DATASETS, distance, param_name, max_n, classifiers=[\"RISF\"])"
   ]
  },
  {
   "attachments": {},
   "cell_type": "markdown",
   "metadata": {},
   "source": [
    "#### Influence of using different distance functions"
   ]
  },
  {
   "cell_type": "code",
   "execution_count": 6,
   "metadata": {},
   "outputs": [],
   "source": [
    "DATASETS = {\n",
    "    \"numerical\": [\"21_Lymphography\", \"36_speech\", \"6_cardio\", \"26_optdigits\"],\n",
    "    \"graph\":  [\"COX2\", \"BZR\", \"DHFR\"],\n",
    "    \"binary\":  [\"ad_nominal\"],\n",
    "    \"timeseries\": [\"TwoLeadECG\"],\n",
    "    \"nlp\" : [\"agnews_1\"]\n",
    "}\n",
    "\n",
    "OBJ_RATIO = 1\n",
    "\n",
    "def get_distances_risf(X, data_type) -> np.ndarray:\n",
    "    if data_type == \"graph\":\n",
    "        return np.array([GraphDist(IpsenMikhailov), GraphDist(PortraitDivergence), ManhattanDist(),\n",
    "                    GraphDist(NetSimile), GraphDist(DegreeDivergence), GraphDist(NetLSD), EuclideanDist()], dtype=object)\n",
    "    elif data_type == \"numerical\":\n",
    "        return np.array([SelectiveDistance(manhattan_projection, 1, 3), \n",
    "                        SelectiveDistance(euclidean_projection, 1, 3), \n",
    "                        SelectiveDistance(cosine_projection, 2, 3),\n",
    "                        SelectiveDistance(chebyshev_projection, 2, 3)], dtype=object)\n",
    "    elif data_type == \"binary\":\n",
    "        return np.array([SelectiveDistance(dummy_projection,1,1), LinDist(X), Goodall3Dist(X), OFDist(X)], dtype=object)\n",
    "    elif data_type == \"nlp\":\n",
    "        return np.array([SelectiveDistance(manhattan_projection, 1, 3),\n",
    "                        SelectiveDistance(euclidean_projection, 1, 3), \n",
    "                        SelectiveDistance(chebyshev_projection, 5, 10)], dtype=object)\n",
    "    elif data_type == \"timeseries\":\n",
    "        return np.array([SelectiveDistance(manhattan_projection, 1, 3),\n",
    "                        SelectiveDistance(euclidean_projection, 1, 3), \n",
    "                        SelectiveDistance(chebyshev_projection, 5, 10),\n",
    "                        DTWDist()], dtype=object)"
   ]
  },
  {
   "cell_type": "code",
   "execution_count": 5,
   "metadata": {},
   "outputs": [],
   "source": [
    "# for data_type in DATASETS.keys():\n",
    "#     results_distance_comb = []\n",
    "#     print(data_type)\n",
    "#     for dataset_name in DATASETS[data_type]:\n",
    "#         data = get_dataset(data_type, DATA_DIRS[data_type], dataset_name, \"RISF\")\n",
    "#         distances = get_distances_risf(data[\"X\"], data_type)\n",
    "#         distances_to_use = get_binary_distances_choice(distances)\n",
    "#         for dist_to_use in distances_to_use:\n",
    "#             dist = list(distances[dist_to_use])\n",
    "#             if dist_to_use.sum() > 3:\n",
    "#                 continue\n",
    "#             if data_type in [\"graph\", \"binary\", \"timeseries\"]:\n",
    "#                 aucs = experiment_risf_complex(data, dist, OBJ_RATIO, clf_kwargs={})\n",
    "#                 dist_short = '_'.join([x.projection_func.__name__[:4] if \n",
    "#                                     isinstance(x, SelectiveDistance) else x.__class__.__name__[:4] for x in dist])\n",
    "#             else:\n",
    "#                 aucs = perform_experiment_simple(\"RISF\", data, clf_kwargs={}, distances = [dist])\n",
    "#                 dist_short = '_'.join([x.projection_func.__name__[:4] for x in dist])\n",
    "            \n",
    "            \n",
    "#             results = init_results(CLF, dataset_name, data_type, aucs, {\"distances\": dist_short})\n",
    "            \n",
    "#             results_distance_comb.extend(results)\n",
    "\n",
    "#     pd.DataFrame(results_distance_comb).to_csv(f\"../results/results_selected_distances_{data_type}.csv\", index=False)\n",
    "\n",
    "# #pd.DataFrame(results_distance_comb).to_csv(\"../results/results_selected_distances.csv\", index=False)\n"
   ]
  },
  {
   "cell_type": "code",
   "execution_count": 7,
   "metadata": {},
   "outputs": [],
   "source": [
    "# Now i should have defaults for distances\n",
    "def get_distances_risf(X, data_type):\n",
    "    if data_type == \"graph\":\n",
    "        return [GraphDist(PortraitDivergence), ManhattanDist(), GraphDist(DegreeDivergence), GraphDist(NetLSD), EuclideanDist()]\n",
    "    elif data_type == \"numerical\":\n",
    "        return [SelectiveDistance(manhattan_projection, 1, 3), SelectiveDistance(euclidean_projection, 1, 3)]\n",
    "    elif data_type == \"binary\":\n",
    "        return [SelectiveDistance(dummy_projection,1,1), LinDist(X), Goodall3Dist(X)]\n",
    "    elif data_type == \"nlp\":\n",
    "        return [SelectiveDistance(manhattan_projection, 1, 3),SelectiveDistance(euclidean_projection, 1, 3), \n",
    "                SelectiveDistance(chebyshev_projection, 5, 10)]\n",
    "    elif data_type == \"timeseries\":\n",
    "        return [SelectiveDistance(manhattan_projection, 1, 3), SelectiveDistance(chebyshev_projection, 5, 10),\n",
    "                DTWDist()]"
   ]
  },
  {
   "attachments": {},
   "cell_type": "markdown",
   "metadata": {},
   "source": [
    "#### Now test influence of selected objects ratio"
   ]
  },
  {
   "cell_type": "code",
   "execution_count": 8,
   "metadata": {},
   "outputs": [
    {
     "name": "stdout",
     "output_type": "stream",
     "text": [
      "graph\n",
      "binary\n",
      "timeseries\n"
     ]
    }
   ],
   "source": [
    "SELECTED_OBJ_RATIO = [0.1, 0.25, 0.5, 0.75, 1.0]\n",
    "results_selected_obj = []\n",
    "\n",
    "for data_type in DATASETS.keys():\n",
    "    if data_type in [\"numerical\", \"nlp\"]:\n",
    "        continue # they don't use complex distances\n",
    "    print(data_type)\n",
    "    for dataset_name in DATASETS[data_type]:\n",
    "        objects_selector = ObjectsSelector() # TBD\n",
    "        for obj_ratio in SELECTED_OBJ_RATIO:               \n",
    "            data = get_dataset(data_type, DATA_DIRS[data_type], dataset_name, \"RISF\")\n",
    "            \n",
    "            aucs = experiment_risf_complex(data, get_distances_risf(data[\"X\"], data_type), obj_ratio, selection_func = objects_selector, clf_kwargs= {})\n",
    "            results = init_results(CLF, dataset_name, data_type, aucs, {\"obj_ratio\": obj_ratio})\n",
    "            results_selected_obj.extend(results)\n",
    "\n",
    "pd.DataFrame(results_selected_obj).to_csv(\"../results/results_selected_obj_Ratio.csv\", index=False)"
   ]
  },
  {
   "attachments": {},
   "cell_type": "markdown",
   "metadata": {},
   "source": [
    "#### Influence of subsampling_size"
   ]
  },
  {
   "cell_type": "code",
   "execution_count": 13,
   "metadata": {},
   "outputs": [
    {
     "name": "stdout",
     "output_type": "stream",
     "text": [
      "RISF\n",
      "numerical\n",
      "graph\n",
      "binary\n",
      "timeseries\n",
      "nlp\n",
      "IForest\n",
      "numerical\n",
      "graph\n",
      "binary\n",
      "timeseries\n",
      "nlp\n"
     ]
    }
   ],
   "source": [
    "import warnings\n",
    "warnings.filterwarnings(\"ignore\") # There are few very small datasets for which this doesn't change max_samples\n",
    "\n",
    "max_samples = np.array([64, 128, 256, 512])\n",
    "test_one_parameter(DATASETS, get_distances_risf, \"max_samples\", max_samples)"
   ]
  },
  {
   "attachments": {},
   "cell_type": "markdown",
   "metadata": {},
   "source": [
    "### Influence of number of trees"
   ]
  },
  {
   "cell_type": "code",
   "execution_count": 8,
   "metadata": {},
   "outputs": [
    {
     "name": "stdout",
     "output_type": "stream",
     "text": [
      "RISF\n",
      "numerical\n",
      "graph\n",
      "binary\n",
      "timeseries\n",
      "nlp\n",
      "IForest\n",
      "numerical\n",
      "graph\n",
      "binary\n",
      "timeseries\n",
      "nlp\n"
     ]
    }
   ],
   "source": [
    "num_of_estimators = np.array([1, 5, 10, 25, 50, 100, 200, 300]) # Start from 1 to 100. In general smaller numbers\n",
    "test_one_parameter(DATASETS, get_distances_risf, \"n_estimators\", num_of_estimators) "
   ]
  },
  {
   "cell_type": "code",
   "execution_count": 1,
   "metadata": {},
   "outputs": [],
   "source": [
    "import pickle"
   ]
  },
  {
   "cell_type": "code",
   "execution_count": 4,
   "metadata": {},
   "outputs": [],
   "source": [
    "\n",
    "\n",
    "best_distances = pickle.load(open(\"../best_distances/RISF_20_letter.pickle\", \"rb\"))"
   ]
  },
  {
   "cell_type": "code",
   "execution_count": 11,
   "metadata": {},
   "outputs": [
    {
     "data": {
      "text/plain": [
       "[<risf.distance.SelectiveDistance at 0x1fc1a9c5970>]"
      ]
     },
     "execution_count": 11,
     "metadata": {},
     "output_type": "execute_result"
    }
   ],
   "source": [
    "best_distances[0][0][1]"
   ]
  },
  {
   "cell_type": "code",
   "execution_count": null,
   "metadata": {},
   "outputs": [],
   "source": []
  }
 ],
 "metadata": {
  "kernelspec": {
   "display_name": "random-isolation-similarity-forest-bqxKmFq8-py3.10",
   "language": "python",
   "name": "python3"
  },
  "language_info": {
   "codemirror_mode": {
    "name": "ipython",
    "version": 3
   },
   "file_extension": ".py",
   "mimetype": "text/x-python",
   "name": "python",
   "nbconvert_exporter": "python",
   "pygments_lexer": "ipython3",
   "version": "3.9.16"
  },
  "orig_nbformat": 4
 },
 "nbformat": 4,
 "nbformat_minor": 2
}
