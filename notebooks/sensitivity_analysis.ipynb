{
 "cells": [
  {
   "attachments": {},
   "cell_type": "markdown",
   "metadata": {},
   "source": [
    "# Sensitivity Analysis"
   ]
  },
  {
   "cell_type": "code",
   "execution_count": 7,
   "metadata": {},
   "outputs": [
    {
     "name": "stdout",
     "output_type": "stream",
     "text": [
      "The autoreload extension is already loaded. To reload it, use:\n",
      "  %reload_ext autoreload\n"
     ]
    }
   ],
   "source": [
    "import sys\n",
    "sys.path.insert(0, '..')\n",
    "sys.path.insert(0, '../data')\n",
    "\n",
    "\n",
    "from utils import (init_results, \n",
    "                            ObjectsSelector,\n",
    "                            get_dataset,\n",
    "                            perform_experiment_simple,\n",
    "                            SEED,\n",
    "                            PRECOMPUTED_DISTANCES_PATH,\n",
    "                            get_binary_distances_choice,\n",
    "                            experiment_risf_complex)\n",
    "\n",
    "import numpy as np\n",
    "from netrd.distance import NetSimile, PortraitDivergence, DegreeDivergence, IpsenMikhailov,  JaccardDistance, NetLSD, OnionDivergence\n",
    "from risf.distance_functions import GraphDist, manhattan_projection, jaccard_projection, cosine_projection, euclidean_projection, DTWDist, EuclideanDist, ManhattanDist\n",
    "from risf.distance import SelectiveDistance\n",
    "from pathlib import Path\n",
    "from tqdm.auto import tqdm\n",
    "import pandas as pd\n",
    "\n",
    "%load_ext autoreload\n",
    "%autoreload 2\n",
    "\n",
    "np.random.seed(SEED)"
   ]
  },
  {
   "cell_type": "code",
   "execution_count": 2,
   "metadata": {},
   "outputs": [],
   "source": [
    "CLF = \"RISF\"\n",
    "\n",
    "PRECOMPUTED_DISTANCES_PATH.mkdir(exist_ok=True)\n",
    "\n",
    "DATASETS = {\n",
    "    \"graph\":  [\"COX2\"],\n",
    "    \"numerical\": [\"21_Lymphography\", \"36_speech\", \"6_cardio\", \"26_optdigits\"],\n",
    "    \"categorical\":  [\"ad_nominal\"],\n",
    "    \"timeseries\": [\"TwoLeadECG\"],\n",
    "    \"nlp\" : [\"agnews_1\"]\n",
    "}\n",
    "\n",
    "DATA_DIRS = {\n",
    "    \"graph\": Path(\"../data/graph\"),\n",
    "    \"numerical\" : Path(\"../data/numerical\"),\n",
    "    \"categorical\" : Path(\"../data/categorical\"),\n",
    "    \"timeseries\": Path(\"../data/timeseries\"),\n",
    "    \"nlp\": Path(\"../data/adBench/NLP_by_RoBERTa/\")\n",
    "}\n",
    "\n",
    "DISTANCES = {\n",
    "    \"graph\": [GraphDist(IpsenMikhailov)],\n",
    "    \"numerical\": [[SelectiveDistance(manhattan_projection, 1, 3)]],\n",
    "    \"categorical\": [[SelectiveDistance(jaccard_projection, 10, 10)]],\n",
    "    \"nlp\": [[SelectiveDistance(cosine_projection, 400, 400)]],\n",
    "    \"cv\": [[SelectiveDistance(cosine_projection, 400, 400)]],\n",
    "    \"timeseries\": [DTWDist(), EuclideanDist()]\n",
    "}"
   ]
  },
  {
   "cell_type": "code",
   "execution_count": 12,
   "metadata": {},
   "outputs": [],
   "source": [
    "def test_one_parameter(param_name=None, options=None, classifiers = [\"IForest\", \"RISF\"]):\n",
    "    # To allow default parameters run\n",
    "    if param_name is None:\n",
    "        param_name=\"default\"\n",
    "    if options is None:\n",
    "        options = [1]\n",
    "\n",
    "    results_all = []\n",
    "    for clf in classifiers:\n",
    "        print(clf)\n",
    "        for data_type in DATASETS.keys():\n",
    "            print(data_type)\n",
    "            for dataset_name in DATASETS[data_type]:\n",
    "                for option in options:\n",
    "                    clf_kwargs = dict() if param_name == \"default\" else {param_name: option}\n",
    "                    \n",
    "                    data = get_dataset(data_type, DATA_DIRS[data_type], dataset_name, clf)\n",
    "                    \n",
    "                    if param_name == \"max_n\":\n",
    "                        clf_kwargs[\"max_n\"] = option\n",
    "                        distances = [[SelectiveDistance(manhattan_projection, 1, option)]]\n",
    "                    else:\n",
    "                        distances = DISTANCES[data_type]\n",
    "                    \n",
    "                    if clf != \"RISF\":\n",
    "                        aucs = perform_experiment_simple(clf, data, clf_kwargs=clf_kwargs)\n",
    "                    else:\n",
    "                        if data_type in [\"numerical\", \"categorical\", \"nlp\", \"cv\"]:\n",
    "                            aucs = perform_experiment_simple(clf, data, clf_kwargs=clf_kwargs, distances = distances)\n",
    "                        else:\n",
    "                            if data_type == \"timeseries\":\n",
    "                                data[\"X\"] = data[\"X\"].astype(object)        \n",
    "                            aucs = experiment_risf_complex(data, distances, selected_obj_ratio=1, clf_kwargs=clf_kwargs)\n",
    "                            \n",
    "                    results = init_results(clf, dataset_name, data_type, aucs, clf_kwargs)\n",
    "                    results_all.extend(results)\n",
    "\n",
    "    pd.DataFrame(results_all).to_csv(f\"../results/results_{param_name}_graph.csv\", index=False)\n"
   ]
  },
  {
   "attachments": {},
   "cell_type": "markdown",
   "metadata": {},
   "source": [
    "#### At first let's see performance of IF, ISF and RISF defaults on the data"
   ]
  },
  {
   "cell_type": "code",
   "execution_count": 3,
   "metadata": {},
   "outputs": [
    {
     "ename": "NameError",
     "evalue": "name 'test_one_parameter' is not defined",
     "output_type": "error",
     "traceback": [
      "\u001b[1;31m---------------------------------------------------------------------------\u001b[0m",
      "\u001b[1;31mNameError\u001b[0m                                 Traceback (most recent call last)",
      "Cell \u001b[1;32mIn[3], line 1\u001b[0m\n\u001b[1;32m----> 1\u001b[0m test_one_parameter(classifiers \u001b[39m=\u001b[39m [\u001b[39m\"\u001b[39m\u001b[39mIForest\u001b[39m\u001b[39m\"\u001b[39m, \u001b[39m\"\u001b[39m\u001b[39mRISF\u001b[39m\u001b[39m\"\u001b[39m, \u001b[39m\"\u001b[39m\u001b[39mISF\u001b[39m\u001b[39m\"\u001b[39m])\n",
      "\u001b[1;31mNameError\u001b[0m: name 'test_one_parameter' is not defined"
     ]
    }
   ],
   "source": [
    "test_one_parameter(classifiers = [\"IForest\", \"RISF\", \"ISF\"])"
   ]
  },
  {
   "attachments": {},
   "cell_type": "markdown",
   "metadata": {},
   "source": [
    "#### Influence of subsampling_size"
   ]
  },
  {
   "cell_type": "code",
   "execution_count": 5,
   "metadata": {},
   "outputs": [
    {
     "name": "stdout",
     "output_type": "stream",
     "text": [
      "IForest\n",
      "graph\n",
      "numerical\n"
     ]
    },
    {
     "name": "stderr",
     "output_type": "stream",
     "text": [
      "c:\\Users\\sebas\\mambaforge\\envs\\risf\\lib\\site-packages\\sklearn\\ensemble\\_iforest.py:307: UserWarning: max_samples (128) is greater than the total number of samples (103). max_samples will be set to n_samples for estimation.\n",
      "  warn(\n",
      "c:\\Users\\sebas\\mambaforge\\envs\\risf\\lib\\site-packages\\sklearn\\ensemble\\_iforest.py:307: UserWarning: max_samples (128) is greater than the total number of samples (103). max_samples will be set to n_samples for estimation.\n",
      "  warn(\n",
      "c:\\Users\\sebas\\mambaforge\\envs\\risf\\lib\\site-packages\\sklearn\\ensemble\\_iforest.py:307: UserWarning: max_samples (128) is greater than the total number of samples (103). max_samples will be set to n_samples for estimation.\n",
      "  warn(\n",
      "c:\\Users\\sebas\\mambaforge\\envs\\risf\\lib\\site-packages\\sklearn\\ensemble\\_iforest.py:307: UserWarning: max_samples (256) is greater than the total number of samples (103). max_samples will be set to n_samples for estimation.\n",
      "  warn(\n",
      "c:\\Users\\sebas\\mambaforge\\envs\\risf\\lib\\site-packages\\sklearn\\ensemble\\_iforest.py:307: UserWarning: max_samples (256) is greater than the total number of samples (103). max_samples will be set to n_samples for estimation.\n",
      "  warn(\n",
      "c:\\Users\\sebas\\mambaforge\\envs\\risf\\lib\\site-packages\\sklearn\\ensemble\\_iforest.py:307: UserWarning: max_samples (256) is greater than the total number of samples (103). max_samples will be set to n_samples for estimation.\n",
      "  warn(\n",
      "c:\\Users\\sebas\\mambaforge\\envs\\risf\\lib\\site-packages\\sklearn\\ensemble\\_iforest.py:307: UserWarning: max_samples (512) is greater than the total number of samples (103). max_samples will be set to n_samples for estimation.\n",
      "  warn(\n",
      "c:\\Users\\sebas\\mambaforge\\envs\\risf\\lib\\site-packages\\sklearn\\ensemble\\_iforest.py:307: UserWarning: max_samples (512) is greater than the total number of samples (103). max_samples will be set to n_samples for estimation.\n",
      "  warn(\n",
      "c:\\Users\\sebas\\mambaforge\\envs\\risf\\lib\\site-packages\\sklearn\\ensemble\\_iforest.py:307: UserWarning: max_samples (512) is greater than the total number of samples (103). max_samples will be set to n_samples for estimation.\n",
      "  warn(\n"
     ]
    },
    {
     "name": "stdout",
     "output_type": "stream",
     "text": [
      "categorical\n",
      "timeseries\n"
     ]
    },
    {
     "name": "stderr",
     "output_type": "stream",
     "text": [
      "c:\\Users\\sebas\\mambaforge\\envs\\risf\\lib\\site-packages\\sklearn\\ensemble\\_iforest.py:307: UserWarning: max_samples (512) is greater than the total number of samples (427). max_samples will be set to n_samples for estimation.\n",
      "  warn(\n",
      "c:\\Users\\sebas\\mambaforge\\envs\\risf\\lib\\site-packages\\sklearn\\ensemble\\_iforest.py:307: UserWarning: max_samples (512) is greater than the total number of samples (427). max_samples will be set to n_samples for estimation.\n",
      "  warn(\n",
      "c:\\Users\\sebas\\mambaforge\\envs\\risf\\lib\\site-packages\\sklearn\\ensemble\\_iforest.py:307: UserWarning: max_samples (512) is greater than the total number of samples (427). max_samples will be set to n_samples for estimation.\n",
      "  warn(\n"
     ]
    },
    {
     "name": "stdout",
     "output_type": "stream",
     "text": [
      "nlp\n",
      "RISF\n",
      "graph\n",
      "numerical\n",
      "max sample is bigger than number of sample selecting n_samples\n",
      "max sample is bigger than number of sample selecting n_samples\n",
      "max sample is bigger than number of sample selecting n_samples\n",
      "max sample is bigger than number of sample selecting n_samples\n",
      "max sample is bigger than number of sample selecting n_samples\n",
      "max sample is bigger than number of sample selecting n_samples\n",
      "max sample is bigger than number of sample selecting n_samples\n",
      "max sample is bigger than number of sample selecting n_samples\n",
      "max sample is bigger than number of sample selecting n_samples\n",
      "categorical\n",
      "timeseries\n",
      "max sample is bigger than number of sample selecting n_samples\n",
      "max sample is bigger than number of sample selecting n_samples\n",
      "max sample is bigger than number of sample selecting n_samples\n",
      "nlp\n"
     ]
    }
   ],
   "source": [
    "max_samples = np.array([64, 128, 256, 512])\n",
    "test_one_parameter(\"max_samples\", max_samples)"
   ]
  },
  {
   "attachments": {},
   "cell_type": "markdown",
   "metadata": {},
   "source": [
    "### Influence of number of trees"
   ]
  },
  {
   "cell_type": "code",
   "execution_count": 6,
   "metadata": {},
   "outputs": [
    {
     "name": "stdout",
     "output_type": "stream",
     "text": [
      "IForest\n",
      "graph\n",
      "numerical\n",
      "categorical\n",
      "timeseries\n",
      "nlp\n",
      "RISF\n",
      "graph\n",
      "numerical\n",
      "categorical\n",
      "timeseries\n",
      "nlp\n"
     ]
    }
   ],
   "source": [
    "num_of_estimators = np.array([1, 5, 10, 25, 50, 100, 200]) # Start from 1 to 100. In general smaller numbers\n",
    "test_one_parameter(\"n_estimators\", num_of_estimators) "
   ]
  },
  {
   "attachments": {},
   "cell_type": "markdown",
   "metadata": {},
   "source": [
    "### Now experiments on parameters connected strictly with RISF\n",
    "\n",
    "At first experiment on how number of max_n influences Selective Euclidean distance scores"
   ]
  },
  {
   "cell_type": "code",
   "execution_count": 8,
   "metadata": {},
   "outputs": [
    {
     "name": "stdout",
     "output_type": "stream",
     "text": [
      "RISF\n",
      "numerical\n",
      "nlp\n"
     ]
    }
   ],
   "source": [
    "DATASETS = {\n",
    "    \"numerical\": [\"21_Lymphography\", \"36_speech\", \"6_cardio\", \"26_optdigits\"],\n",
    "    \"nlp\" : [\"agnews_1\"]\n",
    "}\n",
    "\n",
    "max_n = np.array([1,2,3,4,5])\n",
    "test_one_parameter(\"max_n\", max_n, classifiers=[\"RISF\"]) "
   ]
  },
  {
   "attachments": {},
   "cell_type": "markdown",
   "metadata": {},
   "source": [
    "Influence of number of selected_objects ratio"
   ]
  },
  {
   "cell_type": "code",
   "execution_count": 2,
   "metadata": {},
   "outputs": [],
   "source": [
    "DATASETS = {\n",
    "    \"graph\":  [\"IMDB-BINARY\"],\n",
    "    \"numerical\": [\"21_Lymphography\", \"36_speech\", \"6_cardio\", \"26_optdigits\"],\n",
    "    \"categorical\":  [\"ad_nominal\"],\n",
    "    \"timeseries\": [\"TwoLeadECG\"],\n",
    "    \"nlp\" : [\"agnews_1\"]\n",
    "}\n",
    "\n",
    "DISTANCES = {\n",
    "    \"graph\": [GraphDist(IpsenMikhailov)],\n",
    "    \"numerical\" : [EuclideanDist()],\n",
    "    \"categorical\":[EuclideanDist()],\n",
    "    \"timeseries\": [DTWDist()],\n",
    "    \"nlp\": [EuclideanDist()],\n",
    "}\n",
    "\n",
    "SELECTED_OBJ_RATIO = [0.1, 0.25, 0.5, 0.75, 1.0]\n"
   ]
  },
  {
   "cell_type": "code",
   "execution_count": 17,
   "metadata": {},
   "outputs": [],
   "source": [
    "results_selected_obj = []\n",
    "\n",
    "for data_type in DISTANCES.keys():\n",
    "    for dataset_name in DATASETS[data_type]:\n",
    "        objects_selector = ObjectsSelector() # TBD\n",
    "        for obj_ratio in SELECTED_OBJ_RATIO:               \n",
    "            data = get_dataset(data_type, DATA_DIRS[data_type], dataset_name, \"RISF\")\n",
    "\n",
    "            if data_type != \"graph\": # only graphs are inherently represented as objects\n",
    "                data[\"X\"] = data[\"X\"].astype(object)\n",
    "            aucs = experiment_risf_complex(data, DISTANCES[data_type], obj_ratio, selection_func = objects_selector, clf_kwargs= {})\n",
    "            results = init_results(CLF, dataset_name, data_type, aucs, {\"obj_ratio\": obj_ratio})\n",
    "            results_selected_obj.extend(results)\n",
    "\n",
    "pd.DataFrame(results_selected_obj).to_csv(\"../results/results_selected_obj_Ratio.csv\", index=False)"
   ]
  },
  {
   "attachments": {},
   "cell_type": "markdown",
   "metadata": {},
   "source": [
    "#### Influence of using different distance functions\n",
    "\n",
    "Concerning graphs I did one experiment that was using literally everything. However these distance functions ar the worst for graphs:\n",
    "* Jaccard\n",
    "* Onion\n",
    "\n",
    "So I don't consider them here at all"
   ]
  },
  {
   "cell_type": "code",
   "execution_count": 8,
   "metadata": {},
   "outputs": [],
   "source": [
    "OBJ_RATIO = 1 # Based on previous experiment\n",
    "\n",
    "\n",
    "DISTANCES = {\n",
    "    # \"categorical\": np.array([SelectiveDistance(jaccard_projection, 1, 4) , SelectiveDistance(euclidean_projection,1,2),\n",
    "    #                        SelectiveDistance(euclidean_projection,1,2)], dtype=object),\n",
    "   \"graph\": np.array([GraphDist(IpsenMikhailov), GraphDist(PortraitDivergence), ManhattanDist(),\n",
    "                    GraphDist(NetSimile), GraphDist(DegreeDivergence), GraphDist(NetLSD), EuclideanDist()], dtype=object),\n",
    "#    \"numerical\" : np.array([SelectiveDistance(manhattan_projection, 1, 3),\n",
    "#                            SelectiveDistance(euclidean_projection, 1, 3), SelectiveDistance(cosine_projection, 2, 3)], dtype=object),\n",
    "#    \"nlp\": np.array([SelectiveDistance(manhattan_projection, 1, 3),\n",
    "#                    SelectiveDistance(euclidean_projection, 1, 3), SelectiveDistance(cosine_projection, 2, 3) ], dtype=object)\n",
    "}"
   ]
  },
  {
   "cell_type": "code",
   "execution_count": 15,
   "metadata": {},
   "outputs": [
    {
     "name": "stdout",
     "output_type": "stream",
     "text": [
      "graph\n",
      "Ipse_Port_Manh\n",
      "Ipse_Port_NetS\n",
      "Ipse_Port_Degr\n",
      "Ipse_Port_NetL\n",
      "Ipse_Port_Eucl\n",
      "Ipse_Port\n",
      "Ipse_Manh_NetS\n",
      "Ipse_Manh_Degr\n",
      "Ipse_Manh_NetL\n",
      "Ipse_Manh_Eucl\n",
      "Ipse_Manh\n",
      "Ipse_NetS_Degr\n",
      "Ipse_NetS_NetL\n",
      "Ipse_NetS_Eucl\n",
      "Ipse_NetS\n",
      "Ipse_Degr_NetL\n",
      "Ipse_Degr_Eucl\n",
      "Ipse_Degr\n",
      "Ipse_NetL_Eucl\n",
      "Ipse_NetL\n",
      "Ipse_Eucl\n",
      "Ipse\n",
      "Port_Manh_NetS\n",
      "Port_Manh_Degr\n",
      "Port_Manh_NetL\n",
      "Port_Manh_Eucl\n",
      "Port_Manh\n",
      "Port_NetS_Degr\n",
      "Port_NetS_NetL\n",
      "Port_NetS_Eucl\n",
      "Port_NetS\n",
      "Port_Degr_NetL\n",
      "Port_Degr_Eucl\n",
      "Port_Degr\n",
      "Port_NetL_Eucl\n",
      "Port_NetL\n",
      "Port_Eucl\n",
      "Port\n",
      "Manh_NetS_Degr\n",
      "Manh_NetS_NetL\n",
      "Manh_NetS_Eucl\n",
      "Manh_NetS\n",
      "Manh_Degr_NetL\n",
      "Manh_Degr_Eucl\n",
      "Manh_Degr\n",
      "Manh_NetL_Eucl\n",
      "Manh_NetL\n",
      "Manh_Eucl\n",
      "Manh\n",
      "NetS_Degr_NetL\n",
      "NetS_Degr_Eucl\n",
      "NetS_Degr\n",
      "NetS_NetL_Eucl\n",
      "NetS_NetL\n",
      "NetS_Eucl\n",
      "NetS\n",
      "Degr_NetL_Eucl\n",
      "Degr_NetL\n",
      "Degr_Eucl\n",
      "Degr\n",
      "NetL_Eucl\n",
      "NetL\n",
      "Eucl\n"
     ]
    }
   ],
   "source": [
    "results_distance_comb = []\n",
    "\n",
    "for data_type in DISTANCES.keys():\n",
    "    distances_to_use = get_binary_distances_choice(DISTANCES[data_type])\n",
    "    print(data_type)\n",
    "    for dataset_name in DATASETS[data_type]:\n",
    "        data = get_dataset(data_type, DATA_DIRS[data_type], dataset_name, \"RISF\")\n",
    "        for dist_to_use in distances_to_use:\n",
    "            dist = list(DISTANCES[data_type][dist_to_use])\n",
    "            if dist_to_use.sum() > 3:\n",
    "                continue\n",
    "            if data_type == \"graph\":\n",
    "                aucs = experiment_risf_complex(data, dist, OBJ_RATIO, clf_kwargs={})\n",
    "                dist_short = '_'.join([x.distance.__class__.__name__[:4] if \n",
    "                                    isinstance(x, GraphDist) else x.__class__.__name__[:4] for x in dist])\n",
    "                print(dist_short)\n",
    "            else:\n",
    "                aucs = perform_experiment_simple(\"RISF\", data, clf_kwargs={}, distances = [dist])\n",
    "                dist_short = '_'.join([x.projection_func.__name__[:4] for x in dist])\n",
    "            \n",
    "            \n",
    "            results = init_results(CLF, dataset_name, data_type, aucs, {\"distances\": dist_short})\n",
    "            \n",
    "            results_distance_comb.extend(results)\n",
    "\n",
    "pd.DataFrame(results_distance_comb).to_csv(\"../results/results_selected_distances.csv\", index=False)\n"
   ]
  },
  {
   "cell_type": "code",
   "execution_count": 16,
   "metadata": {},
   "outputs": [],
   "source": [
    "df = pd.read_csv(\"../results/results_selected_distances_cox2.csv\")"
   ]
  },
  {
   "cell_type": "code",
   "execution_count": 17,
   "metadata": {},
   "outputs": [],
   "source": [
    "mean_ = df.groupby(\"distances\").auc.mean().sort_values(ascending=False).head(20)"
   ]
  },
  {
   "cell_type": "code",
   "execution_count": 18,
   "metadata": {},
   "outputs": [],
   "source": [
    "var = df.groupby(\"distances\").auc.std()[mean_.index]"
   ]
  },
  {
   "cell_type": "code",
   "execution_count": 19,
   "metadata": {},
   "outputs": [
    {
     "data": {
      "text/html": [
       "<div>\n",
       "<style scoped>\n",
       "    .dataframe tbody tr th:only-of-type {\n",
       "        vertical-align: middle;\n",
       "    }\n",
       "\n",
       "    .dataframe tbody tr th {\n",
       "        vertical-align: top;\n",
       "    }\n",
       "\n",
       "    .dataframe thead th {\n",
       "        text-align: right;\n",
       "    }\n",
       "</style>\n",
       "<table border=\"1\" class=\"dataframe\">\n",
       "  <thead>\n",
       "    <tr style=\"text-align: right;\">\n",
       "      <th></th>\n",
       "      <th>mean</th>\n",
       "      <th>std</th>\n",
       "    </tr>\n",
       "    <tr>\n",
       "      <th>distances</th>\n",
       "      <th></th>\n",
       "      <th></th>\n",
       "    </tr>\n",
       "  </thead>\n",
       "  <tbody>\n",
       "    <tr>\n",
       "      <th>Port_Manh_Eucl</th>\n",
       "      <td>0.649100</td>\n",
       "      <td>0.123916</td>\n",
       "    </tr>\n",
       "    <tr>\n",
       "      <th>Manh_NetL_Eucl</th>\n",
       "      <td>0.630300</td>\n",
       "      <td>0.060009</td>\n",
       "    </tr>\n",
       "    <tr>\n",
       "      <th>NetL_Eucl</th>\n",
       "      <td>0.613633</td>\n",
       "      <td>0.091566</td>\n",
       "    </tr>\n",
       "    <tr>\n",
       "      <th>Manh_NetL</th>\n",
       "      <td>0.607900</td>\n",
       "      <td>0.066284</td>\n",
       "    </tr>\n",
       "    <tr>\n",
       "      <th>Port_Manh</th>\n",
       "      <td>0.590933</td>\n",
       "      <td>0.159616</td>\n",
       "    </tr>\n",
       "    <tr>\n",
       "      <th>Port_Manh_NetL</th>\n",
       "      <td>0.583633</td>\n",
       "      <td>0.117032</td>\n",
       "    </tr>\n",
       "    <tr>\n",
       "      <th>Port_NetL_Eucl</th>\n",
       "      <td>0.573667</td>\n",
       "      <td>0.010492</td>\n",
       "    </tr>\n",
       "    <tr>\n",
       "      <th>Eucl</th>\n",
       "      <td>0.569700</td>\n",
       "      <td>0.024233</td>\n",
       "    </tr>\n",
       "    <tr>\n",
       "      <th>Manh_Eucl</th>\n",
       "      <td>0.569367</td>\n",
       "      <td>0.132899</td>\n",
       "    </tr>\n",
       "    <tr>\n",
       "      <th>Port_NetL</th>\n",
       "      <td>0.567600</td>\n",
       "      <td>0.086473</td>\n",
       "    </tr>\n",
       "    <tr>\n",
       "      <th>NetL</th>\n",
       "      <td>0.557867</td>\n",
       "      <td>0.025488</td>\n",
       "    </tr>\n",
       "    <tr>\n",
       "      <th>Manh</th>\n",
       "      <td>0.557567</td>\n",
       "      <td>0.179713</td>\n",
       "    </tr>\n",
       "    <tr>\n",
       "      <th>Manh_NetS</th>\n",
       "      <td>0.533933</td>\n",
       "      <td>0.083561</td>\n",
       "    </tr>\n",
       "    <tr>\n",
       "      <th>Port_NetS_NetL</th>\n",
       "      <td>0.527567</td>\n",
       "      <td>0.081804</td>\n",
       "    </tr>\n",
       "    <tr>\n",
       "      <th>Port_Manh_NetS</th>\n",
       "      <td>0.527267</td>\n",
       "      <td>0.114965</td>\n",
       "    </tr>\n",
       "    <tr>\n",
       "      <th>Manh_Degr</th>\n",
       "      <td>0.523067</td>\n",
       "      <td>0.082060</td>\n",
       "    </tr>\n",
       "    <tr>\n",
       "      <th>Manh_Degr_Eucl</th>\n",
       "      <td>0.520600</td>\n",
       "      <td>0.129914</td>\n",
       "    </tr>\n",
       "    <tr>\n",
       "      <th>Manh_NetS_NetL</th>\n",
       "      <td>0.518167</td>\n",
       "      <td>0.022347</td>\n",
       "    </tr>\n",
       "    <tr>\n",
       "      <th>Port_Manh_Degr</th>\n",
       "      <td>0.512733</td>\n",
       "      <td>0.121158</td>\n",
       "    </tr>\n",
       "    <tr>\n",
       "      <th>Ipse_Port_Manh</th>\n",
       "      <td>0.509100</td>\n",
       "      <td>0.168362</td>\n",
       "    </tr>\n",
       "  </tbody>\n",
       "</table>\n",
       "</div>"
      ],
      "text/plain": [
       "                    mean       std\n",
       "distances                         \n",
       "Port_Manh_Eucl  0.649100  0.123916\n",
       "Manh_NetL_Eucl  0.630300  0.060009\n",
       "NetL_Eucl       0.613633  0.091566\n",
       "Manh_NetL       0.607900  0.066284\n",
       "Port_Manh       0.590933  0.159616\n",
       "Port_Manh_NetL  0.583633  0.117032\n",
       "Port_NetL_Eucl  0.573667  0.010492\n",
       "Eucl            0.569700  0.024233\n",
       "Manh_Eucl       0.569367  0.132899\n",
       "Port_NetL       0.567600  0.086473\n",
       "NetL            0.557867  0.025488\n",
       "Manh            0.557567  0.179713\n",
       "Manh_NetS       0.533933  0.083561\n",
       "Port_NetS_NetL  0.527567  0.081804\n",
       "Port_Manh_NetS  0.527267  0.114965\n",
       "Manh_Degr       0.523067  0.082060\n",
       "Manh_Degr_Eucl  0.520600  0.129914\n",
       "Manh_NetS_NetL  0.518167  0.022347\n",
       "Port_Manh_Degr  0.512733  0.121158\n",
       "Ipse_Port_Manh  0.509100  0.168362"
      ]
     },
     "execution_count": 19,
     "metadata": {},
     "output_type": "execute_result"
    }
   ],
   "source": [
    "df = pd.DataFrame([mean_, var]).T\n",
    "df.columns =[\"mean\", \"std\"]\n",
    "df"
   ]
  }
 ],
 "metadata": {
  "kernelspec": {
   "display_name": "random-isolation-similarity-forest-bqxKmFq8-py3.10",
   "language": "python",
   "name": "python3"
  },
  "language_info": {
   "codemirror_mode": {
    "name": "ipython",
    "version": 3
   },
   "file_extension": ".py",
   "mimetype": "text/x-python",
   "name": "python",
   "nbconvert_exporter": "python",
   "pygments_lexer": "ipython3",
   "version": "3.9.16"
  },
  "orig_nbformat": 4
 },
 "nbformat": 4,
 "nbformat_minor": 2
}
