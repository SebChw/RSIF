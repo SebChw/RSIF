{
 "cells": [
  {
   "attachments": {},
   "cell_type": "markdown",
   "metadata": {},
   "source": [
    "# Sensitivity Analysis\n",
    "\n",
    "Definitions of constats and function that tests parameters"
   ]
  },
  {
   "cell_type": "code",
   "execution_count": 2,
   "metadata": {},
   "outputs": [],
   "source": [
    "%load_ext autoreload\n",
    "%autoreload 2\n",
    "\n",
    "import sys\n",
    "sys.path.insert(0, '../data')\n",
    "\n",
    "from utils import (init_results, \n",
    "                            get_dataset,\n",
    "                            perform_experiment_simple,\n",
    "                            SEED,\n",
    "                            N_REPEATED_HOLDOUT,\n",
    "                            get_binary_distances_choice,\n",
    "                            experiment_risf_complex,\n",
    "                            ensure_existance,\n",
    "                            check_precomputed_notebook)\n",
    "\n",
    "check_precomputed_notebook()\n",
    "\n",
    "import numpy as np\n",
    "from netrd.distance import NetSimile, PortraitDivergence, DegreeDivergence, IpsenMikhailov, NetLSD\n",
    "from risf.distance_functions import *\n",
    "from risf.distance import SelectiveDistance\n",
    "from pathlib import Path\n",
    "import pandas as pd\n",
    "\n",
    "np.random.seed(SEED)\n",
    "\n",
    "CLF = \"RISF\"\n",
    "RESULTS_DIR = Path(\"../results\")\n",
    "RESULTS_DIR_MAX_N = RESULTS_DIR / \"max_n\"\n",
    "SELECTED_DISTANCES_DIR = RESULTS_DIR / \"selected_distances\"\n",
    "ensure_existance([RESULTS_DIR, SELECTED_DISTANCES_DIR, RESULTS_DIR_MAX_N])\n",
    "\n",
    "DATA_DIRS = {\n",
    "    \"graph\": Path(\"../data/graph\"),\n",
    "    \"numerical\" : Path(\"../data/numerical\"),\n",
    "    \"binary\" : Path(\"../data/categorical\"),\n",
    "    \"timeseries\": Path(\"../data/timeseries\"),\n",
    "    \"nlp\": Path(\"../data/adBench/NLP_by_RoBERTa/\")\n",
    "}"
   ]
  },
  {
   "cell_type": "code",
   "execution_count": 6,
   "metadata": {},
   "outputs": [],
   "source": [
    "def test_one_parameter(datasets, distances_func, param_name=None, options=None, classifiers = [\"RISF\", \"IForest\"], \n",
    "                        custom_file_name = None, selected_obj_ratio = 1, n_holdouts = N_REPEATED_HOLDOUT):\n",
    "    # To allow default parameters run\n",
    "    if param_name is None:\n",
    "        param_name=\"default\"\n",
    "    if options is None:\n",
    "        options = [1]\n",
    "\n",
    "    results_all = []\n",
    "    for clf in classifiers:\n",
    "        print(clf)\n",
    "        for data_type in datasets.keys():\n",
    "            print(data_type)\n",
    "            for dataset_name in datasets[data_type]:\n",
    "                for option in options:\n",
    "                    clf_kwargs = dict() if param_name == \"default\" else {param_name: option}\n",
    "                    \n",
    "                    data = get_dataset(data_type, DATA_DIRS[data_type], dataset_name, clf)\n",
    "                    if \"fixed\" in param_name:\n",
    "                        if isinstance(option, float):\n",
    "                            option = int(option * data[\"X\"].shape[1])\n",
    "                        \n",
    "                        min_n = 1\n",
    "                        if distances_func in [cosine_projection, chebyshev_projection]:\n",
    "                            min_n = 2\n",
    "                            if option == 1:\n",
    "                                continue\n",
    "                    \n",
    "                        clf_kwargs[\"max_n\"] = option\n",
    "                        if \"not_fixed\" in param_name:\n",
    "                            distances = [SelectiveDistance(distances_func, min_n, option)]\n",
    "                        else:\n",
    "                            distances = [SelectiveDistance(distances_func, option, option)]\n",
    "                    else:\n",
    "                        distances = distances_func(data[\"X\"], data_type)\n",
    "                    \n",
    "                    if clf not in [\"RISF\", \"ISF\"]:\n",
    "                        aucs = perform_experiment_simple(clf, data, clf_kwargs=clf_kwargs, n_holdouts=n_holdouts)\n",
    "                    else:\n",
    "                        aucs = experiment_risf_complex(clf, data, distances, selected_obj_ratio=selected_obj_ratio, clf_kwargs=clf_kwargs, n_holdouts=n_holdouts)\n",
    "                            \n",
    "                    results = init_results(clf, dataset_name, data_type, aucs, clf_kwargs)\n",
    "                    results_all.extend(results)\n",
    "\n",
    "\n",
    "    file_name = param_name if custom_file_name is None else custom_file_name\n",
    "    if \"fixed\" in file_name:\n",
    "        pd.DataFrame(results_all).to_csv( RESULTS_DIR_MAX_N /f\"{file_name}.csv\", index=False)\n",
    "    else:\n",
    "        pd.DataFrame(results_all).to_csv( RESULTS_DIR / f\"{file_name}.csv\", index=False)\n"
   ]
  },
  {
   "attachments": {},
   "cell_type": "markdown",
   "metadata": {},
   "source": [
    "Verify what is the best vector size for numerical, timeseries and NLP datasets"
   ]
  },
  {
   "cell_type": "code",
   "execution_count": 4,
   "metadata": {},
   "outputs": [],
   "source": [
    "DATASETS = {\n",
    "    \"numerical\": [\"21_Lymphography\", \"36_speech\", \"6_cardio\", \"26_optdigits\"],\n",
    "    \"timeseries\": [\"TwoLeadECG\"],\n",
    "    \"nlp\" : [\"agnews_1\"]\n",
    "}\n",
    "distances = [manhattan_projection, cosine_projection, chebyshev_projection]\n",
    "fixed_size = [True, False]\n",
    "max_n = [1, 2, 3, 5, 0.25, 0.5, 0.75, 1.0]\n",
    "for distance in distances:\n",
    "    for fixed in fixed_size:\n",
    "        param_name = distance.__name__ + \"-\" + (\"fixed\" if fixed else \"not_fixed\")\n",
    "        print(param_name)\n",
    "        test_one_parameter(DATASETS, distance, param_name, max_n, classifiers=[\"RISF\"])"
   ]
  },
  {
   "cell_type": "markdown",
   "metadata": {},
   "source": [
    "Test influence of selected objects ratio. For this we shouldn't use Selective Distances, as they always compute projections on the fly. Distance selection is not important at this point."
   ]
  },
  {
   "cell_type": "code",
   "execution_count": 3,
   "metadata": {},
   "outputs": [],
   "source": [
    "def get_distances_risf(X, data_type):\n",
    "    if data_type == \"graph\":\n",
    "        return [GraphDist(PortraitDivergence), ManhattanDist()]\n",
    "    elif data_type == \"numerical\":\n",
    "        return [ManhattanDist(), EuclideanDist()]\n",
    "    elif data_type == \"binary\":\n",
    "        return [LinDist(X), Goodall3Dist(X)]\n",
    "    elif data_type == \"nlp\":\n",
    "        return [ChebyshevDist(), ManhattanDist()]\n",
    "    elif data_type == \"timeseries\":\n",
    "        return [DTWDist()]\n",
    "\n",
    "DATASETS = {\n",
    "    \"numerical\": [\"21_Lymphography\", \"36_speech\", \"6_cardio\", \"26_optdigits\"],\n",
    "    \"graph\":  [\"COX2\", \"BZR\", \"DHFR\"],\n",
    "    \"binary\":  [\"ad_nominal\"],\n",
    "    \"timeseries\": [\"TwoLeadECG\"],\n",
    "    \"nlp\" : [\"agnews_1\"]\n",
    "}\n",
    "\n",
    "SELECTED_OBJ_RATIO = [0.1, 0.25, 0.5, 0.75, 1.0]\n",
    "results_selected_obj = []\n",
    "\n",
    "for data_type in DATASETS.keys():\n",
    "    print(data_type)\n",
    "    for dataset_name in DATASETS[data_type]:\n",
    "        for obj_ratio in SELECTED_OBJ_RATIO:               \n",
    "            data = get_dataset(data_type, DATA_DIRS[data_type], dataset_name, \"RISF\")\n",
    "            \n",
    "            aucs = experiment_risf_complex(\"RISF\", data, distances=get_distances_risf(data[\"X\"], data_type), selected_obj_ratio=obj_ratio, clf_kwargs= {})\n",
    "            results = init_results(CLF, dataset_name, data_type, aucs, {\"obj_ratio\": obj_ratio})\n",
    "            results_selected_obj.extend(results)\n",
    "\n",
    "pd.DataFrame(results_selected_obj).to_csv(RESULTS_DIR / \"selected_obj_ratio.csv\", index=False)"
   ]
  },
  {
   "attachments": {},
   "cell_type": "markdown",
   "metadata": {},
   "source": [
    "Influence of using different distance functions. We allow all distances to compete. Hyperparameters of `SelectiveDistances` were selected based on previous experiments. `OBJ_RATIO` was set based on previous experiments."
   ]
  },
  {
   "cell_type": "code",
   "execution_count": 4,
   "metadata": {},
   "outputs": [],
   "source": [
    "OBJ_RATIO = 0.5\n",
    "\n",
    "def get_distances_risf(X, data_type):\n",
    "    if data_type == \"graph\":\n",
    "        return np.array([GraphDist(IpsenMikhailov), GraphDist(PortraitDivergence), SelectiveDistance(BagOfWord_projection, 1, 1),\n",
    "                    GraphDist(NetSimile), GraphDist(DegreeDivergence), GraphDist(NetLSD), NumericalReprDist()], dtype=object)\n",
    "    elif data_type == \"numerical\":\n",
    "        return np.array([SelectiveDistance(manhattan_projection, 1, 3), \n",
    "                        SelectiveDistance(euclidean_projection, 1, 3), \n",
    "                        SelectiveDistance(cosine_projection, 2, 3),\n",
    "                        SelectiveDistance(chebyshev_projection, 2, 3)], dtype=object)\n",
    "    elif data_type == \"binary\":\n",
    "        return np.array([SelectiveDistance(dummy_projection,1,1), LinDist(X), Goodall3Dist(X), OFDist(X)], dtype=object)\n",
    "    elif data_type == \"nlp\":\n",
    "        return np.array([SelectiveDistance(manhattan_projection, 1, 3),\n",
    "                        SelectiveDistance(euclidean_projection, 1, 3), \n",
    "                        SelectiveDistance(chebyshev_projection, 5, 5),\n",
    "                        SelectiveDistance(cosine_projection, 2, 2)], dtype=object)\n",
    "    elif data_type == \"timeseries\":\n",
    "        return np.array([SelectiveDistance(manhattan_projection, 1, 3),\n",
    "                        SelectiveDistance(cosine_projection, 2, 2), \n",
    "                        SelectiveDistance(chebyshev_projection, 2, 2),\n",
    "                        DTWDist()], dtype=object)"
   ]
  },
  {
   "cell_type": "markdown",
   "metadata": {},
   "source": [
    "Compute default IF scores for comparison"
   ]
  },
  {
   "cell_type": "code",
   "execution_count": 8,
   "metadata": {},
   "outputs": [
    {
     "name": "stdout",
     "output_type": "stream",
     "text": [
      "IForest\n",
      "numerical\n",
      "graph\n",
      "binary\n",
      "timeseries\n",
      "nlp\n"
     ]
    }
   ],
   "source": [
    "test_one_parameter(DATASETS, get_distances_risf, param_name=None, options=None, classifiers=[\"IForest\"], custom_file_name=\"if_default\")"
   ]
  },
  {
   "cell_type": "markdown",
   "metadata": {},
   "source": [
    "Check all combinations of distances"
   ]
  },
  {
   "cell_type": "code",
   "execution_count": 10,
   "metadata": {},
   "outputs": [
    {
     "name": "stdout",
     "output_type": "stream",
     "text": [
      "numerical\n",
      "graph\n",
      "binary\n",
      "timeseries\n",
      "nlp\n"
     ]
    }
   ],
   "source": [
    "def get_shortcut(dist):\n",
    "    if isinstance(dist, SelectiveDistance):\n",
    "        return dist.projection_func.__name__[:4]\n",
    "    if isinstance(dist, GraphDist):\n",
    "        return dist.distance.__class__.__name__[:4]\n",
    "    return dist.__class__.__name__[:4]\n",
    "\n",
    "for data_type in DATASETS.keys():\n",
    "    results_distance_comb = []\n",
    "    print(data_type)\n",
    "    for dataset_name in DATASETS[data_type]:\n",
    "        data = get_dataset(data_type, DATA_DIRS[data_type], dataset_name, \"RISF\")\n",
    "        distances = get_distances_risf(data[\"X\"], data_type)\n",
    "        distances_to_use = get_binary_distances_choice(distances)\n",
    "        for dist_to_use in distances_to_use:\n",
    "            dist = list(distances[dist_to_use])\n",
    "            if dist_to_use.sum() > 3:\n",
    "                continue\n",
    "            if data_type in [\"graph\", \"binary\", \"timeseries\"]:\n",
    "                aucs =  experiment_risf_complex(\"RISF\", data, dist, OBJ_RATIO, clf_kwargs={})\n",
    "                dist_short = '_'.join([get_shortcut(x) for x in dist])                \n",
    "            else:\n",
    "                aucs = perform_experiment_simple(\"RISF\", data, clf_kwargs={}, distances = dist)\n",
    "                dist_short = '_'.join([x.projection_func.__name__[:4] for x in dist])\n",
    "            \n",
    "            \n",
    "            results = init_results(CLF, dataset_name, data_type, aucs, {\"distances\": dist_short})\n",
    "            \n",
    "            results_distance_comb.extend(results)\n",
    "\n",
    "    pd.DataFrame(results_distance_comb).to_csv(SELECTED_DISTANCES_DIR / f\"{data_type}.csv\", index=False)\n"
   ]
  },
  {
   "attachments": {},
   "cell_type": "markdown",
   "metadata": {},
   "source": [
    "Influence of subsampling_size. All hyperparameters was set based on previous experiments."
   ]
  },
  {
   "cell_type": "code",
   "execution_count": 3,
   "metadata": {},
   "outputs": [],
   "source": [
    "def get_distances_risf(X, data_type):\n",
    "    if data_type == \"graph\":\n",
    "        return [GraphDist(PortraitDivergence), ManhattanDist(), GraphDist(DegreeDivergence), GraphDist(NetLSD), EuclideanDist()]\n",
    "    elif data_type == \"numerical\":\n",
    "        return [SelectiveDistance(manhattan_projection, 1, 3), SelectiveDistance(euclidean_projection, 1, 3)]\n",
    "    elif data_type == \"binary\":\n",
    "        return [SelectiveDistance(dummy_projection,1,1), LinDist(X), Goodall3Dist(X)]\n",
    "    elif data_type == \"nlp\":\n",
    "        return [SelectiveDistance(manhattan_projection, 1, 3),SelectiveDistance(euclidean_projection, 1, 3), \n",
    "                SelectiveDistance(chebyshev_projection, 5, 5)]\n",
    "    elif data_type == \"timeseries\":\n",
    "        return [SelectiveDistance(manhattan_projection, 1, 3), SelectiveDistance(chebyshev_projection, 2, 2),\n",
    "                DTWDist()]"
   ]
  },
  {
   "cell_type": "code",
   "execution_count": 13,
   "metadata": {},
   "outputs": [
    {
     "name": "stdout",
     "output_type": "stream",
     "text": [
      "RISF\n",
      "numerical\n",
      "graph\n",
      "binary\n",
      "timeseries\n",
      "nlp\n",
      "IForest\n",
      "numerical\n",
      "graph\n",
      "binary\n",
      "timeseries\n",
      "nlp\n"
     ]
    }
   ],
   "source": [
    "import warnings\n",
    "warnings.filterwarnings(\"ignore\") # There are few very small datasets for which this doesn't change max_samples. It produced ton of output.\n",
    "\n",
    "max_samples = np.array([64, 128, 256, 512])\n",
    "test_one_parameter(DATASETS, get_distances_risf, \"max_samples\", max_samples, selected_obj_ratio = OBJ_RATIO)"
   ]
  },
  {
   "attachments": {},
   "cell_type": "markdown",
   "metadata": {},
   "source": [
    "Influence of number of trees"
   ]
  },
  {
   "cell_type": "code",
   "execution_count": 14,
   "metadata": {},
   "outputs": [
    {
     "name": "stdout",
     "output_type": "stream",
     "text": [
      "RISF\n",
      "numerical\n",
      "graph\n",
      "binary\n",
      "timeseries\n",
      "nlp\n",
      "IForest\n",
      "numerical\n",
      "graph\n",
      "binary\n",
      "timeseries\n",
      "nlp\n"
     ]
    }
   ],
   "source": [
    "num_of_estimators = np.array([1, 5, 10, 25, 50, 100, 200, 300])\n",
    "test_one_parameter(DATASETS, get_distances_risf, \"n_estimators\", num_of_estimators, selected_obj_ratio = OBJ_RATIO) "
   ]
  },
  {
   "cell_type": "markdown",
   "metadata": {},
   "source": [
    "Run all algorithms with default values to see when mean of auc converges."
   ]
  },
  {
   "cell_type": "code",
   "execution_count": 1,
   "metadata": {},
   "outputs": [],
   "source": [
    "def append_outcomes(source, dest):\n",
    "    with open(source, 'r') as f:\n",
    "        header = f.readline()\n",
    "        with open(dest, 'a') as f2:\n",
    "            for line in f:\n",
    "                f2.write(line)"
   ]
  },
  {
   "cell_type": "code",
   "execution_count": 9,
   "metadata": {},
   "outputs": [
    {
     "name": "stdout",
     "output_type": "stream",
     "text": [
      "RISF\n",
      "numerical\n",
      "graph\n",
      "binary\n",
      "timeseries\n",
      "nlp\n",
      "LOF\n",
      "numerical\n",
      "graph\n",
      "binary\n",
      "timeseries\n",
      "nlp\n",
      "IForest\n",
      "numerical\n",
      "graph\n",
      "binary\n",
      "timeseries\n",
      "nlp\n",
      "ECOD\n",
      "numerical\n",
      "graph\n",
      "binary\n",
      "timeseries\n",
      "nlp\n",
      "HBOS\n",
      "numerical\n",
      "graph\n",
      "binary\n",
      "timeseries\n",
      "nlp\n",
      "ISF\n",
      "numerical\n",
      "graph\n",
      "binary\n",
      "timeseries\n",
      "nlp\n"
     ]
    }
   ],
   "source": [
    "test_one_parameter(DATASETS, get_distances_risf, param_name=None, options=None, classifiers=[\"RISF\", \"LOF\", \"IForest\", \"ECOD\", \"HBOS\"], custom_file_name=\"20holdouts_sensitivity_datasets\", n_holdouts=20, selected_obj_ratio = OBJ_RATIO)\n",
    "\n",
    "# Since ISF is implemented as RISF we need to rerun the experiment with just ISF\n",
    "\n",
    "def get_distances_isf(X, data_type):\n",
    "    if data_type == \"graph\":\n",
    "        return [GraphDist(PortraitDivergence)]\n",
    "    elif data_type == \"numerical\":\n",
    "        return [ManhattanDist()]\n",
    "    elif data_type == \"binary\":\n",
    "        return [LinDist(X)]\n",
    "    elif data_type == \"nlp\":\n",
    "        return [ChebyshevDist()]\n",
    "    elif data_type == \"timeseries\":\n",
    "        return [DTWDist()]\n",
    "\n",
    "test_one_parameter(DATASETS, get_distances_isf, param_name=None, options=None, classifiers=[\"ISF\"], custom_file_name=\"20holdouts_sensitivity_datasets_isf\", n_holdouts=20, selected_obj_ratio = 1)\n",
    "\n",
    "append_outcomes(RESULTS_DIR / \"20holdouts_sensitivity_datasets_isf.csv\", RESULTS_DIR / \"20holdouts_sensitivity_datasets.csv\")\n",
    "\n",
    "(RESULTS_DIR / \"20holdouts_sensitivity_datasets_isf.csv\").unlink()"
   ]
  },
  {
   "cell_type": "markdown",
   "metadata": {},
   "source": [
    "Run RISF in dummy projection mode to see how implementation can make outcomes different"
   ]
  },
  {
   "cell_type": "code",
   "execution_count": 11,
   "metadata": {},
   "outputs": [],
   "source": [
    "file_name = \"numerical_dummy_dist\"\n",
    "test_one_parameter(DATASETS, lambda x, y: [SelectiveDistance(dummy_projection, 1, 1)], param_name=None, options=None, classifiers=[\"RISF\"], custom_file_name=file_name)\n",
    "\n",
    "append_outcomes(RESULTS_DIR / \"if_default.csv\" , RESULTS_DIR / f\"{file_name}.csv\")"
   ]
  }
 ],
 "metadata": {
  "kernelspec": {
   "display_name": "random-isolation-similarity-forest-bqxKmFq8-py3.10",
   "language": "python",
   "name": "python3"
  },
  "language_info": {
   "codemirror_mode": {
    "name": "ipython",
    "version": 3
   },
   "file_extension": ".py",
   "mimetype": "text/x-python",
   "name": "python",
   "nbconvert_exporter": "python",
   "pygments_lexer": "ipython3",
   "version": "3.9.16"
  },
  "orig_nbformat": 4
 },
 "nbformat": 4,
 "nbformat_minor": 2
}
