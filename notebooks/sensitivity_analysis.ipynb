{
 "cells": [
  {
   "attachments": {},
   "cell_type": "markdown",
   "metadata": {},
   "source": [
    "#### Experiment with:\n",
    "* Max_depth\n",
    "* n_estimators\n",
    "* selected_objects for distance calculation.\n",
    "\n",
    "# Sensitivity Analysis"
   ]
  },
  {
   "attachments": {},
   "cell_type": "markdown",
   "metadata": {},
   "source": [
    "na AWS dostaje sie ssh i konsole. Use tmux.\n",
    "\n",
    "Spot instance preffered vs on demand.\n",
    "\n",
    "Patrzec ile kosztuje dana maszyna w regionie. US East OHio, Europe Ireland."
   ]
  },
  {
   "cell_type": "code",
   "execution_count": 1,
   "metadata": {},
   "outputs": [],
   "source": [
    "import sys\n",
    "sys.path.insert(0, '../data')\n",
    "\n",
    "from notebooks.utils import init_results, ObjectsSelector, get_dataset, perform_experiment_simple, SEED, PRECOMPUTED_DISTANCES_PATH, get_binary_distances_choice\n",
    "\n",
    "import numpy as np\n",
    "# ! If you use from risf.distance_functions import *. Then Parallel somehow doesn't work\n",
    "# ! Now I see that this could be due to debugging mode xD\n",
    "#from risf.distance_functions import (EuclideanDist, PortraitDivergenceDist, JaccardDist, ManhattanDist,CosineDist, IpsenMikailovDist, JaccardGraphDist\n",
    "from risf.distance_functions import *\n",
    "from risf.distance import SelectiveDistance\n",
    "from pathlib import Path\n",
    "from tqdm.auto import tqdm, trange\n",
    "import pandas as pd\n",
    "import seaborn as sns\n",
    "\n",
    "import matplotlib.pyplot as plt\n",
    "\n",
    "OKABE_ITO_SCALE = [\"#E69F00\", \"#56B4E9\", \"#009E73\", \"#F0E442\", \"#0072B2\", \"#D55E00\", \"#CC79A7\"]\n",
    "%load_ext autoreload\n",
    "%autoreload 2\n",
    "\n",
    "np.random.seed(SEED)\n",
    "\n",
    "#! Look for mixed dataset consisting of numerical, categorical and nominal."
   ]
  },
  {
   "cell_type": "code",
   "execution_count": 2,
   "metadata": {},
   "outputs": [],
   "source": [
    "CLF = \"RISF\"\n",
    "\n",
    "PRECOMPUTED_DISTANCES_PATH.mkdir(exist_ok=True)\n",
    "\n",
    "DATASETS = {\n",
    "    #\"graph\":  [\"p53\"],\n",
    "    \"numerical\": [\"21_Lymphography\", \"36_speech\", \"6_cardio\", \"26_optdigits\"],\n",
    "    #\"categorical\":  [\"ad_nominal\"],# \"solar-flare_FvsAll-cleaned\"],\n",
    "    #\"timeseries\": [\"TwoLeadECG\"] #! Add one more dataset\n",
    "    #! add one NLP dataset to sensitivity analysis.\n",
    "}\n",
    "\n",
    "DATA_DIRS = {\n",
    "    \"graph\": Path(\"../data/graph\"),\n",
    "    \"numerical\" : Path(\"../data/numerical\"),\n",
    "    \"categorical\" : Path(\"../data/categorical\"),\n",
    "    \"timeseries\": Path(\"../data/timeseries\")\n",
    "}"
   ]
  },
  {
   "cell_type": "code",
   "execution_count": 3,
   "metadata": {},
   "outputs": [],
   "source": [
    "def test_one_parameter(param_name=None, options=None, classifiers = [\"IForest\", \"RISF\"], max_n_ratio = 1):\n",
    "    #! THERE IS A PROBLEM WITH REPRODUCIBILITY FOR SURE!!!!!\n",
    "    #! If we have dataset for which we have same n_samples < max samples we should obtain same score every time!\n",
    "    # TO allow default parameters run\n",
    "    if param_name is None:\n",
    "        param_name=\"default\"\n",
    "    if options is None:\n",
    "        options = [1]\n",
    "\n",
    "    results_all = []\n",
    "    for clf in classifiers: # add ISF too.\n",
    "        for data_type in (data_types := tqdm(DATASETS.keys())):\n",
    "            if data_type == \"graph\":\n",
    "                continue # Just for now as this adds another level of complexity\n",
    "            data_types.set_description(data_type)\n",
    "            for dataset_name in (dataset_names := tqdm(DATASETS[data_type])):\n",
    "                dataset_names.set_description(dataset_name)\n",
    "                for option in tqdm(options, desc=param_name):\n",
    "                    clf_kwargs = dict() if param_name == \"default\" else {param_name: option}\n",
    "                    \n",
    "                    data = get_dataset(data_type, DATA_DIRS[data_type], dataset_name)\n",
    "                    \n",
    "                    max_n = max([1, max_n_ratio * data[\"X\"].shape[1]]) # if we set max_n to 0 we have 1 \n",
    "\n",
    "                    distances = [[SelectiveDistance(euclidean_projection, 1, max_n)]]\n",
    "                    aucs = perform_experiment_simple(clf, data, distances=distances, clf_kwargs=clf_kwargs)\n",
    "\n",
    "                    results = init_results(clf, dataset_name, data_type, aucs, clf_kwargs)\n",
    "                    results_all.extend(results)\n",
    "\n",
    "    pd.DataFrame(results_all).to_csv(f\"results_{param_name}.csv\", index=False)\n"
   ]
  },
  {
   "attachments": {},
   "cell_type": "markdown",
   "metadata": {},
   "source": [
    "#### At first let's see performance of IF, ISF and RISF defaults on the data"
   ]
  },
  {
   "cell_type": "code",
   "execution_count": 4,
   "metadata": {},
   "outputs": [],
   "source": [
    "#test_one_parameter()"
   ]
  },
  {
   "attachments": {},
   "cell_type": "markdown",
   "metadata": {},
   "source": [
    "First select subsampling size (ratio i sztywne liczby) -> influence of selected objects (nie ratio a sztywne liczby) ->  -> Wybranie najlepszych dystansow robimy na koniec\n",
    "\n",
    "Default distances:\n",
    "* graph -> Portrait\n",
    "* numerical -> Euclidean\n",
    "* categorical -> Jaccard\n",
    "\n",
    "Do it in a greedy fashion"
   ]
  },
  {
   "attachments": {},
   "cell_type": "markdown",
   "metadata": {},
   "source": [
    "#### Influence of subsampling_size"
   ]
  },
  {
   "cell_type": "code",
   "execution_count": 5,
   "metadata": {},
   "outputs": [
    {
     "data": {
      "application/vnd.jupyter.widget-view+json": {
       "model_id": "e6d6c7b877c94b71a91c4434131b8932",
       "version_major": 2,
       "version_minor": 0
      },
      "text/plain": [
       "  0%|          | 0/1 [00:00<?, ?it/s]"
      ]
     },
     "metadata": {},
     "output_type": "display_data"
    },
    {
     "data": {
      "application/vnd.jupyter.widget-view+json": {
       "model_id": "83d17f49b4e041a5b3a47626f5c652c8",
       "version_major": 2,
       "version_minor": 0
      },
      "text/plain": [
       "  0%|          | 0/4 [00:00<?, ?it/s]"
      ]
     },
     "metadata": {},
     "output_type": "display_data"
    },
    {
     "data": {
      "application/vnd.jupyter.widget-view+json": {
       "model_id": "caa28755c3794aa78424c7615d8acab8",
       "version_major": 2,
       "version_minor": 0
      },
      "text/plain": [
       "max_samples:   0%|          | 0/5 [00:00<?, ?it/s]"
      ]
     },
     "metadata": {},
     "output_type": "display_data"
    },
    {
     "name": "stderr",
     "output_type": "stream",
     "text": [
      "c:\\Users\\sebas\\AppData\\pypoetry\\virtualenvs\\random-isolation-similarity-forest-bqxKmFq8-py3.10\\lib\\site-packages\\sklearn\\ensemble\\_iforest.py:307: UserWarning: max_samples (128) is greater than the total number of samples (103). max_samples will be set to n_samples for estimation.\n",
      "  warn(\n",
      "c:\\Users\\sebas\\AppData\\pypoetry\\virtualenvs\\random-isolation-similarity-forest-bqxKmFq8-py3.10\\lib\\site-packages\\sklearn\\ensemble\\_iforest.py:307: UserWarning: max_samples (128) is greater than the total number of samples (103). max_samples will be set to n_samples for estimation.\n",
      "  warn(\n",
      "c:\\Users\\sebas\\AppData\\pypoetry\\virtualenvs\\random-isolation-similarity-forest-bqxKmFq8-py3.10\\lib\\site-packages\\sklearn\\ensemble\\_iforest.py:307: UserWarning: max_samples (128) is greater than the total number of samples (103). max_samples will be set to n_samples for estimation.\n",
      "  warn(\n",
      "c:\\Users\\sebas\\AppData\\pypoetry\\virtualenvs\\random-isolation-similarity-forest-bqxKmFq8-py3.10\\lib\\site-packages\\sklearn\\ensemble\\_iforest.py:307: UserWarning: max_samples (256) is greater than the total number of samples (103). max_samples will be set to n_samples for estimation.\n",
      "  warn(\n",
      "c:\\Users\\sebas\\AppData\\pypoetry\\virtualenvs\\random-isolation-similarity-forest-bqxKmFq8-py3.10\\lib\\site-packages\\sklearn\\ensemble\\_iforest.py:307: UserWarning: max_samples (256) is greater than the total number of samples (103). max_samples will be set to n_samples for estimation.\n",
      "  warn(\n",
      "c:\\Users\\sebas\\AppData\\pypoetry\\virtualenvs\\random-isolation-similarity-forest-bqxKmFq8-py3.10\\lib\\site-packages\\sklearn\\ensemble\\_iforest.py:307: UserWarning: max_samples (256) is greater than the total number of samples (103). max_samples will be set to n_samples for estimation.\n",
      "  warn(\n",
      "c:\\Users\\sebas\\AppData\\pypoetry\\virtualenvs\\random-isolation-similarity-forest-bqxKmFq8-py3.10\\lib\\site-packages\\sklearn\\ensemble\\_iforest.py:307: UserWarning: max_samples (512) is greater than the total number of samples (103). max_samples will be set to n_samples for estimation.\n",
      "  warn(\n",
      "c:\\Users\\sebas\\AppData\\pypoetry\\virtualenvs\\random-isolation-similarity-forest-bqxKmFq8-py3.10\\lib\\site-packages\\sklearn\\ensemble\\_iforest.py:307: UserWarning: max_samples (512) is greater than the total number of samples (103). max_samples will be set to n_samples for estimation.\n",
      "  warn(\n",
      "c:\\Users\\sebas\\AppData\\pypoetry\\virtualenvs\\random-isolation-similarity-forest-bqxKmFq8-py3.10\\lib\\site-packages\\sklearn\\ensemble\\_iforest.py:307: UserWarning: max_samples (512) is greater than the total number of samples (103). max_samples will be set to n_samples for estimation.\n",
      "  warn(\n",
      "c:\\Users\\sebas\\AppData\\pypoetry\\virtualenvs\\random-isolation-similarity-forest-bqxKmFq8-py3.10\\lib\\site-packages\\sklearn\\ensemble\\_iforest.py:307: UserWarning: max_samples (1024) is greater than the total number of samples (103). max_samples will be set to n_samples for estimation.\n",
      "  warn(\n",
      "c:\\Users\\sebas\\AppData\\pypoetry\\virtualenvs\\random-isolation-similarity-forest-bqxKmFq8-py3.10\\lib\\site-packages\\sklearn\\ensemble\\_iforest.py:307: UserWarning: max_samples (1024) is greater than the total number of samples (103). max_samples will be set to n_samples for estimation.\n",
      "  warn(\n",
      "c:\\Users\\sebas\\AppData\\pypoetry\\virtualenvs\\random-isolation-similarity-forest-bqxKmFq8-py3.10\\lib\\site-packages\\sklearn\\ensemble\\_iforest.py:307: UserWarning: max_samples (1024) is greater than the total number of samples (103). max_samples will be set to n_samples for estimation.\n",
      "  warn(\n"
     ]
    },
    {
     "data": {
      "application/vnd.jupyter.widget-view+json": {
       "model_id": "5a8c275818dd45de8f07472e8b940acb",
       "version_major": 2,
       "version_minor": 0
      },
      "text/plain": [
       "max_samples:   0%|          | 0/5 [00:00<?, ?it/s]"
      ]
     },
     "metadata": {},
     "output_type": "display_data"
    },
    {
     "data": {
      "application/vnd.jupyter.widget-view+json": {
       "model_id": "af07a43ac4fb4dfeaedd81f841bdf9ea",
       "version_major": 2,
       "version_minor": 0
      },
      "text/plain": [
       "max_samples:   0%|          | 0/5 [00:00<?, ?it/s]"
      ]
     },
     "metadata": {},
     "output_type": "display_data"
    },
    {
     "data": {
      "application/vnd.jupyter.widget-view+json": {
       "model_id": "1e23d3f159b242979c1fad5c2159aacf",
       "version_major": 2,
       "version_minor": 0
      },
      "text/plain": [
       "max_samples:   0%|          | 0/5 [00:00<?, ?it/s]"
      ]
     },
     "metadata": {},
     "output_type": "display_data"
    },
    {
     "data": {
      "application/vnd.jupyter.widget-view+json": {
       "model_id": "e2f4302943224794a6a0e457d29ce798",
       "version_major": 2,
       "version_minor": 0
      },
      "text/plain": [
       "  0%|          | 0/1 [00:00<?, ?it/s]"
      ]
     },
     "metadata": {},
     "output_type": "display_data"
    },
    {
     "data": {
      "application/vnd.jupyter.widget-view+json": {
       "model_id": "7ab24a3a7dd74e9cb08dd424ad755dc2",
       "version_major": 2,
       "version_minor": 0
      },
      "text/plain": [
       "  0%|          | 0/4 [00:00<?, ?it/s]"
      ]
     },
     "metadata": {},
     "output_type": "display_data"
    },
    {
     "data": {
      "application/vnd.jupyter.widget-view+json": {
       "model_id": "69f89f67920d4565b138fdd21db6e3ba",
       "version_major": 2,
       "version_minor": 0
      },
      "text/plain": [
       "max_samples:   0%|          | 0/5 [00:00<?, ?it/s]"
      ]
     },
     "metadata": {},
     "output_type": "display_data"
    },
    {
     "name": "stdout",
     "output_type": "stream",
     "text": [
      "max sample is bigger than number of sample selecting n_samples\n",
      "max sample is bigger than number of sample selecting n_samples\n",
      "max sample is bigger than number of sample selecting n_samples\n",
      "max sample is bigger than number of sample selecting n_samples\n",
      "max sample is bigger than number of sample selecting n_samples\n",
      "max sample is bigger than number of sample selecting n_samples\n",
      "max sample is bigger than number of sample selecting n_samples\n",
      "max sample is bigger than number of sample selecting n_samples\n",
      "max sample is bigger than number of sample selecting n_samples\n",
      "max sample is bigger than number of sample selecting n_samples\n",
      "max sample is bigger than number of sample selecting n_samples\n",
      "max sample is bigger than number of sample selecting n_samples\n"
     ]
    },
    {
     "data": {
      "application/vnd.jupyter.widget-view+json": {
       "model_id": "02f48f343fc4473e9607ba45e752c5ed",
       "version_major": 2,
       "version_minor": 0
      },
      "text/plain": [
       "max_samples:   0%|          | 0/5 [00:00<?, ?it/s]"
      ]
     },
     "metadata": {},
     "output_type": "display_data"
    },
    {
     "data": {
      "application/vnd.jupyter.widget-view+json": {
       "model_id": "ccfaff6d4f134ffeac244beb4817f8a9",
       "version_major": 2,
       "version_minor": 0
      },
      "text/plain": [
       "max_samples:   0%|          | 0/5 [00:00<?, ?it/s]"
      ]
     },
     "metadata": {},
     "output_type": "display_data"
    },
    {
     "data": {
      "application/vnd.jupyter.widget-view+json": {
       "model_id": "d63f9ae20c444ca4860b0277f078ad9f",
       "version_major": 2,
       "version_minor": 0
      },
      "text/plain": [
       "max_samples:   0%|          | 0/5 [00:00<?, ?it/s]"
      ]
     },
     "metadata": {},
     "output_type": "display_data"
    }
   ],
   "source": [
    "max_samples = np.array([64, 128, 256, 512, 1024])\n",
    "test_one_parameter(\"max_samples\", max_samples)"
   ]
  },
  {
   "attachments": {},
   "cell_type": "markdown",
   "metadata": {},
   "source": [
    "### Influence of max_depth"
   ]
  },
  {
   "cell_type": "code",
   "execution_count": 16,
   "metadata": {},
   "outputs": [
    {
     "data": {
      "application/vnd.jupyter.widget-view+json": {
       "model_id": "a75a26a4ea69404199f82e99b9b5a0d4",
       "version_major": 2,
       "version_minor": 0
      },
      "text/plain": [
       "  0%|          | 0/1 [00:00<?, ?it/s]"
      ]
     },
     "metadata": {},
     "output_type": "display_data"
    },
    {
     "data": {
      "application/vnd.jupyter.widget-view+json": {
       "model_id": "7a4eed42acd24c8b805b3318d78e87dd",
       "version_major": 2,
       "version_minor": 0
      },
      "text/plain": [
       "  0%|          | 0/4 [00:00<?, ?it/s]"
      ]
     },
     "metadata": {},
     "output_type": "display_data"
    },
    {
     "data": {
      "application/vnd.jupyter.widget-view+json": {
       "model_id": "20ffb64b76e34b17b0f96697fc2171f1",
       "version_major": 2,
       "version_minor": 0
      },
      "text/plain": [
       "max_depth:   0%|          | 0/5 [00:00<?, ?it/s]"
      ]
     },
     "metadata": {},
     "output_type": "display_data"
    },
    {
     "data": {
      "application/vnd.jupyter.widget-view+json": {
       "model_id": "ad6856b1d3da46d5a0d913ae91ba2f2c",
       "version_major": 2,
       "version_minor": 0
      },
      "text/plain": [
       "max_depth:   0%|          | 0/5 [00:00<?, ?it/s]"
      ]
     },
     "metadata": {},
     "output_type": "display_data"
    },
    {
     "data": {
      "application/vnd.jupyter.widget-view+json": {
       "model_id": "e9e8c91fa8844c5ab12e72c32d0b2098",
       "version_major": 2,
       "version_minor": 0
      },
      "text/plain": [
       "max_depth:   0%|          | 0/5 [00:00<?, ?it/s]"
      ]
     },
     "metadata": {},
     "output_type": "display_data"
    },
    {
     "data": {
      "application/vnd.jupyter.widget-view+json": {
       "model_id": "eae90528fc6a45b18c1e7de96d6ff868",
       "version_major": 2,
       "version_minor": 0
      },
      "text/plain": [
       "max_depth:   0%|          | 0/5 [00:00<?, ?it/s]"
      ]
     },
     "metadata": {},
     "output_type": "display_data"
    },
    {
     "data": {
      "application/vnd.jupyter.widget-view+json": {
       "model_id": "4cba3edbe8fa4aa484d82442bdfd22fc",
       "version_major": 2,
       "version_minor": 0
      },
      "text/plain": [
       "  0%|          | 0/1 [00:00<?, ?it/s]"
      ]
     },
     "metadata": {},
     "output_type": "display_data"
    },
    {
     "data": {
      "application/vnd.jupyter.widget-view+json": {
       "model_id": "a2d7d24c113e4100938e9dd687c30764",
       "version_major": 2,
       "version_minor": 0
      },
      "text/plain": [
       "  0%|          | 0/4 [00:00<?, ?it/s]"
      ]
     },
     "metadata": {},
     "output_type": "display_data"
    },
    {
     "data": {
      "application/vnd.jupyter.widget-view+json": {
       "model_id": "d05573086a1f499bb90a16a415aa88d4",
       "version_major": 2,
       "version_minor": 0
      },
      "text/plain": [
       "max_depth:   0%|          | 0/5 [00:00<?, ?it/s]"
      ]
     },
     "metadata": {},
     "output_type": "display_data"
    },
    {
     "data": {
      "application/vnd.jupyter.widget-view+json": {
       "model_id": "8248cbdc2d7a4b5596b56812ffb8d4a3",
       "version_major": 2,
       "version_minor": 0
      },
      "text/plain": [
       "max_depth:   0%|          | 0/5 [00:00<?, ?it/s]"
      ]
     },
     "metadata": {},
     "output_type": "display_data"
    },
    {
     "ename": "KeyboardInterrupt",
     "evalue": "",
     "output_type": "error",
     "traceback": [
      "\u001b[1;31m---------------------------------------------------------------------------\u001b[0m",
      "\u001b[1;31mKeyboardInterrupt\u001b[0m                         Traceback (most recent call last)",
      "Cell \u001b[1;32mIn[16], line 2\u001b[0m\n\u001b[0;32m      1\u001b[0m max_depth \u001b[39m=\u001b[39m np\u001b[39m.\u001b[39marray([\u001b[39m6\u001b[39m,\u001b[39m7\u001b[39m,\u001b[39m8\u001b[39m,\u001b[39m9\u001b[39m,\u001b[39m10\u001b[39m])\n\u001b[1;32m----> 2\u001b[0m test_one_parameter(\u001b[39m\"\u001b[39;49m\u001b[39mmax_depth\u001b[39;49m\u001b[39m\"\u001b[39;49m, max_depth)\n",
      "Cell \u001b[1;32mIn[13], line 22\u001b[0m, in \u001b[0;36mtest_one_parameter\u001b[1;34m(param_name, options)\u001b[0m\n\u001b[0;32m     19\u001b[0m data \u001b[39m=\u001b[39m get_dataset(data_type, DATA_DIRS[data_type], dataset_name)\n\u001b[0;32m     21\u001b[0m distances \u001b[39m=\u001b[39m [[SelectiveDistance(euclidean_projection, \u001b[39m1\u001b[39m, data[\u001b[39m\"\u001b[39m\u001b[39mX\u001b[39m\u001b[39m\"\u001b[39m]\u001b[39m.\u001b[39mshape[\u001b[39m1\u001b[39m])]]\n\u001b[1;32m---> 22\u001b[0m aucs \u001b[39m=\u001b[39m perform_experiment_simple(clf, data, distances\u001b[39m=\u001b[39;49mdistances, clf_kwargs\u001b[39m=\u001b[39;49m{})\n\u001b[0;32m     24\u001b[0m results \u001b[39m=\u001b[39m init_results(clf, dataset_name, data_type, aucs, clf_kwargs)\n\u001b[0;32m     25\u001b[0m results_all\u001b[39m.\u001b[39mextend(results)\n",
      "File \u001b[1;32mD:\\AI_y3_s1\\ProblemClasses\\Isolation-Similarity-Forest\\notebooks\\utils.py:244\u001b[0m, in \u001b[0;36mperform_experiment_simple\u001b[1;34m(clf_name, data, distances, clf_kwargs, dtype_)\u001b[0m\n\u001b[0;32m    235\u001b[0m \u001b[39mif\u001b[39;00m clf_name \u001b[39m==\u001b[39m \u001b[39m\"\u001b[39m\u001b[39mRISF\u001b[39m\u001b[39m\"\u001b[39m:\n\u001b[0;32m    236\u001b[0m     \u001b[39m# Check categorical features using jaccard distance!\u001b[39;00m\n\u001b[0;32m    237\u001b[0m     clf \u001b[39m=\u001b[39m RandomIsolationSimilarityForest(\n\u001b[0;32m    238\u001b[0m         random_state\u001b[39m=\u001b[39mSEED,\n\u001b[0;32m    239\u001b[0m         distances\u001b[39m=\u001b[39mdistances,\n\u001b[0;32m    240\u001b[0m         n_jobs\u001b[39m=\u001b[39m\u001b[39m-\u001b[39m\u001b[39m1\u001b[39m,\n\u001b[0;32m    241\u001b[0m         \u001b[39m*\u001b[39m\u001b[39m*\u001b[39mclf_kwargs,\n\u001b[0;32m    242\u001b[0m     )\u001b[39m.\u001b[39mfit(X_train)\n\u001b[1;32m--> 244\u001b[0m     y_test_pred \u001b[39m=\u001b[39m (\u001b[39m-\u001b[39m\u001b[39m1\u001b[39m) \u001b[39m*\u001b[39m clf\u001b[39m.\u001b[39;49mpredict(X_test, return_raw_scores\u001b[39m=\u001b[39;49m\u001b[39mTrue\u001b[39;49;00m)\n\u001b[0;32m    246\u001b[0m \u001b[39melse\u001b[39;00m:\n\u001b[0;32m    247\u001b[0m     clf \u001b[39m=\u001b[39m new_clf(clf_name, SEED)  \u001b[39m#! Give kwargs to clf\u001b[39;00m\n",
      "File \u001b[1;32mD:\\AI_y3_s1\\ProblemClasses\\Isolation-Similarity-Forest\\risf\\forest.py:216\u001b[0m, in \u001b[0;36mRandomIsolationSimilarityForest.predict\u001b[1;34m(self, X, return_raw_scores)\u001b[0m\n\u001b[0;32m    213\u001b[0m         tree\u001b[39m.\u001b[39mset_test_distances(X\u001b[39m.\u001b[39mdistances)\n\u001b[0;32m    215\u001b[0m X, features_span \u001b[39m=\u001b[39m prepare_X(X)\n\u001b[1;32m--> 216\u001b[0m decision_function \u001b[39m=\u001b[39m \u001b[39mself\u001b[39;49m\u001b[39m.\u001b[39;49mdecision_function(X)\n\u001b[0;32m    218\u001b[0m \u001b[39mif\u001b[39;00m return_raw_scores:\n\u001b[0;32m    219\u001b[0m     \u001b[39mreturn\u001b[39;00m decision_function\n",
      "File \u001b[1;32mD:\\AI_y3_s1\\ProblemClasses\\Isolation-Similarity-Forest\\risf\\forest.py:192\u001b[0m, in \u001b[0;36mRandomIsolationSimilarityForest.decision_function\u001b[1;34m(self, X)\u001b[0m\n\u001b[0;32m    187\u001b[0m \u001b[39m\"\"\"\u001b[39;00m\n\u001b[0;32m    188\u001b[0m \u001b[39mPerforms whole pipeline of calculating abnormality score and then\u001b[39;00m\n\u001b[0;32m    189\u001b[0m \u001b[39moffsetting it so that negative values denote outliers\u001b[39;00m\n\u001b[0;32m    190\u001b[0m \u001b[39m\"\"\"\u001b[39;00m\n\u001b[0;32m    191\u001b[0m sklearn_validation\u001b[39m.\u001b[39mcheck_is_fitted(\u001b[39mself\u001b[39m)\n\u001b[1;32m--> 192\u001b[0m scores \u001b[39m=\u001b[39m \u001b[39mself\u001b[39;49m\u001b[39m.\u001b[39;49mscore_samples(X)\n\u001b[0;32m    194\u001b[0m \u001b[39mreturn\u001b[39;00m scores \u001b[39m-\u001b[39m \u001b[39mself\u001b[39m\u001b[39m.\u001b[39mdecision_threshold_\n",
      "File \u001b[1;32mD:\\AI_y3_s1\\ProblemClasses\\Isolation-Similarity-Forest\\risf\\forest.py:177\u001b[0m, in \u001b[0;36mRandomIsolationSimilarityForest.score_samples\u001b[1;34m(self, X)\u001b[0m\n\u001b[0;32m    157\u001b[0m \u001b[39m\"\"\"\u001b[39;00m\n\u001b[0;32m    158\u001b[0m \u001b[39mOpposite of the anomaly score defined in the original paper.\u001b[39;00m\n\u001b[0;32m    159\u001b[0m \u001b[39mThe anomaly score of an input sample is computed as\u001b[39;00m\n\u001b[1;32m   (...)\u001b[0m\n\u001b[0;32m    174\u001b[0m \u001b[39m        The lower, the more abnormal.\u001b[39;00m\n\u001b[0;32m    175\u001b[0m \u001b[39m\"\"\"\u001b[39;00m\n\u001b[0;32m    176\u001b[0m \u001b[39m# Average depth at which a sample lies over all trees\u001b[39;00m\n\u001b[1;32m--> 177\u001b[0m mean_path_lengths \u001b[39m=\u001b[39m \u001b[39mself\u001b[39;49m\u001b[39m.\u001b[39;49mcalculate_mean_path_lengths(X)\n\u001b[0;32m    179\u001b[0m \u001b[39m# Depths are normalized in the same fashion as in Isolation Forest\u001b[39;00m\n\u001b[0;32m    180\u001b[0m c \u001b[39m=\u001b[39m measures\u001b[39m.\u001b[39m_average_path_length(\u001b[39mself\u001b[39m\u001b[39m.\u001b[39msubsample_size)\n",
      "File \u001b[1;32mD:\\AI_y3_s1\\ProblemClasses\\Isolation-Similarity-Forest\\risf\\forest.py:153\u001b[0m, in \u001b[0;36mRandomIsolationSimilarityForest.calculate_mean_path_lengths\u001b[1;34m(self, X)\u001b[0m\n\u001b[0;32m    145\u001b[0m \u001b[39mdef\u001b[39;00m \u001b[39mcalculate_mean_path_lengths\u001b[39m(\u001b[39mself\u001b[39m, X: np\u001b[39m.\u001b[39marray):\n\u001b[0;32m    146\u001b[0m     \u001b[39m\"\"\"\u001b[39;00m\n\u001b[0;32m    147\u001b[0m \u001b[39m    Calculates mean path_length of every sample in X matrix\u001b[39;00m\n\u001b[0;32m    148\u001b[0m \u001b[39m    Parameters\u001b[39;00m\n\u001b[1;32m   (...)\u001b[0m\n\u001b[0;32m    151\u001b[0m \u001b[39m            The input samples.\u001b[39;00m\n\u001b[0;32m    152\u001b[0m \u001b[39m    \"\"\"\u001b[39;00m\n\u001b[1;32m--> 153\u001b[0m     all_path_lengths \u001b[39m=\u001b[39m [t\u001b[39m.\u001b[39mpath_lengths_(X) \u001b[39mfor\u001b[39;00m t \u001b[39min\u001b[39;00m \u001b[39mself\u001b[39m\u001b[39m.\u001b[39mtrees_]\n\u001b[0;32m    154\u001b[0m     \u001b[39mreturn\u001b[39;00m np\u001b[39m.\u001b[39mmean(all_path_lengths, axis\u001b[39m=\u001b[39m\u001b[39m0\u001b[39m)\n",
      "File \u001b[1;32mD:\\AI_y3_s1\\ProblemClasses\\Isolation-Similarity-Forest\\risf\\forest.py:153\u001b[0m, in \u001b[0;36m<listcomp>\u001b[1;34m(.0)\u001b[0m\n\u001b[0;32m    145\u001b[0m \u001b[39mdef\u001b[39;00m \u001b[39mcalculate_mean_path_lengths\u001b[39m(\u001b[39mself\u001b[39m, X: np\u001b[39m.\u001b[39marray):\n\u001b[0;32m    146\u001b[0m     \u001b[39m\"\"\"\u001b[39;00m\n\u001b[0;32m    147\u001b[0m \u001b[39m    Calculates mean path_length of every sample in X matrix\u001b[39;00m\n\u001b[0;32m    148\u001b[0m \u001b[39m    Parameters\u001b[39;00m\n\u001b[1;32m   (...)\u001b[0m\n\u001b[0;32m    151\u001b[0m \u001b[39m            The input samples.\u001b[39;00m\n\u001b[0;32m    152\u001b[0m \u001b[39m    \"\"\"\u001b[39;00m\n\u001b[1;32m--> 153\u001b[0m     all_path_lengths \u001b[39m=\u001b[39m [t\u001b[39m.\u001b[39;49mpath_lengths_(X) \u001b[39mfor\u001b[39;00m t \u001b[39min\u001b[39;00m \u001b[39mself\u001b[39m\u001b[39m.\u001b[39mtrees_]\n\u001b[0;32m    154\u001b[0m     \u001b[39mreturn\u001b[39;00m np\u001b[39m.\u001b[39mmean(all_path_lengths, axis\u001b[39m=\u001b[39m\u001b[39m0\u001b[39m)\n",
      "File \u001b[1;32mD:\\AI_y3_s1\\ProblemClasses\\Isolation-Similarity-Forest\\risf\\tree.py:191\u001b[0m, in \u001b[0;36mRandomIsolationSimilarityTree.path_lengths_\u001b[1;34m(self, X)\u001b[0m\n\u001b[0;32m    187\u001b[0m \u001b[39mdef\u001b[39;00m \u001b[39mpath_lengths_\u001b[39m(\u001b[39mself\u001b[39m, X):\n\u001b[0;32m    188\u001b[0m     \u001b[39m\"\"\"Estimates depth at which ach data point would be located in this\u001b[39;00m\n\u001b[0;32m    189\u001b[0m \u001b[39m    tree\"\"\"\u001b[39;00m\n\u001b[0;32m    190\u001b[0m     path_lengths \u001b[39m=\u001b[39m np\u001b[39m.\u001b[39marray(\n\u001b[1;32m--> 191\u001b[0m         [\u001b[39mself\u001b[39m\u001b[39m.\u001b[39mget_leaf_x(x\u001b[39m.\u001b[39mreshape(\u001b[39m1\u001b[39m, \u001b[39m-\u001b[39m\u001b[39m1\u001b[39m))\u001b[39m.\u001b[39mdepth_estimate() \u001b[39mfor\u001b[39;00m x \u001b[39min\u001b[39;00m X]\n\u001b[0;32m    192\u001b[0m     )\n\u001b[0;32m    193\u001b[0m     \u001b[39mreturn\u001b[39;00m path_lengths\n",
      "File \u001b[1;32mD:\\AI_y3_s1\\ProblemClasses\\Isolation-Similarity-Forest\\risf\\tree.py:191\u001b[0m, in \u001b[0;36m<listcomp>\u001b[1;34m(.0)\u001b[0m\n\u001b[0;32m    187\u001b[0m \u001b[39mdef\u001b[39;00m \u001b[39mpath_lengths_\u001b[39m(\u001b[39mself\u001b[39m, X):\n\u001b[0;32m    188\u001b[0m     \u001b[39m\"\"\"Estimates depth at which ach data point would be located in this\u001b[39;00m\n\u001b[0;32m    189\u001b[0m \u001b[39m    tree\"\"\"\u001b[39;00m\n\u001b[0;32m    190\u001b[0m     path_lengths \u001b[39m=\u001b[39m np\u001b[39m.\u001b[39marray(\n\u001b[1;32m--> 191\u001b[0m         [\u001b[39mself\u001b[39;49m\u001b[39m.\u001b[39;49mget_leaf_x(x\u001b[39m.\u001b[39;49mreshape(\u001b[39m1\u001b[39;49m, \u001b[39m-\u001b[39;49m\u001b[39m1\u001b[39;49m))\u001b[39m.\u001b[39mdepth_estimate() \u001b[39mfor\u001b[39;00m x \u001b[39min\u001b[39;00m X]\n\u001b[0;32m    192\u001b[0m     )\n\u001b[0;32m    193\u001b[0m     \u001b[39mreturn\u001b[39;00m path_lengths\n",
      "File \u001b[1;32mD:\\AI_y3_s1\\ProblemClasses\\Isolation-Similarity-Forest\\risf\\tree.py:262\u001b[0m, in \u001b[0;36mRandomIsolationSimilarityTree.get_leaf_x\u001b[1;34m(self, x)\u001b[0m\n\u001b[0;32m    247\u001b[0m test_distance \u001b[39m=\u001b[39m \u001b[39mself\u001b[39m\u001b[39m.\u001b[39mtest_distances[\u001b[39mself\u001b[39m\u001b[39m.\u001b[39mfeature_index][\u001b[39mself\u001b[39m\u001b[39m.\u001b[39mdistance_index]\n\u001b[0;32m    249\u001b[0m t \u001b[39m=\u001b[39m (\n\u001b[0;32m    250\u001b[0m     \u001b[39mself\u001b[39m\u001b[39m.\u001b[39mleft_node\n\u001b[0;32m    251\u001b[0m     \u001b[39mif\u001b[39;00m test_distance\u001b[39m.\u001b[39mproject(\n\u001b[1;32m   (...)\u001b[0m\n\u001b[0;32m    259\u001b[0m     \u001b[39melse\u001b[39;00m \u001b[39mself\u001b[39m\u001b[39m.\u001b[39mright_node\n\u001b[0;32m    260\u001b[0m )\n\u001b[1;32m--> 262\u001b[0m \u001b[39mreturn\u001b[39;00m t\u001b[39m.\u001b[39;49mget_leaf_x(x)\n",
      "File \u001b[1;32mD:\\AI_y3_s1\\ProblemClasses\\Isolation-Similarity-Forest\\risf\\tree.py:262\u001b[0m, in \u001b[0;36mRandomIsolationSimilarityTree.get_leaf_x\u001b[1;34m(self, x)\u001b[0m\n\u001b[0;32m    247\u001b[0m test_distance \u001b[39m=\u001b[39m \u001b[39mself\u001b[39m\u001b[39m.\u001b[39mtest_distances[\u001b[39mself\u001b[39m\u001b[39m.\u001b[39mfeature_index][\u001b[39mself\u001b[39m\u001b[39m.\u001b[39mdistance_index]\n\u001b[0;32m    249\u001b[0m t \u001b[39m=\u001b[39m (\n\u001b[0;32m    250\u001b[0m     \u001b[39mself\u001b[39m\u001b[39m.\u001b[39mleft_node\n\u001b[0;32m    251\u001b[0m     \u001b[39mif\u001b[39;00m test_distance\u001b[39m.\u001b[39mproject(\n\u001b[1;32m   (...)\u001b[0m\n\u001b[0;32m    259\u001b[0m     \u001b[39melse\u001b[39;00m \u001b[39mself\u001b[39m\u001b[39m.\u001b[39mright_node\n\u001b[0;32m    260\u001b[0m )\n\u001b[1;32m--> 262\u001b[0m \u001b[39mreturn\u001b[39;00m t\u001b[39m.\u001b[39;49mget_leaf_x(x)\n",
      "    \u001b[1;31m[... skipping similar frames: RandomIsolationSimilarityTree.get_leaf_x at line 262 (3 times)]\u001b[0m\n",
      "File \u001b[1;32mD:\\AI_y3_s1\\ProblemClasses\\Isolation-Similarity-Forest\\risf\\tree.py:262\u001b[0m, in \u001b[0;36mRandomIsolationSimilarityTree.get_leaf_x\u001b[1;34m(self, x)\u001b[0m\n\u001b[0;32m    247\u001b[0m test_distance \u001b[39m=\u001b[39m \u001b[39mself\u001b[39m\u001b[39m.\u001b[39mtest_distances[\u001b[39mself\u001b[39m\u001b[39m.\u001b[39mfeature_index][\u001b[39mself\u001b[39m\u001b[39m.\u001b[39mdistance_index]\n\u001b[0;32m    249\u001b[0m t \u001b[39m=\u001b[39m (\n\u001b[0;32m    250\u001b[0m     \u001b[39mself\u001b[39m\u001b[39m.\u001b[39mleft_node\n\u001b[0;32m    251\u001b[0m     \u001b[39mif\u001b[39;00m test_distance\u001b[39m.\u001b[39mproject(\n\u001b[1;32m   (...)\u001b[0m\n\u001b[0;32m    259\u001b[0m     \u001b[39melse\u001b[39;00m \u001b[39mself\u001b[39m\u001b[39m.\u001b[39mright_node\n\u001b[0;32m    260\u001b[0m )\n\u001b[1;32m--> 262\u001b[0m \u001b[39mreturn\u001b[39;00m t\u001b[39m.\u001b[39;49mget_leaf_x(x)\n",
      "File \u001b[1;32mD:\\AI_y3_s1\\ProblemClasses\\Isolation-Similarity-Forest\\risf\\tree.py:251\u001b[0m, in \u001b[0;36mRandomIsolationSimilarityTree.get_leaf_x\u001b[1;34m(self, x)\u001b[0m\n\u001b[0;32m    245\u001b[0m \u001b[39massert\u001b[39;00m \u001b[39mself\u001b[39m\u001b[39m.\u001b[39mOj \u001b[39mis\u001b[39;00m \u001b[39mnot\u001b[39;00m \u001b[39mNone\u001b[39;00m\n\u001b[0;32m    247\u001b[0m test_distance \u001b[39m=\u001b[39m \u001b[39mself\u001b[39m\u001b[39m.\u001b[39mtest_distances[\u001b[39mself\u001b[39m\u001b[39m.\u001b[39mfeature_index][\u001b[39mself\u001b[39m\u001b[39m.\u001b[39mdistance_index]\n\u001b[0;32m    249\u001b[0m t \u001b[39m=\u001b[39m (\n\u001b[0;32m    250\u001b[0m     \u001b[39mself\u001b[39m\u001b[39m.\u001b[39mleft_node\n\u001b[1;32m--> 251\u001b[0m     \u001b[39mif\u001b[39;00m test_distance\u001b[39m.\u001b[39;49mproject(\n\u001b[0;32m    252\u001b[0m         x[:, \u001b[39mself\u001b[39;49m\u001b[39m.\u001b[39;49mfeature_start : \u001b[39mself\u001b[39;49m\u001b[39m.\u001b[39;49mfeature_end],\n\u001b[0;32m    253\u001b[0m         \u001b[39mself\u001b[39;49m\u001b[39m.\u001b[39;49mOi,\n\u001b[0;32m    254\u001b[0m         \u001b[39mself\u001b[39;49m\u001b[39m.\u001b[39;49mOj,\n\u001b[0;32m    255\u001b[0m         tree\u001b[39m=\u001b[39;49m\u001b[39mself\u001b[39;49m,\n\u001b[0;32m    256\u001b[0m         random_instance\u001b[39m=\u001b[39;49m\u001b[39mself\u001b[39;49m\u001b[39m.\u001b[39;49mrandom_state,\n\u001b[0;32m    257\u001b[0m     )\u001b[39m.\u001b[39mitem()\n\u001b[0;32m    258\u001b[0m     \u001b[39m<\u001b[39m\u001b[39m=\u001b[39m \u001b[39mself\u001b[39m\u001b[39m.\u001b[39msplit_point\n\u001b[0;32m    259\u001b[0m     \u001b[39melse\u001b[39;00m \u001b[39mself\u001b[39m\u001b[39m.\u001b[39mright_node\n\u001b[0;32m    260\u001b[0m )\n\u001b[0;32m    262\u001b[0m \u001b[39mreturn\u001b[39;00m t\u001b[39m.\u001b[39mget_leaf_x(x)\n",
      "File \u001b[1;32mD:\\AI_y3_s1\\ProblemClasses\\Isolation-Similarity-Forest\\risf\\distance.py:27\u001b[0m, in \u001b[0;36mSelectiveDistance.project\u001b[1;34m(self, X, Op, Oq, tree, random_instance)\u001b[0m\n\u001b[0;32m     24\u001b[0m \u001b[39melse\u001b[39;00m:\n\u001b[0;32m     25\u001b[0m     selected_features \u001b[39m=\u001b[39m tree\u001b[39m.\u001b[39mselected_features\n\u001b[1;32m---> 27\u001b[0m \u001b[39mreturn\u001b[39;00m \u001b[39mself\u001b[39;49m\u001b[39m.\u001b[39;49mprojection_func(\n\u001b[0;32m     28\u001b[0m     X[:, selected_features],\n\u001b[0;32m     29\u001b[0m     Op[selected_features],\n\u001b[0;32m     30\u001b[0m     Oq[selected_features],\n\u001b[0;32m     31\u001b[0m )\n",
      "File \u001b[1;32mD:\\AI_y3_s1\\ProblemClasses\\Isolation-Similarity-Forest\\risf\\distance_functions.py:10\u001b[0m, in \u001b[0;36meuclidean_projection\u001b[1;34m(X, p, q)\u001b[0m\n\u001b[0;32m      6\u001b[0m \u001b[39mfrom\u001b[39;00m \u001b[39mscipy\u001b[39;00m\u001b[39m.\u001b[39;00m\u001b[39mspatial\u001b[39;00m\u001b[39m.\u001b[39;00m\u001b[39mdistance\u001b[39;00m \u001b[39mimport\u001b[39;00m cosine, dice, jaccard\n\u001b[0;32m      7\u001b[0m \u001b[39mfrom\u001b[39;00m \u001b[39mscipy\u001b[39;00m\u001b[39m.\u001b[39;00m\u001b[39mstats\u001b[39;00m \u001b[39mimport\u001b[39;00m entropy, wasserstein_distance\n\u001b[1;32m---> 10\u001b[0m \u001b[39mdef\u001b[39;00m \u001b[39meuclidean_projection\u001b[39m(X, p, q):\n\u001b[0;32m     11\u001b[0m     \u001b[39m\"\"\"\u001b[39;00m\n\u001b[0;32m     12\u001b[0m \u001b[39m    Performs euclidean project in a form d(x,p) - d(x,q) where\u001b[39;00m\n\u001b[0;32m     13\u001b[0m \u001b[39m    distance function is a dot product\u001b[39;00m\n\u001b[1;32m   (...)\u001b[0m\n\u001b[0;32m     21\u001b[0m \u001b[39m        np.array\u001b[39;00m\n\u001b[0;32m     22\u001b[0m \u001b[39m    \"\"\"\u001b[39;00m\n\u001b[0;32m     23\u001b[0m     \u001b[39mreturn\u001b[39;00m X \u001b[39m@\u001b[39m (p \u001b[39m-\u001b[39m q)\n",
      "\u001b[1;31mKeyboardInterrupt\u001b[0m: "
     ]
    }
   ],
   "source": [
    "max_depth = np.array([6,7,8,9,10])\n",
    "test_one_parameter(\"max_depth\", max_depth)"
   ]
  },
  {
   "attachments": {},
   "cell_type": "markdown",
   "metadata": {},
   "source": [
    "### Influence of number of trees"
   ]
  },
  {
   "cell_type": "code",
   "execution_count": null,
   "metadata": {},
   "outputs": [],
   "source": [
    "num_of_estimators = np.array([1, 5, 10, 25, 50, 100, 200, 500]) # Start from 1 to 100. In general smaller numbers\n",
    "test_one_parameter(\"n_estimators\", num_of_estimators) "
   ]
  },
  {
   "attachments": {},
   "cell_type": "markdown",
   "metadata": {},
   "source": [
    "### Now experiments on parameters connected strictly with RISF\n",
    "\n",
    "At first experiment on how number of max_n influences Selective Euclidean distance scores"
   ]
  },
  {
   "cell_type": "code",
   "execution_count": null,
   "metadata": {},
   "outputs": [],
   "source": [
    "max_n = np.array([0, 0.1, 0.25, 0.5, 0.75, 1])\n",
    "test_one_parameter(\"n_estimators\", num_of_estimators) "
   ]
  },
  {
   "attachments": {},
   "cell_type": "markdown",
   "metadata": {},
   "source": [
    "Influence of number of selected_objects"
   ]
  },
  {
   "cell_type": "code",
   "execution_count": 3,
   "metadata": {},
   "outputs": [],
   "source": [
    "DISTANCES = {\n",
    "    \"graph\": [IpsenMikailovDist()],\n",
    "    \"numerical\" : [EuclideanDist(), ManhattanDist(), CosineDist()],\n",
    "    \"categorical\":[JaccardDist()],\n",
    "    \"timeseries\": [EuclideanDist(), CosineDist()],\n",
    "}\n",
    "\n",
    "SELECTED_OBJ_RATIO = [0.01, 0.05, 0.10, 0.25, 0.5, 0.75, 1.0]\n",
    "N_REPETITIONS = 1 # ! I wonder if this is really necessary"
   ]
  },
  {
   "cell_type": "code",
   "execution_count": 13,
   "metadata": {},
   "outputs": [
    {
     "data": {
      "application/vnd.jupyter.widget-view+json": {
       "model_id": "78db675d4ede4da79800017e7d4bf53f",
       "version_major": 2,
       "version_minor": 0
      },
      "text/plain": [
       "  0%|          | 0/4 [00:00<?, ?it/s]"
      ]
     },
     "metadata": {},
     "output_type": "display_data"
    },
    {
     "data": {
      "application/vnd.jupyter.widget-view+json": {
       "model_id": "5daebfceb6384c9f8cbf2f118666c69e",
       "version_major": 2,
       "version_minor": 0
      },
      "text/plain": [
       "  0%|          | 0/1 [00:00<?, ?it/s]"
      ]
     },
     "metadata": {},
     "output_type": "display_data"
    },
    {
     "data": {
      "application/vnd.jupyter.widget-view+json": {
       "model_id": "8d185d83982c43f8a85ffab651a2c5a1",
       "version_major": 2,
       "version_minor": 0
      },
      "text/plain": [
       "obj_ratio:   0%|          | 0/7 [00:00<?, ?it/s]"
      ]
     },
     "metadata": {},
     "output_type": "display_data"
    },
    {
     "data": {
      "application/vnd.jupyter.widget-view+json": {
       "model_id": "85c30bac438445fe87ccf9cac6080507",
       "version_major": 2,
       "version_minor": 0
      },
      "text/plain": [
       "repeated holdout:   0%|          | 0/3 [00:00<?, ?it/s]"
      ]
     },
     "metadata": {},
     "output_type": "display_data"
    },
    {
     "data": {
      "application/vnd.jupyter.widget-view+json": {
       "model_id": "709848ced1d04e18b9d1b36aa15c4150",
       "version_major": 2,
       "version_minor": 0
      },
      "text/plain": [
       "repeated holdout:   0%|          | 0/3 [00:00<?, ?it/s]"
      ]
     },
     "metadata": {},
     "output_type": "display_data"
    },
    {
     "data": {
      "application/vnd.jupyter.widget-view+json": {
       "model_id": "12d12a1d42bf4480b36c7d344c83b0b6",
       "version_major": 2,
       "version_minor": 0
      },
      "text/plain": [
       "repeated holdout:   0%|          | 0/3 [00:00<?, ?it/s]"
      ]
     },
     "metadata": {},
     "output_type": "display_data"
    },
    {
     "data": {
      "application/vnd.jupyter.widget-view+json": {
       "model_id": "8a4f661b7abb41878e5b319a7e729730",
       "version_major": 2,
       "version_minor": 0
      },
      "text/plain": [
       "repeated holdout:   0%|          | 0/3 [00:00<?, ?it/s]"
      ]
     },
     "metadata": {},
     "output_type": "display_data"
    },
    {
     "data": {
      "application/vnd.jupyter.widget-view+json": {
       "model_id": "b78bc16b909d4aa2a3e8998e25b042e3",
       "version_major": 2,
       "version_minor": 0
      },
      "text/plain": [
       "repeated holdout:   0%|          | 0/3 [00:00<?, ?it/s]"
      ]
     },
     "metadata": {},
     "output_type": "display_data"
    },
    {
     "data": {
      "application/vnd.jupyter.widget-view+json": {
       "model_id": "958dfb2ee1b7485abfb4c3462f7872bb",
       "version_major": 2,
       "version_minor": 0
      },
      "text/plain": [
       "repeated holdout:   0%|          | 0/3 [00:00<?, ?it/s]"
      ]
     },
     "metadata": {},
     "output_type": "display_data"
    },
    {
     "data": {
      "application/vnd.jupyter.widget-view+json": {
       "model_id": "0942a9047a57459ea02aabd023ce8af9",
       "version_major": 2,
       "version_minor": 0
      },
      "text/plain": [
       "repeated holdout:   0%|          | 0/3 [00:00<?, ?it/s]"
      ]
     },
     "metadata": {},
     "output_type": "display_data"
    },
    {
     "data": {
      "application/vnd.jupyter.widget-view+json": {
       "model_id": "f17d9df887f540baa1c22c03ac912e88",
       "version_major": 2,
       "version_minor": 0
      },
      "text/plain": [
       "  0%|          | 0/4 [00:00<?, ?it/s]"
      ]
     },
     "metadata": {},
     "output_type": "display_data"
    },
    {
     "data": {
      "application/vnd.jupyter.widget-view+json": {
       "model_id": "33821a08403b44e4808e0a6acfa8af8a",
       "version_major": 2,
       "version_minor": 0
      },
      "text/plain": [
       "obj_ratio:   0%|          | 0/7 [00:00<?, ?it/s]"
      ]
     },
     "metadata": {},
     "output_type": "display_data"
    },
    {
     "data": {
      "application/vnd.jupyter.widget-view+json": {
       "model_id": "2deb1a483af7421a968cc6af07d4e360",
       "version_major": 2,
       "version_minor": 0
      },
      "text/plain": [
       "repeated holdout:   0%|          | 0/3 [00:00<?, ?it/s]"
      ]
     },
     "metadata": {},
     "output_type": "display_data"
    },
    {
     "data": {
      "application/vnd.jupyter.widget-view+json": {
       "model_id": "c21f90ee174c451cbfe592e0349e817e",
       "version_major": 2,
       "version_minor": 0
      },
      "text/plain": [
       "repeated holdout:   0%|          | 0/3 [00:00<?, ?it/s]"
      ]
     },
     "metadata": {},
     "output_type": "display_data"
    },
    {
     "data": {
      "application/vnd.jupyter.widget-view+json": {
       "model_id": "52b0ea9f49f94f9b89635f66467c2e7f",
       "version_major": 2,
       "version_minor": 0
      },
      "text/plain": [
       "repeated holdout:   0%|          | 0/3 [00:00<?, ?it/s]"
      ]
     },
     "metadata": {},
     "output_type": "display_data"
    },
    {
     "data": {
      "application/vnd.jupyter.widget-view+json": {
       "model_id": "804cd42653d742a7aecd3b67f104279b",
       "version_major": 2,
       "version_minor": 0
      },
      "text/plain": [
       "repeated holdout:   0%|          | 0/3 [00:00<?, ?it/s]"
      ]
     },
     "metadata": {},
     "output_type": "display_data"
    },
    {
     "data": {
      "application/vnd.jupyter.widget-view+json": {
       "model_id": "bbb77366e57b4cbeaec7b2c4b6359fa2",
       "version_major": 2,
       "version_minor": 0
      },
      "text/plain": [
       "repeated holdout:   0%|          | 0/3 [00:00<?, ?it/s]"
      ]
     },
     "metadata": {},
     "output_type": "display_data"
    },
    {
     "data": {
      "application/vnd.jupyter.widget-view+json": {
       "model_id": "278e5d30a02f443f9c8fb0e964a282eb",
       "version_major": 2,
       "version_minor": 0
      },
      "text/plain": [
       "repeated holdout:   0%|          | 0/3 [00:00<?, ?it/s]"
      ]
     },
     "metadata": {},
     "output_type": "display_data"
    },
    {
     "data": {
      "application/vnd.jupyter.widget-view+json": {
       "model_id": "d31b64f8da384c4e964a094c1d19ea03",
       "version_major": 2,
       "version_minor": 0
      },
      "text/plain": [
       "repeated holdout:   0%|          | 0/3 [00:00<?, ?it/s]"
      ]
     },
     "metadata": {},
     "output_type": "display_data"
    },
    {
     "data": {
      "application/vnd.jupyter.widget-view+json": {
       "model_id": "e367fdb461714a56804b4524469f7080",
       "version_major": 2,
       "version_minor": 0
      },
      "text/plain": [
       "obj_ratio:   0%|          | 0/7 [00:00<?, ?it/s]"
      ]
     },
     "metadata": {},
     "output_type": "display_data"
    },
    {
     "data": {
      "application/vnd.jupyter.widget-view+json": {
       "model_id": "8ff087ef77074d909c878e9028a16623",
       "version_major": 2,
       "version_minor": 0
      },
      "text/plain": [
       "repeated holdout:   0%|          | 0/3 [00:00<?, ?it/s]"
      ]
     },
     "metadata": {},
     "output_type": "display_data"
    },
    {
     "ename": "OSError",
     "evalue": "[WinError 1450] Insufficient system resources exist to complete the requested service",
     "output_type": "error",
     "traceback": [
      "\u001b[1;31m---------------------------------------------------------------------------\u001b[0m",
      "\u001b[1;31m_RemoteTraceback\u001b[0m                          Traceback (most recent call last)",
      "\u001b[1;31m_RemoteTraceback\u001b[0m: \n\"\"\"\nTraceback (most recent call last):\n  File \"c:\\Users\\sebas\\AppData\\pypoetry\\virtualenvs\\random-isolation-similarity-forest-bqxKmFq8-py3.10\\lib\\site-packages\\joblib\\externals\\loky\\process_executor.py\", line 343, in _sendback_result\n    result_queue.put(_ResultItem(work_id, result=result,\n  File \"c:\\Users\\sebas\\AppData\\pypoetry\\virtualenvs\\random-isolation-similarity-forest-bqxKmFq8-py3.10\\lib\\site-packages\\joblib\\externals\\loky\\backend\\queues.py\", line 189, in put\n    self._writer.send_bytes(obj)\n  File \"C:\\Users\\sebas\\mambaforge\\lib\\multiprocessing\\connection.py\", line 200, in send_bytes\n    self._send_bytes(m[offset:offset + size])\n  File \"C:\\Users\\sebas\\mambaforge\\lib\\multiprocessing\\connection.py\", line 280, in _send_bytes\n    ov, err = _winapi.WriteFile(self._handle, buf, overlapped=True)\nOSError: [WinError 1450] Insufficient system resources exist to complete the requested service\n\"\"\"",
      "\nThe above exception was the direct cause of the following exception:\n",
      "\u001b[1;31mOSError\u001b[0m                                   Traceback (most recent call last)",
      "Cell \u001b[1;32mIn[13], line 12\u001b[0m\n\u001b[0;32m      9\u001b[0m \u001b[39mfor\u001b[39;00m obj_ratio \u001b[39min\u001b[39;00m tqdm(SELECTED_OBJ_RATIO, desc\u001b[39m=\u001b[39m\u001b[39m\"\u001b[39m\u001b[39mobj_ratio\u001b[39m\u001b[39m\"\u001b[39m):               \n\u001b[0;32m     10\u001b[0m     data \u001b[39m=\u001b[39m get_dataset(data_type, DATA_DIRS[data_type], dataset_name)\n\u001b[1;32m---> 12\u001b[0m     aucs \u001b[39m=\u001b[39m perform_experiment(data, DISTANCES[data_type], obj_ratio, {}, objects_selector)\n\u001b[0;32m     13\u001b[0m     \u001b[39mfor\u001b[39;00m auc \u001b[39min\u001b[39;00m aucs:\n\u001b[0;32m     14\u001b[0m         results \u001b[39m=\u001b[39m init_results(CLF, dataset_name, data_type, {\u001b[39m\"\u001b[39m\u001b[39mobj_ratio\u001b[39m\u001b[39m\"\u001b[39m: obj_ratio})\n",
      "File \u001b[1;32mD:\\AI_y3_s1\\ProblemClasses\\Isolation-Similarity-Forest\\notebooks\\utils.py:207\u001b[0m, in \u001b[0;36mperform_experiment\u001b[1;34m(data, distances, selected_obj_ratio, risf_kwargs, selection_func)\u001b[0m\n\u001b[0;32m    201\u001b[0m \u001b[39m# with parallel_backend(\"loky\", n_jobs=-4):\u001b[39;00m\n\u001b[0;32m    202\u001b[0m \u001b[39m#! With numerical datasets no errors are shown but with other I get unserializable error\u001b[39;00m\n\u001b[0;32m    203\u001b[0m n_jobs \u001b[39m=\u001b[39m \u001b[39m1\u001b[39m \u001b[39mif\u001b[39;00m data[\u001b[39m\"\u001b[39m\u001b[39mname\u001b[39m\u001b[39m\"\u001b[39m] \u001b[39min\u001b[39;00m [\u001b[39m\"\u001b[39m\u001b[39mp53\u001b[39m\u001b[39m\"\u001b[39m, \u001b[39m\"\u001b[39m\u001b[39mad_nominal\u001b[39m\u001b[39m\"\u001b[39m, \u001b[39m\"\u001b[39m\u001b[39mTwoLeadECG\u001b[39m\u001b[39m\"\u001b[39m] \u001b[39melse\u001b[39;00m \u001b[39m-\u001b[39m\u001b[39m3\u001b[39m\n\u001b[0;32m    205\u001b[0m clf \u001b[39m=\u001b[39m RandomIsolationSimilarityForest(\n\u001b[0;32m    206\u001b[0m     random_state\u001b[39m=\u001b[39mSEED, distance\u001b[39m=\u001b[39mX_risf\u001b[39m.\u001b[39mdistances, n_jobs\u001b[39m=\u001b[39mn_jobs, \u001b[39m*\u001b[39m\u001b[39m*\u001b[39mclf_Kwargs\n\u001b[1;32m--> 207\u001b[0m )\u001b[39m.\u001b[39mfit(X_risf)\n\u001b[0;32m    209\u001b[0m X_test_risf \u001b[39m=\u001b[39m clf\u001b[39m.\u001b[39mtransform(\n\u001b[0;32m    210\u001b[0m     [X_test],\n\u001b[0;32m    211\u001b[0m     n_jobs\u001b[39m=\u001b[39m\u001b[39m-\u001b[39m\u001b[39m2\u001b[39m,\n\u001b[0;32m    212\u001b[0m     precomputed_distances\u001b[39m=\u001b[39mtest_distances,\n\u001b[0;32m    213\u001b[0m )\n\u001b[0;32m    215\u001b[0m y_test_pred \u001b[39m=\u001b[39m (\u001b[39m-\u001b[39m\u001b[39m1\u001b[39m) \u001b[39m*\u001b[39m clf\u001b[39m.\u001b[39mpredict(X_test_risf, return_raw_scores\u001b[39m=\u001b[39m\u001b[39mTrue\u001b[39;00m)\n",
      "File \u001b[1;32mD:\\AI_y3_s1\\ProblemClasses\\Isolation-Similarity-Forest\\risf\\forest.py:92\u001b[0m, in \u001b[0;36mRandomIsolationSimilarityForest.fit\u001b[1;34m(self, X, y)\u001b[0m\n\u001b[0;32m     88\u001b[0m \u001b[39mself\u001b[39m\u001b[39m.\u001b[39mtrees_ \u001b[39m=\u001b[39m \u001b[39mself\u001b[39m\u001b[39m.\u001b[39mcreate_trees()\n\u001b[0;32m     90\u001b[0m \u001b[39m# TODO: How to test this?\u001b[39;00m\n\u001b[0;32m     91\u001b[0m \u001b[39m# !TEST running on num jobs 1 and num iobs m4 and have the same results\u001b[39;00m\n\u001b[1;32m---> 92\u001b[0m \u001b[39mself\u001b[39m\u001b[39m.\u001b[39mtrees_ \u001b[39m=\u001b[39m Parallel(n_jobs\u001b[39m=\u001b[39;49m\u001b[39mself\u001b[39;49m\u001b[39m.\u001b[39;49mn_jobs)(\n\u001b[0;32m     93\u001b[0m     delayed(_build_tree)(\n\u001b[0;32m     94\u001b[0m         tree, \u001b[39mself\u001b[39;49m\u001b[39m.\u001b[39;49mX, i, \u001b[39mself\u001b[39;49m\u001b[39m.\u001b[39;49mn_estimators, \u001b[39mself\u001b[39;49m\u001b[39m.\u001b[39;49msubsample_size, verbose\u001b[39m=\u001b[39;49m\u001b[39mself\u001b[39;49m\u001b[39m.\u001b[39;49mverbose\n\u001b[0;32m     95\u001b[0m     )\n\u001b[0;32m     96\u001b[0m     \u001b[39mfor\u001b[39;49;00m i, tree \u001b[39min\u001b[39;49;00m \u001b[39menumerate\u001b[39;49m(\u001b[39mself\u001b[39;49m\u001b[39m.\u001b[39;49mtrees_)\n\u001b[0;32m     97\u001b[0m )\n\u001b[0;32m     99\u001b[0m \u001b[39mself\u001b[39m\u001b[39m.\u001b[39mset_offset(y)\n\u001b[0;32m    101\u001b[0m \u001b[39mreturn\u001b[39;00m \u001b[39mself\u001b[39m\n",
      "File \u001b[1;32mc:\\Users\\sebas\\AppData\\pypoetry\\virtualenvs\\random-isolation-similarity-forest-bqxKmFq8-py3.10\\lib\\site-packages\\joblib\\parallel.py:1098\u001b[0m, in \u001b[0;36mParallel.__call__\u001b[1;34m(self, iterable)\u001b[0m\n\u001b[0;32m   1095\u001b[0m     \u001b[39mself\u001b[39m\u001b[39m.\u001b[39m_iterating \u001b[39m=\u001b[39m \u001b[39mFalse\u001b[39;00m\n\u001b[0;32m   1097\u001b[0m \u001b[39mwith\u001b[39;00m \u001b[39mself\u001b[39m\u001b[39m.\u001b[39m_backend\u001b[39m.\u001b[39mretrieval_context():\n\u001b[1;32m-> 1098\u001b[0m     \u001b[39mself\u001b[39;49m\u001b[39m.\u001b[39;49mretrieve()\n\u001b[0;32m   1099\u001b[0m \u001b[39m# Make sure that we get a last message telling us we are done\u001b[39;00m\n\u001b[0;32m   1100\u001b[0m elapsed_time \u001b[39m=\u001b[39m time\u001b[39m.\u001b[39mtime() \u001b[39m-\u001b[39m \u001b[39mself\u001b[39m\u001b[39m.\u001b[39m_start_time\n",
      "File \u001b[1;32mc:\\Users\\sebas\\AppData\\pypoetry\\virtualenvs\\random-isolation-similarity-forest-bqxKmFq8-py3.10\\lib\\site-packages\\joblib\\parallel.py:975\u001b[0m, in \u001b[0;36mParallel.retrieve\u001b[1;34m(self)\u001b[0m\n\u001b[0;32m    973\u001b[0m \u001b[39mtry\u001b[39;00m:\n\u001b[0;32m    974\u001b[0m     \u001b[39mif\u001b[39;00m \u001b[39mgetattr\u001b[39m(\u001b[39mself\u001b[39m\u001b[39m.\u001b[39m_backend, \u001b[39m'\u001b[39m\u001b[39msupports_timeout\u001b[39m\u001b[39m'\u001b[39m, \u001b[39mFalse\u001b[39;00m):\n\u001b[1;32m--> 975\u001b[0m         \u001b[39mself\u001b[39m\u001b[39m.\u001b[39m_output\u001b[39m.\u001b[39mextend(job\u001b[39m.\u001b[39;49mget(timeout\u001b[39m=\u001b[39;49m\u001b[39mself\u001b[39;49m\u001b[39m.\u001b[39;49mtimeout))\n\u001b[0;32m    976\u001b[0m     \u001b[39melse\u001b[39;00m:\n\u001b[0;32m    977\u001b[0m         \u001b[39mself\u001b[39m\u001b[39m.\u001b[39m_output\u001b[39m.\u001b[39mextend(job\u001b[39m.\u001b[39mget())\n",
      "File \u001b[1;32mc:\\Users\\sebas\\AppData\\pypoetry\\virtualenvs\\random-isolation-similarity-forest-bqxKmFq8-py3.10\\lib\\site-packages\\joblib\\_parallel_backends.py:567\u001b[0m, in \u001b[0;36mLokyBackend.wrap_future_result\u001b[1;34m(future, timeout)\u001b[0m\n\u001b[0;32m    564\u001b[0m \u001b[39m\"\"\"Wrapper for Future.result to implement the same behaviour as\u001b[39;00m\n\u001b[0;32m    565\u001b[0m \u001b[39mAsyncResults.get from multiprocessing.\"\"\"\u001b[39;00m\n\u001b[0;32m    566\u001b[0m \u001b[39mtry\u001b[39;00m:\n\u001b[1;32m--> 567\u001b[0m     \u001b[39mreturn\u001b[39;00m future\u001b[39m.\u001b[39;49mresult(timeout\u001b[39m=\u001b[39;49mtimeout)\n\u001b[0;32m    568\u001b[0m \u001b[39mexcept\u001b[39;00m CfTimeoutError \u001b[39mas\u001b[39;00m e:\n\u001b[0;32m    569\u001b[0m     \u001b[39mraise\u001b[39;00m \u001b[39mTimeoutError\u001b[39;00m \u001b[39mfrom\u001b[39;00m \u001b[39me\u001b[39;00m\n",
      "File \u001b[1;32m~\\mambaforge\\lib\\concurrent\\futures\\_base.py:458\u001b[0m, in \u001b[0;36mFuture.result\u001b[1;34m(self, timeout)\u001b[0m\n\u001b[0;32m    456\u001b[0m     \u001b[39mraise\u001b[39;00m CancelledError()\n\u001b[0;32m    457\u001b[0m \u001b[39melif\u001b[39;00m \u001b[39mself\u001b[39m\u001b[39m.\u001b[39m_state \u001b[39m==\u001b[39m FINISHED:\n\u001b[1;32m--> 458\u001b[0m     \u001b[39mreturn\u001b[39;00m \u001b[39mself\u001b[39;49m\u001b[39m.\u001b[39;49m__get_result()\n\u001b[0;32m    459\u001b[0m \u001b[39melse\u001b[39;00m:\n\u001b[0;32m    460\u001b[0m     \u001b[39mraise\u001b[39;00m \u001b[39mTimeoutError\u001b[39;00m()\n",
      "File \u001b[1;32m~\\mambaforge\\lib\\concurrent\\futures\\_base.py:403\u001b[0m, in \u001b[0;36mFuture.__get_result\u001b[1;34m(self)\u001b[0m\n\u001b[0;32m    401\u001b[0m \u001b[39mif\u001b[39;00m \u001b[39mself\u001b[39m\u001b[39m.\u001b[39m_exception:\n\u001b[0;32m    402\u001b[0m     \u001b[39mtry\u001b[39;00m:\n\u001b[1;32m--> 403\u001b[0m         \u001b[39mraise\u001b[39;00m \u001b[39mself\u001b[39m\u001b[39m.\u001b[39m_exception\n\u001b[0;32m    404\u001b[0m     \u001b[39mfinally\u001b[39;00m:\n\u001b[0;32m    405\u001b[0m         \u001b[39m# Break a reference cycle with the exception in self._exception\u001b[39;00m\n\u001b[0;32m    406\u001b[0m         \u001b[39mself\u001b[39m \u001b[39m=\u001b[39m \u001b[39mNone\u001b[39;00m\n",
      "\u001b[1;31mOSError\u001b[0m: [WinError 1450] Insufficient system resources exist to complete the requested service"
     ]
    }
   ],
   "source": [
    "results_selected_obj = []\n",
    "\n",
    "for data_type in (data_types := tqdm(DATASETS.keys())):\n",
    "    data_types.set_description(data_type)\n",
    "    for dataset_name in (dataset_names := tqdm(DATASETS[data_type])):\n",
    "        dataset_names.set_description(dataset_name)\n",
    "        for n_rep in range(N_REPETITIONS):\n",
    "            objects_selector = ObjectsSelector() # TBD\n",
    "            for obj_ratio in tqdm(SELECTED_OBJ_RATIO, desc=\"obj_ratio\"):               \n",
    "                data = get_dataset(data_type, DATA_DIRS[data_type], dataset_name)\n",
    "                \n",
    "                aucs = perform_experiment(data, DISTANCES[data_type], obj_ratio, {}, objects_selector)\n",
    "                results = init_results(CLF, dataset_name, data_type, aucs, {\"obj_ratio\": obj_ratio})\n",
    "                results_selected_obj.append(results)"
   ]
  },
  {
   "cell_type": "code",
   "execution_count": 14,
   "metadata": {},
   "outputs": [],
   "source": [
    "results_df = pd.DataFrame(results_selected_obj) #! save all to csv."
   ]
  },
  {
   "cell_type": "code",
   "execution_count": 15,
   "metadata": {},
   "outputs": [
    {
     "data": {
      "image/png": "[encoded data removed]",
      "text/plain": [
       "<Figure size 2080.38x500 with 2 Axes>"
      ]
     },
     "metadata": {},
     "output_type": "display_data"
    }
   ],
   "source": [
    "sns.set_palette(sns.color_palette(OKABE_ITO_SCALE))\n",
    "g = sns.relplot(data=results_df, x=\"obj_ratio\", y=\"auc\", hue=\"clf\", marker=\"o\", col=\"dataset_name\", col_wrap=4, \n",
    "            facet_kws={'sharey': False, 'sharex': False}, kind=\"line\")\n",
    "\n",
    "g.fig.suptitle('INFLUENCE OF NUMBER OF OBJECTS')\n",
    "sns.despine() # DON'T BEHAVE LIKE SIMILARITY FOREST"
   ]
  },
  {
   "attachments": {},
   "cell_type": "markdown",
   "metadata": {},
   "source": [
    "#### Influence of using different distance functions"
   ]
  },
  {
   "cell_type": "code",
   "execution_count": 5,
   "metadata": {},
   "outputs": [],
   "source": [
    "OBJ_RATIO = 0.1 # Based on previous experiment\n",
    "\n",
    "DISTANCES = {\n",
    "    \"graph\": np.array([IpsenMikailovDist(),  PortraitDivergenceDist()], dtype=object),\n",
    "    # DegreeDivergenceDist(), NetSmileDist() For now withouth these 2 guys, JaccardGraphDist(),\n",
    "    \"numerical\" : np.array([EuclideanDist(), ManhattanDist(), CosineDist()], dtype=object),\n",
    "    \"categorical\": np.array([JaccardDist(), DiceDist()], dtype=object),\n",
    "    \"timeseries\": np.array([EuclideanDist(), CosineDist()], dtype=object) # For now withouthDTWDist()\n",
    "}"
   ]
  },
  {
   "cell_type": "code",
   "execution_count": 13,
   "metadata": {},
   "outputs": [
    {
     "data": {
      "application/vnd.jupyter.widget-view+json": {
       "model_id": "9671f1a001f2403795786fb259a55761",
       "version_major": 2,
       "version_minor": 0
      },
      "text/plain": [
       "  0%|          | 0/1 [00:00<?, ?it/s]"
      ]
     },
     "metadata": {},
     "output_type": "display_data"
    },
    {
     "data": {
      "application/vnd.jupyter.widget-view+json": {
       "model_id": "925b0d6d1981487e8d2f05854378b2fb",
       "version_major": 2,
       "version_minor": 0
      },
      "text/plain": [
       "  0%|          | 0/4 [00:00<?, ?it/s]"
      ]
     },
     "metadata": {},
     "output_type": "display_data"
    },
    {
     "data": {
      "application/vnd.jupyter.widget-view+json": {
       "model_id": "d353282f73464a289f765db287bb7e0b",
       "version_major": 2,
       "version_minor": 0
      },
      "text/plain": [
       "distances_used:   0%|          | 0/7 [00:00<?, ?it/s]"
      ]
     },
     "metadata": {},
     "output_type": "display_data"
    },
    {
     "data": {
      "application/vnd.jupyter.widget-view+json": {
       "model_id": "6d6a93dd99994c6093ba64ef9cb5a042",
       "version_major": 2,
       "version_minor": 0
      },
      "text/plain": [
       "repeated holdout:   0%|          | 0/3 [00:00<?, ?it/s]"
      ]
     },
     "metadata": {},
     "output_type": "display_data"
    },
    {
     "data": {
      "application/vnd.jupyter.widget-view+json": {
       "model_id": "be5deee4a94c47029a01e4d2ccd0da65",
       "version_major": 2,
       "version_minor": 0
      },
      "text/plain": [
       "repeated holdout:   0%|          | 0/3 [00:00<?, ?it/s]"
      ]
     },
     "metadata": {},
     "output_type": "display_data"
    },
    {
     "data": {
      "application/vnd.jupyter.widget-view+json": {
       "model_id": "a6772c53924a4c3685feea65ba8edb28",
       "version_major": 2,
       "version_minor": 0
      },
      "text/plain": [
       "repeated holdout:   0%|          | 0/3 [00:00<?, ?it/s]"
      ]
     },
     "metadata": {},
     "output_type": "display_data"
    },
    {
     "data": {
      "application/vnd.jupyter.widget-view+json": {
       "model_id": "126e9f1a708c4ce0b16aafd280c81946",
       "version_major": 2,
       "version_minor": 0
      },
      "text/plain": [
       "repeated holdout:   0%|          | 0/3 [00:00<?, ?it/s]"
      ]
     },
     "metadata": {},
     "output_type": "display_data"
    },
    {
     "data": {
      "application/vnd.jupyter.widget-view+json": {
       "model_id": "c5ca029d57074a1eb42dc3f22e14a9b7",
       "version_major": 2,
       "version_minor": 0
      },
      "text/plain": [
       "repeated holdout:   0%|          | 0/3 [00:00<?, ?it/s]"
      ]
     },
     "metadata": {},
     "output_type": "display_data"
    },
    {
     "data": {
      "application/vnd.jupyter.widget-view+json": {
       "model_id": "3518c7980fd946f58eb02f40977f64ce",
       "version_major": 2,
       "version_minor": 0
      },
      "text/plain": [
       "repeated holdout:   0%|          | 0/3 [00:00<?, ?it/s]"
      ]
     },
     "metadata": {},
     "output_type": "display_data"
    },
    {
     "data": {
      "application/vnd.jupyter.widget-view+json": {
       "model_id": "830da906686f4eb69d6add9c87d011c6",
       "version_major": 2,
       "version_minor": 0
      },
      "text/plain": [
       "repeated holdout:   0%|          | 0/3 [00:00<?, ?it/s]"
      ]
     },
     "metadata": {},
     "output_type": "display_data"
    },
    {
     "data": {
      "application/vnd.jupyter.widget-view+json": {
       "model_id": "292f785abb2347c297827bb52882001b",
       "version_major": 2,
       "version_minor": 0
      },
      "text/plain": [
       "distances_used:   0%|          | 0/7 [00:00<?, ?it/s]"
      ]
     },
     "metadata": {},
     "output_type": "display_data"
    },
    {
     "data": {
      "application/vnd.jupyter.widget-view+json": {
       "model_id": "da6be3ecbf1540f3a07ee1ee1ccfd0eb",
       "version_major": 2,
       "version_minor": 0
      },
      "text/plain": [
       "repeated holdout:   0%|          | 0/3 [00:00<?, ?it/s]"
      ]
     },
     "metadata": {},
     "output_type": "display_data"
    },
    {
     "data": {
      "application/vnd.jupyter.widget-view+json": {
       "model_id": "f14776f2f3044dfbbe945286cc1ae8cc",
       "version_major": 2,
       "version_minor": 0
      },
      "text/plain": [
       "repeated holdout:   0%|          | 0/3 [00:00<?, ?it/s]"
      ]
     },
     "metadata": {},
     "output_type": "display_data"
    },
    {
     "data": {
      "application/vnd.jupyter.widget-view+json": {
       "model_id": "6f9e87c42f0d400ea6107045bb1004d4",
       "version_major": 2,
       "version_minor": 0
      },
      "text/plain": [
       "repeated holdout:   0%|          | 0/3 [00:00<?, ?it/s]"
      ]
     },
     "metadata": {},
     "output_type": "display_data"
    },
    {
     "data": {
      "application/vnd.jupyter.widget-view+json": {
       "model_id": "b211d1d30234444bad0e1f866f2854c1",
       "version_major": 2,
       "version_minor": 0
      },
      "text/plain": [
       "repeated holdout:   0%|          | 0/3 [00:00<?, ?it/s]"
      ]
     },
     "metadata": {},
     "output_type": "display_data"
    },
    {
     "data": {
      "application/vnd.jupyter.widget-view+json": {
       "model_id": "d7b18785d2f34b1dbd6b86b1c669c7ea",
       "version_major": 2,
       "version_minor": 0
      },
      "text/plain": [
       "repeated holdout:   0%|          | 0/3 [00:00<?, ?it/s]"
      ]
     },
     "metadata": {},
     "output_type": "display_data"
    },
    {
     "data": {
      "application/vnd.jupyter.widget-view+json": {
       "model_id": "3d9749a8b0574c3e84e90a14a3a349cf",
       "version_major": 2,
       "version_minor": 0
      },
      "text/plain": [
       "repeated holdout:   0%|          | 0/3 [00:00<?, ?it/s]"
      ]
     },
     "metadata": {},
     "output_type": "display_data"
    },
    {
     "data": {
      "application/vnd.jupyter.widget-view+json": {
       "model_id": "1e6fcd60c43a467382deceb43847d94d",
       "version_major": 2,
       "version_minor": 0
      },
      "text/plain": [
       "repeated holdout:   0%|          | 0/3 [00:00<?, ?it/s]"
      ]
     },
     "metadata": {},
     "output_type": "display_data"
    },
    {
     "data": {
      "application/vnd.jupyter.widget-view+json": {
       "model_id": "807b44efee1e4f2f8d19bf5f41d9b97b",
       "version_major": 2,
       "version_minor": 0
      },
      "text/plain": [
       "distances_used:   0%|          | 0/7 [00:00<?, ?it/s]"
      ]
     },
     "metadata": {},
     "output_type": "display_data"
    },
    {
     "data": {
      "application/vnd.jupyter.widget-view+json": {
       "model_id": "d433ae7667624ce0aba9b2af74dcd867",
       "version_major": 2,
       "version_minor": 0
      },
      "text/plain": [
       "repeated holdout:   0%|          | 0/3 [00:00<?, ?it/s]"
      ]
     },
     "metadata": {},
     "output_type": "display_data"
    },
    {
     "ename": "KeyboardInterrupt",
     "evalue": "",
     "output_type": "error",
     "traceback": [
      "\u001b[1;31m---------------------------------------------------------------------------\u001b[0m",
      "\u001b[1;31mKeyboardInterrupt\u001b[0m                         Traceback (most recent call last)",
      "Cell \u001b[1;32mIn[13], line 12\u001b[0m\n\u001b[0;32m      9\u001b[0m dist \u001b[39m=\u001b[39m DISTANCES[data_type][dist_to_use]\n\u001b[0;32m     11\u001b[0m data \u001b[39m=\u001b[39m get_dataset(data_type, DATA_DIRS[data_type], dataset_name)\n\u001b[1;32m---> 12\u001b[0m aucs \u001b[39m=\u001b[39m perform_experiment(CLF, data, dist, OBJ_RATIO, {})\n\u001b[0;32m     14\u001b[0m dist_short \u001b[39m=\u001b[39m \u001b[39m'\u001b[39m\u001b[39m_\u001b[39m\u001b[39m'\u001b[39m\u001b[39m.\u001b[39mjoin([x\u001b[39m.\u001b[39m\u001b[39m__class__\u001b[39m\u001b[39m.\u001b[39m\u001b[39m__name__\u001b[39m[:\u001b[39m3\u001b[39m] \u001b[39mfor\u001b[39;00m x \u001b[39min\u001b[39;00m dist])\n\u001b[0;32m     16\u001b[0m results \u001b[39m=\u001b[39m init_results(CLF, dataset_name, data_type, aucs, {\u001b[39m\"\u001b[39m\u001b[39mdistances\u001b[39m\u001b[39m\"\u001b[39m: dist_short})\n",
      "File \u001b[1;32mD:\\AI_y3_s1\\ProblemClasses\\Isolation-Similarity-Forest\\notebooks\\utils.py:229\u001b[0m, in \u001b[0;36mperform_experiment\u001b[1;34m(clf_name, data, distances, selected_obj_ratio, clf_kwargs, selection_func)\u001b[0m\n\u001b[0;32m    216\u001b[0m     clf \u001b[39m=\u001b[39m RandomIsolationSimilarityForest(\n\u001b[0;32m    217\u001b[0m         random_state\u001b[39m=\u001b[39mSEED,\n\u001b[0;32m    218\u001b[0m         distance\u001b[39m=\u001b[39mX_risf\u001b[39m.\u001b[39mdistances,\n\u001b[0;32m    219\u001b[0m         n_jobs\u001b[39m=\u001b[39mn_jobs,\n\u001b[0;32m    220\u001b[0m         \u001b[39m*\u001b[39m\u001b[39m*\u001b[39mclf_kwargs,\n\u001b[0;32m    221\u001b[0m     )\u001b[39m.\u001b[39mfit(X_risf)\n\u001b[0;32m    223\u001b[0m     X_test_risf \u001b[39m=\u001b[39m clf\u001b[39m.\u001b[39mtransform(\n\u001b[0;32m    224\u001b[0m         [X_test],\n\u001b[0;32m    225\u001b[0m         n_jobs\u001b[39m=\u001b[39m\u001b[39m-\u001b[39m\u001b[39m2\u001b[39m,\n\u001b[0;32m    226\u001b[0m         precomputed_distances\u001b[39m=\u001b[39mtest_distances,\n\u001b[0;32m    227\u001b[0m     )\n\u001b[1;32m--> 229\u001b[0m     y_test_pred \u001b[39m=\u001b[39m (\u001b[39m-\u001b[39m\u001b[39m1\u001b[39m) \u001b[39m*\u001b[39m clf\u001b[39m.\u001b[39;49mpredict(X_test_risf, return_raw_scores\u001b[39m=\u001b[39;49m\u001b[39mTrue\u001b[39;49;00m)\n\u001b[0;32m    231\u001b[0m \u001b[39melse\u001b[39;00m:\n\u001b[0;32m    232\u001b[0m     clf \u001b[39m=\u001b[39m new_clf(clf_name, SEED)\n",
      "File \u001b[1;32mD:\\AI_y3_s1\\ProblemClasses\\Isolation-Similarity-Forest\\risf\\forest.py:250\u001b[0m, in \u001b[0;36mRandomIsolationSimilarityForest.predict\u001b[1;34m(self, X, return_raw_scores)\u001b[0m\n\u001b[0;32m    247\u001b[0m         tree\u001b[39m.\u001b[39mset_test_distances(X\u001b[39m.\u001b[39mdistances)\n\u001b[0;32m    249\u001b[0m X \u001b[39m=\u001b[39m prepare_X(X)\n\u001b[1;32m--> 250\u001b[0m decision_function \u001b[39m=\u001b[39m \u001b[39mself\u001b[39;49m\u001b[39m.\u001b[39;49mdecision_function(X)\n\u001b[0;32m    252\u001b[0m \u001b[39mif\u001b[39;00m return_raw_scores:\n\u001b[0;32m    253\u001b[0m     \u001b[39mreturn\u001b[39;00m decision_function\n",
      "File \u001b[1;32mD:\\AI_y3_s1\\ProblemClasses\\Isolation-Similarity-Forest\\risf\\forest.py:205\u001b[0m, in \u001b[0;36mRandomIsolationSimilarityForest.decision_function\u001b[1;34m(self, X)\u001b[0m\n\u001b[0;32m    202\u001b[0m X \u001b[39m=\u001b[39m sklearn_validation\u001b[39m.\u001b[39mcheck_array(X)\n\u001b[0;32m    203\u001b[0m X \u001b[39m=\u001b[39m \u001b[39mself\u001b[39m\u001b[39m.\u001b[39m_validate_X_predict(X)\n\u001b[1;32m--> 205\u001b[0m scores \u001b[39m=\u001b[39m \u001b[39mself\u001b[39;49m\u001b[39m.\u001b[39;49mscore_samples(X)\n\u001b[0;32m    207\u001b[0m \u001b[39mreturn\u001b[39;00m scores \u001b[39m-\u001b[39m \u001b[39mself\u001b[39m\u001b[39m.\u001b[39mdecision_threshold_\n",
      "File \u001b[1;32mD:\\AI_y3_s1\\ProblemClasses\\Isolation-Similarity-Forest\\risf\\forest.py:171\u001b[0m, in \u001b[0;36mRandomIsolationSimilarityForest.score_samples\u001b[1;34m(self, X)\u001b[0m\n\u001b[0;32m    151\u001b[0m \u001b[39m\"\"\"\u001b[39;00m\n\u001b[0;32m    152\u001b[0m \u001b[39mOpposite of the anomaly score defined in the original paper.\u001b[39;00m\n\u001b[0;32m    153\u001b[0m \u001b[39mThe anomaly score of an input sample is computed as\u001b[39;00m\n\u001b[1;32m   (...)\u001b[0m\n\u001b[0;32m    168\u001b[0m \u001b[39m        The lower, the more abnormal.\u001b[39;00m\n\u001b[0;32m    169\u001b[0m \u001b[39m\"\"\"\u001b[39;00m\n\u001b[0;32m    170\u001b[0m \u001b[39m# Average depth at which a sample lies over all trees\u001b[39;00m\n\u001b[1;32m--> 171\u001b[0m mean_path_lengths \u001b[39m=\u001b[39m \u001b[39mself\u001b[39;49m\u001b[39m.\u001b[39;49mcalculate_mean_path_lengths(X)\n\u001b[0;32m    173\u001b[0m \u001b[39m# Depths are normalized in the same fashion as in Isolation Forest\u001b[39;00m\n\u001b[0;32m    174\u001b[0m c \u001b[39m=\u001b[39m measures\u001b[39m.\u001b[39m_average_path_length(\u001b[39mself\u001b[39m\u001b[39m.\u001b[39msubsample_size)\n",
      "File \u001b[1;32mD:\\AI_y3_s1\\ProblemClasses\\Isolation-Similarity-Forest\\risf\\forest.py:147\u001b[0m, in \u001b[0;36mRandomIsolationSimilarityForest.calculate_mean_path_lengths\u001b[1;34m(self, X)\u001b[0m\n\u001b[0;32m    139\u001b[0m \u001b[39mdef\u001b[39;00m \u001b[39mcalculate_mean_path_lengths\u001b[39m(\u001b[39mself\u001b[39m, X: np\u001b[39m.\u001b[39marray):\n\u001b[0;32m    140\u001b[0m     \u001b[39m\"\"\"\u001b[39;00m\n\u001b[0;32m    141\u001b[0m \u001b[39m    Calculates mean path_length of every sample in X matrix\u001b[39;00m\n\u001b[0;32m    142\u001b[0m \u001b[39m    Parameters\u001b[39;00m\n\u001b[1;32m   (...)\u001b[0m\n\u001b[0;32m    145\u001b[0m \u001b[39m            The input samples.\u001b[39;00m\n\u001b[0;32m    146\u001b[0m \u001b[39m    \"\"\"\u001b[39;00m\n\u001b[1;32m--> 147\u001b[0m     all_path_lengths \u001b[39m=\u001b[39m [t\u001b[39m.\u001b[39mpath_lengths_(X) \u001b[39mfor\u001b[39;00m t \u001b[39min\u001b[39;00m \u001b[39mself\u001b[39m\u001b[39m.\u001b[39mtrees_]\n\u001b[0;32m    148\u001b[0m     \u001b[39mreturn\u001b[39;00m np\u001b[39m.\u001b[39mmean(all_path_lengths, axis\u001b[39m=\u001b[39m\u001b[39m0\u001b[39m)\n",
      "File \u001b[1;32mD:\\AI_y3_s1\\ProblemClasses\\Isolation-Similarity-Forest\\risf\\forest.py:147\u001b[0m, in \u001b[0;36m<listcomp>\u001b[1;34m(.0)\u001b[0m\n\u001b[0;32m    139\u001b[0m \u001b[39mdef\u001b[39;00m \u001b[39mcalculate_mean_path_lengths\u001b[39m(\u001b[39mself\u001b[39m, X: np\u001b[39m.\u001b[39marray):\n\u001b[0;32m    140\u001b[0m     \u001b[39m\"\"\"\u001b[39;00m\n\u001b[0;32m    141\u001b[0m \u001b[39m    Calculates mean path_length of every sample in X matrix\u001b[39;00m\n\u001b[0;32m    142\u001b[0m \u001b[39m    Parameters\u001b[39;00m\n\u001b[1;32m   (...)\u001b[0m\n\u001b[0;32m    145\u001b[0m \u001b[39m            The input samples.\u001b[39;00m\n\u001b[0;32m    146\u001b[0m \u001b[39m    \"\"\"\u001b[39;00m\n\u001b[1;32m--> 147\u001b[0m     all_path_lengths \u001b[39m=\u001b[39m [t\u001b[39m.\u001b[39;49mpath_lengths_(X) \u001b[39mfor\u001b[39;00m t \u001b[39min\u001b[39;00m \u001b[39mself\u001b[39m\u001b[39m.\u001b[39mtrees_]\n\u001b[0;32m    148\u001b[0m     \u001b[39mreturn\u001b[39;00m np\u001b[39m.\u001b[39mmean(all_path_lengths, axis\u001b[39m=\u001b[39m\u001b[39m0\u001b[39m)\n",
      "File \u001b[1;32mD:\\AI_y3_s1\\ProblemClasses\\Isolation-Similarity-Forest\\risf\\tree.py:181\u001b[0m, in \u001b[0;36mRandomIsolationSimilarityTree.path_lengths_\u001b[1;34m(self, X)\u001b[0m\n\u001b[0;32m    178\u001b[0m \u001b[39mdef\u001b[39;00m \u001b[39mpath_lengths_\u001b[39m(\u001b[39mself\u001b[39m, X):\n\u001b[0;32m    179\u001b[0m     \u001b[39m\"\"\"Estimates depth at which ach data point would be located in this\u001b[39;00m\n\u001b[0;32m    180\u001b[0m \u001b[39m    tree\"\"\"\u001b[39;00m\n\u001b[1;32m--> 181\u001b[0m     path_lengths \u001b[39m=\u001b[39m np\u001b[39m.\u001b[39marray([\u001b[39mself\u001b[39m\u001b[39m.\u001b[39mget_leaf_x(x\u001b[39m.\u001b[39mreshape(\u001b[39m1\u001b[39m, \u001b[39m-\u001b[39m\u001b[39m1\u001b[39m))\u001b[39m.\u001b[39mdepth_estimate()\n\u001b[0;32m    182\u001b[0m                              \u001b[39mfor\u001b[39;00m x \u001b[39min\u001b[39;00m X])\n\u001b[0;32m    183\u001b[0m     \u001b[39mreturn\u001b[39;00m path_lengths\n",
      "File \u001b[1;32mD:\\AI_y3_s1\\ProblemClasses\\Isolation-Similarity-Forest\\risf\\tree.py:181\u001b[0m, in \u001b[0;36m<listcomp>\u001b[1;34m(.0)\u001b[0m\n\u001b[0;32m    178\u001b[0m \u001b[39mdef\u001b[39;00m \u001b[39mpath_lengths_\u001b[39m(\u001b[39mself\u001b[39m, X):\n\u001b[0;32m    179\u001b[0m     \u001b[39m\"\"\"Estimates depth at which ach data point would be located in this\u001b[39;00m\n\u001b[0;32m    180\u001b[0m \u001b[39m    tree\"\"\"\u001b[39;00m\n\u001b[1;32m--> 181\u001b[0m     path_lengths \u001b[39m=\u001b[39m np\u001b[39m.\u001b[39marray([\u001b[39mself\u001b[39;49m\u001b[39m.\u001b[39;49mget_leaf_x(x\u001b[39m.\u001b[39;49mreshape(\u001b[39m1\u001b[39;49m, \u001b[39m-\u001b[39;49m\u001b[39m1\u001b[39;49m))\u001b[39m.\u001b[39mdepth_estimate()\n\u001b[0;32m    182\u001b[0m                              \u001b[39mfor\u001b[39;00m x \u001b[39min\u001b[39;00m X])\n\u001b[0;32m    183\u001b[0m     \u001b[39mreturn\u001b[39;00m path_lengths\n",
      "File \u001b[1;32mD:\\AI_y3_s1\\ProblemClasses\\Isolation-Similarity-Forest\\risf\\tree.py:239\u001b[0m, in \u001b[0;36mRandomIsolationSimilarityTree.get_leaf_x\u001b[1;34m(self, x)\u001b[0m\n\u001b[0;32m    225\u001b[0m \u001b[39massert\u001b[39;00m \u001b[39mself\u001b[39m\u001b[39m.\u001b[39mOj \u001b[39mis\u001b[39;00m \u001b[39mnot\u001b[39;00m \u001b[39mNone\u001b[39;00m\n\u001b[0;32m    227\u001b[0m t \u001b[39m=\u001b[39m (\n\u001b[0;32m    228\u001b[0m     \u001b[39mself\u001b[39m\u001b[39m.\u001b[39mleft_node\n\u001b[0;32m    229\u001b[0m     \u001b[39mif\u001b[39;00m splitting\u001b[39m.\u001b[39mproject(\n\u001b[1;32m   (...)\u001b[0m\n\u001b[0;32m    236\u001b[0m     \u001b[39melse\u001b[39;00m \u001b[39mself\u001b[39m\u001b[39m.\u001b[39mright_node\n\u001b[0;32m    237\u001b[0m )\n\u001b[1;32m--> 239\u001b[0m \u001b[39mreturn\u001b[39;00m t\u001b[39m.\u001b[39;49mget_leaf_x(x)\n",
      "File \u001b[1;32mD:\\AI_y3_s1\\ProblemClasses\\Isolation-Similarity-Forest\\risf\\tree.py:239\u001b[0m, in \u001b[0;36mRandomIsolationSimilarityTree.get_leaf_x\u001b[1;34m(self, x)\u001b[0m\n\u001b[0;32m    225\u001b[0m \u001b[39massert\u001b[39;00m \u001b[39mself\u001b[39m\u001b[39m.\u001b[39mOj \u001b[39mis\u001b[39;00m \u001b[39mnot\u001b[39;00m \u001b[39mNone\u001b[39;00m\n\u001b[0;32m    227\u001b[0m t \u001b[39m=\u001b[39m (\n\u001b[0;32m    228\u001b[0m     \u001b[39mself\u001b[39m\u001b[39m.\u001b[39mleft_node\n\u001b[0;32m    229\u001b[0m     \u001b[39mif\u001b[39;00m splitting\u001b[39m.\u001b[39mproject(\n\u001b[1;32m   (...)\u001b[0m\n\u001b[0;32m    236\u001b[0m     \u001b[39melse\u001b[39;00m \u001b[39mself\u001b[39m\u001b[39m.\u001b[39mright_node\n\u001b[0;32m    237\u001b[0m )\n\u001b[1;32m--> 239\u001b[0m \u001b[39mreturn\u001b[39;00m t\u001b[39m.\u001b[39;49mget_leaf_x(x)\n",
      "    \u001b[1;31m[... skipping similar frames: RandomIsolationSimilarityTree.get_leaf_x at line 239 (4 times)]\u001b[0m\n",
      "File \u001b[1;32mD:\\AI_y3_s1\\ProblemClasses\\Isolation-Similarity-Forest\\risf\\tree.py:239\u001b[0m, in \u001b[0;36mRandomIsolationSimilarityTree.get_leaf_x\u001b[1;34m(self, x)\u001b[0m\n\u001b[0;32m    225\u001b[0m \u001b[39massert\u001b[39;00m \u001b[39mself\u001b[39m\u001b[39m.\u001b[39mOj \u001b[39mis\u001b[39;00m \u001b[39mnot\u001b[39;00m \u001b[39mNone\u001b[39;00m\n\u001b[0;32m    227\u001b[0m t \u001b[39m=\u001b[39m (\n\u001b[0;32m    228\u001b[0m     \u001b[39mself\u001b[39m\u001b[39m.\u001b[39mleft_node\n\u001b[0;32m    229\u001b[0m     \u001b[39mif\u001b[39;00m splitting\u001b[39m.\u001b[39mproject(\n\u001b[1;32m   (...)\u001b[0m\n\u001b[0;32m    236\u001b[0m     \u001b[39melse\u001b[39;00m \u001b[39mself\u001b[39m\u001b[39m.\u001b[39mright_node\n\u001b[0;32m    237\u001b[0m )\n\u001b[1;32m--> 239\u001b[0m \u001b[39mreturn\u001b[39;00m t\u001b[39m.\u001b[39;49mget_leaf_x(x)\n",
      "File \u001b[1;32mD:\\AI_y3_s1\\ProblemClasses\\Isolation-Similarity-Forest\\risf\\tree.py:229\u001b[0m, in \u001b[0;36mRandomIsolationSimilarityTree.get_leaf_x\u001b[1;34m(self, x)\u001b[0m\n\u001b[0;32m    224\u001b[0m \u001b[39massert\u001b[39;00m \u001b[39mself\u001b[39m\u001b[39m.\u001b[39mOi \u001b[39mis\u001b[39;00m \u001b[39mnot\u001b[39;00m \u001b[39mNone\u001b[39;00m\n\u001b[0;32m    225\u001b[0m \u001b[39massert\u001b[39;00m \u001b[39mself\u001b[39m\u001b[39m.\u001b[39mOj \u001b[39mis\u001b[39;00m \u001b[39mnot\u001b[39;00m \u001b[39mNone\u001b[39;00m\n\u001b[0;32m    227\u001b[0m t \u001b[39m=\u001b[39m (\n\u001b[0;32m    228\u001b[0m     \u001b[39mself\u001b[39m\u001b[39m.\u001b[39mleft_node\n\u001b[1;32m--> 229\u001b[0m     \u001b[39mif\u001b[39;00m splitting\u001b[39m.\u001b[39;49mproject(\n\u001b[0;32m    230\u001b[0m         x[:, \u001b[39mself\u001b[39;49m\u001b[39m.\u001b[39;49mfeature_index],\n\u001b[0;32m    231\u001b[0m         \u001b[39mself\u001b[39;49m\u001b[39m.\u001b[39;49mOi,\n\u001b[0;32m    232\u001b[0m         \u001b[39mself\u001b[39;49m\u001b[39m.\u001b[39;49mOj,\n\u001b[0;32m    233\u001b[0m         \u001b[39mself\u001b[39;49m\u001b[39m.\u001b[39;49mtest_distances_[\u001b[39mself\u001b[39;49m\u001b[39m.\u001b[39;49mfeature_index][\u001b[39mself\u001b[39;49m\u001b[39m.\u001b[39;49mdistance_index],\n\u001b[0;32m    234\u001b[0m     )\u001b[39m.\u001b[39mitem()\n\u001b[0;32m    235\u001b[0m     \u001b[39m<\u001b[39m\u001b[39m=\u001b[39m \u001b[39mself\u001b[39m\u001b[39m.\u001b[39msplit_point\n\u001b[0;32m    236\u001b[0m     \u001b[39melse\u001b[39;00m \u001b[39mself\u001b[39m\u001b[39m.\u001b[39mright_node\n\u001b[0;32m    237\u001b[0m )\n\u001b[0;32m    239\u001b[0m \u001b[39mreturn\u001b[39;00m t\u001b[39m.\u001b[39mget_leaf_x(x)\n",
      "File \u001b[1;32mD:\\AI_y3_s1\\ProblemClasses\\Isolation-Similarity-Forest\\risf\\splitting.py:27\u001b[0m, in \u001b[0;36mproject\u001b[1;34m(X, Oi, Oj, dist)\u001b[0m\n\u001b[0;32m     20\u001b[0m     projection_ \u001b[39m=\u001b[39m projection\u001b[39m.\u001b[39mmake_projection(\n\u001b[0;32m     21\u001b[0m         X\u001b[39m.\u001b[39mastype(np\u001b[39m.\u001b[39mfloat32)\u001b[39m.\u001b[39mreshape(\u001b[39m-\u001b[39m\u001b[39m1\u001b[39m, \u001b[39m1\u001b[39m),\n\u001b[0;32m     22\u001b[0m         np\u001b[39m.\u001b[39marray([Oi], dtype\u001b[39m=\u001b[39mnp\u001b[39m.\u001b[39mfloat32),\n\u001b[0;32m     23\u001b[0m         np\u001b[39m.\u001b[39marray([Oj], dtype\u001b[39m=\u001b[39mnp\u001b[39m.\u001b[39mfloat32),\n\u001b[0;32m     24\u001b[0m         dist,\n\u001b[0;32m     25\u001b[0m     )\n\u001b[0;32m     26\u001b[0m \u001b[39melif\u001b[39;00m \u001b[39misinstance\u001b[39m(dist, DistanceMixin):\n\u001b[1;32m---> 27\u001b[0m     projection_ \u001b[39m=\u001b[39m dist\u001b[39m.\u001b[39;49mproject(X, Oi, Oj)\n\u001b[0;32m     29\u001b[0m \u001b[39melse\u001b[39;00m:\n\u001b[0;32m     30\u001b[0m     \u001b[39mraise\u001b[39;00m \u001b[39mTypeError\u001b[39;00m(\u001b[39m\"\u001b[39m\u001b[39mUnsupported projection type\u001b[39m\u001b[39m\"\u001b[39m)\n",
      "\u001b[1;31mKeyboardInterrupt\u001b[0m: "
     ]
    }
   ],
   "source": [
    "results_distance_comb = []\n",
    "\n",
    "for data_type in (data_types := tqdm([\"numerical\"])):#DATASETS.keys())):\n",
    "    data_types.set_description(data_type)\n",
    "    distances_to_use = get_binary_distances_choice(DISTANCES[data_type])\n",
    "    for dataset_name in (dataset_names := tqdm(DATASETS[data_type])):\n",
    "        dataset_names.set_description(dataset_name)\n",
    "        for dist_to_use in tqdm(distances_to_use, desc=\"distances_used\"):\n",
    "            dist = DISTANCES[data_type][dist_to_use]\n",
    "            \n",
    "            data = get_dataset(data_type, DATA_DIRS[data_type], dataset_name)\n",
    "            aucs = perform_experiment(CLF, data, dist, OBJ_RATIO, {})\n",
    "\n",
    "            dist_short = '_'.join([x.__class__.__name__[:3] for x in dist])\n",
    "            \n",
    "            results = init_results(CLF, dataset_name, data_type, aucs, {\"distances\": dist_short})\n",
    "            \n",
    "            results_distance_comb.extend(results)"
   ]
  },
  {
   "cell_type": "code",
   "execution_count": 15,
   "metadata": {},
   "outputs": [],
   "source": [
    "results_distance_comb_df = pd.DataFrame(results_distance_comb)"
   ]
  },
  {
   "cell_type": "code",
   "execution_count": 21,
   "metadata": {},
   "outputs": [
    {
     "name": "stderr",
     "output_type": "stream",
     "text": [
      "c:\\Users\\sebas\\AppData\\pypoetry\\virtualenvs\\random-isolation-similarity-forest-bqxKmFq8-py3.10\\lib\\site-packages\\seaborn\\axisgrid.py:712: UserWarning: Using the barplot function without specifying `order` is likely to produce an incorrect plot.\n",
      "  warnings.warn(warning)\n"
     ]
    },
    {
     "data": {
      "image/png": "[encoded data removed]",
      "text/plain": [
       "<Figure size 1500x800 with 2 Axes>"
      ]
     },
     "metadata": {},
     "output_type": "display_data"
    }
   ],
   "source": [
    "g = sns.FacetGrid(results_distance_comb_df, col=\"dataset_name\")\n",
    "g.map(sns.barplot,'distances', 'auc')\n",
    "plt.gcf().set_size_inches(15, 8) # We don't need to check Isolation forest, maybe just for debugging."
   ]
  },
  {
   "cell_type": "code",
   "execution_count": null,
   "metadata": {},
   "outputs": [],
   "source": [
    "# Do some experiment on average path length"
   ]
  },
  {
   "cell_type": "code",
   "execution_count": null,
   "metadata": {},
   "outputs": [],
   "source": []
  }
 ],
 "metadata": {
  "kernelspec": {
   "display_name": "random-isolation-similarity-forest-bqxKmFq8-py3.10",
   "language": "python",
   "name": "python3"
  },
  "language_info": {
   "codemirror_mode": {
    "name": "ipython",
    "version": 3
   },
   "file_extension": ".py",
   "mimetype": "text/x-python",
   "name": "python",
   "nbconvert_exporter": "python",
   "pygments_lexer": "ipython3",
   "version": "3.10.10"
  },
  "orig_nbformat": 4
 },
 "nbformat": 4,
 "nbformat_minor": 2
}
