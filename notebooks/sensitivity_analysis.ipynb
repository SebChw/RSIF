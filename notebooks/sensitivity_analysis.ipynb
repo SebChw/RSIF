{
 "cells": [
  {
   "attachments": {},
   "cell_type": "markdown",
   "metadata": {},
   "source": [
    "#### Experiment with:\n",
    "* Max_depth\n",
    "* n_estimators\n",
    "* selected_objects for distance calculation.\n",
    "\n",
    "# Sensitivity Analysis"
   ]
  },
  {
   "attachments": {},
   "cell_type": "markdown",
   "metadata": {},
   "source": [
    "na AWS dostaje sie ssh i konsole. Use tmux.\n",
    "\n",
    "Spot instance preffered vs on demand.\n",
    "\n",
    "Patrzec ile kosztuje dana maszyna w regionie. US East OHio, Europe Ireland."
   ]
  },
  {
   "cell_type": "code",
   "execution_count": 1,
   "metadata": {},
   "outputs": [
    {
     "name": "stderr",
     "output_type": "stream",
     "text": [
      "c:\\Users\\sebas\\mambaforge\\envs\\risf\\lib\\site-packages\\tqdm\\auto.py:21: TqdmWarning: IProgress not found. Please update jupyter and ipywidgets. See https://ipywidgets.readthedocs.io/en/stable/user_install.html\n",
      "  from .autonotebook import tqdm as notebook_tqdm\n"
     ]
    }
   ],
   "source": [
    "import sys\n",
    "sys.path.insert(0, '..')\n",
    "sys.path.insert(0, '../data')\n",
    "\n",
    "\n",
    "from utils import (init_results, \n",
    "                            ObjectsSelector,\n",
    "                            get_dataset,\n",
    "                            perform_experiment_simple,\n",
    "                            SEED,\n",
    "                            PRECOMPUTED_DISTANCES_PATH,\n",
    "                            get_binary_distances_choice,\n",
    "                            experiment_risf_complex)\n",
    "\n",
    "import numpy as np\n",
    "from risf.distance_functions import *\n",
    "from risf.distance import SelectiveDistance\n",
    "from pathlib import Path\n",
    "from tqdm.auto import tqdm\n",
    "import pandas as pd\n",
    "import seaborn as sns\n",
    "\n",
    "import matplotlib.pyplot as plt\n",
    "\n",
    "OKABE_ITO_SCALE = [\"#E69F00\", \"#56B4E9\", \"#009E73\", \"#F0E442\", \"#0072B2\", \"#D55E00\", \"#CC79A7\"]\n",
    "%load_ext autoreload\n",
    "%autoreload 2\n",
    "\n",
    "np.random.seed(SEED)"
   ]
  },
  {
   "cell_type": "code",
   "execution_count": 2,
   "metadata": {},
   "outputs": [],
   "source": [
    "CLF = \"RISF\"\n",
    "\n",
    "PRECOMPUTED_DISTANCES_PATH.mkdir(exist_ok=True)\n",
    "\n",
    "DATASETS = {\n",
    "    \"graph\":  [\"p53\"],\n",
    "    \"numerical\": [\"21_Lymphography\", \"36_speech\", \"6_cardio\", \"26_optdigits\"],\n",
    "    \"categorical\":  [\"ad_nominal\"],\n",
    "    \"timeseries\": [\"TwoLeadECG\"],\n",
    "    \"nlp\" : [\"agnews_1\"]\n",
    "}\n",
    "\n",
    "DATA_DIRS = {\n",
    "    \"graph\": Path(\"../data/graph\"),\n",
    "    \"numerical\" : Path(\"../data/numerical\"),\n",
    "    \"categorical\" : Path(\"../data/categorical\"),\n",
    "    \"timeseries\": Path(\"../data/timeseries\"),\n",
    "    \"nlp\": Path(\"../data/adBench/NLP_by_RoBERTa/\")\n",
    "}\n",
    "\n",
    "\n",
    "def distance(x, y):\n",
    "    return np.dot(x, y)\n",
    "\n",
    "DISTANCES = {\n",
    "    \"graph\": [PortraitDivergenceDist(), IpsenMikailovDist()], # Sprawdz koniecznie czy w policzonych dystansach nie ma duzo nanow!\n",
    "    \"numerical\": [[SelectiveDistance(manhattan_projection, 1, 2)]],\n",
    "    \"categorical\": [[SelectiveDistance(jaccard_projection, 5, 10)]],\n",
    "    \"nlp\": [[SelectiveDistance(cosine_projection, 50, 100)]],\n",
    "    \"cv\": [[SelectiveDistance(cosine_projection, 50, 100)]],\n",
    "    \"timeseries\": [DTWDist(), distance]\n",
    "}"
   ]
  },
  {
   "cell_type": "code",
   "execution_count": 3,
   "metadata": {},
   "outputs": [],
   "source": [
    "def test_one_parameter(param_name=None, options=None, classifiers = [\"IForest\", \"RISF\"]):\n",
    "    # To allow default parameters run\n",
    "    if param_name is None:\n",
    "        param_name=\"default\"\n",
    "    if options is None:\n",
    "        options = [1]\n",
    "\n",
    "    results_all = []\n",
    "    for clf in classifiers:\n",
    "        print(clf)\n",
    "        for data_type in DATASETS.keys():\n",
    "            print(data_type)\n",
    "            for dataset_name in DATASETS[data_type]:\n",
    "                for option in options:\n",
    "                    clf_kwargs = dict() if param_name == \"default\" else {param_name: option}\n",
    "                    \n",
    "                    data = get_dataset(data_type, DATA_DIRS[data_type], dataset_name, clf)\n",
    "                    \n",
    "                    if param_name == \"max_n\":\n",
    "                        clf_kwargs[\"max_n\"] = option\n",
    "                        distances = [[SelectiveDistance(manhattan_projection, 1, option)]]\n",
    "                    else:\n",
    "                        distances = DISTANCES[data_type]\n",
    "                    \n",
    "                    if clf != \"RISF\":\n",
    "                        aucs = perform_experiment_simple(clf, data, clf_kwargs=clf_kwargs)\n",
    "                    else:\n",
    "                        if data_type in [\"numerical\", \"categorical\", \"nlp\", \"cv\"]:\n",
    "                            aucs = perform_experiment_simple(clf, data, clf_kwargs=clf_kwargs, distances = distances)\n",
    "                        else:\n",
    "                            if data_type == \"timeseries\":\n",
    "                                data[\"X\"] = data[\"X\"].astype(object)        \n",
    "                            aucs = experiment_risf_complex(data, distances, selected_obj_ratio=1, clf_kwargs=clf_kwargs)\n",
    "                            \n",
    "                    results = init_results(clf, dataset_name, data_type, aucs, clf_kwargs)\n",
    "                    results_all.extend(results)\n",
    "\n",
    "    pd.DataFrame(results_all).to_csv(f\"../results/results_{param_name}.csv\", index=False)\n"
   ]
  },
  {
   "attachments": {},
   "cell_type": "markdown",
   "metadata": {},
   "source": [
    "#### At first let's see performance of IF, ISF and RISF defaults on the data"
   ]
  },
  {
   "cell_type": "code",
   "execution_count": 4,
   "metadata": {},
   "outputs": [
    {
     "name": "stdout",
     "output_type": "stream",
     "text": [
      "IForest\n",
      "graph\n",
      "numerical\n",
      "categorical\n",
      "timeseries\n",
      "nlp\n",
      "RISF\n",
      "graph\n",
      "numerical\n",
      "categorical\n",
      "timeseries\n",
      "nlp\n",
      "ISF\n",
      "graph\n",
      "numerical\n",
      "categorical\n",
      "timeseries\n",
      "nlp\n"
     ]
    }
   ],
   "source": [
    "test_one_parameter(classifiers = [\"IForest\", \"RISF\", \"ISF\"])"
   ]
  },
  {
   "attachments": {},
   "cell_type": "markdown",
   "metadata": {},
   "source": [
    "#### Influence of subsampling_size"
   ]
  },
  {
   "cell_type": "code",
   "execution_count": 5,
   "metadata": {},
   "outputs": [
    {
     "name": "stdout",
     "output_type": "stream",
     "text": [
      "IForest\n",
      "graph\n",
      "numerical\n"
     ]
    },
    {
     "name": "stderr",
     "output_type": "stream",
     "text": [
      "c:\\Users\\sebas\\mambaforge\\envs\\risf\\lib\\site-packages\\sklearn\\ensemble\\_iforest.py:307: UserWarning: max_samples (128) is greater than the total number of samples (103). max_samples will be set to n_samples for estimation.\n",
      "  warn(\n",
      "c:\\Users\\sebas\\mambaforge\\envs\\risf\\lib\\site-packages\\sklearn\\ensemble\\_iforest.py:307: UserWarning: max_samples (128) is greater than the total number of samples (103). max_samples will be set to n_samples for estimation.\n",
      "  warn(\n",
      "c:\\Users\\sebas\\mambaforge\\envs\\risf\\lib\\site-packages\\sklearn\\ensemble\\_iforest.py:307: UserWarning: max_samples (128) is greater than the total number of samples (103). max_samples will be set to n_samples for estimation.\n",
      "  warn(\n",
      "c:\\Users\\sebas\\mambaforge\\envs\\risf\\lib\\site-packages\\sklearn\\ensemble\\_iforest.py:307: UserWarning: max_samples (256) is greater than the total number of samples (103). max_samples will be set to n_samples for estimation.\n",
      "  warn(\n",
      "c:\\Users\\sebas\\mambaforge\\envs\\risf\\lib\\site-packages\\sklearn\\ensemble\\_iforest.py:307: UserWarning: max_samples (256) is greater than the total number of samples (103). max_samples will be set to n_samples for estimation.\n",
      "  warn(\n",
      "c:\\Users\\sebas\\mambaforge\\envs\\risf\\lib\\site-packages\\sklearn\\ensemble\\_iforest.py:307: UserWarning: max_samples (256) is greater than the total number of samples (103). max_samples will be set to n_samples for estimation.\n",
      "  warn(\n",
      "c:\\Users\\sebas\\mambaforge\\envs\\risf\\lib\\site-packages\\sklearn\\ensemble\\_iforest.py:307: UserWarning: max_samples (512) is greater than the total number of samples (103). max_samples will be set to n_samples for estimation.\n",
      "  warn(\n",
      "c:\\Users\\sebas\\mambaforge\\envs\\risf\\lib\\site-packages\\sklearn\\ensemble\\_iforest.py:307: UserWarning: max_samples (512) is greater than the total number of samples (103). max_samples will be set to n_samples for estimation.\n",
      "  warn(\n",
      "c:\\Users\\sebas\\mambaforge\\envs\\risf\\lib\\site-packages\\sklearn\\ensemble\\_iforest.py:307: UserWarning: max_samples (512) is greater than the total number of samples (103). max_samples will be set to n_samples for estimation.\n",
      "  warn(\n"
     ]
    },
    {
     "name": "stdout",
     "output_type": "stream",
     "text": [
      "categorical\n",
      "timeseries\n"
     ]
    },
    {
     "name": "stderr",
     "output_type": "stream",
     "text": [
      "c:\\Users\\sebas\\mambaforge\\envs\\risf\\lib\\site-packages\\sklearn\\ensemble\\_iforest.py:307: UserWarning: max_samples (512) is greater than the total number of samples (427). max_samples will be set to n_samples for estimation.\n",
      "  warn(\n",
      "c:\\Users\\sebas\\mambaforge\\envs\\risf\\lib\\site-packages\\sklearn\\ensemble\\_iforest.py:307: UserWarning: max_samples (512) is greater than the total number of samples (427). max_samples will be set to n_samples for estimation.\n",
      "  warn(\n",
      "c:\\Users\\sebas\\mambaforge\\envs\\risf\\lib\\site-packages\\sklearn\\ensemble\\_iforest.py:307: UserWarning: max_samples (512) is greater than the total number of samples (427). max_samples will be set to n_samples for estimation.\n",
      "  warn(\n"
     ]
    },
    {
     "name": "stdout",
     "output_type": "stream",
     "text": [
      "nlp\n",
      "RISF\n",
      "graph\n",
      "numerical\n",
      "max sample is bigger than number of sample selecting n_samples\n",
      "max sample is bigger than number of sample selecting n_samples\n",
      "max sample is bigger than number of sample selecting n_samples\n",
      "max sample is bigger than number of sample selecting n_samples\n",
      "max sample is bigger than number of sample selecting n_samples\n",
      "max sample is bigger than number of sample selecting n_samples\n",
      "max sample is bigger than number of sample selecting n_samples\n",
      "max sample is bigger than number of sample selecting n_samples\n",
      "max sample is bigger than number of sample selecting n_samples\n",
      "categorical\n",
      "timeseries\n",
      "max sample is bigger than number of sample selecting n_samples\n",
      "max sample is bigger than number of sample selecting n_samples\n",
      "max sample is bigger than number of sample selecting n_samples\n",
      "nlp\n"
     ]
    }
   ],
   "source": [
    "max_samples = np.array([64, 128, 256, 512])\n",
    "test_one_parameter(\"max_samples\", max_samples)"
   ]
  },
  {
   "attachments": {},
   "cell_type": "markdown",
   "metadata": {},
   "source": [
    "### Influence of number of trees"
   ]
  },
  {
   "cell_type": "code",
   "execution_count": 6,
   "metadata": {},
   "outputs": [
    {
     "name": "stdout",
     "output_type": "stream",
     "text": [
      "IForest\n",
      "graph\n",
      "numerical\n",
      "categorical\n",
      "timeseries\n",
      "nlp\n",
      "RISF\n",
      "graph\n",
      "numerical\n",
      "categorical\n",
      "timeseries\n",
      "nlp\n"
     ]
    }
   ],
   "source": [
    "num_of_estimators = np.array([1, 5, 10, 25, 50, 100, 200]) # Start from 1 to 100. In general smaller numbers\n",
    "test_one_parameter(\"n_estimators\", num_of_estimators) "
   ]
  },
  {
   "attachments": {},
   "cell_type": "markdown",
   "metadata": {},
   "source": [
    "### Now experiments on parameters connected strictly with RISF\n",
    "\n",
    "At first experiment on how number of max_n influences Selective Euclidean distance scores"
   ]
  },
  {
   "cell_type": "code",
   "execution_count": 8,
   "metadata": {},
   "outputs": [
    {
     "name": "stdout",
     "output_type": "stream",
     "text": [
      "RISF\n",
      "numerical\n",
      "nlp\n"
     ]
    }
   ],
   "source": [
    "DATASETS = {\n",
    "    \"numerical\": [\"21_Lymphography\", \"36_speech\", \"6_cardio\", \"26_optdigits\"],\n",
    "    \"nlp\" : [\"agnews_1\"]\n",
    "}\n",
    "\n",
    "max_n = np.array([1,2,3,4,5])\n",
    "test_one_parameter(\"max_n\", max_n, classifiers=[\"RISF\"]) "
   ]
  },
  {
   "attachments": {},
   "cell_type": "markdown",
   "metadata": {},
   "source": [
    "Influence of number of selected_objects ratio"
   ]
  },
  {
   "cell_type": "code",
   "execution_count": 9,
   "metadata": {},
   "outputs": [],
   "source": [
    "def distance(x, y):\n",
    "    return np.dot(x, y)\n",
    "\n",
    "DATASETS = {\n",
    "    \"graph\":  [\"p53\"],\n",
    "    \"numerical\": [\"21_Lymphography\", \"36_speech\", \"6_cardio\", \"26_optdigits\"],\n",
    "    \"categorical\":  [\"ad_nominal\"],\n",
    "    \"timeseries\": [\"TwoLeadECG\"],\n",
    "    \"nlp\" : [\"agnews_1\"]\n",
    "}\n",
    "\n",
    "DISTANCES = {\n",
    "    \"graph\": [IpsenMikailovDist()],\n",
    "    \"numerical\" : [distance],\n",
    "    \"categorical\":[distance],\n",
    "    \"timeseries\": [DTWDist()],\n",
    "    \"nlp\": [distance],\n",
    "}\n",
    "\n",
    "SELECTED_OBJ_RATIO = [0.1, 0.25, 0.5, 0.75, 1.0]\n"
   ]
  },
  {
   "cell_type": "code",
   "execution_count": 10,
   "metadata": {},
   "outputs": [],
   "source": [
    "results_selected_obj = []\n",
    "\n",
    "for data_type in DISTANCES.keys():\n",
    "    for dataset_name in DATASETS[data_type]:\n",
    "        objects_selector = ObjectsSelector() # TBD\n",
    "        for obj_ratio in SELECTED_OBJ_RATIO:               \n",
    "            data = get_dataset(data_type, DATA_DIRS[data_type], dataset_name, \"RISF\")\n",
    "\n",
    "            if data_type != \"graph\": # only graphs are inherently represented as objects\n",
    "                data[\"X\"] = data[\"X\"].astype(object)\n",
    "            aucs = experiment_risf_complex(data, DISTANCES[data_type], obj_ratio, selection_func = objects_selector, clf_kwargs= {})\n",
    "            results = init_results(CLF, dataset_name, data_type, aucs, {\"obj_ratio\": obj_ratio})\n",
    "            results_selected_obj.extend(results)\n",
    "\n",
    "pd.DataFrame(results_selected_obj).to_csv(\"../results/results_selected_obj_Ratio.csv\", index=False)"
   ]
  },
  {
   "attachments": {},
   "cell_type": "markdown",
   "metadata": {},
   "source": [
    "#### Influence of using different distance functions"
   ]
  },
  {
   "cell_type": "code",
   "execution_count": 17,
   "metadata": {},
   "outputs": [],
   "source": [
    "OBJ_RATIO = 0.25 # Based on previous experiment\n",
    "\n",
    "DISTANCES = {\n",
    "    \"categorical\": np.array([SelectiveDistance(jaccard_projection, 1, 4) , SelectiveDistance(euclidean_projection,1,2),\n",
    "                           SelectiveDistance(euclidean_projection,1,2)], dtype=object),\n",
    "    \"graph\": np.array([IpsenMikailovDist(),  PortraitDivergenceDist()], dtype=object),\n",
    "   \"numerical\" : np.array([SelectiveDistance(manhattan_projection, 1, 3),\n",
    "                           SelectiveDistance(euclidean_projection, 1, 3), SelectiveDistance(cosine_projection, 2, 3) ], dtype=object),\n",
    "   \"nlp\": np.array([SelectiveDistance(manhattan_projection, 1, 3),\n",
    "                   SelectiveDistance(euclidean_projection, 1, 3), SelectiveDistance(cosine_projection, 2, 3) ], dtype=object)\n",
    "}"
   ]
  },
  {
   "cell_type": "code",
   "execution_count": 18,
   "metadata": {},
   "outputs": [
    {
     "name": "stdout",
     "output_type": "stream",
     "text": [
      "categorical\n",
      "[<risf.distance.SelectiveDistance object at 0x000002010AD46940>, <risf.distance.SelectiveDistance object at 0x000002010AD46AF0>, <risf.distance.SelectiveDistance object at 0x000002010AD469D0>]\n",
      "[<risf.distance.SelectiveDistance object at 0x000002010AD46940>, <risf.distance.SelectiveDistance object at 0x000002010AD46AF0>]\n",
      "[<risf.distance.SelectiveDistance object at 0x000002010AD46940>, <risf.distance.SelectiveDistance object at 0x000002010AD469D0>]\n",
      "[<risf.distance.SelectiveDistance object at 0x000002010AD46940>]\n",
      "[<risf.distance.SelectiveDistance object at 0x000002010AD46AF0>, <risf.distance.SelectiveDistance object at 0x000002010AD469D0>]\n",
      "[<risf.distance.SelectiveDistance object at 0x000002010AD46AF0>]\n",
      "[<risf.distance.SelectiveDistance object at 0x000002010AD469D0>]\n",
      "graph\n",
      "[<risf.distance_functions.IpsenMikailovDist object at 0x000002010AD46F70>, <risf.distance_functions.PortraitDivergenceDist object at 0x000002010AD464C0>]\n",
      "[<risf.distance_functions.IpsenMikailovDist object at 0x000002010AD46F70>]\n",
      "[<risf.distance_functions.PortraitDivergenceDist object at 0x000002010AD464C0>]\n",
      "numerical\n",
      "[<risf.distance.SelectiveDistance object at 0x000002010AD46D00>, <risf.distance.SelectiveDistance object at 0x000002010AD46B80>, <risf.distance.SelectiveDistance object at 0x00000201B399A190>]\n",
      "[<risf.distance.SelectiveDistance object at 0x000002010AD46D00>, <risf.distance.SelectiveDistance object at 0x000002010AD46B80>]\n",
      "[<risf.distance.SelectiveDistance object at 0x000002010AD46D00>, <risf.distance.SelectiveDistance object at 0x00000201B399A190>]\n",
      "[<risf.distance.SelectiveDistance object at 0x000002010AD46D00>]\n",
      "[<risf.distance.SelectiveDistance object at 0x000002010AD46B80>, <risf.distance.SelectiveDistance object at 0x00000201B399A190>]\n",
      "[<risf.distance.SelectiveDistance object at 0x000002010AD46B80>]\n",
      "[<risf.distance.SelectiveDistance object at 0x00000201B399A190>]\n",
      "[<risf.distance.SelectiveDistance object at 0x000002010AD46D00>, <risf.distance.SelectiveDistance object at 0x000002010AD46B80>, <risf.distance.SelectiveDistance object at 0x00000201B399A190>]\n",
      "[<risf.distance.SelectiveDistance object at 0x000002010AD46D00>, <risf.distance.SelectiveDistance object at 0x000002010AD46B80>]\n",
      "[<risf.distance.SelectiveDistance object at 0x000002010AD46D00>, <risf.distance.SelectiveDistance object at 0x00000201B399A190>]\n",
      "[<risf.distance.SelectiveDistance object at 0x000002010AD46D00>]\n",
      "[<risf.distance.SelectiveDistance object at 0x000002010AD46B80>, <risf.distance.SelectiveDistance object at 0x00000201B399A190>]\n",
      "[<risf.distance.SelectiveDistance object at 0x000002010AD46B80>]\n",
      "[<risf.distance.SelectiveDistance object at 0x00000201B399A190>]\n",
      "[<risf.distance.SelectiveDistance object at 0x000002010AD46D00>, <risf.distance.SelectiveDistance object at 0x000002010AD46B80>, <risf.distance.SelectiveDistance object at 0x00000201B399A190>]\n",
      "[<risf.distance.SelectiveDistance object at 0x000002010AD46D00>, <risf.distance.SelectiveDistance object at 0x000002010AD46B80>]\n",
      "[<risf.distance.SelectiveDistance object at 0x000002010AD46D00>, <risf.distance.SelectiveDistance object at 0x00000201B399A190>]\n",
      "[<risf.distance.SelectiveDistance object at 0x000002010AD46D00>]\n",
      "[<risf.distance.SelectiveDistance object at 0x000002010AD46B80>, <risf.distance.SelectiveDistance object at 0x00000201B399A190>]\n",
      "[<risf.distance.SelectiveDistance object at 0x000002010AD46B80>]\n",
      "[<risf.distance.SelectiveDistance object at 0x00000201B399A190>]\n",
      "[<risf.distance.SelectiveDistance object at 0x000002010AD46D00>, <risf.distance.SelectiveDistance object at 0x000002010AD46B80>, <risf.distance.SelectiveDistance object at 0x00000201B399A190>]\n"
     ]
    },
    {
     "ename": "OverflowError",
     "evalue": "Range exceeds valid bounds",
     "output_type": "error",
     "traceback": [
      "\u001b[1;31m---------------------------------------------------------------------------\u001b[0m",
      "\u001b[1;31m_RemoteTraceback\u001b[0m                          Traceback (most recent call last)",
      "\u001b[1;31m_RemoteTraceback\u001b[0m: \n\"\"\"\nTraceback (most recent call last):\n  File \"c:\\Users\\sebas\\mambaforge\\envs\\risf\\lib\\site-packages\\joblib\\externals\\loky\\process_executor.py\", line 428, in _process_worker\n    r = call_item()\n  File \"c:\\Users\\sebas\\mambaforge\\envs\\risf\\lib\\site-packages\\joblib\\externals\\loky\\process_executor.py\", line 275, in __call__\n    return self.fn(*self.args, **self.kwargs)\n  File \"c:\\Users\\sebas\\mambaforge\\envs\\risf\\lib\\site-packages\\joblib\\_parallel_backends.py\", line 620, in __call__\n    return self.func(*args, **kwargs)\n  File \"c:\\Users\\sebas\\mambaforge\\envs\\risf\\lib\\site-packages\\joblib\\parallel.py\", line 288, in __call__\n    return [func(*args, **kwargs)\n  File \"c:\\Users\\sebas\\mambaforge\\envs\\risf\\lib\\site-packages\\joblib\\parallel.py\", line 288, in <listcomp>\n    return [func(*args, **kwargs)\n  File \"d:\\AI_y3_s1\\ProblemClasses\\Isolation-Similarity-Forest\\notebooks\\..\\risf\\forest.py\", line 285, in _build_tree\n    tree.fit(X[examples])\n  File \"d:\\AI_y3_s1\\ProblemClasses\\Isolation-Similarity-Forest\\notebooks\\..\\risf\\tree.py\", line 121, in fit\n    self.left_node: RandomIsolationSimilarityTree = self._create_node(self.left_samples)  # fmt: skip\n  File \"d:\\AI_y3_s1\\ProblemClasses\\Isolation-Similarity-Forest\\notebooks\\..\\risf\\tree.py\", line 182, in _create_node\n    return RandomIsolationSimilarityTree(\n  File \"d:\\AI_y3_s1\\ProblemClasses\\Isolation-Similarity-Forest\\notebooks\\..\\risf\\tree.py\", line 121, in fit\n    self.left_node: RandomIsolationSimilarityTree = self._create_node(self.left_samples)  # fmt: skip\n  File \"d:\\AI_y3_s1\\ProblemClasses\\Isolation-Similarity-Forest\\notebooks\\..\\risf\\tree.py\", line 182, in _create_node\n    return RandomIsolationSimilarityTree(\n  File \"d:\\AI_y3_s1\\ProblemClasses\\Isolation-Similarity-Forest\\notebooks\\..\\risf\\tree.py\", line 121, in fit\n    self.left_node: RandomIsolationSimilarityTree = self._create_node(self.left_samples)  # fmt: skip\n  File \"d:\\AI_y3_s1\\ProblemClasses\\Isolation-Similarity-Forest\\notebooks\\..\\risf\\tree.py\", line 182, in _create_node\n    return RandomIsolationSimilarityTree(\n  File \"d:\\AI_y3_s1\\ProblemClasses\\Isolation-Similarity-Forest\\notebooks\\..\\risf\\tree.py\", line 122, in fit\n    self.right_node: RandomIsolationSimilarityTree = self._create_node(self.right_samples)  # fmt: skip\n  File \"d:\\AI_y3_s1\\ProblemClasses\\Isolation-Similarity-Forest\\notebooks\\..\\risf\\tree.py\", line 182, in _create_node\n    return RandomIsolationSimilarityTree(\n  File \"d:\\AI_y3_s1\\ProblemClasses\\Isolation-Similarity-Forest\\notebooks\\..\\risf\\tree.py\", line 121, in fit\n    self.left_node: RandomIsolationSimilarityTree = self._create_node(self.left_samples)  # fmt: skip\n  File \"d:\\AI_y3_s1\\ProblemClasses\\Isolation-Similarity-Forest\\notebooks\\..\\risf\\tree.py\", line 182, in _create_node\n    return RandomIsolationSimilarityTree(\n  File \"d:\\AI_y3_s1\\ProblemClasses\\Isolation-Similarity-Forest\\notebooks\\..\\risf\\tree.py\", line 121, in fit\n    self.left_node: RandomIsolationSimilarityTree = self._create_node(self.left_samples)  # fmt: skip\n  File \"d:\\AI_y3_s1\\ProblemClasses\\Isolation-Similarity-Forest\\notebooks\\..\\risf\\tree.py\", line 182, in _create_node\n    return RandomIsolationSimilarityTree(\n  File \"d:\\AI_y3_s1\\ProblemClasses\\Isolation-Similarity-Forest\\notebooks\\..\\risf\\tree.py\", line 122, in fit\n    self.right_node: RandomIsolationSimilarityTree = self._create_node(self.right_samples)  # fmt: skip\n  File \"d:\\AI_y3_s1\\ProblemClasses\\Isolation-Similarity-Forest\\notebooks\\..\\risf\\tree.py\", line 182, in _create_node\n    return RandomIsolationSimilarityTree(\n  File \"d:\\AI_y3_s1\\ProblemClasses\\Isolation-Similarity-Forest\\notebooks\\..\\risf\\tree.py\", line 114, in fit\n    self.split_point = self.select_split_point()\n  File \"d:\\AI_y3_s1\\ProblemClasses\\Isolation-Similarity-Forest\\notebooks\\..\\risf\\tree.py\", line 158, in select_split_point\n    return self.random_state.uniform(\n  File \"mtrand.pyx\", line 1139, in numpy.random.mtrand.RandomState.uniform\nOverflowError: Range exceeds valid bounds\n\"\"\"",
      "\nThe above exception was the direct cause of the following exception:\n",
      "\u001b[1;31mOverflowError\u001b[0m                             Traceback (most recent call last)",
      "Cell \u001b[1;32mIn[18], line 16\u001b[0m\n\u001b[0;32m     14\u001b[0m     dist_short \u001b[39m=\u001b[39m \u001b[39m'\u001b[39m\u001b[39m_\u001b[39m\u001b[39m'\u001b[39m\u001b[39m.\u001b[39mjoin([x\u001b[39m.\u001b[39m\u001b[39m__class__\u001b[39m\u001b[39m.\u001b[39m\u001b[39m__name__\u001b[39m[:\u001b[39m3\u001b[39m] \u001b[39mfor\u001b[39;00m x \u001b[39min\u001b[39;00m dist])\n\u001b[0;32m     15\u001b[0m \u001b[39melse\u001b[39;00m:\n\u001b[1;32m---> 16\u001b[0m     aucs \u001b[39m=\u001b[39m perform_experiment_simple(\u001b[39m\"\u001b[39;49m\u001b[39mRISF\u001b[39;49m\u001b[39m\"\u001b[39;49m, data, clf_kwargs\u001b[39m=\u001b[39;49m{}, distances \u001b[39m=\u001b[39;49m [dist])\n\u001b[0;32m     17\u001b[0m     dist_short \u001b[39m=\u001b[39m \u001b[39m'\u001b[39m\u001b[39m_\u001b[39m\u001b[39m'\u001b[39m\u001b[39m.\u001b[39mjoin([x\u001b[39m.\u001b[39mprojection_func\u001b[39m.\u001b[39m\u001b[39m__name__\u001b[39m[:\u001b[39m3\u001b[39m] \u001b[39mfor\u001b[39;00m x \u001b[39min\u001b[39;00m dist])\n\u001b[0;32m     20\u001b[0m results \u001b[39m=\u001b[39m init_results(CLF, dataset_name, data_type, aucs, {\u001b[39m\"\u001b[39m\u001b[39mdistances\u001b[39m\u001b[39m\"\u001b[39m: dist_short})\n",
      "File \u001b[1;32md:\\AI_y3_s1\\ProblemClasses\\Isolation-Similarity-Forest\\notebooks\\utils.py:397\u001b[0m, in \u001b[0;36mperform_experiment_simple\u001b[1;34m(clf_name, data, clf_kwargs, distances)\u001b[0m\n\u001b[0;32m    394\u001b[0m X_train, X_test, y_test \u001b[39m=\u001b[39m X[train_index], X[test_index], y[test_index]\n\u001b[0;32m    396\u001b[0m \u001b[39mif\u001b[39;00m clf_name \u001b[39m==\u001b[39m \u001b[39m\"\u001b[39m\u001b[39mRISF\u001b[39m\u001b[39m\"\u001b[39m:\n\u001b[1;32m--> 397\u001b[0m     clf \u001b[39m=\u001b[39m RandomIsolationSimilarityForest(\n\u001b[0;32m    398\u001b[0m         random_state\u001b[39m=\u001b[39;49mSEED,\n\u001b[0;32m    399\u001b[0m         distances\u001b[39m=\u001b[39;49mdistances,\n\u001b[0;32m    400\u001b[0m         n_jobs\u001b[39m=\u001b[39;49m\u001b[39m-\u001b[39;49m\u001b[39m1\u001b[39;49m,\n\u001b[0;32m    401\u001b[0m         \u001b[39m*\u001b[39;49m\u001b[39m*\u001b[39;49mclf_kwargs,\n\u001b[0;32m    402\u001b[0m     )\u001b[39m.\u001b[39;49mfit(X_train)\n\u001b[0;32m    404\u001b[0m     y_test_pred \u001b[39m=\u001b[39m (\u001b[39m-\u001b[39m\u001b[39m1\u001b[39m) \u001b[39m*\u001b[39m clf\u001b[39m.\u001b[39mpredict(X_test, return_raw_scores\u001b[39m=\u001b[39m\u001b[39mTrue\u001b[39;00m)\n\u001b[0;32m    406\u001b[0m \u001b[39melse\u001b[39;00m:\n",
      "File \u001b[1;32md:\\AI_y3_s1\\ProblemClasses\\Isolation-Similarity-Forest\\notebooks\\..\\risf\\forest.py:98\u001b[0m, in \u001b[0;36mRandomIsolationSimilarityForest.fit\u001b[1;34m(self, X, y)\u001b[0m\n\u001b[0;32m     95\u001b[0m \u001b[39mself\u001b[39m\u001b[39m.\u001b[39mprepare_to_fit(X)\n\u001b[0;32m     96\u001b[0m \u001b[39mself\u001b[39m\u001b[39m.\u001b[39mtrees_ \u001b[39m=\u001b[39m \u001b[39mself\u001b[39m\u001b[39m.\u001b[39mcreate_trees()\n\u001b[1;32m---> 98\u001b[0m \u001b[39mself\u001b[39m\u001b[39m.\u001b[39mtrees_ \u001b[39m=\u001b[39m Parallel(n_jobs\u001b[39m=\u001b[39;49m\u001b[39mself\u001b[39;49m\u001b[39m.\u001b[39;49mn_jobs)(\n\u001b[0;32m     99\u001b[0m     delayed(_build_tree)(\n\u001b[0;32m    100\u001b[0m         tree,\n\u001b[0;32m    101\u001b[0m         \u001b[39mself\u001b[39;49m\u001b[39m.\u001b[39;49mX,\n\u001b[0;32m    102\u001b[0m         i,\n\u001b[0;32m    103\u001b[0m         \u001b[39mself\u001b[39;49m\u001b[39m.\u001b[39;49mn_estimators,\n\u001b[0;32m    104\u001b[0m         \u001b[39mself\u001b[39;49m\u001b[39m.\u001b[39;49msubsample_size,\n\u001b[0;32m    105\u001b[0m         verbose\u001b[39m=\u001b[39;49m\u001b[39mself\u001b[39;49m\u001b[39m.\u001b[39;49mverbose,\n\u001b[0;32m    106\u001b[0m     )\n\u001b[0;32m    107\u001b[0m     \u001b[39mfor\u001b[39;49;00m i, tree \u001b[39min\u001b[39;49;00m \u001b[39menumerate\u001b[39;49m(\u001b[39mself\u001b[39;49m\u001b[39m.\u001b[39;49mtrees_)\n\u001b[0;32m    108\u001b[0m )\n\u001b[0;32m    110\u001b[0m \u001b[39mself\u001b[39m\u001b[39m.\u001b[39mset_offset(y)\n\u001b[0;32m    112\u001b[0m \u001b[39mreturn\u001b[39;00m \u001b[39mself\u001b[39m\n",
      "File \u001b[1;32mc:\\Users\\sebas\\mambaforge\\envs\\risf\\lib\\site-packages\\joblib\\parallel.py:1098\u001b[0m, in \u001b[0;36mParallel.__call__\u001b[1;34m(self, iterable)\u001b[0m\n\u001b[0;32m   1095\u001b[0m     \u001b[39mself\u001b[39m\u001b[39m.\u001b[39m_iterating \u001b[39m=\u001b[39m \u001b[39mFalse\u001b[39;00m\n\u001b[0;32m   1097\u001b[0m \u001b[39mwith\u001b[39;00m \u001b[39mself\u001b[39m\u001b[39m.\u001b[39m_backend\u001b[39m.\u001b[39mretrieval_context():\n\u001b[1;32m-> 1098\u001b[0m     \u001b[39mself\u001b[39;49m\u001b[39m.\u001b[39;49mretrieve()\n\u001b[0;32m   1099\u001b[0m \u001b[39m# Make sure that we get a last message telling us we are done\u001b[39;00m\n\u001b[0;32m   1100\u001b[0m elapsed_time \u001b[39m=\u001b[39m time\u001b[39m.\u001b[39mtime() \u001b[39m-\u001b[39m \u001b[39mself\u001b[39m\u001b[39m.\u001b[39m_start_time\n",
      "File \u001b[1;32mc:\\Users\\sebas\\mambaforge\\envs\\risf\\lib\\site-packages\\joblib\\parallel.py:975\u001b[0m, in \u001b[0;36mParallel.retrieve\u001b[1;34m(self)\u001b[0m\n\u001b[0;32m    973\u001b[0m \u001b[39mtry\u001b[39;00m:\n\u001b[0;32m    974\u001b[0m     \u001b[39mif\u001b[39;00m \u001b[39mgetattr\u001b[39m(\u001b[39mself\u001b[39m\u001b[39m.\u001b[39m_backend, \u001b[39m'\u001b[39m\u001b[39msupports_timeout\u001b[39m\u001b[39m'\u001b[39m, \u001b[39mFalse\u001b[39;00m):\n\u001b[1;32m--> 975\u001b[0m         \u001b[39mself\u001b[39m\u001b[39m.\u001b[39m_output\u001b[39m.\u001b[39mextend(job\u001b[39m.\u001b[39;49mget(timeout\u001b[39m=\u001b[39;49m\u001b[39mself\u001b[39;49m\u001b[39m.\u001b[39;49mtimeout))\n\u001b[0;32m    976\u001b[0m     \u001b[39melse\u001b[39;00m:\n\u001b[0;32m    977\u001b[0m         \u001b[39mself\u001b[39m\u001b[39m.\u001b[39m_output\u001b[39m.\u001b[39mextend(job\u001b[39m.\u001b[39mget())\n",
      "File \u001b[1;32mc:\\Users\\sebas\\mambaforge\\envs\\risf\\lib\\site-packages\\joblib\\_parallel_backends.py:567\u001b[0m, in \u001b[0;36mLokyBackend.wrap_future_result\u001b[1;34m(future, timeout)\u001b[0m\n\u001b[0;32m    564\u001b[0m \u001b[39m\u001b[39m\u001b[39m\"\"\"Wrapper for Future.result to implement the same behaviour as\u001b[39;00m\n\u001b[0;32m    565\u001b[0m \u001b[39mAsyncResults.get from multiprocessing.\"\"\"\u001b[39;00m\n\u001b[0;32m    566\u001b[0m \u001b[39mtry\u001b[39;00m:\n\u001b[1;32m--> 567\u001b[0m     \u001b[39mreturn\u001b[39;00m future\u001b[39m.\u001b[39;49mresult(timeout\u001b[39m=\u001b[39;49mtimeout)\n\u001b[0;32m    568\u001b[0m \u001b[39mexcept\u001b[39;00m CfTimeoutError \u001b[39mas\u001b[39;00m e:\n\u001b[0;32m    569\u001b[0m     \u001b[39mraise\u001b[39;00m \u001b[39mTimeoutError\u001b[39;00m \u001b[39mfrom\u001b[39;00m \u001b[39me\u001b[39;00m\n",
      "File \u001b[1;32mc:\\Users\\sebas\\mambaforge\\envs\\risf\\lib\\concurrent\\futures\\_base.py:446\u001b[0m, in \u001b[0;36mFuture.result\u001b[1;34m(self, timeout)\u001b[0m\n\u001b[0;32m    444\u001b[0m     \u001b[39mraise\u001b[39;00m CancelledError()\n\u001b[0;32m    445\u001b[0m \u001b[39melif\u001b[39;00m \u001b[39mself\u001b[39m\u001b[39m.\u001b[39m_state \u001b[39m==\u001b[39m FINISHED:\n\u001b[1;32m--> 446\u001b[0m     \u001b[39mreturn\u001b[39;00m \u001b[39mself\u001b[39;49m\u001b[39m.\u001b[39;49m__get_result()\n\u001b[0;32m    447\u001b[0m \u001b[39melse\u001b[39;00m:\n\u001b[0;32m    448\u001b[0m     \u001b[39mraise\u001b[39;00m \u001b[39mTimeoutError\u001b[39;00m()\n",
      "File \u001b[1;32mc:\\Users\\sebas\\mambaforge\\envs\\risf\\lib\\concurrent\\futures\\_base.py:391\u001b[0m, in \u001b[0;36mFuture.__get_result\u001b[1;34m(self)\u001b[0m\n\u001b[0;32m    389\u001b[0m \u001b[39mif\u001b[39;00m \u001b[39mself\u001b[39m\u001b[39m.\u001b[39m_exception:\n\u001b[0;32m    390\u001b[0m     \u001b[39mtry\u001b[39;00m:\n\u001b[1;32m--> 391\u001b[0m         \u001b[39mraise\u001b[39;00m \u001b[39mself\u001b[39m\u001b[39m.\u001b[39m_exception\n\u001b[0;32m    392\u001b[0m     \u001b[39mfinally\u001b[39;00m:\n\u001b[0;32m    393\u001b[0m         \u001b[39m# Break a reference cycle with the exception in self._exception\u001b[39;00m\n\u001b[0;32m    394\u001b[0m         \u001b[39mself\u001b[39m \u001b[39m=\u001b[39m \u001b[39mNone\u001b[39;00m\n",
      "\u001b[1;31mOverflowError\u001b[0m: Range exceeds valid bounds"
     ]
    }
   ],
   "source": [
    "results_distance_comb = []\n",
    "\n",
    "for data_type in DISTANCES.keys():\n",
    "    distances_to_use = get_binary_distances_choice(DISTANCES[data_type])\n",
    "    print(data_type)\n",
    "    for dataset_name in DATASETS[data_type]:\n",
    "        for dist_to_use in distances_to_use:\n",
    "            dist = list(DISTANCES[data_type][dist_to_use])\n",
    "            data = get_dataset(data_type, DATA_DIRS[data_type], dataset_name, \"RISF\")\n",
    "\n",
    "            if data_type == \"graph\":\n",
    "                aucs = experiment_risf_complex(data, dist, OBJ_RATIO, clf_kwargs={})\n",
    "                dist_short = '_'.join([x.__class__.__name__[:3] for x in dist])\n",
    "            else:\n",
    "                aucs = perform_experiment_simple(\"RISF\", data, clf_kwargs={}, distances = [dist])\n",
    "                dist_short = '_'.join([x.projection_func.__name__[:3] for x in dist])\n",
    "            \n",
    "            \n",
    "            results = init_results(CLF, dataset_name, data_type, aucs, {\"distances\": dist_short})\n",
    "            \n",
    "            results_distance_comb.extend(results)\n",
    "\n",
    "pd.DataFrame(results_distance_comb).to_csv(\"../results/results_selected_distances.csv\", index=False)\n"
   ]
  },
  {
   "cell_type": "code",
   "execution_count": null,
   "metadata": {},
   "outputs": [],
   "source": [
    "# Do some experiment on average path length"
   ]
  }
 ],
 "metadata": {
  "kernelspec": {
   "display_name": "random-isolation-similarity-forest-bqxKmFq8-py3.10",
   "language": "python",
   "name": "python3"
  },
  "language_info": {
   "codemirror_mode": {
    "name": "ipython",
    "version": 3
   },
   "file_extension": ".py",
   "mimetype": "text/x-python",
   "name": "python",
   "nbconvert_exporter": "python",
   "pygments_lexer": "ipython3",
   "version": "3.9.16"
  },
  "orig_nbformat": 4
 },
 "nbformat": 4,
 "nbformat_minor": 2
}
