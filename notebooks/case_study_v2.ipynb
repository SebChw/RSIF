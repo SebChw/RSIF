{
 "cells": [
  {
   "attachments": {},
   "cell_type": "markdown",
   "metadata": {},
   "source": [
    "# Case study\n",
    "#### Using RISF on real life data from bus sensors"
   ]
  },
  {
   "cell_type": "code",
   "execution_count": 1,
   "metadata": {},
   "outputs": [],
   "source": [
    "import numpy as np\n",
    "import pandas as pd\n",
    "from scipy.stats import skew, kurtosis\n",
    "import datetime\n",
    "import pickle\n",
    "from csutils import *"
   ]
  },
  {
   "cell_type": "code",
   "execution_count": 2,
   "metadata": {},
   "outputs": [],
   "source": [
    "# Timestamp conversion copied from buses-data-demo.ipynb\n",
    "VACT_EPOCH = datetime.datetime(year=2011,month=6,day=16,hour=5,minute=23,second=0)\n",
    "VACT_TIMESTAMP = 1308194580\n",
    "assert datetime.datetime.fromtimestamp(VACT_TIMESTAMP) == VACT_EPOCH\n",
    "MILISECOND = 1\n",
    "SECOND = 1000 * MILISECOND\n",
    "HOUR = 3600*SECOND\n",
    "DAY = 24*HOUR\n",
    "def getVactDate(value):\n",
    "    return VACT_EPOCH + datetime.timedelta(milliseconds=int(value))"
   ]
  },
  {
   "cell_type": "code",
   "execution_count": 3,
   "metadata": {},
   "outputs": [],
   "source": [
    "# Loading pandas DataFrame with recorded values from sensors and\n",
    "# Adding column with transformed timestamp\n",
    "# Note that this data is ignored by git, so you have to make a copy on your own\n",
    "# Also the excel file seems to only contain data about the bus number 369\n",
    "# TODO Remove these links\n",
    "# Link to data:\n",
    "# https://halmstaduniversity.box.com/s/rtm3o8dzdt4o0hxr5sredhb1y06qsi8u\n",
    "\n",
    "\n",
    "#\n",
    "\n",
    "DATA_369 = pickle.load(open(\"../data/bus/data-369.pickle\",\"rb\"))\n",
    "DATA_370 = pickle.load(open(\"../data/bus/data-370.pickle\",\"rb\"))\n",
    "DATA_371 = pickle.load(open(\"../data/bus/data-371.pickle\",\"rb\"))\n",
    "DATA_372 = pickle.load(open(\"../data/bus/data-372.pickle\",\"rb\"))\n",
    "DATA_375 = pickle.load(open(\"../data/bus/data-375.pickle\",\"rb\"))\n"
   ]
  },
  {
   "cell_type": "code",
   "execution_count": 4,
   "metadata": {},
   "outputs": [],
   "source": [
    "DATA_369.insert(0, 'tstamp', DATA_369.Timestamp.apply(getVactDate))\n",
    "DATA_370.insert(0, 'tstamp', DATA_370.Timestamp.apply(getVactDate))\n",
    "DATA_371.insert(0, 'tstamp', DATA_371.Timestamp.apply(getVactDate))\n",
    "DATA_372.insert(0, 'tstamp', DATA_372.Timestamp.apply(getVactDate))\n",
    "DATA_375.insert(0, 'tstamp', DATA_375.Timestamp.apply(getVactDate))"
   ]
  },
  {
   "cell_type": "code",
   "execution_count": 5,
   "metadata": {},
   "outputs": [],
   "source": [
    "DATA_369 = DATA_369.set_index('tstamp')\n",
    "DATA_369.sort_index(inplace = True)\n",
    "DATA_370 = DATA_370.set_index('tstamp')\n",
    "DATA_370.sort_index(inplace = True)\n",
    "DATA_371 = DATA_371.set_index('tstamp')\n",
    "DATA_371.sort_index(inplace = True)\n",
    "DATA_372 = DATA_372.set_index('tstamp')\n",
    "DATA_372.sort_index(inplace = True)\n",
    "DATA_375 = DATA_375.set_index('tstamp')\n",
    "DATA_375.sort_index(inplace = True)"
   ]
  },
  {
   "cell_type": "code",
   "execution_count": 6,
   "metadata": {},
   "outputs": [],
   "source": [
    "DATA_369.drop(columns=['Timestamp'], inplace = True)\n",
    "DATA_370.drop(columns=['Timestamp'], inplace = True)\n",
    "DATA_371.drop(columns=['Timestamp'], inplace = True)\n",
    "DATA_372.drop(columns=['Timestamp'], inplace = True)\n",
    "DATA_375.drop(columns=['Timestamp'], inplace = True)"
   ]
  },
  {
   "cell_type": "code",
   "execution_count": 7,
   "metadata": {},
   "outputs": [
    {
     "data": {
      "text/plain": [
       "Timestamp('2012-04-15 08:23:47.763000')"
      ]
     },
     "execution_count": 7,
     "metadata": {},
     "output_type": "execute_result"
    }
   ],
   "source": [
    "DATA_369.index.min()"
   ]
  },
  {
   "cell_type": "code",
   "execution_count": 8,
   "metadata": {},
   "outputs": [],
   "source": [
    "# Representations calculations\n",
    "def calculate_all_reps(data):\n",
    "    rdf = pd.DataFrame(columns=['Numeric', 'HistVal', 'HistDens', 'TimeSeries'], dtype=object)\n",
    "    \n",
    "    START = data.index.min()\n",
    "    END = data.index.max()\n",
    "    \n",
    "    FREQ = pd.Timedelta('4T')\n",
    "    WINDOW_SIZE = pd.Timedelta('4T')\n",
    "    \n",
    "    def bin10(column): return 10\n",
    "    AVG_SIZE = '1S'\n",
    "    \n",
    "    for twin in extract_time_windows(data, WINDOW_SIZE, start=START, end=END, freq=FREQ, timestamp = True):\n",
    "        t, win = twin\n",
    "        n = win.shape[0]\n",
    "        if n < 20:\n",
    "            continue\n",
    "        rdf.loc[t,'Numeric'] = (get_numeric_from_window(win))\n",
    "        rdf.loc[t,'HistVal'] = (get_histograms_from_window(win, way_of_binarization=bin10))\n",
    "        rdf.loc[t,'HistDens'] = (get_histograms_from_window(win, dens = True, way_of_binarization=bin10))\n",
    "        rdf.loc[t,'TimeSeries'] = (get_time_series_from_window(win,t,WINDOW_SIZE,AVG_SIZE=AVG_SIZE))\n",
    "    \n",
    "\n",
    "    return rdf\n"
   ]
  },
  {
   "cell_type": "code",
   "execution_count": 9,
   "metadata": {},
   "outputs": [
    {
     "name": "stderr",
     "output_type": "stream",
     "text": [
      "/home/tesla/Projects/RISL/Isolation-Similarity-Forest/notebooks/csutils.py:30: RuntimeWarning: Precision loss occurred in moment calculation due to catastrophic cancellation. This occurs when the data are nearly identical. Results may be unreliable.\n",
      "  skewness = skew(window[sensor])\n",
      "/home/tesla/Projects/RISL/Isolation-Similarity-Forest/notebooks/csutils.py:31: RuntimeWarning: Precision loss occurred in moment calculation due to catastrophic cancellation. This occurs when the data are nearly identical. Results may be unreliable.\n",
      "  kurt = kurtosis(window[sensor])\n"
     ]
    }
   ],
   "source": [
    "RDF_369 = calculate_all_reps(DATA_369)"
   ]
  },
  {
   "cell_type": "code",
   "execution_count": 11,
   "metadata": {},
   "outputs": [
    {
     "ename": "",
     "evalue": "",
     "output_type": "error",
     "traceback": [
      "\u001b[1;31mCannot execute code, session has been disposed. Please try restarting the Kernel."
     ]
    },
    {
     "ename": "",
     "evalue": "",
     "output_type": "error",
     "traceback": [
      "\u001b[1;31mThe Kernel crashed while executing code in the the current cell or a previous cell. Please review the code in the cell(s) to identify a possible cause of the failure. Click <a href='https://aka.ms/vscodeJupyterKernelCrash'>here</a> for more info. View Jupyter <a href='command:jupyter.viewOutput'>log</a> for further details."
     ]
    }
   ],
   "source": [
    "RDF_369.to_pickle('../data/bus/rep-369.pickle')"
   ]
  },
  {
   "cell_type": "code",
   "execution_count": null,
   "metadata": {},
   "outputs": [],
   "source": [
    "RDF_369.to_csv('../data/bus/rep-369.csv')"
   ]
  },
  {
   "attachments": {},
   "cell_type": "markdown",
   "metadata": {},
   "source": [
    "## Experiments"
   ]
  },
  {
   "cell_type": "code",
   "execution_count": null,
   "metadata": {},
   "outputs": [
    {
     "name": "stderr",
     "output_type": "stream",
     "text": [
      "/tmp/ipykernel_135402/1779284485.py:6: RuntimeWarning: Precision loss occurred in moment calculation due to catastrophic cancellation. This occurs when the data are nearly identical. Results may be unreliable.\n",
      "  skewness = skew(window[sensor])\n",
      "/tmp/ipykernel_135402/1779284485.py:7: RuntimeWarning: Precision loss occurred in moment calculation due to catastrophic cancellation. This occurs when the data are nearly identical. Results may be unreliable.\n",
      "  kurt = kurtosis(window[sensor])\n",
      "/tmp/ipykernel_135402/1779284485.py:6: RuntimeWarning: Precision loss occurred in moment calculation due to catastrophic cancellation. This occurs when the data are nearly identical. Results may be unreliable.\n",
      "  skewness = skew(window[sensor])\n",
      "/tmp/ipykernel_135402/1779284485.py:7: RuntimeWarning: Precision loss occurred in moment calculation due to catastrophic cancellation. This occurs when the data are nearly identical. Results may be unreliable.\n",
      "  kurt = kurtosis(window[sensor])\n"
     ]
    }
   ],
   "source": [
    "X_dfs = [DATA_370,DATA_371,DATA_372,DATA_375]\n",
    "y_dfs = [DATA_369]\n",
    "\n",
    "START = pd.Timestamp('2012-04-15 08:23:47.763000') \n",
    "END = START + pd.Timedelta('4W')\n",
    "\n",
    "FREQ = pd.Timedelta('4T')  \n",
    "WINDOW_SIZE = pd.Timedelta('4T')\n",
    "\n",
    "def bin10(column): return 10\n",
    "AVG_SIZE = '1S'\n",
    "\n",
    "X_NUMERIC = []\n",
    "X_HISTOGRAM = []\n",
    "X_TSIRES = []\n",
    "\n",
    "y_NUMERIC = []\n",
    "y_HISTOGRAM = []\n",
    "y_TSIRES = []\n",
    "y_TSTAMPS = []\n",
    "\n",
    "for X in X_dfs:\n",
    "    for twin in extract_time_windows(X, WINDOW_SIZE, start=START, end=END, freq=FREQ, timestamp = True):\n",
    "        t, win = twin\n",
    "        n = win.shape[0]\n",
    "        if n < 20:\n",
    "            continue\n",
    "        X_NUMERIC.append(get_numeric_from_window(win))\n",
    "        X_HISTOGRAM.append(get_histograms_from_window(win, way_of_binarization=bin10))\n",
    "        X_TSIRES.append(get_time_series_from_window(win,t,WINDOW_SIZE,AVG_SIZE=AVG_SIZE))\n"
   ]
  },
  {
   "cell_type": "code",
   "execution_count": null,
   "metadata": {},
   "outputs": [],
   "source": [
    "#Nr. Mode        Start time End time   Failure alarm\n",
    "#1  planned     2012-02-02 2012-02-09 2012-02-01\n",
    "#2  planned     2012-03-01 2012-03-02 2012-02-29\n",
    "#3  unplanned   2012-03-05 2012-03-05 2012-03-03\n",
    "#4  unplanned   2012-03-16 2012-03-19 2012-03-14\n",
    "#5  unplanned   2012-04-01 2012-04-13 2012-03-31\n",
    "#6  planned     2012-05-29 2012-05-29 2012-05-29\n",
    "#7  unplanned   2012-07-10 2012-07-23 2012-07-10\n",
    "#8  planned     2012-08-21 2012-08-23 2012-08-21\n",
    "#9  unplanned   2012-10-08 2012-10-08 2012-10-08\n",
    "#10 planned     2012-12-27 2012-12-28 2012-12-25\n",
    "#11 planned     2013-02-19 2013-03-06 2013-02-19\n",
    "#12 unplanned   2013-04-23 2013-04-24 2013-04-22\n",
    "#13 unplanned   2013-04-29 2013-04-29 -\n",
    "#14 unplanned   2013-07-11 2013-07-19 2013-07-11\n",
    "#15 planned     2013-08-12 2013-08-16 2013-08-12\n",
    "#16 unplanned   2013-12-11 2013-12-19 2013-12-10\n",
    "#17 planned     2014-01-09 2014-01-09 2014-01-09\n",
    "#18 planned     2014-01-31 2014-02-11 2014-01-31\n",
    "#19 unplanned   2014-02-23 2014-02-23 2014-02-22\n",
    "#20 unplanned   2014-03-13 2014-03-20 2014-03-12\n",
    "#21 unplanned   2014-04-14 2014-04-14 2014-04-13\n",
    "#22 unplanned   2014-04-20 2014-04-20 -\n",
    "#23 unplanned   2014-06-08 2014-06-08 2014-06-05\n",
    "#24 unplanned   2014-08-14 2014-08-15 -\n",
    "#25 planned     2014-09-03 2014-09-05 2014-09-03\n",
    "#26 planned     2014-11-28 2014-11-28 -"
   ]
  }
 ],
 "metadata": {
  "kernelspec": {
   "display_name": "RISF",
   "language": "python",
   "name": "python3"
  },
  "language_info": {
   "codemirror_mode": {
    "name": "ipython",
    "version": 3
   },
   "file_extension": ".py",
   "mimetype": "text/x-python",
   "name": "python",
   "nbconvert_exporter": "python",
   "pygments_lexer": "ipython3",
   "version": "3.10.11"
  },
  "orig_nbformat": 4
 },
 "nbformat": 4,
 "nbformat_minor": 2
}
