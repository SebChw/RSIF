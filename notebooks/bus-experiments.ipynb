{
  "cells": [
    {
      "cell_type": "markdown",
      "metadata": {
        "id": "RuYKxBtwJag1"
      },
      "source": [
        "The purpose of this notebook is to see how data from Volvo looks like"
      ]
    },
    {
      "cell_type": "code",
      "execution_count": 3,
      "metadata": {
        "id": "TVVeNapaJahA"
      },
      "outputs": [],
      "source": [
        "import numpy as np\n",
        "from sklearn.model_selection import train_test_split\n",
        "from copy import deepcopy\n",
        "import pandas as pd\n",
        "import datetime\n",
        "import matplotlib.pyplot as plt"
      ]
    },
    {
      "cell_type": "code",
      "execution_count": 4,
      "metadata": {
        "colab": {
          "base_uri": "https://localhost:8080/"
        },
        "id": "6IVchelzUXMc",
        "outputId": "3c251213-b7e7-4da0-fadb-62bab684d12a"
      },
      "outputs": [
        {
          "name": "stdout",
          "output_type": "stream",
          "text": [
            "Drive already mounted at /content/drive; to attempt to forcibly remount, call drive.mount(\"/content/drive\", force_remount=True).\n"
          ]
        }
      ],
      "source": [
        "import pickle\n",
        "from google.colab import drive\n",
        "drive.mount('/content/drive')"
      ]
    },
    {
      "cell_type": "code",
      "execution_count": 5,
      "metadata": {
        "colab": {
          "base_uri": "https://localhost:8080/"
        },
        "id": "-i6SgtXQJahF",
        "outputId": "a0cea56b-8d2f-4ccd-bd1c-95330f12634c"
      },
      "outputs": [
        {
          "name": "stdout",
          "output_type": "stream",
          "text": [
            "369  loaded\n"
          ]
        }
      ],
      "source": [
        "pickles = {}\n",
        "# for set_num in ['369']: #, '370', '371', '372', '375']:\n",
        "pickles['data-369'] = pickle.load(open('/content/drive/My Drive/RISF/data-369.pickle', 'rb'))\n",
        "print('369', ' loaded')\n",
        "    \n",
        "    # break point for not loading all data at once (unefficient) \n",
        "    # break"
      ]
    },
    {
      "cell_type": "code",
      "execution_count": 6,
      "metadata": {
        "colab": {
          "base_uri": "https://localhost:8080/",
          "height": 505
        },
        "id": "eJgtxZRGJahJ",
        "outputId": "c1dd095c-aed9-4269-8257-0e7d869203fc"
      },
      "outputs": [
        {
          "data": {
            "text/html": [
              "\n",
              "  <div id=\"df-40844baa-29b5-485e-a2f3-b35a32c1fdc8\">\n",
              "    <div class=\"colab-df-container\">\n",
              "      <div>\n",
              "<style scoped>\n",
              "    .dataframe tbody tr th:only-of-type {\n",
              "        vertical-align: middle;\n",
              "    }\n",
              "\n",
              "    .dataframe tbody tr th {\n",
              "        vertical-align: top;\n",
              "    }\n",
              "\n",
              "    .dataframe thead th {\n",
              "        text-align: right;\n",
              "    }\n",
              "</style>\n",
              "<table border=\"1\" class=\"dataframe\">\n",
              "  <thead>\n",
              "    <tr style=\"text-align: right;\">\n",
              "      <th></th>\n",
              "      <th>Timestamp</th>\n",
              "      <th>WetTankAirPressure</th>\n",
              "      <th>LongitudAcc</th>\n",
              "      <th>EngineSpeed</th>\n",
              "      <th>Fuel Rate</th>\n",
              "      <th>Engine Load</th>\n",
              "      <th>Boost Pressure</th>\n",
              "      <th>EngineAirInletPressure</th>\n",
              "      <th>AcceleratorPedalPos</th>\n",
              "      <th>VehicleSpeed</th>\n",
              "      <th>BrakePedalPos</th>\n",
              "    </tr>\n",
              "  </thead>\n",
              "  <tbody>\n",
              "    <tr>\n",
              "      <th>0</th>\n",
              "      <td>2.627645e+10</td>\n",
              "      <td>4.27490</td>\n",
              "      <td>0.0</td>\n",
              "      <td>0.000</td>\n",
              "      <td>0.000000</td>\n",
              "      <td>0.0</td>\n",
              "      <td>0.000000</td>\n",
              "      <td>100.0</td>\n",
              "      <td>0.0</td>\n",
              "      <td>0.000000</td>\n",
              "      <td>0.0</td>\n",
              "    </tr>\n",
              "    <tr>\n",
              "      <th>1</th>\n",
              "      <td>2.627645e+10</td>\n",
              "      <td>4.27490</td>\n",
              "      <td>0.0</td>\n",
              "      <td>0.000</td>\n",
              "      <td>0.000000</td>\n",
              "      <td>0.0</td>\n",
              "      <td>0.000000</td>\n",
              "      <td>100.0</td>\n",
              "      <td>0.0</td>\n",
              "      <td>0.000000</td>\n",
              "      <td>0.0</td>\n",
              "    </tr>\n",
              "    <tr>\n",
              "      <th>2</th>\n",
              "      <td>2.627645e+10</td>\n",
              "      <td>4.27490</td>\n",
              "      <td>0.0</td>\n",
              "      <td>0.000</td>\n",
              "      <td>0.000000</td>\n",
              "      <td>0.0</td>\n",
              "      <td>0.000000</td>\n",
              "      <td>100.0</td>\n",
              "      <td>0.0</td>\n",
              "      <td>0.000000</td>\n",
              "      <td>0.0</td>\n",
              "    </tr>\n",
              "    <tr>\n",
              "      <th>3</th>\n",
              "      <td>2.627645e+10</td>\n",
              "      <td>4.27490</td>\n",
              "      <td>0.0</td>\n",
              "      <td>0.000</td>\n",
              "      <td>0.000000</td>\n",
              "      <td>0.0</td>\n",
              "      <td>0.000000</td>\n",
              "      <td>100.0</td>\n",
              "      <td>0.0</td>\n",
              "      <td>0.000000</td>\n",
              "      <td>0.0</td>\n",
              "    </tr>\n",
              "    <tr>\n",
              "      <th>4</th>\n",
              "      <td>2.627645e+10</td>\n",
              "      <td>4.27490</td>\n",
              "      <td>0.0</td>\n",
              "      <td>0.000</td>\n",
              "      <td>0.000000</td>\n",
              "      <td>0.0</td>\n",
              "      <td>0.000000</td>\n",
              "      <td>100.0</td>\n",
              "      <td>0.0</td>\n",
              "      <td>0.000000</td>\n",
              "      <td>0.0</td>\n",
              "    </tr>\n",
              "    <tr>\n",
              "      <th>...</th>\n",
              "      <td>...</td>\n",
              "      <td>...</td>\n",
              "      <td>...</td>\n",
              "      <td>...</td>\n",
              "      <td>...</td>\n",
              "      <td>...</td>\n",
              "      <td>...</td>\n",
              "      <td>...</td>\n",
              "      <td>...</td>\n",
              "      <td>...</td>\n",
              "      <td>...</td>\n",
              "    </tr>\n",
              "    <tr>\n",
              "      <th>10908295</th>\n",
              "      <td>8.299465e+10</td>\n",
              "      <td>11.65255</td>\n",
              "      <td>-0.2</td>\n",
              "      <td>596.500</td>\n",
              "      <td>4.081143</td>\n",
              "      <td>24.0</td>\n",
              "      <td>0.008618</td>\n",
              "      <td>102.0</td>\n",
              "      <td>0.0</td>\n",
              "      <td>2.331882</td>\n",
              "      <td>0.0</td>\n",
              "    </tr>\n",
              "    <tr>\n",
              "      <th>10908296</th>\n",
              "      <td>8.299465e+10</td>\n",
              "      <td>11.58360</td>\n",
              "      <td>-0.4</td>\n",
              "      <td>616.750</td>\n",
              "      <td>3.430526</td>\n",
              "      <td>19.5</td>\n",
              "      <td>0.000000</td>\n",
              "      <td>102.0</td>\n",
              "      <td>0.0</td>\n",
              "      <td>1.796760</td>\n",
              "      <td>11.2</td>\n",
              "    </tr>\n",
              "    <tr>\n",
              "      <th>10908297</th>\n",
              "      <td>8.299465e+10</td>\n",
              "      <td>11.51465</td>\n",
              "      <td>0.0</td>\n",
              "      <td>573.000</td>\n",
              "      <td>3.726261</td>\n",
              "      <td>20.5</td>\n",
              "      <td>0.000000</td>\n",
              "      <td>102.0</td>\n",
              "      <td>0.0</td>\n",
              "      <td>0.000000</td>\n",
              "      <td>18.4</td>\n",
              "    </tr>\n",
              "    <tr>\n",
              "      <th>10908298</th>\n",
              "      <td>8.299465e+10</td>\n",
              "      <td>11.44570</td>\n",
              "      <td>0.0</td>\n",
              "      <td>617.500</td>\n",
              "      <td>3.726261</td>\n",
              "      <td>20.0</td>\n",
              "      <td>0.000000</td>\n",
              "      <td>102.0</td>\n",
              "      <td>0.0</td>\n",
              "      <td>0.000000</td>\n",
              "      <td>0.0</td>\n",
              "    </tr>\n",
              "    <tr>\n",
              "      <th>10908299</th>\n",
              "      <td>8.299465e+10</td>\n",
              "      <td>11.44570</td>\n",
              "      <td>0.0</td>\n",
              "      <td>589.625</td>\n",
              "      <td>4.199437</td>\n",
              "      <td>24.5</td>\n",
              "      <td>0.000000</td>\n",
              "      <td>102.0</td>\n",
              "      <td>0.0</td>\n",
              "      <td>0.000000</td>\n",
              "      <td>0.0</td>\n",
              "    </tr>\n",
              "  </tbody>\n",
              "</table>\n",
              "<p>10908300 rows × 11 columns</p>\n",
              "</div>\n",
              "      <button class=\"colab-df-convert\" onclick=\"convertToInteractive('df-40844baa-29b5-485e-a2f3-b35a32c1fdc8')\"\n",
              "              title=\"Convert this dataframe to an interactive table.\"\n",
              "              style=\"display:none;\">\n",
              "        \n",
              "  <svg xmlns=\"http://www.w3.org/2000/svg\" height=\"24px\"viewBox=\"0 0 24 24\"\n",
              "       width=\"24px\">\n",
              "    <path d=\"M0 0h24v24H0V0z\" fill=\"none\"/>\n",
              "    <path d=\"M18.56 5.44l.94 2.06.94-2.06 2.06-.94-2.06-.94-.94-2.06-.94 2.06-2.06.94zm-11 1L8.5 8.5l.94-2.06 2.06-.94-2.06-.94L8.5 2.5l-.94 2.06-2.06.94zm10 10l.94 2.06.94-2.06 2.06-.94-2.06-.94-.94-2.06-.94 2.06-2.06.94z\"/><path d=\"M17.41 7.96l-1.37-1.37c-.4-.4-.92-.59-1.43-.59-.52 0-1.04.2-1.43.59L10.3 9.45l-7.72 7.72c-.78.78-.78 2.05 0 2.83L4 21.41c.39.39.9.59 1.41.59.51 0 1.02-.2 1.41-.59l7.78-7.78 2.81-2.81c.8-.78.8-2.07 0-2.86zM5.41 20L4 18.59l7.72-7.72 1.47 1.35L5.41 20z\"/>\n",
              "  </svg>\n",
              "      </button>\n",
              "      \n",
              "  <style>\n",
              "    .colab-df-container {\n",
              "      display:flex;\n",
              "      flex-wrap:wrap;\n",
              "      gap: 12px;\n",
              "    }\n",
              "\n",
              "    .colab-df-convert {\n",
              "      background-color: #E8F0FE;\n",
              "      border: none;\n",
              "      border-radius: 50%;\n",
              "      cursor: pointer;\n",
              "      display: none;\n",
              "      fill: #1967D2;\n",
              "      height: 32px;\n",
              "      padding: 0 0 0 0;\n",
              "      width: 32px;\n",
              "    }\n",
              "\n",
              "    .colab-df-convert:hover {\n",
              "      background-color: #E2EBFA;\n",
              "      box-shadow: 0px 1px 2px rgba(60, 64, 67, 0.3), 0px 1px 3px 1px rgba(60, 64, 67, 0.15);\n",
              "      fill: #174EA6;\n",
              "    }\n",
              "\n",
              "    [theme=dark] .colab-df-convert {\n",
              "      background-color: #3B4455;\n",
              "      fill: #D2E3FC;\n",
              "    }\n",
              "\n",
              "    [theme=dark] .colab-df-convert:hover {\n",
              "      background-color: #434B5C;\n",
              "      box-shadow: 0px 1px 3px 1px rgba(0, 0, 0, 0.15);\n",
              "      filter: drop-shadow(0px 1px 2px rgba(0, 0, 0, 0.3));\n",
              "      fill: #FFFFFF;\n",
              "    }\n",
              "  </style>\n",
              "\n",
              "      <script>\n",
              "        const buttonEl =\n",
              "          document.querySelector('#df-40844baa-29b5-485e-a2f3-b35a32c1fdc8 button.colab-df-convert');\n",
              "        buttonEl.style.display =\n",
              "          google.colab.kernel.accessAllowed ? 'block' : 'none';\n",
              "\n",
              "        async function convertToInteractive(key) {\n",
              "          const element = document.querySelector('#df-40844baa-29b5-485e-a2f3-b35a32c1fdc8');\n",
              "          const dataTable =\n",
              "            await google.colab.kernel.invokeFunction('convertToInteractive',\n",
              "                                                     [key], {});\n",
              "          if (!dataTable) return;\n",
              "\n",
              "          const docLinkHtml = 'Like what you see? Visit the ' +\n",
              "            '<a target=\"_blank\" href=https://colab.research.google.com/notebooks/data_table.ipynb>data table notebook</a>'\n",
              "            + ' to learn more about interactive tables.';\n",
              "          element.innerHTML = '';\n",
              "          dataTable['output_type'] = 'display_data';\n",
              "          await google.colab.output.renderOutput(dataTable, element);\n",
              "          const docLink = document.createElement('div');\n",
              "          docLink.innerHTML = docLinkHtml;\n",
              "          element.appendChild(docLink);\n",
              "        }\n",
              "      </script>\n",
              "    </div>\n",
              "  </div>\n",
              "  "
            ],
            "text/plain": [
              "             Timestamp  WetTankAirPressure  LongitudAcc  EngineSpeed  \\\n",
              "0         2.627645e+10             4.27490          0.0        0.000   \n",
              "1         2.627645e+10             4.27490          0.0        0.000   \n",
              "2         2.627645e+10             4.27490          0.0        0.000   \n",
              "3         2.627645e+10             4.27490          0.0        0.000   \n",
              "4         2.627645e+10             4.27490          0.0        0.000   \n",
              "...                ...                 ...          ...          ...   \n",
              "10908295  8.299465e+10            11.65255         -0.2      596.500   \n",
              "10908296  8.299465e+10            11.58360         -0.4      616.750   \n",
              "10908297  8.299465e+10            11.51465          0.0      573.000   \n",
              "10908298  8.299465e+10            11.44570          0.0      617.500   \n",
              "10908299  8.299465e+10            11.44570          0.0      589.625   \n",
              "\n",
              "          Fuel Rate  Engine Load  Boost Pressure  EngineAirInletPressure  \\\n",
              "0          0.000000          0.0        0.000000                   100.0   \n",
              "1          0.000000          0.0        0.000000                   100.0   \n",
              "2          0.000000          0.0        0.000000                   100.0   \n",
              "3          0.000000          0.0        0.000000                   100.0   \n",
              "4          0.000000          0.0        0.000000                   100.0   \n",
              "...             ...          ...             ...                     ...   \n",
              "10908295   4.081143         24.0        0.008618                   102.0   \n",
              "10908296   3.430526         19.5        0.000000                   102.0   \n",
              "10908297   3.726261         20.5        0.000000                   102.0   \n",
              "10908298   3.726261         20.0        0.000000                   102.0   \n",
              "10908299   4.199437         24.5        0.000000                   102.0   \n",
              "\n",
              "          AcceleratorPedalPos  VehicleSpeed  BrakePedalPos  \n",
              "0                         0.0      0.000000            0.0  \n",
              "1                         0.0      0.000000            0.0  \n",
              "2                         0.0      0.000000            0.0  \n",
              "3                         0.0      0.000000            0.0  \n",
              "4                         0.0      0.000000            0.0  \n",
              "...                       ...           ...            ...  \n",
              "10908295                  0.0      2.331882            0.0  \n",
              "10908296                  0.0      1.796760           11.2  \n",
              "10908297                  0.0      0.000000           18.4  \n",
              "10908298                  0.0      0.000000            0.0  \n",
              "10908299                  0.0      0.000000            0.0  \n",
              "\n",
              "[10908300 rows x 11 columns]"
            ]
          },
          "execution_count": 6,
          "metadata": {},
          "output_type": "execute_result"
        }
      ],
      "source": [
        "data = pickles['data-369']\n",
        "data"
      ]
    },
    {
      "cell_type": "code",
      "execution_count": 7,
      "metadata": {
        "colab": {
          "base_uri": "https://localhost:8080/"
        },
        "id": "DIWL3cA1JahT",
        "outputId": "307fd118-8f6d-4066-b662-a4f658c07954"
      },
      "outputs": [
        {
          "data": {
            "text/plain": [
              "0          2012-04-15 08:23:47.763\n",
              "1          2012-04-15 08:23:48.457\n",
              "2          2012-04-15 08:23:49.550\n",
              "3          2012-04-15 08:23:50.715\n",
              "4          2012-04-15 08:23:51.435\n",
              "                     ...          \n",
              "10908295   2014-01-31 19:27:06.824\n",
              "10908296   2014-01-31 19:27:07.994\n",
              "10908297   2014-01-31 19:27:08.672\n",
              "10908298   2014-01-31 19:27:09.790\n",
              "10908299   2014-01-31 19:27:10.884\n",
              "Name: Timestamp, Length: 10908300, dtype: datetime64[ns]"
            ]
          },
          "execution_count": 7,
          "metadata": {},
          "output_type": "execute_result"
        }
      ],
      "source": [
        "VACT_EPOCH = datetime.datetime(year=2011,month=6,day=16,hour=5,minute=23,second=0)\n",
        "def getDate(value):\n",
        "    return VACT_EPOCH + datetime.timedelta(milliseconds=int(value))\n",
        "\n",
        "data.Timestamp = data.Timestamp.apply(getDate)\n",
        "data.Timestamp"
      ]
    },
    {
      "cell_type": "markdown",
      "metadata": {
        "id": "UKr9GGIEJahe"
      },
      "source": [
        "Spliting data to train / test"
      ]
    },
    {
      "cell_type": "code",
      "execution_count": 8,
      "metadata": {
        "id": "kjmjEo4BJahf"
      },
      "outputs": [],
      "source": [
        "data_train = data.loc[(data['Timestamp'] >= datetime.datetime(year=2012,month=5,day=20,hour=0,minute=0,second=1))\n",
        "              & (data['Timestamp'] <= datetime.datetime(year=2012,month=7,day=20,hour=0,minute=0,second=1))]\n",
        "\n",
        "X_train = np.array(data_train.drop(['Timestamp'], axis=1))\n",
        "y_train = np.zeros(X_train.shape[0])\n",
        "\n",
        "y_train[(data_train['Timestamp'] >= datetime.datetime(year=2012,month=6,day=20,hour=0,minute=0,second=1))\n",
        "              & (data_train['Timestamp'] <= datetime.datetime(year=2012,month=7,day=20,hour=0,minute=0,second=1))] = 1\n",
        "\n",
        "X_test = np.array(data.loc[(data['Timestamp'] >= datetime.datetime(year=2012,month=7,day=25,hour=0,minute=0,second=1))\n",
        "              & (data['Timestamp'] <= datetime.datetime(year=2013,month=12,day=20,hour=0,minute=0,second=1))].drop(['Timestamp'], axis=1))\n",
        "y_test = np.zeros(X_test.shape[0])\n",
        "\n",
        "data_dir = {'X_train':X_train, 'y_train':y_train, 'X_test':X_test, 'y_test':y_test, 'name': 'bus-369'}"
      ]
    },
    {
      "cell_type": "code",
      "execution_count": 12,
      "metadata": {
        "colab": {
          "base_uri": "https://localhost:8080/"
        },
        "id": "KxDp300tzIfg",
        "outputId": "cd402d5e-4746-4770-d3f1-dfdfd3665142"
      },
      "outputs": [
        {
          "name": "stdout",
          "output_type": "stream",
          "text": [
            "Looking in indexes: https://pypi.org/simple, https://us-python.pkg.dev/colab-wheels/public/simple/\n",
            "Requirement already up-to-date: typing in /usr/local/lib/python3.8/site-packages (3.7.4.3)\n"
          ]
        }
      ],
      "source": [
        "# !pip install pygod\n",
        "# !pip install pyod\n",
        "# !pip install typing\n",
        "# Here we also need notebooks/utils.py from our repository\n",
        "# in case of problems - make google colab use python ^3.8\n",
        "# !wget -O mini.sh https://repo.anaconda.com/miniconda/Miniconda3-py38_4.8.2-Linux-x86_64.sh\n",
        "# !chmod +x mini.sh\n",
        "# !bash ./mini.sh -b -f -p /usr/local\n",
        "# !conda install -q -y jupyter\n",
        "# !conda install -q -y google-colab -c conda-forge\n",
        "# !python -m ipykernel install --name \"py38\" --user"
      ]
    },
    {
      "cell_type": "code",
      "execution_count": 1,
      "metadata": {
        "colab": {
          "base_uri": "https://localhost:8080/"
        },
        "id": "xAdTkVJM0GF0",
        "outputId": "85aad76d-415d-430f-d5f2-0117472e1dba"
      },
      "outputs": [
        {
          "name": "stdout",
          "output_type": "stream",
          "text": [
            "Python 3.8.3\n"
          ]
        }
      ],
      "source": [
        "# import os\n",
        "# os.kill(os.getpid(), 9)"
      ]
    },
    {
      "cell_type": "code",
      "execution_count": 14,
      "metadata": {
        "id": "J3byR6VTJahg"
      },
      "outputs": [],
      "source": [
        "from sklearn.metrics import roc_auc_score\n",
        "import numpy as np\n",
        "import pandas as pd\n",
        "import sys\n",
        "sys.path.insert(0, '..')\n",
        "\n",
        "from sklearn.metrics import roc_auc_score\n",
        "\n",
        "from tqdm import tqdm\n",
        "from pyod.utils.utility import precision_n_scores\n",
        "from sklearn.metrics import roc_auc_score\n",
        "from notebooks.utils import *"
      ]
    },
    {
      "cell_type": "code",
      "execution_count": 15,
      "metadata": {
        "id": "YdMwCqsTJahh"
      },
      "outputs": [],
      "source": [
        "SEED = 23"
      ]
    },
    {
      "cell_type": "code",
      "execution_count": 16,
      "metadata": {
        "id": "J7u4-WvzJahi"
      },
      "outputs": [],
      "source": [
        "clfs_names = ['ECOD', 'LOF', 'IForest', 'HBOS']\n",
        "nan_datasets = []\n",
        "results = {x: {} for x in clfs_names}"
      ]
    },
    {
      "cell_type": "code",
      "execution_count": null,
      "metadata": {
        "id": "P55Zm3JtJahj"
      },
      "outputs": [],
      "source": [
        "# timer = Timer(timer_type=\"long_running\")"
      ]
    },
    {
      "cell_type": "code",
      "execution_count": 17,
      "metadata": {
        "colab": {
          "base_uri": "https://localhost:8080/"
        },
        "id": "x_kzOmnmJahj",
        "outputId": "0858e25f-f0c7-4f9d-f213-2fbb7710d1b3"
      },
      "outputs": [
        {
          "name": "stderr",
          "output_type": "stream",
          "text": [
            "Datasets (outer loop):   0%|          | 0/1 [00:00<?, ?it/s]\n",
            " Algorithms (inner loop):   0%|          | 0/4 [00:00<?, ?it/s]\u001b[A"
          ]
        }
      ],
      "source": [
        "from tqdm.contrib.concurrent import process_map\n",
        "\n",
        "datasets_loop = tqdm([data_dir], desc=\"Datasets (outer loop)\", position=0)\n",
        "algorithms_loop = tqdm(clfs_names, desc=\" Algorithms (inner loop)\", position=1, leave=False)"
      ]
    },
    {
      "cell_type": "code",
      "execution_count": 20,
      "metadata": {
        "colab": {
          "base_uri": "https://localhost:8080/"
        },
        "id": "k62cyQ_0Jahk",
        "outputId": "b1731a81-aeb3-47f7-e823-f94f2d87d1a2"
      },
      "outputs": [
        {
          "name": "stdout",
          "output_type": "stream",
          "text": [
            "[1 1 1 ... 0 0 0]\n",
            "[1 1 1 ... 0 0 0]\n",
            "[1 1 1 ... 0 0 0]\n",
            "[0 0 0 ... 0 0 0]\n"
          ]
        }
      ],
      "source": [
        "for dataset in datasets_loop:\n",
        "    datasets_loop.set_description('BUS-369')\n",
        "    for clf_name in algorithms_loop:\n",
        "        algorithms_loop.set_description(clf_name)\n",
        "        clf = new_clf(clf_name, SEED)\n",
        "        # timer.start()\n",
        "        clf.fit(dataset['X_train'])\n",
        "        # timer.stop()\n",
        "        \n",
        "        # get the prediction labels and outlier scores of the training data\n",
        "        y_train_pred = clf.labels_  # binary labels (0: inliers, 1: outliers)\n",
        "        y_train_scores = clf.decision_scores_  # raw outlier scores\n",
        "\n",
        "        # get the prediction on the test data\n",
        "        y_test_pred = clf.predict(dataset['X_test'])  # outlier labels (0 or 1)\n",
        "        y_test_scores = clf.decision_function(dataset['X_test'])  # outlier scores\n",
        "        print(y_test_pred)\n",
        "        \n",
        "        # if np.isnan(y_train_scores).any() or np.isnan(y_train_pred).any():\n",
        "        #     nan_datasets.append(dataset['name'])\n",
        "        #     results[clf_name][dataset['name']] = (np.nan, np.nan, np.nan, np.nan, np.nan) # AUC/ROC, Rank@N for train,test ; fit Time\n",
        "        #     continue\n",
        "        \n",
        "        # roc_train=np.round(roc_auc_score(dataset['y_train'], y_train_scores), decimals=4)\n",
        "        # prn_train=np.round(precision_n_scores(dataset['y_train'], y_train_scores), decimals=4)\n",
        "        # roc_test=np.round(roc_auc_score(dataset['y_test'], y_test_scores), decimals=4)\n",
        "        # prn_test=np.round(precision_n_scores(dataset['y_test'], y_test_scores), decimals=4)\n",
        "\n",
        "        # results[clf_name]['BUS-369'] = (roc_train, prn_train, roc_test, prn_test)#, timer.time_sec)\n"
      ]
    }
  ],
  "metadata": {
    "colab": {
      "provenance": []
    },
    "kernelspec": {
      "display_name": "Python 3.8.3 ('tensor')",
      "language": "python",
      "name": "python3"
    },
    "language_info": {
      "codemirror_mode": {
        "name": "ipython",
        "version": 3
      },
      "file_extension": ".py",
      "mimetype": "text/x-python",
      "name": "python",
      "nbconvert_exporter": "python",
      "pygments_lexer": "ipython3",
      "version": "3.8.3"
    },
    "orig_nbformat": 4,
    "vscode": {
      "interpreter": {
        "hash": "8267083643c566585343ab60a0d1bac4aa9b9691d5fca7cd9cf8a09021580d4c"
      }
    }
  },
  "nbformat": 4,
  "nbformat_minor": 0
}
